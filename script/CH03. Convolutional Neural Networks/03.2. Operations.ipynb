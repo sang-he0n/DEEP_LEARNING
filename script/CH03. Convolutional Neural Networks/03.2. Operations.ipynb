{
 "cells": [
  {
   "attachments": {},
   "cell_type": "markdown",
   "metadata": {},
   "source": [
    "# CH03.1. **Operations**"
   ]
  },
  {
   "cell_type": "markdown",
   "metadata": {},
   "source": [
    "> ## **합성곱 연산(Convoltuion Operation)**"
   ]
  },
  {
   "cell_type": "markdown",
   "metadata": {},
   "source": [
    "#### **(1) 정의** : 입력 데이터와 필터를 요소별 곱 및 합 연산을 통해 특징 맵(feature map)을 생성하는 연산\n",
    "#### $ \\Rightarrow{} \\bf{Z}^{[l]} = \\bf{F}^{[l]} * \\bf{A}^{[l-1]} + \\bf{B}^{[l]} $\n",
    "#### $ \\Leftrightarrow{} z^{[l]}_{p, j, k} = \\displaystyle\\sum^{n^{[l-1]}_{C}}_{q=1}\\displaystyle\\sum^{n^{[l]}_{F_{H}}}_{r=1}\\displaystyle\\sum^{n^{[l]}_{F_{W}}}_{t=1} a^{[l-1]}_{q, (j-1)\\cdot{}s^{[l]}+r, (k-1)\\cdot{}s^{[l]}+t} \\cdot{} w^{[l]}_{p,q,r,t} + b^{[l]}_{p} \\;\\; \\text{where } \\, s \\, \\text{ is stride.} $"
   ]
  },
  {
   "cell_type": "markdown",
   "metadata": {},
   "source": [
    "##### **(`PLUS`)** 해당 연산은 수학적으로는 교차상관(cross-correlation)임, 합성곱 연산은 필터를 상하좌우로 반전시킨 후 연산해야 하나 관례상 이 반전 연산을 생략함"
   ]
  },
  {
   "cell_type": "markdown",
   "metadata": {},
   "source": [
    "#### **(2) 구성 요소** : \n",
    "##### $ \\hspace{0.15cm} $ ① 필터(Filter;kernel) : 입력 데이터에서 국소적인 패턴(엣지, 텍스처 등)을 추출하기 위해 사용되는 텐서\n",
    "##### $ \\hspace{0.15cm} $ ② 스트라이드(Stride) : 필터가 입력 데이터 위를 이동할 때 스킵하는 픽셀 수\n",
    "##### $ \\hspace{0.15cm} $ ③ 패딩(Padding) : 입력 데이터의 경계에 픽셀($ 0 $)을 추가해 합성곱(convolution) 연산 후에도 공간적 크기를 유지 혹은 조절하는 기법"
   ]
  },
  {
   "cell_type": "markdown",
   "metadata": {},
   "source": [
    "##### **(`PLUS`) 연산 과정 시각화** : padding=$ 1 $, stride=$ 1 $\n",
    "<div style=\"display: flex; align-items: center;\">\n",
    "  <img src=\"../../img/03.1. Conv. Operations (1).gif\" style=\"width:25%; height:25%;\" alt=\"Conv. Operations\">\n",
    "</div>"
   ]
  },
  {
   "cell_type": "markdown",
   "metadata": {},
   "source": [
    "#### **(3) 특징맵 계산 공식** :\n",
    "#### $ \\Rightarrow{} n^{[l]}_{H} = \\lfloor{} \\frac{n^{[l-1]}_{H}-n^{[l]}_{F_{H}}+2P}{s} \\rfloor{} + 1, \\;\\; n^{[l]}_{W} = \\lfloor{} \\frac{n^{[l-1]}_{W}-n^{[l]}_{F_{W}}+2P}{s} \\rfloor{} + 1 \\;\\; \\text{ where } \\, P \\text{ is padding size}. $"
   ]
  },
  {
   "cell_type": "markdown",
   "metadata": {},
   "source": [
    "#### **(4) 특징** :\n",
    "##### $ \\hspace{0.15cm} $ ① 필터 크기만큼의 연결만 존재하여 연산량 감소\n",
    "##### $ \\hspace{0.15cm} $ ② 지역적 패턴을 학습함 (local connectivity)\n",
    "##### $ \\hspace{0.15cm} $ ③ 파라미터 공유를 통해 학습 효율 및 메모리 사용량 감소\n",
    "##### $ \\hspace{0.15cm} $ ④ 필터 크기는 (일반적으로) 홀수개로 구성됨"
   ]
  },
  {
   "cell_type": "markdown",
   "metadata": {},
   "source": [
    "##### **(`WHY?`)** \n",
    "##### - 중심(center) 픽셀을 명확하게 정의하기 위함\n",
    "##### - 중심이 정의되지 않으면 컨볼루션 연산 시 입력 데이터의 대칭성이 깨지고 일부 영역의 정보가 과도하게 반영될 수 있음"
   ]
  },
  {
   "cell_type": "markdown",
   "metadata": {},
   "source": [
    "<b></b>"
   ]
  },
  {
   "cell_type": "markdown",
   "metadata": {},
   "source": [
    "> ## **풀링 연산(Pooling Operation)**"
   ]
  },
  {
   "cell_type": "markdown",
   "metadata": {},
   "source": [
    "#### **(1) 정의** : 컨볼루션 층의 출력 특징 맵에서 국소 영역의 정보를 요약하여 공간적 차원을 줄이는 기법"
   ]
  },
  {
   "cell_type": "markdown",
   "metadata": {},
   "source": [
    "##### **(`PLUS`)** 일반적으로 합성곱 및 활성화 연산 후 풀링 연산이 시행됨"
   ]
  },
  {
   "cell_type": "markdown",
   "metadata": {},
   "source": [
    "#### **(2) 종류** :\n",
    "##### $ \\hspace{0.15cm} $ ① 평균 풀링(Average Pooling)\n",
    "##### $ \\hspace{0.45cm} \\Rightarrow{} a^{[l]}_{p,j,k} = \\frac{1}{n^{[l]}_{P_{H}}\\cdot{}n^{[l]}_{P_{W}}} \\displaystyle\\sum^{n^{[l]}_{P_{H}}}_{r=1}\\displaystyle\\sum^{n^{[l]}_{P_{W}}}_{t=1} a^{[l-1]}_{p, (j-1)\\cdot{}s+r, (k-1)\\cdot{}s+t} $\n",
    "##### $ \\hspace{0.15cm} $ ② 맥스 풀링(Max Pooling)\n",
    "##### $ \\hspace{0.45cm} \\Rightarrow{} a^{[l]}_{p,j,k} = \\displaystyle\\max_{1\\leq{}r\\leq{}n^{[l]}_{P_{H}}, 1\\leq{}t\\leq{}n^{[l]}_{P_{W}}} a^{[l-1]}_{p, (j-1)\\cdot{}s+r, (k-1)\\cdot{}s+t} $"
   ]
  },
  {
   "cell_type": "markdown",
   "metadata": {},
   "source": [
    "#### **(3) 특징** :\n",
    "##### $ \\hspace{0.15cm} $ ① 특성 맵의 크기를 줄여 계산량 및 메모리 사용 감소\n",
    "##### $ \\hspace{0.15cm} $ ② 작은 위치 변화에 대한 민감도 감소"
   ]
  }
 ],
 "metadata": {
  "kernelspec": {
   "display_name": "Python 3",
   "language": "python",
   "name": "python3"
  },
  "language_info": {
   "codemirror_mode": {
    "name": "ipython",
    "version": 3
   },
   "file_extension": ".py",
   "mimetype": "text/x-python",
   "name": "python",
   "nbconvert_exporter": "python",
   "pygments_lexer": "ipython3",
   "version": "3.8.18"
  },
  "orig_nbformat": 4
 },
 "nbformat": 4,
 "nbformat_minor": 2
}
