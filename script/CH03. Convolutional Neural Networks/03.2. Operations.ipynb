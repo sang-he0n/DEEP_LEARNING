{
 "cells": [
  {
   "attachments": {},
   "cell_type": "markdown",
   "metadata": {},
   "source": [
    "# CH03.1. **Operations**"
   ]
  },
  {
   "cell_type": "markdown",
   "metadata": {},
   "source": [
    "> ## **Convoltuion Operation**"
   ]
  },
  {
   "cell_type": "markdown",
   "metadata": {},
   "source": [
    "#### **(1) 정의** : 입력 데이터와 필터를 요소별 곱 및 합 연산을 통해 특징 맵(feature map;출력)을 생성하는 연산\n",
    "#### $ \\Rightarrow{} y_{(i, k)} = \\displaystyle\\sum^{F_{H}-1}_{n=0}\\displaystyle\\sum^{F_{W}-1}_{m=0}x_{(i\\cdot{}s+n, k\\cdot{}s+m)} \\odot{} F_{(n, m)} $"
   ]
  },
  {
   "cell_type": "markdown",
   "metadata": {},
   "source": [
    "##### **(`PLUS`) 연산 과정 시각화** : \n",
    "<div style=\"display: flex; align-items: center;\">\n",
    "  <img src=\"../../img/03.1. Conv. Operations (1).gif\" style=\"width:25%; height:25%;\" alt=\"Conv. Operations\">\n",
    "  <span style=\"margin-left: 10px; align-self: flex-end;\">※ {padding:1, stride:1}</span>\n",
    "</div>"
   ]
  },
  {
   "cell_type": "markdown",
   "metadata": {},
   "source": [
    "##### **(`PLUS`)** 해당 연산은 엄밀히 cross-correlation이며, 합성곱 연산은 이후 필터를 상하좌우 반전 후 연산하지만 관례상 저렇게 정의함 "
   ]
  },
  {
   "cell_type": "markdown",
   "metadata": {},
   "source": [
    "#### **(2) 구성 요소** : \n",
    "##### $ \\hspace{0.15cm} $ ① Filter : 입력 데이터에서 국소적인 패턴(엣지, 텍스처 등)을 추출하기 위해 사용되는 텐서\n",
    "##### $ \\hspace{0.45cm} \\Rightarrow{} F = \\begin{bmatrix} w_{1,1} & w_{1,2} & \\cdots{} & w_{1,F_{W}} \\\\ w_{2,1} & w_{2,2} & \\cdots{} & w_{2,F_{W}} \\\\ \\vdots{} & \\vdots{} & \\ddots{} & \\vdots{} \\\\ w_{F_{H},1} & w_{F_{H},2} & \\cdots{} & w_{F_{H},F_{W}} \\end{bmatrix} $"
   ]
  },
  {
   "cell_type": "markdown",
   "metadata": {},
   "source": [
    "##### **(`PLUS`)** 필터는 커널(kernel)이라고도 정의됨"
   ]
  },
  {
   "cell_type": "markdown",
   "metadata": {},
   "source": [
    "##### $ \\hspace{0.15cm} $ ② Stride : 필터가 입력 데이터 위를 이동할 때 스킵하는 픽셀 수\n",
    "##### $ \\hspace{0.15cm} $ ③ Padding : 입력 데이터의 경계에 픽셀($ 0 $)을 추가해 합성곱(convolution) 연산 후에도 공간적 크기를 유지 혹은 조절하는 기법"
   ]
  },
  {
   "cell_type": "markdown",
   "metadata": {},
   "source": [
    "#### **(3) 특징맵 계산 공식** :\n",
    "#### $ \\Rightarrow{} Y_{\\text{size}} = \\lfloor{} \\frac{X_{\\text{size}}-F_{\\text{size}}+2P}{s} \\rfloor{} + 1 $"
   ]
  },
  {
   "cell_type": "markdown",
   "metadata": {},
   "source": [
    "#### **(4) 특징** :\n",
    "##### $ \\hspace{0.15cm} $ ① 필터 크기만큼의 연결만 존재하여 연산량 감소\n",
    "##### $ \\hspace{0.15cm} $ ② 지역적 패턴을 학습함(local connectivity)\n",
    "##### $ \\hspace{0.15cm} $ ③ 파라미터 공유를 통해 학습 효율 및 메모리 사용량 감소\n",
    "##### $ \\hspace{0.15cm} $ ④ 필터 크기는 (일반적으로) 홀수개로 구성됨"
   ]
  },
  {
   "cell_type": "markdown",
   "metadata": {},
   "source": [
    "##### **(`WHY?`)** 중심(center) 픽셀을 명확하게 정의하기 위함\n",
    "##### - 중심이 정의되지 않으면 컨볼루션 연산 시 입력 데이터의 대칭성이 깨지고 일부 영역의 정보가 과도하게 반영될 수 있음"
   ]
  },
  {
   "cell_type": "markdown",
   "metadata": {},
   "source": [
    "<b></b>"
   ]
  },
  {
   "cell_type": "markdown",
   "metadata": {},
   "source": [
    "> ## **Pooling Operation**"
   ]
  },
  {
   "cell_type": "markdown",
   "metadata": {},
   "source": [
    "#### **(1) 정의** : 풀링 연산은 컨볼루션 층의 출력 특징 맵에서 국소 영역의 정보를 요약하여 공간적 차원을 줄이는 기법"
   ]
  },
  {
   "cell_type": "markdown",
   "metadata": {},
   "source": [
    "#### **(2) 종류** :\n",
    "##### $ \\hspace{0.15cm} $ ① Average Pooling\n",
    "##### $ \\hspace{0.45cm} \\Rightarrow{} y_{(i, k)} = \\frac{1}{P_{H}\\cdot{}P_{W}} \\displaystyle\\sum^{P_{H}-1}_{n=0}\\displaystyle\\sum^{P_{W}-1}_{m=0} x_{(i\\cdot{}s+n, k\\cdot{}s+m)} $\n",
    "##### $ \\hspace{0.15cm} $ ② Max Pooling\n",
    "##### $ \\hspace{0.45cm} \\Rightarrow{} y_{(i, k)} = \\displaystyle\\max_{0\\leq{}n\\leq{}P_{H}-1, 0\\leq{}m\\leq{}P_{W}-1} x_{(i\\cdot{}s+n, k\\cdot{}s+m)} $"
   ]
  },
  {
   "cell_type": "markdown",
   "metadata": {},
   "source": [
    "#### **(3) 특징** :\n",
    "##### $ \\hspace{0.15cm} $ ① 특성 맵의 크기를 줄여 계산량 및 메모리 사용 감소\n",
    "##### $ \\hspace{0.15cm} $ ② 작은 위치 변화에 대한 민감도 감소"
   ]
  }
 ],
 "metadata": {
  "kernelspec": {
   "display_name": "Python 3",
   "language": "python",
   "name": "python3"
  },
  "language_info": {
   "codemirror_mode": {
    "name": "ipython",
    "version": 3
   },
   "file_extension": ".py",
   "mimetype": "text/x-python",
   "name": "python",
   "nbconvert_exporter": "python",
   "pygments_lexer": "ipython3",
   "version": "3.8.18"
  },
  "orig_nbformat": 4
 },
 "nbformat": 4,
 "nbformat_minor": 2
}
