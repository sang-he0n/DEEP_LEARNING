{
 "cells": [
  {
   "attachments": {},
   "cell_type": "markdown",
   "metadata": {},
   "source": [
    "# CH03.2. **Shallow Convolution Neural Networks**"
   ]
  },
  {
   "cell_type": "markdown",
   "metadata": {},
   "source": [
    "> ## **Shallow Convolution Networks**"
   ]
  },
  {
   "cell_type": "markdown",
   "metadata": {},
   "source": [
    "#### **(1) 정의** : **[CONTENTS]**\n",
    "#### $ \\Rightarrow{} $ **[LATEX]**\n",
    "#### $ \\hspace{0.3cm} $ <img src=\"../../img/03.2. Shallow CNN (1).png\" width=\"70%\" height=\"70%\"></img>"
   ]
  },
  {
   "cell_type": "markdown",
   "metadata": {},
   "source": [
    "##### **(`PLUS`)** $ H_{0} = n^{[0]}_{H},\\, W_{0} = n^{[0]}_{W} $ "
   ]
  },
  {
   "cell_type": "markdown",
   "metadata": {},
   "source": [
    "<b></b>"
   ]
  },
  {
   "cell_type": "markdown",
   "metadata": {},
   "source": [
    "> ## **Foward Propagatation**"
   ]
  },
  {
   "cell_type": "markdown",
   "metadata": {},
   "source": [
    "#### **(1) Input**(`input`) : $ n_{C}^{[0]} = 1 $ \n",
    "#### $ \\underset{n_{H}^{[0]}\\times{}n_{W}^{[0]}\\times{}n_{C}^{[0]}}{X^{(1)}} = A^{[0](1)} = \\begin{bmatrix} x_{1,1}^{(1)} & x_{1,2}^{(1)} & \\cdots{} & x_{1,n^{[0]}_{W}}^{(1)} \\\\ x_{2,1}^{(1)} & x_{2,2}^{(1)} & \\cdots{} & x_{2,n^{[0]}_{W}}^{(1)} \\\\ \\vdots{} & \\vdots{} & \\ddots{} & \\vdots{} \\\\ x_{n^{[0]}_{H},1}^{(1)} & x_{n^{[0]}_{H},2}^{(1)} & \\cdots{} & x_{n^{[0]}_{{H}},n^{[0]}_{W}}^{(1)} \\end{bmatrix} $\n",
    "#### $ \\underset{n_{H}^{[0]}\\times{}n_{W}^{[0]}\\times{}n_{C}^{[0]}\\times{}m}{X} = \\begin{bmatrix} X^{(1)} & X^{(2)} & \\cdots{} & X^{(m)} \\end{bmatrix} $"
   ]
  },
  {
   "cell_type": "markdown",
   "metadata": {},
   "source": [
    "#### **(2) Target**(`input`) : binary classification\n",
    "#### $ \\underset{1\\times{}m}{Y} = \\begin{bmatrix} y^{(1)}&y^{(2)}&\\cdots{}&y^{(m)} \\end{bmatrix} \\;\\; \\text{ where } \\, y^{(i)} \\in{} \\{ 0, 1 \\} $"
   ]
  },
  {
   "cell_type": "markdown",
   "metadata": {},
   "source": [
    "#### **(3) Filter**(`parameter`) : $ n_{C}^{[1]} = 1 $ \n",
    "#### $ \\underset{n^{[1]}_{H}\\times{}n^{[1]}_{W}\\times{}n^{[0]}_{C}\\times{}n^{[1]}_{C}}{F^{[1]}} = \\begin{bmatrix} w^{[1]}_{1,1} & w^{[1]}_{1,2} & \\cdots{} & w^{[1]}_{1,n^{[1]}_{W}} \\\\ w^{[1]}_{2,1} & w^{[1]}_{2,2} & \\cdots{} & w^{[1]}_{2,n^{[1]}_{W}} \\\\ \\vdots{} & \\vdots{} & \\ddots{} & \\vdots{} \\\\ w^{[1]}_{n^{[1]}_{H},1} & w^{[1]}_{n^{[1]}_{H},2} & \\cdots{} & w^{[1]}_{n^{[1]}_{H},n^{[1]}_{W}} \\end{bmatrix} $"
   ]
  },
  {
   "cell_type": "markdown",
   "metadata": {},
   "source": [
    "#### **(`PLUS`)** $ F_{H} = n^{[1]}_{H},\\, F_{W} = n^{[1]}_{W} $ "
   ]
  },
  {
   "cell_type": "markdown",
   "metadata": {},
   "source": [
    "#### **(4) Bias**(`parameter`) :\n",
    "#### $ \\underset{n^{[2]}_{H}\\times{}n^{[2]}_{W}\\times{}n^{[1]}_{C}}{B^{[1](1)}} = \\begin{bmatrix} b^{[1]} & b^{[1]} & \\cdots{} & b^{[1]} \\\\ b^{[1]} & b^{[1]} & \\cdots{} & b^{[1]} \\\\ \\vdots{} & \\vdots{} & \\ddots{} & \\vdots{} \\\\ b^{[1]} & b^{[1]} & \\cdots{} & b^{[1]} \\end{bmatrix} $\n",
    "#### $ \\underset{n^{[2]}_{H}\\times{}n^{[2]}_{W}\\times{}n^{[1]}_{C}\\times{}m}{B^{[1]}} = \\begin{bmatrix} B^{[1](1)} & B^{[1](2)} & \\cdots{} & B^{[1](m)} \\end{bmatrix} $\n",
    "#### $ \\hspace{0.15cm} \\text{where } \\, n^{[2]}_{H} = n^{[0]}_{H}-n^{[1]}_{H}+1 \\;\\; \\text{and } \\, n^{[2]}_{W} = n^{[0]}_{W}-n^{[1]}_{W}+1 $"
   ]
  },
  {
   "cell_type": "markdown",
   "metadata": {},
   "source": [
    "##### **(`WHY?`)** $ n^{[2]}_{H} = \\lfloor{} \\frac{n^{[0]}_{H}-n^{[1]}_{H}+2p}{s} \\rfloor{} + 1 = n^{[0]}_{H}-n^{[1]}_{H}+1 \\;\\; $ ($ \\because{} \\, p = 0, \\; s = 1 $)"
   ]
  },
  {
   "cell_type": "markdown",
   "metadata": {},
   "source": [
    "#### **(5) Convolution Operation** : $ \\text{padding}=0, \\, \\text{stride}=1 $\n",
    "#### $ \\underset{n^{[2]}_{H}\\times{}n^{[2]}_{W}\\times{}n^{[1]}_{C}}{Z^{[1](1)}} = F^{[1]} * X^{(1)} + B^{[1]} $\n",
    "#### $ \\hspace{1.5cm} = \\begin{bmatrix} <F^{[1]}, \\overset{\\text{patch}}{X^{(1)}_{1,1}}> & <F^{[1]}, \\overset{\\text{patch}}{X^{(1)}_{1,2}}> & \\cdots{} & <F^{[1]}, \\overset{\\text{patch}}{X^{(1)}_{1,n^{[2]}_{W}}}> \\\\ \\vdots{} & \\vdots{} & \\ddots{} & \\vdots{} \\\\ <F^{[1]}, \\overset{\\text{patch}}{X^{(1)}_{n^{[2]}_{H},1}}> & <F^{[1]}, \\overset{\\text{patch}}{X^{(1)}_{n^{[2]}_{H},2}}> & \\cdots{} & <F^{[1]}, \\overset{\\text{patch}}{X^{(1)}_{n^{[2]}_{H},n^{[2]}_{W}}}> \\end{bmatrix} + B^{[1]} $\n",
    "#### $ \\hspace{1.5cm} = \\begin{bmatrix} \\displaystyle\\sum^{n^{[1]}_{H}}_{p=1}\\displaystyle\\sum^{n^{[1]}_{W}}_{q=1} w^{[1]}_{p,q} \\cdot{} x_{1+p-1,1+q-1}+b^{[1]} & \\cdots{} & \\displaystyle\\sum^{n^{[1]}_{H}}_{p=1}\\displaystyle\\sum^{n^{[1]}_{W}}_{q=1} w^{[1]}_{p,q} \\cdot{} x_{1+p-1,n^{[2]}_{W}+q-1}+b^{[1]} \\\\ \\vdots{} & \\ddots{} & \\vdots{} \\\\ \\displaystyle\\sum^{n^{[1]}_{H}}_{p=1}\\displaystyle\\sum^{n^{[1]}_{W}}_{q=1} w^{[1]}_{p,q} \\cdot{} x_{n^{[2]}_{H}+p-1,1+q-1}+b^{[1]} & \\cdots{} & \\displaystyle\\sum^{n^{[1]}_{H}}_{p=1}\\displaystyle\\sum^{n^{[1]}_{W}}_{q=1} w^{[1]}_{p,q} \\cdot{} x_{n^{[2]}_{H}+p-1,n^{[2]}_{W}+q-1}+b^{[1]} \\end{bmatrix} $\n",
    "#### $ \\hspace{1.5cm} = \\begin{bmatrix} z^{[1](1)}_{1,1} & z^{[1](1)}_{1,2} & \\cdots{} & z^{[1](1)}_{1,n^{[2]}_{W}} \\\\ z^{[1](1)}_{2,1} & z^{[1](1)}_{2,2} & \\cdots{} & z^{[1](1)}_{2,n^{[2]}_{W}} \\\\ \\vdots{} & \\vdots{} & \\ddots{} & \\vdots{} \\\\ z^{[1](1)}_{n^{[2]}_{H},1} & z^{[1](1)}_{n^{[2]}_{H},2} & \\cdots{} & z^{[1](1)}_{n^{[2]}_{H},n^{[2]}_{W}}\\end{bmatrix} $\n",
    "#### $ \\hspace{0.15cm} \\text{where } \\, \\overset{\\text{patch}}{X^{(1)}_{i,k}} = \\begin{bmatrix} x^{(1)}_{i,k} & x^{(1)}_{i,k+1} & \\cdots{} & x^{(1)}_{i,k+n^{[1]}_{W}-1} \\\\ x^{(1)}_{i+1,k} & x^{(1)}_{i+1,k+1} & \\cdots{} & x^{(1)}_{i+1,k+n^{[1]}_{W}-1} \\\\ \\vdots{} & \\vdots{} & \\ddots{} & \\vdots{} \\\\ x^{(1)}_{i+n^{[1]}_{H}-1,k} & x^{(1)}_{i+n^{[1]}_{H}-1,k+1} & \\cdots{} & x^{(1)}_{i+n^{[1]}_{H}-1,k+n^{[1]}_{W}-1} \\end{bmatrix} $\n",
    "#### $ \\underset{n^{[2]}_{H}\\times{}n^{[2]}_{W}\\times{}n^{[1]}_{C}\\times{}m}{Z^{[1]}} = \\begin{bmatrix} Z^{[1](1)} & Z^{[1](2)} & \\cdots{} & Z^{[1](m)} \\end{bmatrix} $"
   ]
  },
  {
   "cell_type": "markdown",
   "metadata": {},
   "source": [
    "#### **(`PLUS`)** $ * $ : convolution operation, $ < \\textbf{v}, \\textbf{u} > $ : inner product"
   ]
  },
  {
   "cell_type": "markdown",
   "metadata": {},
   "source": [
    "#### **(6) Activate Function of $ \\, 1 $-st Hidden(Convolution) Layer** : \n",
    "#### $ \\underset{n^{[2]}_{H}\\times{}n^{[2]}_{W}\\times{}n^{[1]}_{C}\\times{}m}{A^{[1]}} = g(Z^{[1]}) = \\begin{bmatrix} g(Z^{[1](1)}) & g(Z^{[1](2)}) & \\cdots{} & g(Z^{[1](m)}) \\end{bmatrix} $"
   ]
  },
  {
   "cell_type": "markdown",
   "metadata": {},
   "source": [
    "#### **(7) Max Pooling Operation** :\n",
    "#### $ \\underset{n^{[3]}_{H}\\times{}n^{[3]}_{W}\\times{}n^{[2]}_{C}}{Z^{[2](1)}} = \\begin{bmatrix} \\displaystyle\\max_{} \\overset{\\text{patch}}{A^{[1](1)}_{1,1}} & \\displaystyle\\max_{} \\overset{\\text{patch}}{A^{[1](1)}_{1,2}} & \\cdots{} & \\displaystyle\\max_{} \\overset{\\text{patch}}{A^{[1](1)}_{1,n^{[3]}_{W}}} \\\\ \\displaystyle\\max_{} \\overset{\\text{patch}}{A^{[1](1)}_{2,1}} & \\displaystyle\\max_{} \\overset{\\text{patch}}{A^{[1](1)}_{2,2}} & \\cdots{} & \\displaystyle\\max_{} \\overset{\\text{patch}}{A^{[1](1)}_{2,n^{[3]}_{W}}} \\\\ \\vdots{} & \\vdots{} & \\ddots{} & \\vdots{} \\\\ \\displaystyle\\max_{} \\overset{\\text{patch}}{A^{[1](1)}_{n^{[3]}_{H},1}} & \\displaystyle\\max_{} \\overset{\\text{patch}}{A^{[1](1)}_{n^{[3]}_{H},2}} & \\cdots{} & \\displaystyle\\max_{} \\overset{\\text{patch}}{A^{[1](1)}_{n^{[3]}_{H},n^{[3]}_{W}}}  \\end{bmatrix} $\n",
    "#### $ \\hspace{1.55cm} = \\begin{bmatrix} \\displaystyle\\max_{1\\leq{}p\\leq{}f^{[2]}_{H}} \\displaystyle\\max_{1\\leq{}q\\leq{}f^{[2]}_{W}} a^{[1](1)}_{1+p-1,1+q-1} & \\cdots{} & \\displaystyle\\max_{1\\leq{}p\\leq{}f^{[2]}_{H}} \\displaystyle\\max_{1\\leq{}q\\leq{}f^{[2]}_{W}} a^{[1](1)}_{1+p-1,n^{[3]}_{W}+q-1} \\\\ \\vdots{} & \\ddots{} & \\vdots{} \\\\ \\displaystyle\\max_{1\\leq{}p\\leq{}f^{[2]}_{H}} \\displaystyle\\max_{1\\leq{}q\\leq{}f^{[2]}_{W}} a^{[1](1)}_{n^{[3]}_{H}+p-1,1+q-1} & \\cdots{} & \\displaystyle\\max_{1\\leq{}p\\leq{}f^{[2]}_{H}} \\displaystyle\\max_{1\\leq{}q\\leq{}f^{[2]}_{W}} a^{[1](1)}_{n^{[3]}_{H}+p-1,n^{[3]}_{W}+q-1} \\end{bmatrix} $\n",
    "#### $ \\hspace{1.55cm} = \\begin{bmatrix} z^{[2](1)}_{1,1} & z^{[2](1)}_{1,2} & \\cdots{} & z^{[2](1)}_{1,n^{[3]}_{W}} \\\\ z^{[2](1)}_{2,1} & z^{[2](1)}_{2,2} & \\cdots{} & z^{[2](1)}_{2,n^{[3]}_{W}} \\\\ \\vdots{} & \\vdots{} & \\ddots{} & \\vdots{} \\\\ z^{[2](1)}_{n^{[3]}_{H},1} & z^{[2](1)}_{n^{[3]}_{H},2} & \\cdots{} & z^{[2](1)}_{n^{[3]}_{H},n^{[3]}_{W}} \\end{bmatrix} $\n",
    "#### $ \\hspace{0.15cm} \\text{where } \\, f^{[2]}_{H}, \\, f^{[2]}_{W} \\, \\text{ is pooling kernel size.} $ \n",
    "#### $ \\hspace{0.5cm} \\text{and } \\, n^{[3]}_{H} = n^{[2]}_{H}-f^{[2]}_{H}+1 \\;\\; \\text{and } \\, n^{[3]}_{W} = n^{[2]}_{W}-f^{[2]}_{W}+1 $\n",
    "#### $ \\hspace{0.5cm} \\text{and }  \\overset{\\text{patch}}{A^{[1](1)}_{i,k}} = \\begin{bmatrix} a^{[1](1)}_{i,k} & a^{[1](1)}_{i,k+1} & \\cdots{} & a^{[1](1)}_{i,k+f^{[2]}_{W}-1} \\\\ a^{[1](1)}_{i+1,k} & a^{[1](1)}_{i+1,k+1} & \\cdots{} & a^{[1](1)}_{i+1,k+f^{[2]}_{W}-1} \\\\ \\vdots{} & \\vdots{} & \\ddots{} & \\vdots{} \\\\ a^{[1](1)}_{i+f^{[2]}_{H}-1,k} & a^{[1](1)}_{i+f^{[2]}_{H}-1,k+1} & \\cdots{} & a^{[1](1)}_{i+f^{[2]}_{H}-1,k+f^{[2]}_{W}-1} \\end{bmatrix} $\n",
    "#### $ \\underset{n^{[3]}_{H}\\times{}n^{[3]}_{W}\\times{}n^{[2]}_{C}\\times{}m}{Z^{[2]}} = \\begin{bmatrix} Z^{[2](1)} & Z^{[2](2)} & \\cdots{} & Z^{[2](m)} \\end{bmatrix} $"
   ]
  },
  {
   "cell_type": "markdown",
   "metadata": {},
   "source": [
    "#### **(8) Flatten** : \n",
    "#### $ \\underset{n^{[3]}_{\\text{feat}}\\times{}1}{\\textbf{z}^{[3](1)}} = \\text{Flatten}(Z^{[2](1)}) $\n",
    "#### $ \\hspace{0.9cm} = \\begin{bmatrix} z^{[2](1)}_{1,1} \\\\ z^{[2](1)}_{1,2} \\\\ \\vdots{} \\\\ z^{[2](1)}_{n^{[3]}_{H},n^{[3]}_{W}} \\end{bmatrix} = \\begin{bmatrix} z^{[3](1)}_{1} \\\\ z^{[3](1)}_{2} \\\\ \\vdots{} \\\\ z^{[3](1)}_{n^{[3]}_{\\text{feat}}} \\end{bmatrix} $\n",
    "#### $ \\underset{n^{[3]}_{\\text{feat}}\\times{}m}{Z}^{[3]} = \\begin{bmatrix} \\textbf{z}^{[3](1)} & \\textbf{z}^{[3](2)} & \\cdots{} & \\textbf{z}^{[3](m)} \\end{bmatrix} $\n",
    "#### $ \\hspace{0.15cm} \\text{where } \\, n^{[3]}_{\\text{feat}} = n^{[3]}_{H}\\times{}n^{[3]}_{W}\\times{}n^{[3]}_{C} $"
   ]
  },
  {
   "cell_type": "markdown",
   "metadata": {},
   "source": [
    "<b></b>"
   ]
  },
  {
   "cell_type": "markdown",
   "metadata": {},
   "source": [
    "> ## **Back Propagation**"
   ]
  },
  {
   "cell_type": "markdown",
   "metadata": {},
   "source": [
    "<b></b>"
   ]
  },
  {
   "cell_type": "markdown",
   "metadata": {},
   "source": [
    "> ## **Optimization**"
   ]
  },
  {
   "cell_type": "markdown",
   "metadata": {},
   "source": [
    "#### **(1) Update $ \\, F^{[1]} $** :\n",
    "#### $ W^{[1]} \\coloneqq{} W^{[1]} - \\alpha{} \\cdot{} \\frac{1}{m} \\cdot{} \\frac{\\partial{}J}{\\partial{}F^{[1]}} $"
   ]
  },
  {
   "cell_type": "markdown",
   "metadata": {},
   "source": [
    "#### **(2) Update $ \\, B^{[1]} $** :\n",
    "#### $ B^{[1]} \\coloneqq{} B^{[1]} - \\alpha{} \\cdot{} \\frac{1}{m} \\cdot{} \\frac{\\partial{}J}{\\partial{}B^{[1]}} $"
   ]
  },
  {
   "cell_type": "markdown",
   "metadata": {},
   "source": [
    "#### **(?) Update $ \\, W^{[L]} $** :\n",
    "#### $ W^{[L]} \\coloneqq{} W^{[L]} - \\alpha{} \\cdot{} \\frac{1}{m} \\cdot{} \\frac{\\partial{}J}{\\partial{}W^{[L]}} $"
   ]
  },
  {
   "cell_type": "markdown",
   "metadata": {},
   "source": [
    "#### **(?) Update $ \\, B^{[L]} $** :\n",
    "#### $ B^{[L]} \\coloneqq{} B^{[L]} - \\alpha{} \\cdot{} \\frac{1}{m} \\cdot{} \\frac{\\partial{}J}{\\partial{}B^{[L]}} $"
   ]
  }
 ],
 "metadata": {
  "kernelspec": {
   "display_name": "Python 3",
   "language": "python",
   "name": "python3"
  },
  "language_info": {
   "codemirror_mode": {
    "name": "ipython",
    "version": 3
   },
   "file_extension": ".py",
   "mimetype": "text/x-python",
   "name": "python",
   "nbconvert_exporter": "python",
   "pygments_lexer": "ipython3",
   "version": "3.8.18"
  },
  "orig_nbformat": 4
 },
 "nbformat": 4,
 "nbformat_minor": 2
}
