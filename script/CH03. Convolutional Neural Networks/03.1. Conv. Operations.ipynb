{
 "cells": [
  {
   "attachments": {},
   "cell_type": "markdown",
   "metadata": {},
   "source": [
    "# CH03.1. **Convolution Operations**"
   ]
  },
  {
   "cell_type": "markdown",
   "metadata": {},
   "source": [
    "> ## **Filter**"
   ]
  },
  {
   "cell_type": "markdown",
   "metadata": {},
   "source": [
    "#### **(1) 정의** : 입력 데이터에서 국소적인 패턴(엣지, 텍스처 등)을 추출하기 위해 사용되는 텐서\n",
    "#### $ \\Rightarrow{} F = \\begin{bmatrix} w_{1,1} & w_{1,2} & \\cdots{} & w_{1,F_{W}} \\\\ w_{2,1} & w_{2,2} & \\cdots{} & w_{2,F_{W}} \\\\ \\vdots{} & \\vdots{} & \\ddots{} & \\vdots{} \\\\ w_{F_{H},1} & w_{F_{H},2} & \\cdots{} & w_{F_{H},F_{W}} \\end{bmatrix} \\;\\; \\text{ where } \\, F_{H} \\, \\text{ is filter height.} $\n",
    "#### $ \\hspace{6.55cm} \\text{and } \\, F_{W} \\, \\text{ is filter width.} $"
   ]
  },
  {
   "cell_type": "markdown",
   "metadata": {},
   "source": [
    "##### **(`PLUS`)** 필터는 커널(kernel)이라고도 정의됨"
   ]
  },
  {
   "cell_type": "markdown",
   "metadata": {},
   "source": [
    "#### **(2) 특징** :\n",
    "##### $ \\hspace{0.15cm} $ ① 지역적 패턴을 학습함(local connectivity)\n",
    "##### $ \\hspace{0.15cm} $ ② 파라미터 공유를 통해 학습 효율 및 메모리 사용량 감소\n",
    "##### $ \\hspace{0.15cm} $ ③ 필터 크기는 홀수개로 구성됨"
   ]
  },
  {
   "cell_type": "markdown",
   "metadata": {},
   "source": [
    "##### **(`WHY?`)** 중심(center) 픽셀을 명확하게 정의하기 위함\n",
    "##### - 중심이 정의되지 않으면 컨볼루션 연산 시 입력 데이터의 대칭성이 깨지고 일부 영역의 정보가 과도하게 반영될 수 있음"
   ]
  },
  {
   "cell_type": "markdown",
   "metadata": {},
   "source": [
    "<b></b>"
   ]
  },
  {
   "cell_type": "markdown",
   "metadata": {},
   "source": [
    "> ## **Stride**"
   ]
  },
  {
   "cell_type": "markdown",
   "metadata": {},
   "source": [
    "#### **(1) 정의** : 필터가 입력 데이터 위를 이동할 때 스킵하는 픽셀 수"
   ]
  },
  {
   "cell_type": "markdown",
   "metadata": {},
   "source": [
    "#### **(2) 특징** :\n",
    "##### $ \\hspace{0.15cm} $ ① 큰 스트라이드는 공간적 차원을 빠르게 축소(다운샘플링 효과)\n",
    "##### $ \\hspace{0.15cm} $ ② 적은 수의 연산으로 출력 맵 생성"
   ]
  },
  {
   "cell_type": "markdown",
   "metadata": {},
   "source": [
    "<b></b>"
   ]
  },
  {
   "cell_type": "markdown",
   "metadata": {},
   "source": [
    "> ## **Padding**"
   ]
  },
  {
   "cell_type": "markdown",
   "metadata": {},
   "source": [
    "#### **(1) 정의** : 입력 데이터의 경계에 픽셀($ 0 $)을 추가해 컨볼루션 연산 후에도 공간적 크기를 유지 혹은 조절하는 기법"
   ]
  },
  {
   "cell_type": "markdown",
   "metadata": {},
   "source": [
    "#### **(2) 특징** :\n",
    "##### $ \\hspace{0.15cm} $ ① 입력 데이터의 경계 부분도 충분히 반영 가능\n",
    "##### $ \\hspace{0.15cm} $ ② 네트워크 구조 설계 시 출력 크기 조절이 용이"
   ]
  },
  {
   "cell_type": "markdown",
   "metadata": {},
   "source": [
    "<b></b>"
   ]
  },
  {
   "cell_type": "markdown",
   "metadata": {},
   "source": [
    "> ## **Convoltuion Operation**"
   ]
  },
  {
   "cell_type": "markdown",
   "metadata": {},
   "source": [
    "#### **[GRAPH]**"
   ]
  },
  {
   "cell_type": "markdown",
   "metadata": {},
   "source": [
    "#### **(1) 정의** : 입력 데이터와 필터를 요소별 곱 및 합 연산을 통해 특징 맵을 생성하는 연산\n",
    "#### $ \\Rightarrow{} y_{(i, k)} = \\displaystyle\\sum^{K_{H}-1}_{n=0}\\displaystyle\\sum^{K_{W}-1}_{m=0}x_{(i\\cdot{}s+n, k\\cdot{}s+m)} \\odot{} K_{(n, m)} \\;\\; \\text{ where } \\, y \\, \\text{ is feature map.} $\n",
    "#### $ \\hspace{7cm} \\text{and } \\, F \\, \\text{ is filter.} $\n",
    "#### $ \\hspace{7cm} \\text{and } \\, n, m \\, \\text{ is filter index.} $\n",
    "#### $ \\hspace{7cm} \\text{and } \\, s \\, \\text{ is stride.} $"
   ]
  },
  {
   "cell_type": "markdown",
   "metadata": {},
   "source": [
    "##### **(`PLUS`)** auto-correlation"
   ]
  },
  {
   "cell_type": "markdown",
   "metadata": {},
   "source": [
    "#### **(2) 특징맵(feature map;출력) 계산 공식** :\n",
    "#### $ \\Rightarrow{} O = \\frac{I-F+2P}{s} + 1 \\;\\; \\text{ where } \\, I \\, \\text{ is input size}. $\n",
    "#### $ \\hspace{3.55cm} \\text{and } \\, F \\, \\text{ is filter size.} $\n",
    "#### $ \\hspace{3.55cm} \\text{and } \\, P \\, \\text{ is Padding.} $\n",
    "#### $ \\hspace{3.55cm} \\text{and } \\, s \\, \\text{ is stride.} $"
   ]
  },
  {
   "cell_type": "markdown",
   "metadata": {},
   "source": [
    "#### **(2) 특징** :\n",
    "##### $ \\hspace{0.15cm} $ ① 필터 크기만큼의 연결만 존재하여 연산량 감소\n",
    "##### $ \\hspace{0.15cm} $ ② 공간적 패턴과 구조를 효과적으로 학습"
   ]
  },
  {
   "cell_type": "markdown",
   "metadata": {},
   "source": [
    "<b></b>"
   ]
  },
  {
   "cell_type": "markdown",
   "metadata": {},
   "source": [
    "> ## **Pooling Layer**"
   ]
  },
  {
   "cell_type": "markdown",
   "metadata": {},
   "source": [
    "#### **(1) 정의** : 풀링 연산은 컨볼루션 층의 출력 특징 맵에서 국소 영역의 정보를 요약하여 공간적 차원을 줄이는 기법"
   ]
  },
  {
   "cell_type": "markdown",
   "metadata": {},
   "source": [
    "#### **(2) 종류** :\n",
    "##### $ \\hspace{0.15cm} $ ① Max Pooling\n",
    "##### $ \\hspace{0.45cm} \\Rightarrow{} $\n",
    "##### $ \\hspace{0.15cm} $ ② Average Pooling\n",
    "##### $ \\hspace{0.45cm} \\Rightarrow{} $"
   ]
  },
  {
   "cell_type": "markdown",
   "metadata": {},
   "source": [
    "#### **(3) 특징** :\n",
    "##### $ \\hspace{0.15cm} $ ① 특성 맵의 크기를 줄여 계산량 및 메모리 사용 감소\n",
    "##### $ \\hspace{0.15cm} $ ② 작은 위치 변화에 대한 민감도 감소"
   ]
  }
 ],
 "metadata": {
  "kernelspec": {
   "display_name": "Python 3",
   "language": "python",
   "name": "python3"
  },
  "language_info": {
   "codemirror_mode": {
    "name": "ipython",
    "version": 3
   },
   "file_extension": ".py",
   "mimetype": "text/x-python",
   "name": "python",
   "nbconvert_exporter": "python",
   "pygments_lexer": "ipython3",
   "version": "3.8.18"
  },
  "orig_nbformat": 4
 },
 "nbformat": 4,
 "nbformat_minor": 2
}
