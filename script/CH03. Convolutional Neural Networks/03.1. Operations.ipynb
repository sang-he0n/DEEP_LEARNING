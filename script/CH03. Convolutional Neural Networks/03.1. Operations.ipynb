{
 "cells": [
  {
   "attachments": {},
   "cell_type": "markdown",
   "metadata": {},
   "source": [
    "# CH03.1. **Operations**"
   ]
  },
  {
   "cell_type": "markdown",
   "metadata": {},
   "source": [
    "> ## **합성곱 연산(Convoltuion Operation)**"
   ]
  },
  {
   "cell_type": "markdown",
   "metadata": {},
   "source": [
    "#### **(1) 정의** : 입력 데이터와 필터를 요소별 곱 및 합 연산을 통해 특징 맵(feature map)을 생성하는 연산\n",
    "#### $ \\Rightarrow{} [w * x](i) = \\sum{}^{k-1}_{u=0} w_{u} x_{i\\cdot{}s+u} $\n",
    "#### $ \\hspace{0.45cm} \\text{where } \\; k \\, \\text{ is filter length}, \\;\\; s \\, \\text{ is stride}, \\;\\; i \\, \\text{ is output index}, \\;\\; u \\, \\text{ is local index} $"
   ]
  },
  {
   "cell_type": "markdown",
   "metadata": {},
   "source": [
    "##### **(`PLUS`)** 합성곱 연산은 엄밀히 필터를 좌우로 반전 후(flliping) 연산해야 하나 이를 생략함"
   ]
  },
  {
   "cell_type": "markdown",
   "metadata": {},
   "source": [
    "#### **(2) 구성 요소** : \n",
    "##### $ \\hspace{0.15cm} $ ① 필터(Filter;kernel) : 입력 데이터에서 국소적인 패턴(엣지, 텍스처 등)을 추출하기 위해 사용되는 텐서\n",
    "##### $ \\hspace{0.15cm} $ ② 스트라이드(Stride) : 필터가 입력 데이터 위를 이동할 때 생략하는 픽셀 수\n",
    "##### $ \\hspace{0.15cm} $ ③ 패딩(Padding) : 입력 데이터의 경계에 픽셀($ 0 $)을 추가해 합성곱 연산 후에도 공간적 크기를 유지 혹은 조절하는 기법"
   ]
  },
  {
   "cell_type": "markdown",
   "metadata": {},
   "source": [
    "##### **(`PLUS`) 연산 과정 시각화** : padding=$ 1 $, stride=$ 1 $\n",
    "<div style=\"display: flex; align-items: center;\">\n",
    "  <img src=\"../../img/03.1. Conv. Operations (1).gif\" style=\"width:25%; height:25%;\" alt=\"Conv. Operations\">\n",
    "</div>"
   ]
  },
  {
   "cell_type": "markdown",
   "metadata": {},
   "source": [
    "#### **(3) 출력 특징맵 크기** :\n",
    "#### $ \\Rightarrow{} n^{[l]}_{H} = \\lfloor{} \\frac{n^{[l-1]}_{H}-n^{[l]}_{F_{H}}+2P}{s} \\rfloor{} + 1, \\;\\; n^{[l]}_{W} = \\lfloor{} \\frac{n^{[l-1]}_{W}-n^{[l]}_{F_{W}}+2P}{s} \\rfloor{} + 1 $\n",
    "#### $ \\hspace{0.45cm} \\text{where } \\; P \\, \\text{ is padding size}. $"
   ]
  },
  {
   "cell_type": "markdown",
   "metadata": {},
   "source": [
    "#### **(4) 특징** :\n",
    "##### $ \\hspace{0.15cm} $ ① 필터 크기만큼의 연결만 존재하기에 지역적 패턴을 학습함 (local connectivity)\n",
    "##### $ \\hspace{0.15cm} $ ② 파라미터 공유를 통해 학습 효율 및 메모리 사용량 감소\n",
    "##### $ \\hspace{0.15cm} $ ③ 필터 크기는 홀수 개로 구성"
   ]
  },
  {
   "cell_type": "markdown",
   "metadata": {},
   "source": [
    "<b></b>"
   ]
  },
  {
   "cell_type": "markdown",
   "metadata": {},
   "source": [
    "> ## **수용장(Receptive Field)**"
   ]
  },
  {
   "cell_type": "markdown",
   "metadata": {},
   "source": [
    "#### **(1) 정의** : 출력 뉴런 하나가 계산될 때, 입력 이미지 중 어느 영역의 픽셀들을 참고했는지를 나타내는 범위\n",
    "#### $ \\Rightarrow{} RF^{[l]} = 1 + \\sum{}^{l}_{i=1}(k^{[i]}-1) \\cdot{} \\prod{}^{i-1}_{j=1} s^{[j]} $"
   ]
  },
  {
   "cell_type": "markdown",
   "metadata": {},
   "source": [
    "<b></b>"
   ]
  },
  {
   "cell_type": "markdown",
   "metadata": {},
   "source": [
    "> ## **풀링 연산(Pooling Operation)**"
   ]
  },
  {
   "cell_type": "markdown",
   "metadata": {},
   "source": [
    "#### **(1) 정의** : 컨볼루션 층의 출력 특징 맵에서 국소 영역의 정보를 요약하여 공간적 차원을 줄이는 기법"
   ]
  },
  {
   "cell_type": "markdown",
   "metadata": {},
   "source": [
    "##### **(`PLUS`)** 일반적으로 합성곱 및 활성화 연산 후 풀링 연산이 시행됨"
   ]
  },
  {
   "cell_type": "markdown",
   "metadata": {},
   "source": [
    "#### **(2) 종류** :\n",
    "##### $ \\hspace{0.15cm} $ ① 평균 풀링(Average Pooling)\n",
    "##### $ \\hspace{0.45cm} \\Rightarrow{} a^{[l]}_{p,j,k} = \\frac{1}{n^{[l]}_{P_{H}}\\cdot{}n^{[l]}_{P_{W}}}\\sum^{n^{[l]}_{P_{H}}}_{r=1}\\sum^{n^{[l]}_{P_{W}}}_{t=1} a^{[l-1]}_{p, (j-1)\\cdot{}s+r, (k-1)\\cdot{}s+t} $\n",
    "##### $ \\hspace{0.15cm} $ ② 맥스 풀링(Max Pooling)\n",
    "##### $ \\hspace{0.45cm} \\Rightarrow{} a^{[l]}_{p,j,k} =\\max_{1\\leq{}r\\leq{}n^{[l]}_{P_{H}}, 1\\leq{}t\\leq{}n^{[l]}_{P_{W}}} a^{[l-1]}_{p, (j-1)\\cdot{}s+r, (k-1)\\cdot{}s+t} $"
   ]
  },
  {
   "cell_type": "markdown",
   "metadata": {},
   "source": [
    "#### **(3) 특징** :\n",
    "##### $ \\hspace{0.15cm} $ ① 특성 맵의 크기를 줄여 계산량 및 메모리 사용 감소\n",
    "##### $ \\hspace{0.15cm} $ ② 작은 위치 변화에 대한 민감도 감소 (과적합 위험 해소)"
   ]
  }
 ],
 "metadata": {
  "kernelspec": {
   "display_name": "Python 3",
   "language": "python",
   "name": "python3"
  },
  "language_info": {
   "codemirror_mode": {
    "name": "ipython",
    "version": 3
   },
   "file_extension": ".py",
   "mimetype": "text/x-python",
   "name": "python",
   "nbconvert_exporter": "python",
   "pygments_lexer": "ipython3",
   "version": "3.8.18"
  },
  "orig_nbformat": 4
 },
 "nbformat": 4,
 "nbformat_minor": 2
}
