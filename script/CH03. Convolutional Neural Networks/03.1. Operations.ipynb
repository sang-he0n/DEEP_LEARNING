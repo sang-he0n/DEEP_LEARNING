{
 "cells": [
  {
   "attachments": {},
   "cell_type": "markdown",
   "metadata": {},
   "source": [
    "# CH03.1. **Operations**"
   ]
  },
  {
   "cell_type": "markdown",
   "metadata": {},
   "source": [
    "> ## **합성곱 연산(Convoltuion Operation)**"
   ]
  },
  {
   "cell_type": "markdown",
   "metadata": {},
   "source": [
    "#### **(1) 정의** : 입력 데이터와 필터를 요소별 곱 및 합 연산을 통해 특징 맵(feature map)을 생성하는 연산\n",
    "##### $ \\Rightarrow{} \\textbf{y} = W * \\textbf{x} $"
   ]
  },
  {
   "cell_type": "markdown",
   "metadata": {},
   "source": [
    "##### **(`PLUS`)** 합성곱 연산은 엄밀히 필터를 상하좌우로 반전 후(flliping) 연산해야 하나 이를 생략함"
   ]
  },
  {
   "cell_type": "markdown",
   "metadata": {},
   "source": [
    "#### **(2) 구성 요소** : \n",
    "##### $ \\hspace{0.15cm} $ ① 필터(Filter;kernel) : 입력 데이터에서 국소적인 패턴(엣지, 텍스처 등)을 추출하기 위해 사용되는 텐서\n",
    "##### $ \\hspace{0.15cm} $ ② 스트라이드(Stride) : 필터가 입력 데이터 위에서 이동(생략)하는 간격 \n",
    "##### $ \\hspace{0.15cm} $ ③ 패딩(Padding) : 입력 데이터의 경계에 픽셀($ 0 $)을 추가해 합성곱 연산 후에도 공간적 크기를 유지 혹은 조절하는 기법"
   ]
  },
  {
   "cell_type": "markdown",
   "metadata": {},
   "source": [
    "#### **(3) 연산 종류** :\n",
    "##### $ \\hspace{0.15cm} $ ① $ 1\\text{D} \\, \\text{ convolution} \\; (1 \\, \\text{channel}) $\n",
    "##### $ \\hspace{0.45cm} \\Rightarrow{} y_{[i]} = \\sum{}^{k-1}_{u=0} w_{[u]} x_{[i\\cdot{}s+u]} $\n",
    "##### $ \\hspace{0.15cm} $ ② $ 2\\text{D} \\, \\text{ convolution} \\; (1 \\, \\text{channel}) $\n",
    "##### $ \\hspace{0.45cm} \\Rightarrow{} y_{[i,j]} = \\sum{}^{k-1}_{u=0} \\sum{}^{k-1}_{v=0} w_{[u,v]} x_{[i\\cdot{}s+u,j\\cdot{}s+v]} $\n",
    "##### $ \\hspace{0.15cm} $ ③ $ 2\\text{D} \\, \\text{ convolution} \\; (c_{\\text{out}} \\, \\text{channels}) $\n",
    "##### $ \\hspace{0.45cm} \\Rightarrow{} y_{[i,j,c_{\\text{out}}]} = \\sum{}^{c_{\\text{in}}-1}_{c=0} \\sum{}^{k-1}_{u=0} \\sum{}^{k-1}_{v=0} w_{[u,v,c,c_{\\text{out}}]} x_{[i\\cdot{}s+u,j\\cdot{}s+v,c]} $\n",
    "##### $ \\hspace{0.9cm} \\text{where } \\; k \\, \\text{ is filter length}, \\; s \\, \\text{ is stride}, \\; i,j \\, \\text{ are spatial output indices} $\n",
    "##### $ \\hspace{0.9cm} \\text{and } \\; u, v \\, \\text{ are filter indices}, \\; c \\, \\text{ are channel indices}. $"
   ]
  },
  {
   "cell_type": "markdown",
   "metadata": {},
   "source": [
    "##### **(`PLUS`) 연산 과정 시각화** : padding=$ 1 $, stride=$ 1 $\n",
    "<div style=\"display: flex; align-items: center;\">\n",
    "  <img src=\"../../img/03.1. Conv. Operations (1).gif\" style=\"width:25%; height:25%;\" alt=\"Conv. Operations\">\n",
    "</div>"
   ]
  },
  {
   "cell_type": "markdown",
   "metadata": {},
   "source": [
    "#### **(4) 출력 특징맵 크기** :\n",
    "#### $ \\Rightarrow{} n^{[l]}_{H} = \\lfloor{} \\frac{n^{[l-1]}_{H}-n^{[l]}_{F_{H}}+2P}{s} \\rfloor{} + 1, \\;\\; n^{[l]}_{W} = \\lfloor{} \\frac{n^{[l-1]}_{W}-n^{[l]}_{F_{W}}+2P}{s} \\rfloor{} + 1 $\n",
    "#### $ \\hspace{0.45cm} \\text{where } \\; P \\, \\text{ is padding size}. $"
   ]
  },
  {
   "cell_type": "markdown",
   "metadata": {},
   "source": [
    "#### **(5) 특징** :\n",
    "##### $ \\hspace{0.15cm} $ ① 필터 크기만큼의 연결만 존재하기에 지역적 패턴을 학습함 (local connectivity)\n",
    "##### $ \\hspace{0.15cm} $ ② 파라미터 공유를 통해 학습 효율 및 메모리 사용량 감소\n",
    "##### $ \\hspace{0.15cm} $ ③ 주로 홀수 크기의 필터를 사용함"
   ]
  },
  {
   "cell_type": "markdown",
   "metadata": {},
   "source": [
    "#### **(`WHY?`) 홀수 크기의 필터를 사용하는 이유** : \n",
    "#### $ \\hspace{0.15cm} $ 중심 픽셀이 존재해야지 주변의 정보를 대칭적으로 고려할 수 있고, 공간적인 특징 추출이 직관적이고 효과적임"
   ]
  },
  {
   "cell_type": "markdown",
   "metadata": {},
   "source": [
    "<b></b>"
   ]
  },
  {
   "cell_type": "markdown",
   "metadata": {},
   "source": [
    "> ## **수용장(Receptive Field)**"
   ]
  },
  {
   "cell_type": "markdown",
   "metadata": {},
   "source": [
    "#### **(1) 정의** : 출력 뉴런 하나가 계산될 때, 입력 이미지 중 어느 영역의 픽셀을 참고했는지를 나타내는 범위\n",
    "#### $ \\Rightarrow{} RF^{[l]} = 1 + \\sum{}^{l}_{m=1}(k^{[m]}-1) \\cdot{} \\prod{}^{m-1}_{j=1} s^{[j]} $"
   ]
  },
  {
   "cell_type": "markdown",
   "metadata": {},
   "source": [
    "<b></b>"
   ]
  },
  {
   "cell_type": "markdown",
   "metadata": {},
   "source": [
    "> ## **풀링 연산(Pooling Operation)**"
   ]
  },
  {
   "cell_type": "markdown",
   "metadata": {},
   "source": [
    "#### **(1) 정의** : 컨볼루션 층의 출력 특징 맵에서 국소 영역의 정보를 요약 및 강조하여 공간적 차원을 줄이는 기법"
   ]
  },
  {
   "cell_type": "markdown",
   "metadata": {},
   "source": [
    "##### **(`PLUS`)** 일반적으로 합성곱 및 활성화 연산 후 풀링 연산이 시행됨"
   ]
  },
  {
   "cell_type": "markdown",
   "metadata": {},
   "source": [
    "#### **(2) 종류** :\n",
    "##### $ \\hspace{0.15cm} $ ① 평균 풀링(Average Pooling) : 지역에서 특징의 평균 강도 요약\n",
    "##### $ \\hspace{0.45cm} \\Rightarrow{} [y](i) = \\frac{1}{k} \\displaystyle{} \\sum^{k-1}_{u=0} x_{i\\cdot{}s+u} $ \n",
    "##### $ \\hspace{0.15cm} $ ② 맥스 풀링(Max Pooling) : 지역에서 가장 강한 특징 강조\n",
    "##### $ \\hspace{0.45cm} \\Rightarrow{} [y](i) = \\displaystyle{} \\max_{0\\leq{}u\\leq{}k} x_{i\\cdot{}s+u} $ "
   ]
  },
  {
   "cell_type": "markdown",
   "metadata": {},
   "source": [
    "#### **(3) 특징** :\n",
    "##### $ \\hspace{0.15cm} $ ① 특성 맵의 크기를 줄여 계산량 및 메모리 사용 감소\n",
    "##### $ \\hspace{0.15cm} $ ② 작은 위치 변화에 대한 민감도를 낮춰 과적합 위험을 해소함"
   ]
  }
 ],
 "metadata": {
  "kernelspec": {
   "display_name": "Python 3",
   "language": "python",
   "name": "python3"
  },
  "language_info": {
   "codemirror_mode": {
    "name": "ipython",
    "version": 3
   },
   "file_extension": ".py",
   "mimetype": "text/x-python",
   "name": "python",
   "nbconvert_exporter": "python",
   "pygments_lexer": "ipython3",
   "version": "3.12.11"
  },
  "orig_nbformat": 4
 },
 "nbformat": 4,
 "nbformat_minor": 2
}
