{
 "cells": [
  {
   "attachments": {},
   "cell_type": "markdown",
   "metadata": {},
   "source": [
    "# CH03.1. **Notations**"
   ]
  },
  {
   "cell_type": "markdown",
   "metadata": {},
   "source": [
    "> ## **합성곱 네트워크 표기법(Notations for Convolution Networks)**"
   ]
  },
  {
   "cell_type": "markdown",
   "metadata": {},
   "source": [
    "#### **(1) 특징(Feature; `input`)** : \n",
    "##### $ \\hspace{0.15cm} $ ① $ \\, \\underset{1\\times{}1}{m} $ : 데이터 샘플 개수\n",
    "##### $ \\hspace{0.15cm} $ ② $ \\, n_{C}^{[0]} $ : 입력 데이터 채널(channel)\n",
    "##### $ \\hspace{0.15cm} $ ③ $ \\, n_{H}^{[0]} $ : 입력 데이터 높이(height)\n",
    "##### $ \\hspace{0.15cm} $ ④ $ \\, n_{W}^{[0]} $ : 입력 데이터 너비(width)\n",
    "##### $ \\hspace{0.15cm} $ ⑤ $ \\, \\underset{n_{H}^{[0]}\\times{}n_{W}^{[0]}}{X^{(i)}_{p}} = \\begin{bmatrix} x^{(i)}_{p,1,1} & x^{(i)}_{p,1,2} & \\cdots{} & x^{(i)}_{p,1,n_{W}^{[0]}} \\\\ x^{(i)}_{p,2,1} & x^{(i)}_{p,2,2} & \\cdots{} & x^{(i)}_{p,2, n_{W}^{[0]}} \\\\ \\vdots{} & \\vdots{} & \\ddots{} & \\vdots{} \\\\ x^{(i)}_{p,n_{H}^{[0]},1} & x^{(i)}_{p,n_{H}^{[0]},2} & \\cdots{} & x^{(i)}_{p,n_{H}^{[0]}, n_{W}^{[0]}} \\end{bmatrix} $ : $ \\, i $ 번 째 입력 데이터, $ \\, p $ 번째 채널의 입력 데이터\n",
    "##### $ \\hspace{0.15cm} $ ⑥ $ \\, \\underset{n_{C}^{[0]}\\times{}n_{H}^{[0]}\\times{}n_{W}^{[0]}}{X^{(i)}} = \\begin{bmatrix} X^{(i)}_{1}, \\\\ X^{(i)}_{2}, \\\\ \\vdots{} \\\\ X^{(i)}_{n_{C}^{[0]}} \\end{bmatrix} $ : $ \\, i $ 번 째 입력 데이터 텐서\n",
    "##### $ \\hspace{2.135cm} = \\begin{bmatrix} \\begin{bmatrix} x^{(i)}_{1,1,1} & x^{(i)}_{1,1,2} & \\cdots{} & x^{(i)}_{1,1,n_{W}^{[0]}} \\\\ x^{(i)}_{1,2,1} & x^{(i)}_{1,2,2} & \\cdots{} & x^{(i)}_{1,2, n_{W}^{[0]}} \\\\ \\vdots{} & \\vdots{} & \\ddots{} & \\vdots{} \\\\ x^{(i)}_{1,n_{H}^{[0]},1} & x^{(i)}_{1,n_{H}^{[0]},2} & \\cdots{} & x^{(i)}_{1,n_{H}^{[0]}, n_{W}^{[0]}} \\end{bmatrix}, \\\\ \\\\ \\begin{bmatrix} x^{(i)}_{2,1,1} & x^{(i)}_{2,1,2} & \\cdots{} & x^{(i)}_{2,1,n_{W}^{[0]}} \\\\ x^{(i)}_{2,2,1} & x^{(i)}_{2,2,2} & \\cdots{} & x^{(i)}_{2,2,n_{W}^{[0]}} \\\\ \\vdots{} & \\vdots{} & \\ddots{} & \\vdots{} \\\\ x^{(i)}_{2,n_{H}^{[0]},1} & x^{(i)}_{2,n_{H}^{[0]},2} & \\cdots{} & x^{(i)}_{2,n_{H}^{[0]},n_{W}^{[0]}} \\end{bmatrix}, \\\\ \\\\ \\vdots{} \\\\ \\\\ \\begin{bmatrix} x^{(i)}_{n_{C}^{[0]},1,1} & x^{(i)}_{n_{C}^{[0]},1,2} & \\cdots{} & x^{(i)}_{n_{C}^{[0]},1,n_{W}^{[0]}} \\\\ x^{(i)}_{n_{C}^{[0]},2,1} & x^{(i)}_{n_{C}^{[0]},2,2} & \\cdots{} & x^{(i)}_{n_{C}^{[0]},2, n_{W}^{[0]}} \\\\ \\vdots{} & \\vdots{} & \\ddots{} & \\vdots{} \\\\ x^{(i)}_{n_{C}^{[0]},n_{H}^{[0]},1} & x^{(i)}_{n_{C}^{[0]}n_{H}^{[0]},2} & \\cdots{} & x^{(i)}_{n_{C}^{[0]},n_{H}^{[0]}, n_{W}^{[0]}} \\end{bmatrix} \\end{bmatrix} $\n",
    "##### $ \\hspace{0.15cm} $ ⑦ $ \\, \\underset{n_{C}^{[0]}\\times{}n_{H}^{[0]}\\times{}n_{W}^{[0]}\\times{}m}{\\bf{X}} = \\begin{bmatrix} X^{(1)}&X^{(2)}&\\cdots{}&X^{(m)} \\end{bmatrix} $ : 전체 입력 데이터 텐서"
   ]
  },
  {
   "cell_type": "markdown",
   "metadata": {},
   "source": [
    "#### **(2) 네트워크(Network)** :\n",
    "##### $ \\hspace{0.15cm} $ ① $ \\, \\underset{1\\times{}1}{L} $ : 네트워크의 레이어 개수\n",
    "##### $ \\hspace{0.15cm} $ ② $ \\, n_{H}^{[l]} $ : $ \\, l $ 번 째 층 **출력** 데이터 높이\n",
    "##### $ \\hspace{0.15cm} $ ③ $ \\, n_{W}^{[l]} $ : $ \\, l $ 번 째 층 **출력** 입력 데이터 너비\n",
    "##### $ \\hspace{0.15cm} $ ④ $ \\, \\underset{1\\times{}1}{n_{F_{C}}^{[l]}} = n_{C}^{[l]} $ : $ \\, l $ 번 째 층 **출력** (필터) 채널\n",
    "##### $ \\hspace{0.15cm} $ ⑤ $ \\, \\underset{1\\times{}1}{n_{F_{H}}^{[l]}} $ : $ \\, l $ 번 째 층 필터 높이\n",
    "##### $ \\hspace{0.15cm} $ ⑥ $ \\, \\underset{1\\times{}1}{n_{F_{W}}^{[l]}} $ : $ \\, l $ 번 째 층 필터 너비\n",
    "##### $ \\hspace{0.15cm} $ ⑦ $ \\, \\underset{n_{F_{H}}^{[l]}\\times{}n_{F_{W}}^{[l]}}{F^{[l]}_{p,q}} = W^{[l]}_{p,q} \\, $ : $ \\, l $ 번 째 층, $ \\, p $ 번 째  출력 채널, $ \\, q $ 번 째 입력 채널의 컨볼루션 필터(filter) 행렬\n",
    "##### $ \\hspace{1.875cm} = \\begin{bmatrix} w^{[l]}_{p,q,1,1} & w^{[l]}_{p,q,1,2} & \\cdots{} & w^{[l]}_{p,q,1,n^{[l-1]}} \\\\ w^{[l]}_{p,q,2,1} & w^{[l]}_{p,q,2,2} & \\cdots{} & w^{[l]}_{p,q,2,n^{[l-1]}} \\\\ \\vdots{} & \\vdots{} & \\ddots{} & \\vdots{} \\\\ w^{[l]}_{p,q,n^{[l]}_{h},1} & w^{[l]}_{p,q,n^{[l]}_{h},2} & \\cdots{} & w^{[l]}_{p,q,n^{[l]}_{h},n^{[l-1]}} \\end{bmatrix} $\n",
    "##### $ \\hspace{0.15cm} \\text{where } \\, 1 \\leq{} p \\leq{} n_{F_{C}}^{[l]} \\; \\text{ and } \\; 1 \\leq{} q \\leq{} n_{C}^{[l-1]} $ \n",
    "##### $ \\hspace{0.15cm} $ ⑧ $ \\, \\underset{n_{F_{H}}^{[l]}\\times{}n_{F_{W}}^{[l]}\\times{}n_{{C}}^{[l-1]}}{F^{[l]}_{p}} = \\begin{bmatrix} F^{[l]}_{p,1}, & F^{[l]}_{p,2}, & \\cdots{} & F^{[l]}_{p,n_{C}^{[l-1]}} \\end{bmatrix} $ : $ \\, l $ 번 째 층, $ \\, p $ 번 째 출력 채널의 컨볼루션 필터 텐서 \n",
    "##### $ \\hspace{2.6cm} = \\begin{bmatrix} \\begin{bmatrix} F^{[l]}_{1,1} \\\\ F^{[l]}_{1,2} \\\\ \\vdots{} \\\\ F^{[l]}_{1,n_{{C}}^{[l-1]}} \\end{bmatrix}, & \\cdots{} & \\begin{bmatrix} F^{[l]}_{n_{F_{C}}^{[l]},1} \\\\ F^{[l]}_{n_{F_{C}}^{[l]},2} \\\\ \\vdots{} \\\\ F^{[l]}_{n_{F_{C}}^{[l]},n_{{C}}^{[l-1]}} \\end{bmatrix} \\end{bmatrix} $ \n",
    "##### $ \\hspace{0.15cm} $ ⑨ $ \\, \\underset{n_{{C}}^{[l-1]}\\times{}n_{F_{C}}^{[l]}\\times{}n_{F_{H}}^{[l]}\\times{}n_{F_{W}}^{[l]}}{\\bf{F}^{[l]}} = \\begin{bmatrix} F_{1}^{[l]}, \\\\ F_{2}^{[l]}, \\\\ \\vdots{} \\\\ F_{n_{F_{C}}^{[l]}}^{[l]} \\end{bmatrix} $ : $ \\, l $ 번 째 층의 컨볼루션 필터 텐서\n",
    "##### $ \\hspace{0.15cm} $ ⑩ $ \\, \\underset{n_{{H}}^{[l]}\\times{}n_{{W}}^{[l]}}{B^{[l]}_{p}} = \\begin{bmatrix} \\end{bmatrix} $ : $ \\, l $ 번 째 층, $ \\, p $ 번 째 출력 채널의 편향 텐서\n",
    "##### $ \\hspace{0.15cm} $ ⑪ $ \\, \\underset{n_{{C}}^{[l]}\\times{}n_{{H}}^{[l]}\\times{}n_{{W}}^{[l]}\\times{}m}{\\bf{B}^{[l]}} = \\begin{bmatrix} B^{[l]}_{1} \\\\ B^{[l]}_{2} \\\\ \\vdots{} \\\\ B^{[l]}_{n_{C}^{[l]}} \\end{bmatrix} $ : $ \\, l $ 번 째 층의 편향 텐서"
   ]
  },
  {
   "cell_type": "markdown",
   "metadata": {},
   "source": [
    "#### **(3) 순방향 전파(Foward propagation)** :\n",
    "##### $ \\hspace{0.15cm} $ ① $ \\, \\underset{1\\times{}1}{z^{[l](i)}_{k}} = \\displaystyle\\sum^{n^{[l-1]}}_{p=1} w^{[l]}_{k,p}a^{[l-1](i)}_{p} + b^{[l]}_{k} $ : $ \\, l $ 번 째 층, $ \\, i $ 번 째 데이터, $ \\, k $ 번 째 노드의 선형 변환 출력\n",
    "##### $ \\hspace{0.15cm} $ ② $ \\, \\underset{n_{h}^{[l]}\\times{}1}{\\textbf{z}^{[l](i)}} = W^{[l]}\\textbf{a}^{[l-1](i)} + \\textbf{b}^{[l]} $ : $ \\, l $ 번 째 층, $ \\, i $ 번 째 데이터의 선형 변환 출력 벡터\n",
    "##### $ \\hspace{1.4cm} = \\begin{bmatrix} z^{[l](i)}_{1} \\\\ z^{[l](i)}_{2} \\\\ \\vdots{} \\\\ z^{[l](i)}_{n^{[l]}_{h}} \\end{bmatrix} $\n",
    "##### $ \\hspace{0.15cm} $ ③ $ \\, \\underset{n_{h}^{[l]}\\times{}m}{Z^{[l]}} = W^{[l]}X + b^{[l]} $ : $ \\, l $ 번 째 층의 전체 데이터 선형 변환 출력 행렬\n",
    "##### $ \\hspace{1.375cm} = \\begin{bmatrix} \\textbf{z}^{[l](1)} & \\textbf{z}^{[l](2)} & \\cdots{} & \\textbf{z}^{[l](m)} \\end{bmatrix} $\n",
    "##### $ \\hspace{1.375cm} = \\begin{bmatrix} z^{[l](1)}_{1} & z^{[l](2)}_{1} & \\cdots{} & z^{[l](m)}_{1} \\\\ z^{[l](1)}_{2} & z^{[l](2)}_{2} & \\cdots{} & z^{[l](m)}_{2} \\\\ \\vdots{} & \\vdots{} & \\ddots{} & \\vdots{} \\\\ z^{[l](1)}_{n^{[l]}_{h}} & z^{[l](2)}_{n^{[l]}_{h}} & \\cdots{} & z^{[l](m)}_{n^{[l]}_{h}} \\end{bmatrix} $\n",
    "##### $ \\hspace{0.15cm} $ ④ $ \\, \\underset{}{a^{[l](i)}_{k}} = h^{[l]}(z^{[l](i)}_{k}) $ : $ \\, l $ 번 째 층, $ \\, i $ 번 째 데이터, $ \\, k $ 번 째 노드의 활성화 출력\n",
    "##### $ \\hspace{0.15cm} $ ⑤ $ \\, \\underset{n_{h}^{[l]}\\times{}1}{\\textbf{a}^{[l](i)}} = h^{[l]}(\\textbf{z}^{[l](i)})$ : $ \\, l $ 번 째 층, $ \\, i $ 번 째 데이터의 활성화 변환 출력 벡터\n",
    "##### $ \\hspace{1.4cm} = \\begin{bmatrix} a^{[l](i)}_{1} \\\\ a^{[l](i)}_{2} \\\\ \\vdots{} \\\\ a^{[l](i)}_{n^{[l]}_{h}} \\end{bmatrix} $\n",
    "##### $ \\hspace{0.15cm} $ ⑥ $ \\, \\underset{n_{h}^{[l]}\\times{}m}{A^{[l]}} = h^{[l]}(Z^{[l]})$ : $ \\, l $ 번 째 층의 전체 데이터 활성화 변환 출력 행렬\n",
    "##### $ \\hspace{1.375cm} = \\begin{bmatrix} \\textbf{a}^{[l](1)} & \\textbf{a}^{[l](2)} & \\cdots{} & \\textbf{a}^{[l](m)} \\end{bmatrix} $\n",
    "##### $ \\hspace{1.375cm} = \\begin{bmatrix} a^{[l](1)}_{1} & a^{[l](2)}_{1} & \\cdots{} & a^{[l](m)}_{1} \\\\ a^{[l](1)}_{2} & a^{[l](2)}_{2} & \\cdots{} & a^{[l](m)}_{2} \\\\ \\vdots{} & \\vdots{} & \\ddots{} & \\vdots{} \\\\ a^{[l](1)}_{n^{[l]}_{h}} & a^{[l](2)}_{n^{[l]}_{h}} & \\cdots{} & a^{[l](m)}_{n^{[l]}_{h}} \\end{bmatrix} $\n",
    "##### $ \\hspace{0.15cm} $ ⑦ $ \\, \\underset{n_{y}\\times{}m}{\\hat{\\textbf{y}}^{(i)}} = \\textbf{a}^{[L](i)} $ : $ \\, L $ 번 째 층, $ \\, i $ 번 째 데이터의 활성화 변환 출력(예측) 벡터\n",
    "##### $ \\hspace{0.15cm} $ ⑧ $ \\, \\underset{n_{y}\\times{}m}{\\hat{Y}} = A^{[L]} $ : $ \\, L $ 번 째 층의 전체 데이터 활성화 변환 출력"
   ]
  },
  {
   "cell_type": "markdown",
   "metadata": {},
   "source": [
    "#### **(4) 역방향 전파(Backward propagation)** :\n",
    "##### $ \\hspace{0.15cm} $ ① $ \\, \\underset{1\\times{}1}{\\ell{}(\\textbf{y}^{(i)},\\,\\hat{\\textbf{y}}^{(i)})} = \\ell{}^{(i)} $ : $ \\, i $ 번 째 데이터의 손실(loss)\n",
    "##### $ \\hspace{0.15cm} $ ② $ \\, \\underset{1\\times{}m}{L} = \\begin{bmatrix} \\ell{}^{(1)} & \\ell{}^{(2)} & \\cdots{} & \\ell{}^{(m)} \\end{bmatrix} $ : 전체 데이터의 손실\n",
    "##### $ \\hspace{0.15cm} $ ③ $ \\, \\displaystyle\\underset{1\\times{}1}{J} = J(W^{[1]},B^{[1]},\\cdots{}) = \\frac{1}{m} \\sum^{m}_{i=1} \\ell{}^{(i)} $ : 비용(cost)"
   ]
  }
 ],
 "metadata": {
  "kernelspec": {
   "display_name": "Python 3",
   "language": "python",
   "name": "python3"
  },
  "language_info": {
   "codemirror_mode": {
    "name": "ipython",
    "version": 3
   },
   "file_extension": ".py",
   "mimetype": "text/x-python",
   "name": "python",
   "nbconvert_exporter": "python",
   "pygments_lexer": "ipython3",
   "version": "3.8.12"
  },
  "orig_nbformat": 4
 },
 "nbformat": 4,
 "nbformat_minor": 2
}
