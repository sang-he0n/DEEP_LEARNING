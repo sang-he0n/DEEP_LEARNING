{
 "cells": [
  {
   "attachments": {},
   "cell_type": "markdown",
   "metadata": {},
   "source": [
    "# CH03.1. **Notations**"
   ]
  },
  {
   "cell_type": "markdown",
   "metadata": {},
   "source": [
    "> ## **Notations**"
   ]
  },
  {
   "cell_type": "markdown",
   "metadata": {},
   "source": [
    "#### **(1) 특징맵(Feature Map; `input`)** : \n",
    "##### $ \\hspace{0.15cm} $ ① $ \\, m $ : 데이터 샘플 개수\n",
    "##### $ \\hspace{0.15cm} $ ② $ \\, n_{C}^{[0]} $ : 입력 데이터 채널(channel)\n",
    "##### $ \\hspace{0.15cm} $ ③ $ \\, n_{H}^{[0]} $ : 입력 데이터 높이(height)\n",
    "##### $ \\hspace{0.15cm} $ ④ $ \\, n_{W}^{[0]} $ : 입력 데이터 너비(width)\n",
    "##### $ \\hspace{0.15cm} $ ⑤ $ \\, \\underset{n_{C}^{[0]}\\times{}n_{H}^{[0]}\\times{}n_{W}^{[0]}}{X^{(i)}} = A^{[0](i)} = \\begin{bmatrix} \\begin{bmatrix} x^{(i)}_{1,1,1} & x^{(i)}_{1,1,2} & \\cdots{} & x^{(i)}_{1,1,n_{W}^{[0]}} \\\\ x^{(i)}_{1,2,1} & x^{(i)}_{1,2,2} & \\cdots{} & x^{(i)}_{1,2, n_{W}^{[0]}} \\\\ \\vdots{} & \\vdots{} & \\ddots{} & \\vdots{} \\\\ x^{(i)}_{1,n_{H}^{[0]},1} & x^{(i)}_{1,n_{H}^{[0]},2} & \\cdots{} & x^{(i)}_{1,n_{H}^{[0]}, n_{W}^{[0]}} \\end{bmatrix} \\\\ \\\\ \\begin{bmatrix} x^{(i)}_{2,1,1} & x^{(i)}_{2,1,2} & \\cdots{} & x^{(i)}_{2,1,n_{W}^{[0]}} \\\\ x^{(i)}_{2,2,1} & x^{(i)}_{2,2,2} & \\cdots{} & x^{(i)}_{2,2,n_{W}^{[0]}} \\\\ \\vdots{} & \\vdots{} & \\ddots{} & \\vdots{} \\\\ x^{(i)}_{2,n_{H}^{[0]},1} & x^{(i)}_{2,n_{H}^{[0]},2} & \\cdots{} & x^{(i)}_{2,n_{H}^{[0]},n_{W}^{[0]}} \\end{bmatrix} \\\\ \\\\ \\vdots{} \\\\ \\\\ \\begin{bmatrix} x^{(i)}_{n_{C}^{[0]},1,1} & x^{(i)}_{n_{C}^{[0]},1,2} & \\cdots{} & x^{(i)}_{n_{C}^{[0]},1,n_{W}^{[0]}} \\\\ x^{(i)}_{n_{C}^{[0]},2,1} & x^{(i)}_{n_{C}^{[0]},2,2} & \\cdots{} & x^{(i)}_{n_{C}^{[0]},2, n_{W}^{[0]}} \\\\ \\vdots{} & \\vdots{} & \\ddots{} & \\vdots{} \\\\ x^{(i)}_{n_{C}^{[0]},n_{H}^{[0]},1} & x^{(i)}_{n_{C}^{[0]}n_{H}^{[0]},2} & \\cdots{} & x^{(i)}_{n_{C}^{[0]},n_{H}^{[0]}, n_{W}^{[0]}} \\end{bmatrix} \\end{bmatrix} $ : $ \\, i $ 번 째 입력 데이터\n",
    "##### $ \\hspace{0.15cm} $ ⑥ $ \\, \\underset{n_{C}^{[0]}\\times{}n_{H}^{[0]}\\times{}n_{W}^{[0]}\\times{}m}{X} = A^{[0]} = \\begin{bmatrix} \\begin{bmatrix} \\begin{bmatrix} x^{(i)}_{1,1,1} & x^{(i)}_{1,1,2} & \\cdots{} & x^{(i)}_{1,1,n_{W}^{[0]}} \\\\ x^{(i)}_{1,2,1} & x^{(i)}_{1,2,2} & \\cdots{} & x^{(i)}_{1,2, n_{W}^{[0]}} \\\\ \\vdots{} & \\vdots{} & \\ddots{} & \\vdots{} \\\\ x^{(i)}_{1,n_{H}^{[0]},1} & x^{(i)}_{1,n_{H}^{[0]},2} & \\cdots{} & x^{(i)}_{1,n_{H}^{[0]}, n_{W}^{[0]}} \\end{bmatrix} \\\\ \\\\ \\begin{bmatrix} x^{(i)}_{2,1,1} & x^{(i)}_{2,1,2} & \\cdots{} & x^{(i)}_{2,1,n_{W}^{[0]}} \\\\ x^{(i)}_{2,2,1} & x^{(i)}_{2,2,2} & \\cdots{} & x^{(i)}_{2,2,n_{W}^{[0]}} \\\\ \\vdots{} & \\vdots{} & \\ddots{} & \\vdots{} \\\\ x^{(i)}_{2,n_{H}^{[0]},1} & x^{(i)}_{2,n_{H}^{[0]},2} & \\cdots{} & x^{(i)}_{2,n_{H}^{[0]},n_{W}^{[0]}} \\end{bmatrix} \\\\ \\\\ \\vdots{} \\\\ \\\\ \\begin{bmatrix} x^{(i)}_{n_{C}^{[0]},1,1} & x^{(i)}_{n_{C}^{[0]},1,2} & \\cdots{} & x^{(i)}_{n_{C}^{[0]},1,n_{W}^{[0]}} \\\\ x^{(i)}_{n_{C}^{[0]},2,1} & x^{(i)}_{n_{C}^{[0]},2,2} & \\cdots{} & x^{(i)}_{n_{C}^{[0]},2, n_{W}^{[0]}} \\\\ \\vdots{} & \\vdots{} & \\ddots{} & \\vdots{} \\\\ x^{(i)}_{n_{C}^{[0]},n_{H}^{[0]},1} & x^{(i)}_{n_{C}^{[0]}n_{H}^{[0]},2} & \\cdots{} & x^{(i)}_{n_{C}^{[0]},n_{H}^{[0]}, n_{W}^{[0]}} \\end{bmatrix} \\end{bmatrix} & \\cdots{} & \\begin{bmatrix} \\begin{bmatrix} x^{(m)}_{1,1,1} & x^{(m)}_{1,1,2} & \\cdots{} & x^{(m)}_{1,1,n_{W}^{[0]}} \\\\ x^{(m)}_{1,2,1} & x^{(m)}_{1,2,2} & \\cdots{} & x^{(m)}_{1,2, n_{W}^{[0]}} \\\\ \\vdots{} & \\vdots{} & \\ddots{} & \\vdots{} \\\\ x^{(m)}_{1,n_{H}^{[0]},1} & x^{(m)}_{1,n_{H}^{[0]},2} & \\cdots{} & x^{(m)}_{1,n_{H}^{[0]}, n_{W}^{[0]}} \\end{bmatrix} \\\\ \\\\ \\begin{bmatrix} x^{(m)}_{2,1,1} & x^{(m)}_{2,1,2} & \\cdots{} & x^{(m)}_{2,1,n_{W}^{[0]}} \\\\ x^{(m)}_{2,2,1} & x^{(m)}_{2,2,2} & \\cdots{} & x^{(m)}_{2,2,n_{W}^{[0]}} \\\\ \\vdots{} & \\vdots{} & \\ddots{} & \\vdots{} \\\\ x^{(m)}_{2,n_{H}^{[0]},1} & x^{(m)}_{2,n_{H}^{[0]},2} & \\cdots{} & x^{(m)}_{2,n_{H}^{[0]},n_{W}^{[0]}} \\end{bmatrix} \\\\ \\\\ \\vdots{} \\\\ \\\\ \\begin{bmatrix} x^{(m)}_{n_{C}^{[0]},1,1} & x^{(m)}_{n_{C}^{[0]},1,2} & \\cdots{} & x^{(m)}_{n_{C}^{[0]},1,n_{W}^{[0]}} \\\\ x^{(m)}_{n_{C}^{[0]},2,1} & x^{(m)}_{n_{C}^{[0]},2,2} & \\cdots{} & x^{(m)}_{n_{C}^{[0]},2, n_{W}^{[0]}} \\\\ \\vdots{} & \\vdots{} & \\ddots{} & \\vdots{} \\\\ x^{(m)}_{n_{C}^{[0]},n_{H}^{[0]},1} & x^{(m)}_{n_{C}^{[0]}n_{H}^{[0]},2} & \\cdots{} & x^{(m)}_{n_{C}^{[0]},n_{H}^{[0]}, n_{W}^{[0]}} \\end{bmatrix} \\end{bmatrix} \\end{bmatrix} $ : 전체 입력 데이터\n",
    "##### $ \\hspace{2.575cm} = \\begin{bmatrix} X^{(1)}&X^{(2)}&\\cdots{}&X^{(m)} \\end{bmatrix} $ "
   ]
  },
  {
   "cell_type": "markdown",
   "metadata": {},
   "source": [
    "#### **(2) 네트워크(Network)** :\n",
    "##### $ \\hspace{0.15cm} $ ① $ \\, L $ : 네트워크의 레이어 개수\n",
    "##### $ \\hspace{0.15cm} $ ② $ \\, n_{F_{C}}^{[l]} $ : $ \\, l $ 번 째 층 필터 채널\n",
    "##### $ \\hspace{0.15cm} $ ③ $ \\, n_{F_{H}}^{[l]} $ : $ \\, l $ 번 째 층 필터 높이\n",
    "##### $ \\hspace{0.15cm} $ ④ $ \\, n_{F_{W}}^{[l]} $ : $ \\, l $ 번 째 층 필터 너비\n",
    "##### $ \\hspace{0.15cm} $ ⑤ $ \\, \\underset{n_{{C}}^{[l-1]}\\times{}n_{F_{C}}^{[l]}\\times{}n_{F_{H}}^{[l]}\\times{}n_{F_{W}}^{[l]}}{W^{[l]}} = F^{[l]} $ : $ \\, l $ 번 째 층, 컨볼루션 필터(filter)\n",
    "##### $ \\hspace{0.15cm} $ ⑥ $ \\, \\underset{\\_}{B^{[l]}} $ : $ \\, l $ 번 째 층의 편향"
   ]
  }
 ],
 "metadata": {
  "kernelspec": {
   "display_name": "Python 3",
   "language": "python",
   "name": "python3"
  },
  "language_info": {
   "codemirror_mode": {
    "name": "ipython",
    "version": 3
   },
   "file_extension": ".py",
   "mimetype": "text/x-python",
   "name": "python",
   "nbconvert_exporter": "python",
   "pygments_lexer": "ipython3",
   "version": "3.8.18"
  },
  "orig_nbformat": 4
 },
 "nbformat": 4,
 "nbformat_minor": 2
}
