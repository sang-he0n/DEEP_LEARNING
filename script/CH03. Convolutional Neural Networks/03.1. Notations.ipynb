{
 "cells": [
  {
   "attachments": {},
   "cell_type": "markdown",
   "metadata": {},
   "source": [
    "# CH03.1. **Notations**"
   ]
  },
  {
   "cell_type": "markdown",
   "metadata": {},
   "source": [
    "> ## **Notations**"
   ]
  },
  {
   "cell_type": "markdown",
   "metadata": {},
   "source": [
    "#### **(1) 특징맵(Feature Map; `input`)** : \n",
    "##### $ \\hspace{0.15cm} $ ① $ \\, m $ : 데이터 샘플 개수\n",
    "##### $ \\hspace{0.15cm} $ ② $ \\, n_{C}^{[0]} $ : 입력 데이터 채널(channel)\n",
    "##### $ \\hspace{0.15cm} $ ③ $ \\, n_{H}^{[0]} $ : 입력 데이터 높이(height)\n",
    "##### $ \\hspace{0.15cm} $ ④ $ \\, n_{W}^{[0]} $ : 입력 데이터 너비(width)\n",
    "##### $ \\hspace{0.15cm} $ ⑤ $ \\, \\underset{n_{C}^{[0]}\\times{}n_{H}^{[0]}\\times{}n_{W}^{[0]}}{X^{(i)}} = A^{[0](i)} = \\begin{bmatrix} \\begin{bmatrix} x^{(i)}_{1,1,1} & x^{(i)}_{1,1,2} & \\cdots{} & x^{(i)}_{1,1,n_{W}^{[0]}} \\\\ x^{(i)}_{1,2,1} & x^{(i)}_{1,2,2} & \\cdots{} & x^{(i)}_{1,2, n_{W}^{[0]}} \\\\ \\vdots{} & \\vdots{} & \\ddots{} & \\vdots{} \\\\ x^{(i)}_{1,n_{H}^{[0]},1} & x^{(i)}_{1,n_{H}^{[0]},2} & \\cdots{} & x^{(i)}_{1,n_{H}^{[0]}, n_{W}^{[0]}} \\end{bmatrix} \\\\ \\\\ \\begin{bmatrix} x^{(i)}_{2,1,1} & x^{(i)}_{2,1,2} & \\cdots{} & x^{(i)}_{2,1,n_{W}^{[0]}} \\\\ x^{(i)}_{2,2,1} & x^{(i)}_{2,2,2} & \\cdots{} & x^{(i)}_{2,2,n_{W}^{[0]}} \\\\ \\vdots{} & \\vdots{} & \\ddots{} & \\vdots{} \\\\ x^{(i)}_{2,n_{H}^{[0]},1} & x^{(i)}_{2,n_{H}^{[0]},2} & \\cdots{} & x^{(i)}_{2,n_{H}^{[0]},n_{W}^{[0]}} \\end{bmatrix} \\\\ \\\\ \\vdots{} \\\\ \\\\ \\begin{bmatrix} x^{(i)}_{n_{C}^{[0]},1,1} & x^{(i)}_{n_{C}^{[0]},1,2} & \\cdots{} & x^{(i)}_{n_{C}^{[0]},1,n_{W}^{[0]}} \\\\ x^{(i)}_{n_{C}^{[0]},2,1} & x^{(i)}_{n_{C}^{[0]},2,2} & \\cdots{} & x^{(i)}_{n_{C}^{[0]},2, n_{W}^{[0]}} \\\\ \\vdots{} & \\vdots{} & \\ddots{} & \\vdots{} \\\\ x^{(i)}_{n_{C}^{[0]},n_{H}^{[0]},1} & x^{(i)}_{n_{C}^{[0]}n_{H}^{[0]},2} & \\cdots{} & x^{(i)}_{n_{C}^{[0]},n_{H}^{[0]}, n_{W}^{[0]}} \\end{bmatrix} \\end{bmatrix} $ : $ \\, i $ 번 째 입력 데이터"
   ]
  },
  {
   "cell_type": "markdown",
   "metadata": {},
   "source": [
    "##### **(`PLUS`)** 실제 $ X^{(i)} $ 의 차원은 $ \\, n_{C}^{[0]}\\times{}1\\times{}n_{H}^{[0]}\\times{}n_{W}^{[0]} $ 이나 편의상 생략"
   ]
  },
  {
   "cell_type": "markdown",
   "metadata": {},
   "source": [
    "##### $ \\hspace{0.15cm} $ ⑥ $ \\, \\underset{n_{C}^{[0]}\\times{}n_{H}^{[0]}\\times{}n_{W}^{[0]}\\times{}m}{X} = A^{[0]} = \\begin{bmatrix} \\begin{bmatrix} \\begin{bmatrix} x^{(i)}_{1,1,1} & x^{(i)}_{1,1,2} & \\cdots{} & x^{(i)}_{1,1,n_{W}^{[0]}} \\\\ x^{(i)}_{1,2,1} & x^{(i)}_{1,2,2} & \\cdots{} & x^{(i)}_{1,2, n_{W}^{[0]}} \\\\ \\vdots{} & \\vdots{} & \\ddots{} & \\vdots{} \\\\ x^{(i)}_{1,n_{H}^{[0]},1} & x^{(i)}_{1,n_{H}^{[0]},2} & \\cdots{} & x^{(i)}_{1,n_{H}^{[0]}, n_{W}^{[0]}} \\end{bmatrix} \\\\ \\\\ \\begin{bmatrix} x^{(i)}_{2,1,1} & x^{(i)}_{2,1,2} & \\cdots{} & x^{(i)}_{2,1,n_{W}^{[0]}} \\\\ x^{(i)}_{2,2,1} & x^{(i)}_{2,2,2} & \\cdots{} & x^{(i)}_{2,2,n_{W}^{[0]}} \\\\ \\vdots{} & \\vdots{} & \\ddots{} & \\vdots{} \\\\ x^{(i)}_{2,n_{H}^{[0]},1} & x^{(i)}_{2,n_{H}^{[0]},2} & \\cdots{} & x^{(i)}_{2,n_{H}^{[0]},n_{W}^{[0]}} \\end{bmatrix} \\\\ \\\\ \\vdots{} \\\\ \\\\ \\begin{bmatrix} x^{(i)}_{n_{C}^{[0]},1,1} & x^{(i)}_{n_{C}^{[0]},1,2} & \\cdots{} & x^{(i)}_{n_{C}^{[0]},1,n_{W}^{[0]}} \\\\ x^{(i)}_{n_{C}^{[0]},2,1} & x^{(i)}_{n_{C}^{[0]},2,2} & \\cdots{} & x^{(i)}_{n_{C}^{[0]},2, n_{W}^{[0]}} \\\\ \\vdots{} & \\vdots{} & \\ddots{} & \\vdots{} \\\\ x^{(i)}_{n_{C}^{[0]},n_{H}^{[0]},1} & x^{(i)}_{n_{C}^{[0]}n_{H}^{[0]},2} & \\cdots{} & x^{(i)}_{n_{C}^{[0]},n_{H}^{[0]}, n_{W}^{[0]}} \\end{bmatrix} \\end{bmatrix} & \\cdots{} & \\begin{bmatrix} \\begin{bmatrix} x^{(m)}_{1,1,1} & x^{(m)}_{1,1,2} & \\cdots{} & x^{(m)}_{1,1,n_{W}^{[0]}} \\\\ x^{(m)}_{1,2,1} & x^{(m)}_{1,2,2} & \\cdots{} & x^{(m)}_{1,2, n_{W}^{[0]}} \\\\ \\vdots{} & \\vdots{} & \\ddots{} & \\vdots{} \\\\ x^{(m)}_{1,n_{H}^{[0]},1} & x^{(m)}_{1,n_{H}^{[0]},2} & \\cdots{} & x^{(m)}_{1,n_{H}^{[0]}, n_{W}^{[0]}} \\end{bmatrix} \\\\ \\\\ \\begin{bmatrix} x^{(m)}_{2,1,1} & x^{(m)}_{2,1,2} & \\cdots{} & x^{(m)}_{2,1,n_{W}^{[0]}} \\\\ x^{(m)}_{2,2,1} & x^{(m)}_{2,2,2} & \\cdots{} & x^{(m)}_{2,2,n_{W}^{[0]}} \\\\ \\vdots{} & \\vdots{} & \\ddots{} & \\vdots{} \\\\ x^{(m)}_{2,n_{H}^{[0]},1} & x^{(m)}_{2,n_{H}^{[0]},2} & \\cdots{} & x^{(m)}_{2,n_{H}^{[0]},n_{W}^{[0]}} \\end{bmatrix} \\\\ \\\\ \\vdots{} \\\\ \\\\ \\begin{bmatrix} x^{(m)}_{n_{C}^{[0]},1,1} & x^{(m)}_{n_{C}^{[0]},1,2} & \\cdots{} & x^{(m)}_{n_{C}^{[0]},1,n_{W}^{[0]}} \\\\ x^{(m)}_{n_{C}^{[0]},2,1} & x^{(m)}_{n_{C}^{[0]},2,2} & \\cdots{} & x^{(m)}_{n_{C}^{[0]},2, n_{W}^{[0]}} \\\\ \\vdots{} & \\vdots{} & \\ddots{} & \\vdots{} \\\\ x^{(m)}_{n_{C}^{[0]},n_{H}^{[0]},1} & x^{(m)}_{n_{C}^{[0]}n_{H}^{[0]},2} & \\cdots{} & x^{(m)}_{n_{C}^{[0]},n_{H}^{[0]}, n_{W}^{[0]}} \\end{bmatrix} \\end{bmatrix} \\end{bmatrix} $ : 전체 입력 데이터\n",
    "##### $ \\hspace{2.575cm} = \\begin{bmatrix} X^{(1)}&X^{(2)}&\\cdots{}&X^{(m)} \\end{bmatrix} $ "
   ]
  },
  {
   "cell_type": "markdown",
   "metadata": {},
   "source": [
    "#### **(2) 네트워크(Network)** :\n",
    "##### $ \\hspace{0.15cm} $ ① $ \\, L $ : 네트워크의 레이어 개수\n",
    "##### $ \\hspace{0.15cm} $ ② $ \\, n_{F_{C}}^{[l]} $ : $ \\, l $ 번 째 층 필터 채널\n",
    "##### $ \\hspace{0.15cm} $ ③ $ \\, n_{F_{H}}^{[l]} $ : $ \\, l $ 번 째 층 필터 높이\n",
    "##### $ \\hspace{0.15cm} $ ④ $ \\, n_{F_{W}}^{[l]} $ : $ \\, l $ 번 째 층 필터 너비\n",
    "##### $ \\hspace{0.15cm} $ ⑤ $ \\, \\underset{n_{{C}}^{[l-1]}\\times{}n_{F_{C}}^{[l]}\\times{}n_{F_{H}}^{[l]}\\times{}n_{F_{W}}^{[l]}}{W^{[l]}} = F^{[l]} $ : $ \\, l $ 번 째 층, 컨볼루션 필터(filter)\n",
    "##### $ \\hspace{0.15cm} $ ⑥ $ \\, \\underset{\\_}{B^{[l]}} $ : $ \\, l $ 번 째 층의 편향"
   ]
  },
  {
   "cell_type": "markdown",
   "metadata": {},
   "source": [
    "##### **(`PLUS`)** 실제 컴퓨터 연산에서는 브로드캐스팅(broadcasting)을 이용하여 차원을 확장함\n",
    "##### $ \\hspace{0.15cm} \\Rightarrow{} B^{[l]} \\approx{} b^{[l]} $"
   ]
  },
  {
   "cell_type": "markdown",
   "metadata": {},
   "source": [
    "#### **(3) 순방향 전파(Feed-foward propagation)** :\n",
    "##### $ \\hspace{0.15cm} $ ① $ \\, \\underset{n_{h}^{[l]}\\times{}1}{\\textbf{z}^{[l](i)}} = F^{[l]}\\textbf{x}^{(i)} + \\textbf{b}^{[l](i)} $ : $ \\, l $ 번 째 층, $ \\, i $ 번 째 데이터의 선형 변환 출력\n",
    "##### $ \\hspace{0.15cm} $ ② $ \\, \\underset{n_{h}^{[l]}\\times{}m}{Z^{[l]}} = F^{[l]}X + b^{[l]} $ : $ \\, l $ 번 째 전체 데이터의 선형 변환 출력\n",
    "##### $ \\hspace{1.375cm} = \\begin{bmatrix} \\textbf{z}^{[l](1)}&\\textbf{z}^{[l](2)}&\\cdots{}&\\textbf{z}^{[l](m)}\\end{bmatrix} $\n",
    "##### $ \\hspace{0.15cm} $ ③ $ \\, \\underset{n_{h}^{[l]}\\times{}1}{\\textbf{a}^{[l](i)}} = h^{[l]}(\\textbf{z}^{[l](i)})$ : $ \\, l $ 번 째 층, $ \\, i $ 번 째 데이터의 활성화 변환 출력\n",
    "##### $ \\hspace{0.15cm} $ ④ $ \\, \\underset{n_{h}^{[l]}\\times{}m}{A^{[l]}} = h^{[l]}(Z^{[l]})$ : $ \\, l $ 번 째 층의 전체 데이터의 활성화 변환 출력\n",
    "##### $ \\hspace{0.15cm} $ ⑤ $ \\, \\underset{n_{y}\\times{}m}{\\hat{\\textbf{y}}^{(i)}} = \\textbf{a}^{[L](i)} $ : $ \\, L $ 번 째 층, $ \\, i $ 번 째 데이터의 활성화 변환 출력\n",
    "##### $ \\hspace{0.15cm} $ ⑥ $ \\, \\underset{n_{y}\\times{}m}{\\hat{Y}} = A^{[L]} $ : $ \\, L $ 번 째 층의 전체 데이터의 활성화 변환 출력(예측)"
   ]
  },
  {
   "cell_type": "markdown",
   "metadata": {},
   "source": [
    "#### **(4) 역방향 전파(Backward propagation)** :\n",
    "##### $ \\hspace{0.15cm} $ ① $ \\, \\underset{1\\times{}1}{\\ell{}^{(i)}} =  \\ell{}(\\textbf{y}^{(i)},\\,\\hat{\\textbf{y}}^{(i)}) $ : $ \\, i $ 번 째 손실(loss)\n",
    "##### $ \\hspace{0.15cm} $ ② $ \\, \\underset{1\\times{}m}{L} = \\begin{bmatrix} \\ell{}^{(1)} & \\ell{}^{(2)} & \\cdots{} & \\ell{}^{(m)} \\end{bmatrix} $ : 전체 데이터의 손실\n",
    "##### $ \\hspace{0.15cm} $ ③ $ \\, J = J(W^{[1]},B^{[1]},\\cdots{})=\\frac{1}{m} \\times{} \\displaystyle\\sum^{m}_{i=1} \\ell{}^{(i)} $ : 비용(cost)"
   ]
  }
 ],
 "metadata": {
  "kernelspec": {
   "display_name": "Python 3",
   "language": "python",
   "name": "python3"
  },
  "language_info": {
   "codemirror_mode": {
    "name": "ipython",
    "version": 3
   },
   "file_extension": ".py",
   "mimetype": "text/x-python",
   "name": "python",
   "nbconvert_exporter": "python",
   "pygments_lexer": "ipython3",
   "version": "3.8.18"
  },
  "orig_nbformat": 4
 },
 "nbformat": 4,
 "nbformat_minor": 2
}
