{
 "cells": [
  {
   "attachments": {},
   "cell_type": "markdown",
   "metadata": {},
   "source": [
    "# CH01.5. **Logistic Regression**"
   ]
  },
  {
   "cell_type": "markdown",
   "metadata": {},
   "source": [
    "> ## **로지스틱 회귀(Logistic Regression)**"
   ]
  },
  {
   "cell_type": "markdown",
   "metadata": {},
   "source": [
    "#### **(1) 정의** : 입력 특징에 대해 선형 결합 후 그 결과에 시그모이드 함수를 적용하여 $ \\, 0 $ 과 $ \\, 1 $ 사이의 확률 값을 출력하는 모델\n",
    "#### $ \\hspace{0.3cm} $ <img src=\"../../img/01.5. Logistic Regression (1).png\" width=\"35%\" height=\"35%\"></img>"
   ]
  },
  {
   "cell_type": "markdown",
   "metadata": {},
   "source": [
    "<b></b>"
   ]
  },
  {
   "cell_type": "markdown",
   "metadata": {},
   "source": [
    "> ## **순전파 및 비용 계산(Foward Propagatation and Cost Computation)**"
   ]
  },
  {
   "cell_type": "markdown",
   "metadata": {},
   "source": [
    "#### **(1) Feature**(`input`) : \n",
    "#### $ \\underset{n^{[0]}\\times{}m}{X} = \\begin{bmatrix} \\textbf{x}^{(1)} & \\textbf{x}^{(2)} & \\cdots{} & \\textbf{x}^{(m)}\\end{bmatrix} = \\begin{bmatrix} x^{(1)}_{1} & x^{(2)}_{1} & \\cdots{} & x^{(m)}_{1} \\\\ x^{(1)}_{2} & x^{(2)}_{2} & \\cdots{} & x^{(m)}_{2} \\\\ \\vdots{} & \\vdots{} & \\ddots{} & \\vdots{} \\\\ x^{(1)}_{n^{[0]}} & x^{(2)}_{n^{[0]}} & \\cdots{} & x^{(m)}_{n^{[0]}} \\end{bmatrix} $"
   ]
  },
  {
   "cell_type": "markdown",
   "metadata": {},
   "source": [
    "#### **(2) Target**(`input`) : binary classification\n",
    "#### $ \\underset{1\\times{}m}{Y} = \\begin{bmatrix} y^{(1)}&y^{(2)}&\\cdots{}&y^{(m)} \\end{bmatrix} \\;\\; \\text{ where } \\, y^{(i)} \\in{} \\{ 0, 1 \\} $"
   ]
  },
  {
   "cell_type": "markdown",
   "metadata": {},
   "source": [
    "#### **(3) Weight**(`parameter`) : $ n^{[1]} = 1 $\n",
    "#### $ \\underset{1\\times{}n^{[0]}}{W^{[1]}} = \\textbf{w}^{[1]}_{1} = \\begin{bmatrix} w^{[1]}_{1,1} & w^{[1]}_{1,2} & \\cdots{} & w^{[1]}_{1,n^{[0]}} \\end{bmatrix} $"
   ]
  },
  {
   "cell_type": "markdown",
   "metadata": {},
   "source": [
    "#### **(4) Bias**(`parameter`) :\n",
    "#### $ \\underset{1\\times{}m}{B^{[1]}} = \\begin{bmatrix} b^{[1]}_{1} & b^{[1]}_{1} & \\cdots{} & b^{[1]}_{1} \\end{bmatrix} $"
   ]
  },
  {
   "cell_type": "markdown",
   "metadata": {},
   "source": [
    "#### **(5) Linear transformation** :\n",
    "#### $ \\underset{1\\times{}m}{Z^{[1]}} = W^{[1]} \\cdot{} X + B^{[1]} $ \n",
    "#### $ \\hspace{0.65cm} = \\begin{bmatrix} w^{[1]}_{1,1} & w^{[1]}_{1,2} & \\cdots{} & w^{[1]}_{1,n^{[0]}} \\end{bmatrix} \\cdot{} \\begin{bmatrix} x^{(1)}_{1} & x^{(2)}_{1} & \\cdots{} & x^{(m)}_{1} \\\\ x^{(1)}_{2} & x^{(2)}_{2} & \\cdots{} & x^{(m)}_{2} \\\\ \\vdots{} & \\vdots{} & \\ddots{} & \\vdots{} \\\\ x^{(1)}_{n^{[0]}} & x^{(2)}_{n^{[0]}} & \\cdots{} & x^{(m)}_{n^{[0]}} \\end{bmatrix} + \\begin{bmatrix} b^{[1]}_{1} & b^{[1]}_{1} & \\cdots{} & b^{[1]}_{1} \\end{bmatrix} $\n",
    "#### $ \\hspace{0.65cm} = \\begin{bmatrix} \\sum^{n^{[0]}}_{q=1} w^{[1]}_{1,q} x^{(1)}_{q}+b^{[1]}_{1} & \\sum^{n^{[0]}}_{q=1} w^{[1]}_{1,q} x^{(2)}_{q}+b^{[1]}_{1} & \\cdots{} & \\sum^{n^{[0]}}_{q=1} w^{[1]}_{1,q} x^{(m)}_{q}+b^{[1]}_{1} \\end{bmatrix} $\n",
    "#### $ \\hspace{0.65cm} = \\begin{bmatrix} z^{[1](1)}_{1} & z^{[1](2)}_{1} & \\cdots{} & z^{[1](m)}_{1} \\end{bmatrix} $ "
   ]
  },
  {
   "cell_type": "markdown",
   "metadata": {},
   "source": [
    "#### **(6) Estimated Target(`output`)** : sigmoid\n",
    "#### $ \\underset{1\\times{}m}{\\hat{Y}} = A^{[1]} = \\sigma{}(Z^{[1]}) \\;\\; \\text{ where } \\, h^{[1]} : x \\mapsto{} \\sigma{}(x) = \\frac{1}{1+e^{-x}} $ \n",
    "#### $ \\hspace{0.65cm} = \\begin{bmatrix} \\sigma{}(z^{[1](1)}_{1}) & \\sigma{}(z^{[1](2)}_{1}) & \\cdots{} & \\sigma{}(z^{[1](m)}_{1}) \\end{bmatrix} $\n",
    "#### $ \\hspace{0.65cm} = \\begin{bmatrix} \\frac{1}{1+e^{-z^{[1](1)}_{1}}} & \\frac{1}{1+e^{-z^{[1](2)}_{1}}} & \\cdots{} & \\frac{1}{1+e^{-z^{[1](m)}_{1}}} \\end{bmatrix} $\n",
    "#### $ \\hspace{0.65cm} = \\begin{bmatrix} \\hat{y}^{(1)} & \\hat{y}^{(2)} & \\cdots{} & \\hat{y}^{(m)} \\end{bmatrix} $"
   ]
  },
  {
   "cell_type": "markdown",
   "metadata": {},
   "source": [
    "#### **(7) Loss Function** : cross-entropy\n",
    "#### $ \\underset{1\\times{m}}{L} = \\ell{}(\\hat{Y},\\, Y) $ \n",
    "#### $ \\hspace{0.65cm} = \\begin{bmatrix} \\ell{}(\\hat{y}^{(1)},\\, y^{(1)}) & \\ell{}(\\hat{y}^{(2)},\\, y^{(2)}) & \\cdots{} & \\ell{}(\\hat{y}^{(m)},\\, y^{(m)}) \\end{bmatrix} $\n",
    "#### $ \\hspace{0.65cm} = \\begin{bmatrix} -(y^{(1)}\\log{}(\\hat{y}^{(1)})+(1-y^{(1)})\\log{}(1-\\hat{y}^{(1)})) & \\cdots{} & -(y^{(m)}\\log{}(\\hat{y}^{(m)})+(1-y^{(m)})\\log{}(1-\\hat{y}^{(m)}))\\end{bmatrix} $"
   ]
  },
  {
   "cell_type": "markdown",
   "metadata": {},
   "source": [
    "#### **(8) Cost Function** : \n",
    "#### $ \\underset{1\\times{}1}{J} = J(W^{[1]},\\, B^{[1]}) =\\frac{1}{m} \\sum^{m}_{i=1} \\ell(\\hat{y}^{(i)},\\, y^{(i)}) = \\frac{1}{m} L \\cdot{} \\underset{m\\times{}1}{\\textbf{1}} $"
   ]
  },
  {
   "cell_type": "markdown",
   "metadata": {},
   "source": [
    "<b></b>"
   ]
  },
  {
   "cell_type": "markdown",
   "metadata": {},
   "source": [
    "> ## **역전파(Back Propagation)**"
   ]
  },
  {
   "cell_type": "markdown",
   "metadata": {},
   "source": [
    "#### **(1)** $ \\frac{\\partial{}J}{\\partial{}\\hat{Y}} $ : \n",
    "#### $\\underset{1\\times{}m}{\\frac{\\partial{}J}{\\partial{}\\hat{Y}}} = \\begin{bmatrix} \\frac{\\partial{}J}{\\partial{}\\hat{y}^{(1)}} & \\frac{\\partial{}J}{\\partial{}\\hat{y}^{(2)}} & \\cdots{} & \\frac{\\partial{}J}{{\\partial{}\\hat{y}^{(m)}}} \\end{bmatrix} $ \n",
    "#### $ \\hspace{0.65cm} = \\begin{bmatrix} \\frac{\\partial{}}{\\partial{}\\hat{y}^{(1)}}\\frac{1}{m}\\sum^{m}_{i=1} \\ell(\\hat{y}^{(i)},\\, y^{(i)}) & \\frac{\\partial{}}{\\partial{}\\hat{y}^{(2)}}\\frac{1}{m} \\sum^{m}_{i=1} \\ell(\\hat{y}^{(i)},\\, y^{(i)}) & \\cdots{} & \\frac{\\partial{}}{{\\partial{}\\hat{y}^{(m)}}}\\frac{1}{m} \\sum^{m}_{i=1} \\ell(\\hat{y}^{(i)},\\, y^{(i)}) \\end{bmatrix} $\n",
    "##### $ \\hspace{0.7cm} = \\frac{1}{m} \\begin{bmatrix} - \\frac{\\partial{}}{\\partial{}\\hat{y}^{(1)}}(y^{(1)}\\log{}(\\hat{y}^{(1)})+(1-y^{(1)})\\log{}(1-\\hat{y}^{(1)})) & \\cdots{} & -\\frac{\\partial{}}{\\partial{}\\hat{y}^{(m)}}(y^{(m)}\\log{}(\\hat{y}^{(m)})+(1-y^{(m)})\\log{}(1-\\hat{y}^{(m)}))\\end{bmatrix} $\n",
    "#### $ \\hspace{0.65cm} = \\frac{1}{m} \\begin{bmatrix} (-\\frac{y^{(1)}}{\\hat{y}^{(1)}}+\\frac{1-y^{(1)}}{1-\\hat{y}^{(1)}}) & (-\\frac{y^{(2)}}{\\hat{y}^{(2)}}+\\frac{1-y^{(2)}}{1-\\hat{y}^{(2)}}) & \\cdots{} & (-\\frac{y^{(m)}}{\\hat{y}^{(m)}}+\\frac{1-y^{(m)}}{1-\\hat{y}^{(m)}}) \\end{bmatrix} $ "
   ]
  },
  {
   "cell_type": "markdown",
   "metadata": {},
   "source": [
    "#### **(2)** $ \\frac{\\partial{}J}{\\partial{}Z^{[1]}} $ :\n",
    "#### $\\underset{1\\times{}m}{\\frac{\\partial{}J}{\\partial{}Z^{[1]}}} = \\frac{\\partial{}J}{\\partial{}\\hat{Y}} \\cdot{} \\frac{\\partial{}\\hat{Y}}{\\partial{}Z^{[1]}} $ \n",
    "#### $ \\hspace{0.925cm} = \\frac{1}{m}\\begin{bmatrix} (-\\frac{y^{(1)}}{\\hat{y}^{(1)}}+\\frac{1-y^{(1)}}{1-\\hat{y}^{(1)}}) & \\cdots{} & (-\\frac{y^{(m)}}{\\hat{y}^{(m)}}+\\frac{1-y^{(m)}}{1-\\hat{y}^{(m)}}) \\end{bmatrix} \\cdot{} \\begin{bmatrix} \\frac{\\partial{}\\hat{y}^{(1)}}{\\partial{}Z^{[1]}} \\\\ \\frac{\\partial{}\\hat{y}^{(2)}}{\\partial{}Z^{[1]}} \\\\ \\vdots{} \\\\ \\frac{\\partial{}\\hat{y}^{(m)}}{\\partial{}Z^{[1]}} \\end{bmatrix} $\n",
    "#### $ \\hspace{0.925cm} = \\frac{1}{m}\\begin{bmatrix} (-\\frac{y^{(1)}}{\\hat{y}^{(1)}}+\\frac{1-y^{(1)}}{1-\\hat{y}^{(1)}}) & \\cdots{} & (-\\frac{y^{(m)}}{\\hat{y}^{(m)}}+\\frac{1-y^{(m)}}{1-\\hat{y}^{(m)}}) \\end{bmatrix} \\cdot{} \\begin{bmatrix} \\frac{\\partial{}\\hat{y}^{(1)}}{\\partial{}z^{[1](1)}_{1}} & \\frac{\\partial{}\\hat{y}^{(1)}}{\\partial{}z^{[1](2)}_{1}} & \\cdots{} & \\frac{\\partial{}\\hat{y}^{(1)}}{\\partial{}z^{[1](m)}_{1}} \\\\ \\frac{\\partial{}\\hat{y}^{(2)}}{\\partial{}z^{[1](1)}_{1}} & \\frac{\\partial{}\\hat{y}^{(2)}}{\\partial{}z^{[1](2)}_{1}} & \\cdots{} & \\frac{\\partial{}\\hat{y}^{(2)}}{\\partial{}z^{[1](m)}_{1}} \\\\ \\vdots{} & \\vdots{} & \\ddots{} & \\vdots{} \\\\ \\frac{\\partial{}\\hat{y}^{(m)}}{\\partial{}z^{[1](1)}_{1}} & \\frac{\\partial{}\\hat{y}^{(m)}}{\\partial{}z^{[1](2)}_{1}} & \\cdots{} & \\frac{\\partial{}\\hat{y}^{(m)}}{\\partial{}z^{[1](m)}_{1}} \\end{bmatrix} $\n",
    "#### $ \\hspace{0.925cm} = \\frac{1}{m}\\begin{bmatrix} (-\\frac{y^{(1)}}{\\hat{y}^{(1)}}+\\frac{1-y^{(1)}}{1-\\hat{y}^{(1)}}) & \\cdots{} & (-\\frac{y^{(m)}}{\\hat{y}^{(m)}}+\\frac{1-y^{(m)}}{1-\\hat{y}^{(m)}}) \\end{bmatrix} \\cdot{} \\begin{bmatrix} \\hat{y}^{(1)} (1-\\hat{y}^{(1)}) & 0 & \\cdots{} & 0 \\\\ 0 & \\hat{y}^{(2)} (1-\\hat{y}^{(2)}) & \\cdots{} & 0 \\\\ \\vdots{} & \\vdots{} & \\ddots{} & \\vdots{} \\\\ 0 & 0 & \\cdots{} & \\hat{y}^{(m)} (1-\\hat{y}^{(m)}) \\end{bmatrix} $\n",
    "#### $ \\hspace{0.925cm} = \\frac{1}{m}\\begin{bmatrix} (-\\frac{y^{(1)}}{\\hat{y}^{(1)}}+\\frac{1-y^{(1)}}{1-\\hat{y}^{(1)}}) \\hat{y}^{(1)} (1-\\hat{y}^{(1)}) & \\cdots{} & (-\\frac{y^{(m)}}{\\hat{y}^{(m)}}+\\frac{1-y^{(m)}}{1-\\hat{y}^{(m)}}) \\hat{y}^{(m)} (1-\\hat{y}^{(m)}) \\end{bmatrix} $\n",
    "#### $ \\hspace{0.925cm} = \\frac{1}{m}\\begin{bmatrix} \\hat{y}^{(1)}-y^{(1)} & \\cdots{} & \\hat{y}^{(m)}-y^{(m)} \\end{bmatrix} $\n",
    "#### $ \\hspace{0.925cm} = \\frac{1}{m}(\\hat{Y} - Y) $"
   ]
  },
  {
   "cell_type": "markdown",
   "metadata": {},
   "source": [
    "#### **(3)** $ \\frac{\\partial{}J}{\\partial{}W^{[1]}} $ :\n",
    "#### $\\underset{1\\times{}n^{[0]}}{\\frac{\\partial{}J}{\\partial{}W^{[1]}}} = \\frac{\\partial{}J}{\\partial{}\\hat{Y}} \\cdot{} \\frac{\\partial{}\\hat{Y}}{\\partial{}Z^{[1]}} \\cdot{} \\frac{\\partial{}Z^{[1]}}{\\partial{}W^{[1]}} =\\frac{\\partial{}J}{\\partial{}Z^{[1]}} \\cdot{} \\frac{\\partial{}Z^{[1]}}{\\partial{}W^{[1]}} $\n",
    "#### $ \\hspace{1.05cm} = \\frac{1}{m} \\begin{bmatrix} \\hat{y}^{(1)}-y^{(1)} & \\cdots{} & \\hat{y}^{(m)}-y^{(m)} \\end{bmatrix} \\cdot{} \\begin{bmatrix} \\frac{\\partial{}z^{[1](1)}}{\\partial{}W^{[1]}} \\\\ \\frac{\\partial{}z^{[1](2)}}{\\partial{}W^{[1]}} \\\\ \\vdots{} \\\\ \\frac{\\partial{}z^{[1](m)}}{\\partial{}W^{[1]}} \\end{bmatrix} $\n",
    "#### $ \\hspace{1.05cm} = \\frac{1}{m} \\begin{bmatrix} \\hat{y}^{(1)}-y^{(1)} & \\cdots{} & \\hat{y}^{(m)}-y^{(m)} \\end{bmatrix} \\cdot{} \\begin{bmatrix} \\frac{\\partial{}z^{[1](1)}}{\\partial{}w^{[1]}_{1,1}} & \\frac{\\partial{}z^{[1](1)}}{\\partial{}w^{[1]}_{1,2}} & \\cdots{} & \\frac{\\partial{}z^{[1](1)}}{\\partial{}w^{[1]}_{1,n^{[0]}}} \\\\ \\frac{\\partial{}z^{[1](2)}}{\\partial{}w^{[1]}_{1,1}} & \\frac{\\partial{}z^{[1](2)}}{\\partial{}w^{[1]}_{1,2}} & \\cdots{} & \\frac{\\partial{}z^{[1](2)}}{\\partial{}w^{[1]}_{n^{[0]}}} \\\\ \\vdots{} & \\vdots{} & \\ddots{} & \\vdots{} \\\\ \\frac{\\partial{}z^{[1](m)}}{\\partial{}w^{[1]}_{1,1}} & \\frac{\\partial{}z^{[1](m)}}{\\partial{}w^{[1]}_{1,2}} & \\cdots{} & \\frac{\\partial{}z^{[1](m)}}{\\partial{}w^{[1]}_{1,n^{[0]}}} \\end{bmatrix} $\n",
    "#### $ \\hspace{1.05cm} = \\frac{1}{m} \\begin{bmatrix} \\hat{y}^{(1)}-y^{(1)} & \\cdots{} & \\hat{y}^{(m)}-y^{(m)} \\end{bmatrix} \\cdot{} \\begin{bmatrix} x^{(1)}_{1} & x^{(1)}_{2} & \\cdots{} & x^{(1)}_{n^{[0]}} \\\\ x^{(2)}_{1} & x^{(2)}_{2} & \\cdots{} & x^{(2)}_{n^{[0]}} \\\\ \\vdots{} & \\vdots{} & \\ddots{} & \\vdots{} \\\\ x^{(m)}_{1} & x^{(m)}_{2} & \\cdots{} & x^{(m)}_{n^{[0]}} \\end{bmatrix} $\n",
    "#### $ \\hspace{1.05cm} = \\frac{1}{m} \\begin{bmatrix} \\sum^{m}_{i=1}(\\hat{y}^{(i)}-y^{(i)}) x^{(i)}_{1} & \\cdots{} & \\sum^{m}_{i=1}(\\hat{y}^{(i)}-y^{(i)}) x^{(i)}_{n^{[0]}} \\end{bmatrix} $\n",
    "#### $ \\hspace{1.05cm} = \\frac{1}{m} (\\hat{Y} - Y) \\cdot{} {X}^{T} $"
   ]
  },
  {
   "cell_type": "markdown",
   "metadata": {},
   "source": [
    "#### **(4) $ \\frac{\\partial{}J}{\\partial{}B^{[1]}} $** :\n",
    "#### $\\underset{1\\times{}m}{\\frac{\\partial{}J}{\\partial{}B^{[1]}}} = \\frac{\\partial{}J}{\\partial{}\\hat{Y}} \\cdot{} \\frac{\\partial{}\\hat{Y}}{\\partial{}Z^{[1]}} \\cdot{} \\frac{\\partial{}Z^{[1]}}{\\partial{}B^{[1]}} = \\frac{\\partial{}J}{\\partial{}Z^{[1]}} \\cdot{} \\frac{\\partial{}Z^{[1]}}{\\partial{}B^{[1]}} $\n",
    "#### $ \\hspace{0.925cm} = \\frac{1}{m} \\begin{bmatrix} \\hat{y}^{(1)}-y^{(1)} & \\cdots{} & \\hat{y}^{(m)}-y^{(m)} \\end{bmatrix} \\cdot{} \\begin{bmatrix} \\frac{\\partial{}z^{[1](1)}_{1}}{\\partial{}B^{[1]}} \\\\ \\frac{\\partial{}z^{[1](2)}_{1}}{\\partial{}B^{[1]}} \\\\ \\vdots{} \\\\ \\frac{\\partial{}z^{[1](m)}_{1}}{\\partial{}B^{[1]}} \\end{bmatrix} $\n",
    "#### $ \\hspace{0.925cm} = \\frac{1}{m} \\begin{bmatrix} \\hat{y}^{(1)}-y^{(1)} & \\cdots{} & \\hat{y}^{(m)}-y^{(m)} \\end{bmatrix} \\cdot{} \\begin{bmatrix} \\frac{\\partial{}z^{[1](1)}_{1}}{\\partial{}b^{[1]}_{1}} & \\frac{\\partial{}z^{[1](1)}_{1}}{\\partial{}b^{[1]}_{1}} & \\cdots{} & \\frac{\\partial{}z^{[1](1)}_{1}}{\\partial{}b^{[1]}_{1}} \\\\ \\frac{\\partial{}z^{[1](2)}_{1}}{\\partial{}b^{[1]}_{1}} & \\frac{\\partial{}z^{[1](2)}_{1}}{\\partial{}b^{[1]}_{1}} & \\cdots{} & \\frac{\\partial{}z^{[1](2)}_{1}}{\\partial{}b^{[1]}_{1}} \\\\ \\vdots{} & \\vdots{} & \\ddots{} & \\vdots{} \\\\ \\frac{\\partial{}z^{[1](m)}_{1}}{\\partial{}b^{[1]}_{1}} & \\frac{\\partial{}z^{[1](m)}_{1}}{\\partial{}b^{[1]}_{1}} & \\cdots{} & \\frac{\\partial{}z^{[1](m)}_{1}}{\\partial{}b^{[1]}_{1}} \\end{bmatrix} $\n",
    "#### $ \\hspace{0.925cm} = \\frac{1}{m} \\begin{bmatrix} \\hat{y}^{(1)}-y^{(1)} & \\cdots{} & \\hat{y}^{(m)}-y^{(m)} \\end{bmatrix} \\cdot{} \\begin{bmatrix} 1 & 1 & \\cdots{} & 1 \\\\ \\vdots{} & \\vdots{} & \\ddots{} & \\vdots{} \\\\ 1 & 1 & \\cdots{} & 1 \\end{bmatrix} $\n",
    "#### $ \\hspace{0.925cm} = \\frac{1}{m} \\begin{bmatrix} \\sum{}^{m}_{i=1}(\\hat{y}^{(i)}-y^{(i)}) & \\cdots{} & \\sum{}^{m}_{i=1}(\\hat{y}^{(i)}-y^{(i)}) \\end{bmatrix} $\n",
    "#### $ \\hspace{0.925cm} = \\frac{1}{m} (\\hat{Y}-Y) \\cdot{} \\underset{m\\times{}m}{1} $"
   ]
  },
  {
   "cell_type": "markdown",
   "metadata": {},
   "source": [
    "<b></b>"
   ]
  },
  {
   "cell_type": "markdown",
   "metadata": {},
   "source": [
    "> ## **최적화(Optimization)**"
   ]
  },
  {
   "cell_type": "markdown",
   "metadata": {},
   "source": [
    "#### **(1) Update $ \\, W^{[1]} $** :\n",
    "#### $ W^{[1]} := W^{[1]} - \\alpha{} \\times{} \\frac{\\partial{}J}{\\partial{}W^{[1]}} $"
   ]
  },
  {
   "cell_type": "markdown",
   "metadata": {},
   "source": [
    "#### **(2) Update $ \\, B^{[1]} $** :\n",
    "#### $ B^{[1]} := B^{[1]} - \\alpha{} \\times{} \\frac{\\partial{}J}{\\partial{}B^{[1]}} $"
   ]
  }
 ],
 "metadata": {
  "kernelspec": {
   "display_name": "Python 3",
   "language": "python",
   "name": "python3"
  },
  "language_info": {
   "codemirror_mode": {
    "name": "ipython",
    "version": 3
   },
   "file_extension": ".py",
   "mimetype": "text/x-python",
   "name": "python",
   "nbconvert_exporter": "python",
   "pygments_lexer": "ipython3",
   "version": "3.8.18"
  },
  "orig_nbformat": 4
 },
 "nbformat": 4,
 "nbformat_minor": 2
}
