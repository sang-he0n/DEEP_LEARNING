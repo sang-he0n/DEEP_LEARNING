{
 "cells": [
  {
   "attachments": {},
   "cell_type": "markdown",
   "metadata": {},
   "source": [
    "# CH01.6. **Shallow Neural Networks**"
   ]
  },
  {
   "cell_type": "markdown",
   "metadata": {},
   "source": [
    "> ## **Shallow Neural Networks**"
   ]
  },
  {
   "cell_type": "markdown",
   "metadata": {},
   "source": [
    "#### **(1) 정의** : **[CONTENTS]**\n",
    "#### $ \\Rightarrow{} $ **[LATEX]**\n",
    "#### $ \\hspace{0.3cm} $ <img src=\"../../img/01.6. Shallow Neural Networks (1).png\" width=\"50%\" height=\"50%\"></img>"
   ]
  },
  {
   "cell_type": "markdown",
   "metadata": {},
   "source": [
    "<b></b>"
   ]
  },
  {
   "cell_type": "markdown",
   "metadata": {},
   "source": [
    "> ## **Foward Propagatation**"
   ]
  },
  {
   "cell_type": "markdown",
   "metadata": {},
   "source": [
    "#### **(1) Feature**(`input`) : \n",
    "#### $ \\underset{n^{[0]}\\times{}m}{X} = A^{[0]} = \\begin{bmatrix} x^{(1)}_{1} & x^{(2)}_{1} & \\cdots{} & x^{(m)}_{1} \\\\ x^{(1)}_{2} & x^{(2)}_{2} & \\cdots{} & x^{(m)}_{2} \\\\ \\vdots{} & \\vdots{} & \\ddots{} & \\vdots{} \\\\ x^{(1)}_{n^{[0]}} & x^{(2)}_{n^{[0]}} & \\cdots{} & x^{(m)}_{n^{[0]}} \\end{bmatrix} = \\begin{bmatrix} \\textbf{x}^{(1)}&\\textbf{x}^{(2)}&\\cdots{}&\\textbf{x}^{(m)}\\end{bmatrix} $"
   ]
  },
  {
   "cell_type": "markdown",
   "metadata": {},
   "source": [
    "#### **(2) Target**(`input`) : binary classification\n",
    "#### $ \\underset{1\\times{}m}{\\textbf{y}} = \\begin{bmatrix} y^{(1)}&y^{(2)}&\\cdots{}&y^{(m)} \\end{bmatrix} \\;\\; \\text{ where } \\, y^{(i)} \\in{} \\{ 0, 1 \\} $"
   ]
  },
  {
   "cell_type": "markdown",
   "metadata": {},
   "source": [
    "#### **(3) Weight of $ \\, 1 $-st Hidden Layer**(`parameter`) :\n",
    "#### $ \\underset{n^{[1]}\\times{}n^{[0]}}{W^{[1]}} = \\begin{bmatrix} w_{1,1}^{[1]} & w_{1,2}^{[1]} & \\cdots{} & w_{1,n^{[0]}}^{[1]} \\\\ w_{2,1}^{[1]} & w_{2,2}^{[1]} & \\cdots{} & w_{2,n^{[0]}}^{[1]} \\\\ \\vdots{} & \\vdots{} & \\ddots{} & \\vdots{} \\\\ w^{[1]}_{n^{[1]},1} & w_{n^{[1]},2}^{[1]} & \\cdots{} & w_{n^{[1]},n^{[0]}}^{[1]} \\end{bmatrix} = \\begin{bmatrix} (\\textbf{w}^{[1]}_{1})^{T} \\\\ (\\textbf{w}^{[1]}_{2})^{T} \\\\ \\vdots{} \\\\ (\\textbf{w}^{[1]}_{k})^{T} \\end{bmatrix} $"
   ]
  },
  {
   "cell_type": "markdown",
   "metadata": {},
   "source": [
    "#### **(4) Bias of $ \\, 1 $-st Hidden Layer**(`parameter`) : \n",
    "#### $ \\underset{n^{[1]}\\times{}m}{B^{[1]}} = \\begin{bmatrix} b^{[1]} & b^{[1]} & \\cdots{} & b^{[1]} \\\\ b^{[1]} & b^{[1]} & \\cdots{} & b^{[1]} \\\\ \\vdots{} & \\vdots{} & \\ddots{} & \\vdots{} \\\\ b^{[1]} & b^{[1]} & \\cdots{} & b^{[1]} \\end{bmatrix} $"
   ]
  },
  {
   "cell_type": "markdown",
   "metadata": {},
   "source": [
    "#### **(5) Linear transformation of $ \\, 1 $-st Hidden Layer** :\n",
    "#### $ \\underset{n^{[1]}\\times{}m}{Z^{[1]}} = W^{[1]} \\cdot{} X + B^{[1]} $\n",
    "#### $ \\hspace{0.8cm} = \\begin{bmatrix} (\\textbf{w}^{[1]}_{1})^{T} \\cdot{} \\textbf{x}^{(1)} & (\\textbf{w}^{[1]}_{1})^{T} \\cdot{} \\textbf{x}^{(2)} & \\cdots{} & (\\textbf{w}^{[1]}_{1})^{T} \\cdot{} \\textbf{x}^{(m)} \\\\ (\\textbf{w}^{[1]}_{2})^{T} \\cdot{} \\textbf{x}^{(1)} & (\\textbf{w}^{[1]}_{2})^{T} \\cdot{} \\textbf{x}^{(2)} & \\cdots{} & (\\textbf{w}^{[1]}_{2})^{T} \\cdot{} \\textbf{x}^{(m)} \\\\ \\vdots{} & \\vdots{} & \\ddots{} & \\vdots{} \\\\ (\\textbf{w}^{[1]}_{n^{[1]}})^{T} \\cdot{} \\textbf{x}^{(1)} & (\\textbf{w}^{[1]}_{n^{[1]}})^{T} \\cdot{} \\textbf{x}^{(2)} & \\cdots{} & (\\textbf{w}^{[1]}_{n^{[1]}})^{T} \\cdot{} \\textbf{x}^{(m)} \\end{bmatrix} + \\begin{bmatrix} b^{[1]} & b^{[1]} & \\cdots{} & b^{[1]} \\\\ b^{[1]} & b^{[1]} & \\cdots{} & b^{[1]} \\\\ \\vdots{} & \\vdots{} & \\ddots{} & \\vdots{} \\\\ b^{[1]} & b^{[1]} & \\cdots{} & b^{[1]} \\end{bmatrix} $\n",
    "#### $ \\hspace{0.8cm} = \\begin{bmatrix} w_{1,1}^{[1]} & w_{1,2}^{[1]} & \\cdots{} & w_{1,n^{[0]}}^{[1]} \\\\ w_{2,1}^{[1]} & w_{2,2}^{[1]} & \\cdots{} & w_{2,n^{[0]}}^{[1]} \\\\ \\vdots{} & \\vdots{} & \\ddots{} & \\vdots{} \\\\ w^{[1]}_{n^{[1]},1} & w_{n^{[1]},2}^{[1]} & \\cdots{} & w_{n^{[1]},n^{[0]}}^{[1]} \\end{bmatrix} \\cdot{} \\begin{bmatrix} x^{(1)}_{1} & x^{(2)}_{1} & \\cdots{} & x^{(m)}_{1} \\\\ x^{(1)}_{2} & x^{(2)}_{2} & \\cdots{} & x^{(m)}_{2} \\\\ \\vdots{} & \\vdots{} & \\ddots{} & \\vdots{} \\\\ x^{(1)}_{n^{[0]}} & x^{(2)}_{n^{[0]}} & \\cdots{} & x^{(m)}_{n^{[0]}} \\end{bmatrix} + \\begin{bmatrix} b^{[1]} & b^{[1]} & \\cdots{} & b^{[1]} \\\\ b^{[1]} & b^{[1]} & \\cdots{} & b^{[1]} \\\\ \\vdots{} & \\vdots{} & \\ddots{} & \\vdots{} \\\\ b^{[1]} & b^{[1]} & \\cdots{} & b^{[1]} \\end{bmatrix} $\n",
    "#### $ \\hspace{0.8cm} = \\begin{bmatrix} \\sum{}^{n^{[0]}}_{i=1}w^{[1]}_{1,i} \\cdot{} x^{(1)}_{i} + b^{[1]} & \\sum{}^{n^{[0]}}_{i=1}w^{[1]}_{1,i} \\cdot{} x^{(2)}_{i} + b^{[1]} & \\cdots{} & \\sum{}^{n^{[0]}}_{i=1}w^{[1]}_{1,i} \\cdot{} x^{(m)}_{i} + b^{[1]} \\\\ \\sum{}^{n^{[0]}}_{i=1}w^{[1]}_{2,i} \\cdot{} x^{(1)}_{i} + b^{[1]} & \\sum{}^{n^{[0]}}_{i=1}w^{[1]}_{2,i} \\cdot{} x^{(2)}_{i} + b^{[1]} & \\cdots{} & \\sum{}^{n^{[0]}}_{i=1}w^{[1]}_{2,i} \\cdot{} x^{(m)}_{i} + b^{[1]} \\\\ \\vdots{} & \\vdots{} & \\ddots{} & \\vdots{} \\\\ \\sum{}^{n^{[0]}}_{i=1}w^{[1]}_{n^{[1]},i} \\cdot{} x^{(1)}_{i} + b^{[1]} & \\sum{}^{n^{[0]}}_{i=1}w^{[1]}_{n^{[1]},i} \\cdot{} x^{(2)}_{i} + b^{[1]} & \\cdots{} & \\sum{}^{n^{[0]}}_{i=1}w^{[1]}_{n^{[1]},i} \\cdot{} x^{(m)}_{i} + b^{[1]} \\end{bmatrix} $ \n",
    "#### $ \\hspace{0.8cm} = \\begin{bmatrix} z^{[1](1)}_{1} & z^{[1](2)}_{1} & \\cdots{} & z^{[1](m)}_{1} \\\\ z^{[1](1)}_{2} & z^{[1](2)}_{2} & \\cdots{} & z^{[1](m)}_{2}  \\\\ \\vdots{} & \\vdots{} & \\ddots{} & \\vdots{} \\\\ z^{[1](1)}_{n^{[1]}} & z^{[1](2)}_{n^{[1]}} & \\cdots{} & z^{[1](m)}_{n^{[1]}} \\end{bmatrix} = \\begin{bmatrix} \\textbf{z}^{[1](1)} & \\textbf{z}^{[1](2)} & \\cdots{} & \\textbf{z}^{[1](m)} \\end{bmatrix} $"
   ]
  },
  {
   "cell_type": "markdown",
   "metadata": {},
   "source": [
    "#### **(6) Activate Function of $ \\, 1 $-st Hidden Layer** :\n",
    "#### $ \\underset{n^{[1]}\\times{}m}{A^{[1]}} = h^{[1]}(Z^{[1]}) $\n",
    "#### $ \\hspace{0.65cm} = \\begin{bmatrix} h^{[1]}(\\textbf{z}^{[1](1)}) & h^{[1]}(\\textbf{z}^{[1](2)}) & \\cdots{} & h^{[1]}(\\textbf{z}^{[1](m)}) \\end{bmatrix} $ \n",
    "#### $ \\hspace{0.65cm} = \\begin{bmatrix} h^{[1]}(z^{[1](1)}_{1}) & h^{[1]}(z^{[1](2)}_{1}) & \\cdots{} & h^{[1]}(z^{[1](m)}_{1}) \\\\ h^{[1]}(z^{[1](1)}_{2}) & h^{[1]}(z^{[1](2)}_{2}) & \\cdots{} & h^{[1]}(z^{[1](m)}_{2}) \\\\ \\vdots{} & \\vdots{} & \\ddots{} & \\vdots{} \\\\ h^{[1]}(z^{[1](1)}_{n^{[1]}}) & h^{[1]}(z^{[1](2)}_{n^{[1]}}) & \\cdots{} & h^{[1]}(z^{[1](m)}_{n^{[1]}}) \\end{bmatrix} $\n",
    "#### $ \\hspace{0.65cm} = \\begin{bmatrix} a^{[1](1)}_{1} & a^{[1](2)}_{1} & \\cdots{} & a^{[1](m)}_{1} \\\\ a^{[1](1)}_{2} & a^{[1](2)}_{2} & \\cdots{} & a^{[1](m)}_{2} \\\\ \\vdots{} & \\vdots{} & \\ddots{} & \\vdots{} \\\\ a^{[1](1)}_{n^{[1]}} & a^{[1](2)}_{n^{[1]}} & \\cdots{} & a^{[1](m)}_{n^{[1]}} \\end{bmatrix} = \\begin{bmatrix} \\textbf{a}^{[1](1)} & \\textbf{a}^{[1](2)} & \\cdots{} & \\textbf{a}^{[1](m)} \\end{bmatrix} $"
   ]
  },
  {
   "cell_type": "markdown",
   "metadata": {},
   "source": [
    "#### **(7) Weight of Output Layer**(`parameter`) : $ n^{[2]} = 1$\n",
    "#### $ \\underset{n^{[2]}\\times{}n^{[1]}}{W^{[2]}} = \\begin{bmatrix} w_{1}^{[2]} & w_{2}^{[2]} & \\cdots{} & w_{n^{[1]}}^{[2]} \\end{bmatrix} $"
   ]
  },
  {
   "cell_type": "markdown",
   "metadata": {},
   "source": [
    "#### **(8) Bias of Output Layer**(`parameter`) : \n",
    "#### $ \\underset{1\\times{}m}{B^{[2]}} = \\begin{bmatrix} b^{[2]} & b^{[2]} & \\cdots{} & b^{[2]} \\end{bmatrix} $"
   ]
  },
  {
   "cell_type": "markdown",
   "metadata": {},
   "source": [
    "#### **(9) Linear Transformation of Output Layer** :\n",
    "#### $ \\underset{n^{[2]}\\times{}m}{Z^{[2]}} = W^{[2]} \\cdot{} A^{[1]} + B^{[2]} $\n",
    "#### $ \\hspace{0.645cm} = \\begin{bmatrix} w_{1}^{[2]} & w_{2}^{[2]} & \\cdots{} & w_{n^{[1]}}^{[2]} \\end{bmatrix} \\cdot{} \\begin{bmatrix} a^{[1](1)}_{1} & a^{[1](2)}_{1} & \\cdots{} & a^{[1](m)}_{1} \\\\ a^{[1](1)}_{2} & a^{[1](2)}_{2} & \\cdots{} & a^{[1](m)}_{2} \\\\ \\vdots{} & \\vdots{} & \\ddots{} & \\vdots{} \\\\ a^{[1](1)}_{n^{[1]}} & a^{[1](2)}_{n^{[1]}} & \\cdots{} & a^{[1](m)}_{n^{[1]}} \\end{bmatrix} + \\begin{bmatrix} b^{[2]} & b^{[2]} & \\cdots{} & b^{[2]} \\end{bmatrix} $\n",
    "#### $ \\hspace{0.645cm} = \\begin{bmatrix} \\sum^{n^{[1]}}_{i=1}w^{[2]}_{i} \\cdot{} a^{[1](1)}_{i} + b^{[2]} & \\sum^{n^{[1]}}_{i=1}w^{[2]}_{i} \\cdot{} a^{[1](2)}_{i} + b^{[2]} & \\cdots{} & \\sum^{n^{[1]}}_{i=1}w^{[2]}_{i} \\cdot{} a^{[1](m)}_{i} + b^{[2]} \\end{bmatrix} $\n",
    "#### $ \\hspace{0.645cm} = \\begin{bmatrix} z^{[2](1)} & z^{[2](2)} & \\cdots{} & z^{[2](m)} \\end{bmatrix} $"
   ]
  },
  {
   "cell_type": "markdown",
   "metadata": {},
   "source": [
    "#### **(10) Estimate Target**(`output`) : sigmoid\n",
    "#### $ \\underset{1\\times{}m}{\\hat{Y}} = A^{[2]} = \\sigma{}(\\textbf{z}^{[2]}) $\n",
    "#### $ \\hspace{0.65cm} = \\begin{bmatrix} \\sigma{}(z^{[2](1)}) & \\sigma{}(z^{[2](2)}) & \\cdots{} & \\sigma{}(z^{[2](m)}) \\end{bmatrix} $\n",
    "#### $ \\hspace{0.65cm} = \\begin{bmatrix} \\frac{1}{1+e^{-z^{[2](1)}}} & \\frac{1}{1+e^{-z^{[2](2)}}} & \\cdots{} & \\frac{1}{1+e^{-z^{[2](m)}}} \\end{bmatrix} $\n",
    "#### $ \\hspace{0.65cm} = \\begin{bmatrix} \\hat{y}^{(1)} & \\hat{y}^{(2)} & \\cdots{} & \\hat{y}^{(m)} \\end{bmatrix} $"
   ]
  },
  {
   "cell_type": "markdown",
   "metadata": {},
   "source": [
    "#### **(11) Loss Function** : log-loss\n",
    "#### $ \\underset{1\\times{m}}{L} = \\ell{}(\\hat{Y},\\, Y) \\;\\; $ \n",
    "#### $ \\hspace{0.65cm} = \\begin{bmatrix} \\ell{}(\\hat{y}^{(1)},\\, y^{(1)}) & \\ell{}(\\hat{y}^{(2)},\\, y^{(2)}) & \\cdots{} & \\ell{}(\\hat{y}^{(m)},\\, y^{(m)}) \\end{bmatrix} $\n",
    "#### $ \\hspace{0.65cm} = \\begin{bmatrix} -(y^{(1)}\\log{}(\\hat{y}^{(1)})+(1-y^{(1)})\\log{}(1-\\hat{y}^{(1)})) & \\cdots{} & -(y^{(m)}\\log{}(\\hat{y}^{(m)})+(1-y^{(m)})\\log{}(1-\\hat{y}^{(m)}))\\end{bmatrix} $\n",
    "#### $ \\hspace{0.65cm} = \\begin{bmatrix} \\ell{}^{(1)} & \\ell{}^{(2)} & \\cdots{} & \\ell{}^{(m)} \\end{bmatrix} $"
   ]
  },
  {
   "cell_type": "markdown",
   "metadata": {},
   "source": [
    "#### **(12) Cost Function** : \n",
    "#### $ \\underset{1\\times{}1}{J} = J(W^{[1]},\\, B^{[1]},\\, W^{[2]},\\, B^{[2]}) = \\frac{1}{m} \\cdot{} \\displaystyle\\sum^{m}_{i=1} \\ell(\\hat{y}^{(i)},\\, y^{(i)}) = \\frac{1}{m} \\cdot{} L \\cdot{} \\underset{m\\times{}1}{\\textbf{1}} $"
   ]
  },
  {
   "cell_type": "markdown",
   "metadata": {},
   "source": [
    "<b></b>"
   ]
  },
  {
   "cell_type": "markdown",
   "metadata": {},
   "source": [
    "> ## **Back Propagation**"
   ]
  },
  {
   "cell_type": "markdown",
   "metadata": {},
   "source": [
    "#### **(1) $ \\frac{\\partial{}J}{\\partial{}\\hat{Y}} $** : \n",
    "#### $ \\underset{1\\times{}m}{\\frac{\\partial{}J}{\\partial{}\\hat{Y}}} = \\begin{bmatrix} \\frac{\\partial{}J}{\\partial{}\\hat{y}^{(1)}} & \\frac{\\partial{}J}{\\partial{}\\hat{y}^{(2)}} & \\cdots{} & \\frac{\\partial{}J}{{\\partial{}\\hat{y}^{(m)}}} \\end{bmatrix} $\n",
    "#### $ \\hspace{0.625cm} = \\begin{bmatrix} (-\\frac{y^{(1)}}{\\hat{y}^{(1)}}+\\frac{1-y^{(1)}}{1-\\hat{y}^{(1)}}) & (-\\frac{y^{(2)}}{\\hat{y}^{(2)}}+\\frac{1-y^{(2)}}{1-\\hat{y}^{(2)}}) & \\cdots{} & (-\\frac{y^{(m)}}{\\hat{y}^{(m)}}+\\frac{1-y^{(m)}}{1-\\hat{y}^{(m)}}) \\end{bmatrix} $ "
   ]
  },
  {
   "cell_type": "markdown",
   "metadata": {},
   "source": [
    "#### **(2) $ \\frac{\\partial{}J}{\\partial{}Z^{[2]}} $** :\n",
    "#### $ \\underset{1\\times{}m}{\\frac{\\partial{}J}{\\partial{}Z^{[2]}}} = \\frac{\\partial{}J}{\\partial{}\\hat{Y}} \\cdot{} \\frac{\\partial{}\\hat{Y}}{\\partial{}Z^{[2]}} $ \n",
    "#### $ \\hspace{0.67cm} = \\begin{bmatrix} (-\\frac{y^{(1)}}{\\hat{y}^{(1)}}+\\frac{1-y^{(1)}}{1-\\hat{y}^{(1)}}) & \\cdots{} & (-\\frac{y^{(m)}}{\\hat{y}^{(m)}}+\\frac{1-y^{(m)}}{1-\\hat{y}^{(m)}}) \\end{bmatrix} \\cdot{} \\begin{bmatrix} \\frac{\\partial{}\\hat{y}^{(1)}}{\\partial{}Z^{[2]}} \\\\ \\frac{\\partial{}\\hat{y}^{(2)}}{\\partial{}Z^{[2]}} \\\\ \\vdots{} \\\\ \\frac{\\partial{}\\hat{y}^{(m)}}{\\partial{}Z^{[2]}} \\end{bmatrix} $\n",
    "#### $ \\hspace{0.67cm} = \\begin{bmatrix} (-\\frac{y^{(1)}}{\\hat{y}^{(1)}}+\\frac{1-y^{(1)}}{1-\\hat{y}^{(1)}}) & \\cdots{} & (-\\frac{y^{(m)}}{\\hat{y}^{(m)}}+\\frac{1-y^{(m)}}{1-\\hat{y}^{(m)}}) \\end{bmatrix} \\cdot{} \\begin{bmatrix} \\frac{\\partial{}\\hat{y}^{(1)}}{\\partial{}z^{[2](1)}} & \\frac{\\partial{}\\hat{y}^{(1)}}{\\partial{}z^{[2](2)}} & \\cdots{} & \\frac{\\partial{}\\hat{y}^{(1)}}{\\partial{}z^{[2](m)}} \\\\ \\frac{\\partial{}\\hat{y}^{(2)}}{\\partial{}z^{[2](1)}} & \\frac{\\partial{}\\hat{y}^{(2)}}{\\partial{}z^{[2](2)}} & \\cdots{} & \\frac{\\partial{}\\hat{y}^{(2)}}{\\partial{}z^{[2](m)}} \\\\ \\vdots{} & \\vdots{} & \\ddots{} & \\vdots{} \\\\ \\frac{\\partial{}\\hat{y}^{(m)}}{\\partial{}z^{[2](1)}} & \\frac{\\partial{}\\hat{y}^{(m)}}{\\partial{}z^{[2](2)}} & \\cdots{} & \\frac{\\partial{}\\hat{y}^{(m)}}{\\partial{}z^{[2](m)}} \\end{bmatrix} $\n",
    "#### $ \\hspace{0.67cm} = \\underset{1\\times{}m}{\\begin{bmatrix} (-\\frac{y^{(1)}}{\\hat{y}^{(1)}}+\\frac{1-y^{(1)}}{1-\\hat{y}^{(1)}}) & \\cdots{} & (-\\frac{y^{(m)}}{\\hat{y}^{(m)}}+\\frac{1-y^{(m)}}{1-\\hat{y}^{(m)}}) \\end{bmatrix}} \\cdot{} \\underset{m\\times{}m}{\\begin{bmatrix} \\hat{y}^{(1)} \\cdot{} (1-\\hat{y}^{(1)}) & 0 & \\cdots{} & 0 \\\\ 0 & \\hat{y}^{(2)} \\cdot{} (1-\\hat{y}^{(2)}) & \\cdots{} & 0 \\\\ \\vdots{} & \\vdots{} & \\ddots{} & \\vdots{} \\\\ 0 & 0 & \\cdots{} & \\hat{y}^{(m)} \\cdot{} (1-\\hat{y}^{(m)}) \\end{bmatrix}} $\n",
    "#### $ \\hspace{0.67cm} = \\underset{1\\times{}m}{\\begin{bmatrix} (-\\frac{y^{(1)}}{\\hat{y}^{(1)}}+\\frac{1-y^{(1)}}{1-\\hat{y}^{(1)}}) \\cdot{} \\hat{y}^{(1)} \\cdot{} (1-\\hat{y}^{(1)}) & \\cdots{} & (-\\frac{y^{(m)}}{\\hat{y}^{(m)}}+\\frac{1-y^{(m)}}{1-\\hat{y}^{(m)}}) \\cdot{} \\hat{y}^{(m)} \\cdot{} (1-\\hat{y}^{(m)}) \\end{bmatrix}} $\n",
    "#### $ \\hspace{0.67cm} = \\begin{bmatrix} \\hat{y}^{(1)}-y^{(1)} & \\cdots{} & \\hat{y}^{(m)}-y^{(m)} \\end{bmatrix} $\n",
    "#### $ \\hspace{0.67cm} = \\hat{Y} - Y $"
   ]
  },
  {
   "cell_type": "markdown",
   "metadata": {},
   "source": [
    "#### **(3) $ \\frac{\\partial{}J}{\\partial{}W^{[2]}} $** :\n",
    "#### $ \\underset{1\\times{}n^{[1]}}{\\frac{\\partial{}J}{\\partial{}W^{[2]}}} = \\frac{\\partial{}J}{\\partial{}\\hat{Y}} \\cdot{} \\frac{\\partial{}\\hat{Y}}{\\partial{}Z^{[2]}} \\cdot{} \\frac{\\partial{}Z^{[2]}}{\\partial{}W^{[2]}} $\n",
    "#### $ \\hspace{0.795cm} = \\frac{\\partial{}J}{\\partial{}Z^{[2]}} \\cdot{} \\frac{\\partial{}Z^{[2]}}{\\partial{}W^{[2]}} $\n",
    "#### $ \\hspace{0.795cm} = \\begin{bmatrix} \\hat{y}^{(1)}-y^{(1)} & \\cdots{} & \\hat{y}^{(m)}-y^{(m)} \\end{bmatrix} \\cdot{} \\begin{bmatrix} \\frac{\\partial{}z^{[2](1)}}{\\partial{}W^{[2]}} \\\\ \\frac{\\partial{}z^{[2](2)}}{\\partial{}W^{[2]}} \\\\ \\vdots{} \\\\ \\frac{\\partial{}z^{[2](m)}}{\\partial{}W^{[2]}} \\end{bmatrix} $\n",
    "#### $ \\hspace{0.795cm} = \\begin{bmatrix} \\hat{y}^{(1)}-y^{(1)} & \\cdots{} & \\hat{y}^{(m)}-y^{(m)} \\end{bmatrix} \\cdot{} \\begin{bmatrix} \\frac{\\partial{}z^{[2](1)}}{\\partial{}w^{[2]}_{1}} & \\frac{\\partial{}z^{[2](1)}}{\\partial{}w^{[2]}_{2}} & \\cdots{} & \\frac{\\partial{}z^{[2](1)}}{\\partial{}w^{[2]}_{n^{[1]}}} \\\\ \\frac{\\partial{}z^{[2](2)}}{\\partial{}w^{[2]}_{1}} & \\frac{\\partial{}z^{[2](2)}}{\\partial{}w^{[2]}_{2}} & \\cdots{} & \\frac{\\partial{}z^{[2](2)}}{\\partial{}w^{[2]}_{n^{[1]}}} \\\\ \\vdots{} & \\vdots{} & \\ddots{} & \\vdots{} \\\\ \\frac{\\partial{}z^{[2](m)}}{\\partial{}w^{[2]}_{1}} & \\frac{\\partial{}z^{[2](m)}}{\\partial{}w^{[2]}_{2}} & \\cdots{} & \\frac{\\partial{}z^{[2](m)}}{\\partial{}w^{[2]}_{n^{[1]}}} \\end{bmatrix} $ \n",
    "#### $ \\hspace{0.795cm} = \\underset{1\\times{}m}{\\begin{bmatrix} \\hat{y}^{(1)}-y^{(1)} & \\cdots{} & \\hat{y}^{(m)}-y^{(m)} \\end{bmatrix}} \\cdot{} \\underset{m\\times{}n^{[1]}}{\\begin{bmatrix} a^{[1](1)}_{1} & a^{[1](1)}_{2} & \\cdots{} & a^{[1](1)}_{n^{[1]}} \\\\ a^{[1](2)}_{1} & a^{[1](2)}_{2} & \\cdots{} & a^{[1](2)}_{n^{[1]}} \\\\ \\vdots{} & \\vdots{} & \\ddots{} & \\vdots{} \\\\ a^{[1](m)}_{1} & a^{[1](m)}_{2} & \\cdots{} & a^{[1](m)}_{n^{[1]}} \\end{bmatrix}} $ \n",
    "#### $ \\hspace{0.795cm} = \\underset{1\\times{}n^{[1]}}{\\begin{bmatrix} \\sum^{m}_{i=1}(\\hat{y}^{(i)}-y^{(i)}) \\cdot{} a^{[1](i)}_{1} & \\cdots{} & \\sum^{m}_{i=1}(\\hat{y}^{(i)}-y^{(i)}) \\cdot{} a^{[1](i)}_{n^{[1]}} \\end{bmatrix}} $\n",
    "#### $ \\hspace{0.795cm} = (\\hat{Y} - Y) \\cdot{} (A^{[1]})^{T} $"
   ]
  },
  {
   "cell_type": "markdown",
   "metadata": {},
   "source": [
    "#### **(4) $ \\frac{\\partial{}J}{\\partial{}B^{[2]}} $** :\n",
    "#### $ \\underset{1\\times{}m}{\\frac{\\partial{}J}{\\partial{}B^{[2]}}} = \\frac{\\partial{}J}{\\partial{}\\hat{Y}} \\cdot{} \\frac{\\partial{}\\hat{Y}}{\\partial{}Z^{[2]}} \\cdot{} \\frac{\\partial{}Z^{[2]}}{\\partial{}B^{[2]}} $\n",
    "#### $ \\hspace{0.63cm} = \\frac{\\partial{}J}{\\partial{}Z^{[2]}} \\cdot{} \\frac{\\partial{}Z^{[2]}}{\\partial{}B^{[2]}} $\n",
    "#### $ \\hspace{0.63cm} = \\begin{bmatrix} \\hat{y}^{(1)}-y^{(1)} & \\cdots{} & \\hat{y}^{(m)}-y^{(m)} \\end{bmatrix} \\cdot{} \\begin{bmatrix} \\frac{\\partial{}z^{[2](1)}}{\\partial{}B^{[2]}} \\\\ \\frac{\\partial{}z^{[2](2)}}{\\partial{}B^{[2]}} \\\\ \\vdots{} \\\\ \\frac{\\partial{}z^{[2](m)}}{\\partial{}B^{[2]}} \\end{bmatrix} $\n",
    "#### $ \\hspace{0.63cm} = \\begin{bmatrix} \\hat{y}^{(1)}-y^{(1)} & \\cdots{} & \\hat{y}^{(m)}-y^{(m)} \\end{bmatrix} \\cdot{} \\begin{bmatrix} \\frac{\\partial{}z^{[2](1)}}{\\partial{}b^{[2]}} & \\frac{\\partial{}z^{[2](1)}}{\\partial{}b^{[2]}} & \\cdots{} & \\frac{\\partial{}z^{[2](1)}}{\\partial{}b^{[2]}} \\\\ \\frac{\\partial{}z^{[2](2)}}{\\partial{}b^{[2]}} & \\frac{\\partial{}z^{[2](2)}}{\\partial{}b^{[2]}} & \\cdots{} & \\frac{\\partial{}z^{[2](2)}}{\\partial{}b^{[2]}} \\\\ \\vdots{} & \\vdots{} & \\ddots{} & \\vdots{} \\\\ \\frac{\\partial{}z^{[2](m)}}{\\partial{}b^{[2]}} & \\frac{\\partial{}z^{[2](m)}}{\\partial{}b^{[2]}} & \\cdots{} & \\frac{\\partial{}z^{[2](m)}}{\\partial{}b^{[2]}} \\end{bmatrix} $\n",
    "#### $ \\hspace{0.63cm} = \\underset{1\\times{}m}{\\begin{bmatrix} \\hat{y}^{(1)}-y^{(1)} & \\cdots{} & \\hat{y}^{(m)}-y^{(m)} \\end{bmatrix}} \\cdot{} \\underset{m\\times{}m}{\\begin{bmatrix} 1 & 1 & \\cdots{} & 1 \\\\ 1 & 1 & \\cdots{} & 1 \\\\ \\vdots{} & \\vdots{} & \\ddots{} & \\vdots{} \\\\ 1 & 1 & \\cdots{} & 1 \\end{bmatrix}} $\n",
    "#### $ \\hspace{0.63cm} = \\underset{1\\times{}m}{\\begin{bmatrix} \\sum^{m}_{i=1}(\\hat{y}^{(i)}-y^{(i)}) & \\cdots{} & \\sum^{m}_{i=1}(\\hat{y}^{(i)}-y^{(i)}) \\end{bmatrix}} $\n",
    "#### $ \\hspace{0.63cm} = (\\hat{Y} - Y) \\cdot{} \\underset{m\\times{}m}{\\textbf{1}} $"
   ]
  },
  {
   "cell_type": "markdown",
   "metadata": {},
   "source": [
    "#### **(5) $ \\frac{\\partial{}J}{\\partial{}A^{[1]}} $** :\n",
    "#### $ \\underset{n^{[1]}\\times{}m}{\\frac{\\partial{}J}{\\partial{}A^{[1]}}} = \\frac{\\partial{}J}{\\partial{}\\hat{Y}} \\cdot{} \\frac{\\partial{}\\hat{Y}}{\\partial{}Z^{[2]}} \\cdot{} \\frac{\\partial{}Z^{[2]}}{\\partial{}A^{[1]}} $\n",
    "#### $ \\hspace{0.715cm} = \\frac{\\partial{}J}{\\partial{}Z^{[2]}} \\cdot{} \\frac{\\partial{}Z^{[2]}}{\\partial{}A^{[1]}} $\n",
    "#### $ \\hspace{0.715cm} = \\begin{bmatrix} \\hat{y}^{(1)}-y^{(1)} & \\cdots{} & \\hat{y}^{(m)}-y^{(m)} \\end{bmatrix} \\cdot{} \\begin{bmatrix} \\frac{\\partial{}z^{[2](1)}}{\\partial{}A^{[1]}} \\\\ \\frac{\\partial{}z^{[2](2)}}{\\partial{}A^{[1]}} \\\\ \\vdots{} \\\\ \\frac{\\partial{}z^{[2](m)}}{\\partial{}A^{[1]}} \\end{bmatrix} $\n",
    "#### $ \\hspace{0.715cm} = \\begin{bmatrix} \\hat{y}^{(1)}-y^{(1)} & \\cdots{} & \\hat{y}^{(m)}-y^{(m)} \\end{bmatrix} \\cdot{} \\underset{m\\times{}n^{[1]}\\times{}m}{\\begin{bmatrix} \\frac{\\partial{}z^{[2](1)}}{\\partial{}\\textbf{a}^{[1](1)}} & \\frac{\\partial{}z^{[2](1)}}{\\partial{}\\textbf{a}^{[1](2)}} & \\cdots{} & \\frac{\\partial{}z^{[2](1)}}{\\partial{}\\textbf{a}^{[1](m)}} \\\\ \\frac{\\partial{}z^{[2](2)}}{\\partial{}\\textbf{a}^{[1](1)}} & \\frac{\\partial{}z^{[2](2)}}{\\partial{}\\textbf{a}^{[1](2)}} & \\cdots{} & \\frac{\\partial{}z^{[2](2)}}{\\partial{}\\textbf{a}^{[1](m)}} \\\\ \\vdots{} & \\vdots{} & \\ddots{} & \\vdots{} \\\\ \\frac{\\partial{}z^{[2](m)}}{\\partial{}\\textbf{a}^{[1](1)}} & \\frac{\\partial{}z^{[2](m)}}{\\partial{}\\textbf{a}^{[1](2)}} & \\cdots{} & \\frac{\\partial{}z^{[2](m)}}{\\partial{}\\textbf{a}^{[1](m)}} \\end{bmatrix}} $\n",
    "#### $ \\hspace{0.715cm} = \\begin{bmatrix} \\hat{y}^{(1)}-y^{(1)} & \\cdots{} & \\hat{y}^{(m)}-y^{(m)} \\end{bmatrix} \\cdot{} \\begin{bmatrix} \\begin{bmatrix} \\frac{\\partial{}z^{[2](1)}}{\\partial{}a^{[1](1)}_{1}} & \\frac{\\partial{}z^{[2](1)}}{\\partial{}a^{[1](2)}_{1}} & \\cdots{} & \\frac{\\partial{}z^{[2](1)}}{\\partial{}a^{[1](m)}_{1}} \\\\ \\frac{\\partial{}z^{[2](1)}}{\\partial{}a^{[1](1)}_{2}} & \\frac{\\partial{}z^{[2](1)}}{\\partial{}a^{[1](2)}_{2}} & \\cdots{} & \\frac{\\partial{}z^{[2](1)}}{\\partial{}a^{[1](m)}_{2}} \\\\ \\vdots{} & \\vdots{} & \\ddots{} & \\vdots{} \\\\ \\frac{\\partial{}z^{[2](1)}}{\\partial{}a^{[1](1)}_{n^{[1]}}} & \\frac{\\partial{}z^{[2](1)}}{\\partial{}a^{[1](2)}_{n^{[1]}}} & \\cdots{} & \\frac{\\partial{}z^{[2](1)}}{\\partial{}a^{[1](m)}_{n^{[1]}}} \\end{bmatrix} \\\\ \\\\ \\begin{bmatrix} \\frac{\\partial{}z^{[2](2)}}{\\partial{}a^{[1](1)}_{1}} & \\frac{\\partial{}z^{[2](2)}}{\\partial{}a^{[1](2)}_{1}} & \\cdots{} & \\frac{\\partial{}z^{[2](2)}}{\\partial{}a^{[1](m)}_{1}} \\\\ \\frac{\\partial{}z^{[2](2)}}{\\partial{}a^{[1](1)}_{2}} & \\frac{\\partial{}z^{[2](2)}}{\\partial{}a^{[1](2)}_{2}} & \\cdots{} & \\frac{\\partial{}z^{[2](2)}}{\\partial{}a^{[1](m)}_{2}} \\\\ \\vdots{} & \\vdots{} & \\ddots{} & \\vdots{} \\\\ \\frac{\\partial{}z^{[2](2)}}{\\partial{}a^{[1](1)}_{n^{[1]}}} & \\frac{\\partial{}z^{[2](2)}}{\\partial{}a^{[1](2)}_{n^{[1]}}} & \\cdots{} & \\frac{\\partial{}z^{[2](2)}}{\\partial{}a^{[1](m)}_{n^{[1]}}} \\end{bmatrix} \\\\ \\\\ \\vdots{} \\\\ \\\\ \\begin{bmatrix} \\frac{\\partial{}z^{[2](m)}}{\\partial{}a^{[1](1)}_{1}} & \\frac{\\partial{}z^{[2](m)}}{\\partial{}a^{[1](2)}_{1}} & \\cdots{} & \\frac{\\partial{}z^{[2](m)}}{\\partial{}a^{[1](m)}_{1}} \\\\ \\frac{\\partial{}z^{[2](m)}}{\\partial{}a^{[1](1)}_{2}} & \\frac{\\partial{}z^{[2](m)}}{\\partial{}a^{[1](2)}_{2}} & \\cdots{} & \\frac{\\partial{}z^{[2](m)}}{\\partial{}a^{[1](m)}_{2}} \\\\ \\vdots{} & \\vdots{} & \\ddots{} & \\vdots{} \\\\ \\frac{\\partial{}z^{[2](m)}}{\\partial{}a^{[1](1)}_{n^{[1]}}} & \\frac{\\partial{}z^{[2](m)}}{\\partial{}a^{[1](2)}_{n^{[1]}}} & \\cdots{} & \\frac{\\partial{}z^{[2](m)}}{\\partial{}a^{[1](m)}_{n^{[1]}}} \\end{bmatrix} \\end{bmatrix} \\;\\; $ ($ 2D \\,\\, \\text{Flatten} $ )\n",
    "#### $ \\hspace{0.715cm} = \\begin{bmatrix} \\hat{y}^{(1)}-y^{(1)} & \\cdots{} & \\hat{y}^{(m)}-y^{(m)} \\end{bmatrix} \\cdot{} \\begin{bmatrix} \\begin{bmatrix} w^{[2]}_{1} & 0 & \\cdots{} & 0 \\\\ w^{[2]}_{2} & 0 & \\cdots{} & 0 \\\\ \\vdots{} & \\vdots{} & \\ddots{} & \\vdots{} \\\\ w^{[2]}_{n^{[1]}} & 0 & \\cdots{} & 0 \\end{bmatrix} \\\\ \\\\ \\begin{bmatrix} 0 & w^{[2]}_{1} & \\cdots{} & 0 \\\\ 0 & w^{[2]}_{2} & \\cdots{} & 0 \\\\ \\vdots{} & \\vdots{} & \\ddots{} & \\vdots{} \\\\ 0 & w^{[2]}_{n^{[1]}} & \\cdots{} & 0 \\end{bmatrix} \\\\ \\\\ \\vdots{} \\\\ \\\\ \\begin{bmatrix} 0 & 0 & \\cdots{} & w^{[2]}_{1} \\\\ 0 & 0 & \\cdots{} & w^{[2]}_{2}  \\\\ \\vdots{} & \\vdots{} & \\ddots{} & \\vdots{} \\\\ 0 & 0 & \\cdots{} & w^{[2]}_{n^{[1]}} \\end{bmatrix} \\end{bmatrix} $\n",
    "#### $ \\hspace{0.715cm} = \\begin{bmatrix} \\hat{y}^{(1)}-y^{(1)} & \\cdots{} & \\hat{y}^{(m)}-y^{(m)} \\end{bmatrix} \\cdot{} T(i,j,k) \\;\\; \\text{ where } \\, T(i,j,k) = \\frac{\\partial{}z^{[2](i)}}{\\partial{}a^{[1](k)}_{j}} = w^{[2]}_{j} \\delta{}_{i,k} = \\begin{cases} w^{[2]}_{j} \\;\\; \\text{ if } i = k \\\\ 0 \\;\\;\\;\\;\\;\\; \\text{ if } i \\neq{} k \\end{cases} $\n",
    "##### **(⚠️)** 크로네커 델타(블록 대각) 자코비안 $ \\, 3 $ 차원 텐서를 텐서 수축(contraction)하여 처리 **(⚠️)**\n",
    "#### $ \\frac{\\partial{}J}{\\partial{}\\textbf{a}^{[1](i)}} = (\\hat{y}^{(i)}-y^{(i)})(W^{[2]})^{T} \\;\\; \\text{ where } \\, \\frac{\\partial{}z^{[2](i)}}{\\partial{}\\textbf{a}^{[1](i)}} = (W^{[2]})^{T} \\, \\text{ and } \\, 1 \\leq{} i \\leq{} m $\n",
    "#### $ \\frac{\\partial{}J}{\\partial{}A^{[1]}} = \\begin{bmatrix} (\\hat{y}^{(1)}-y^{(1)})(W^{[2]})^{T} & (\\hat{y}^{(2)}-y^{(2)})(W^{[2]})^{T} & \\cdots{} & (\\hat{y}^{(m)}-y^{(m)})(W^{[2]})^{T} \\end{bmatrix} $\n",
    "#### $ \\hspace{0.715cm} = (W^{[2]})^{T} \\cdot{} (\\hat{Y} - Y) \\;\\; $ ($ \\textbf{vectorization} $)"
   ]
  },
  {
   "cell_type": "markdown",
   "metadata": {},
   "source": [
    "#### **(6) $ \\frac{\\partial{}J}{\\partial{}Z^{[1]}} $** :\n",
    "#### $ \\underset{n^{[1]}\\times{}m}{\\frac{\\partial{}J}{\\partial{}Z^{[1]}}} = \\frac{\\partial{}J}{\\partial{}\\hat{\\textbf{y}}} \\cdot{} \\frac{\\partial{}\\hat{\\textbf{y}}}{\\partial{}\\textbf{z}^{[2]}} \\cdot{} \\frac{\\partial{}\\textbf{z}^{[2]}}{\\partial{}A^{[1]}} \\cdot{} \\frac{\\partial{}A^{[1]}}{\\partial{}Z^{[1]}} $\n",
    "#### $ \\hspace{0.715cm} = \\frac{\\partial{}J}{\\partial{}A^{[1]}} \\cdot{} \\frac{\\partial{}A^{[1]}}{\\partial{}Z^{[1]}} $ \n",
    "#### $ \\hspace{0.715cm} = \\begin{bmatrix} w^{[2]}_{1} \\cdot{} (\\hat{y}^{(1)}-y^{(1)}) & \\cdots{} & w^{[2]}_{1} \\cdot{} (\\hat{y}^{(m)}-y^{(m)}) \\\\ w^{[2]}_{2} \\cdot{} (\\hat{y}^{(1)}-y^{(1)}) & \\cdots{} & w^{[2]}_{2} \\cdot{} (\\hat{y}^{(m)}-y^{(m)}) \\\\ \\vdots{} & \\ddots{} & \\vdots{} \\\\ w^{[2]}_{n^{[1]}} \\cdot{} (\\hat{y}^{(1)}-y^{(1)}) & \\cdots{} & w^{[2]}_{n^{[1]}} \\cdot{} (\\hat{y}^{(m)}-y^{(m)}) \\end{bmatrix} \\cdot{} \\frac{\\partial{}A^{[1]}}{\\partial{}Z^{[1]}} $ \n",
    "#### $ \\hspace{0.715cm} = \\begin{bmatrix} w^{[2]}_{1} \\cdot{} (\\hat{y}^{(1)}-y^{(1)}) & \\cdots{} & w^{[2]}_{1} \\cdot{} (\\hat{y}^{(m)}-y^{(m)}) \\\\ w^{[2]}_{2} \\cdot{} (\\hat{y}^{(1)}-y^{(1)}) & \\cdots{} & w^{[2]}_{2} \\cdot{} (\\hat{y}^{(m)}-y^{(m)}) \\\\ \\vdots{} & \\ddots{} & \\vdots{} \\\\ w^{[2]}_{n^{[1]}} \\cdot{} (\\hat{y}^{(1)}-y^{(1)}) & \\cdots{} & w^{[2]}_{n^{[1]}} \\cdot{} (\\hat{y}^{(m)}-y^{(m)}) \\end{bmatrix} \\cdot{} \\begin{bmatrix} \\frac{\\partial{}\\textbf{a}^{[1](1)}}{\\partial{}Z^{[1]}} \\\\ \\frac{\\partial{}\\textbf{a}^{[1](2)}}{\\partial{}Z^{[1]}} \\\\ \\vdots{} \\\\ \\frac{\\partial{}\\textbf{a}^{[1](m)}}{\\partial{}Z^{[1]}} \\end{bmatrix} $ \n",
    "#### $ \\hspace{0.715cm} = \\begin{bmatrix} w^{[2]}_{1} \\cdot{} (\\hat{y}^{(1)}-y^{(1)}) & \\cdots{} & w^{[2]}_{1} \\cdot{} (\\hat{y}^{(m)}-y^{(m)}) \\\\ w^{[2]}_{2} \\cdot{} (\\hat{y}^{(1)}-y^{(1)}) & \\cdots{} & w^{[2]}_{2} \\cdot{} (\\hat{y}^{(m)}-y^{(m)}) \\\\ \\vdots{} & \\ddots{} & \\vdots{} \\\\ w^{[2]}_{n^{[1]}} \\cdot{} (\\hat{y}^{(1)}-y^{(1)}) & \\cdots{} & w^{[2]}_{n^{[1]}} \\cdot{} (\\hat{y}^{(m)}-y^{(m)}) \\end{bmatrix} \\cdot{} \\underset{n^{[1]}\\times{}m\\times{}n^{[1]}\\times{}m}{\\begin{bmatrix} \\frac{\\partial{}\\textbf{a}^{[1](1)}}{\\partial{}\\textbf{z}^{[1](1)}} & \\frac{\\partial{}\\textbf{a}^{[1](1)}}{\\partial{}\\textbf{z}^{[1](2)}} & \\cdots{} & \\frac{\\partial{}\\textbf{a}^{[1](1)}}{\\partial{}\\textbf{z}^{[1](m)}} \\\\ \\frac{\\partial{}\\textbf{a}^{[1](2)}}{\\partial{}\\textbf{z}^{[1](1)}} & \\frac{\\partial{}\\textbf{a}^{[1](2)}}{\\partial{}\\textbf{z}^{[1](2)}} & \\cdots{} & \\frac{\\partial{}\\textbf{a}^{[1](2)}}{\\partial{}\\textbf{z}^{[1](m)}} \\\\ \\vdots{} & \\vdots{} & \\ddots{} & \\vdots{} \\\\ \\frac{\\partial{}\\textbf{a}^{[1](m)}}{\\partial{}\\textbf{z}^{[1](1)}} & \\frac{\\partial{}\\textbf{a}^{[1](m)}}{\\partial{}\\textbf{z}^{[1](2)}} & \\cdots{} & \\frac{\\partial{}\\textbf{a}^{[1](m)}}{\\partial{}\\textbf{z}^{[1](m)}} \\end{bmatrix}} $\n",
    "##### **(⚠️)** 크로네커 델타(블록 대각) 자코비안 $ \\, 4 $ 차원 텐서를 텐서 수축하여 처리 **(⚠️)**\n",
    "#### **[LATEX]**\n",
    "#### $ \\hspace{0.715cm} = (W^{[2]})^{T} \\cdot{} (\\hat{\\textbf{y}} - \\textbf{y}) \\odot{} g'(Z^{[1]}) $ "
   ]
  },
  {
   "cell_type": "markdown",
   "metadata": {},
   "source": [
    "#### **(7) $ \\frac{\\partial{}J}{\\partial{}W^{[1]}} $** :\n",
    "#### $ \\underset{k\\times{}n}{\\frac{\\partial{}J}{\\partial{}W^{[1]}}} = \\frac{\\partial{}J}{\\partial{}\\hat{\\textbf{y}}} \\cdot{} \\frac{\\partial{}\\hat{\\textbf{y}}}{\\partial{}\\textbf{z}^{[2]}} \\cdot{} \\frac{\\partial{}\\textbf{z}^{[2]}}{\\partial{}A^{[1]}} \\cdot{} \\frac{\\partial{}A^{[1]}}{\\partial{}Z^{[1]}} \\cdot{} \\frac{\\partial{}Z^{[1]}}{\\partial{}W^{[1]}} $\n",
    "#### $ \\hspace{0.815cm} = \\frac{\\partial{}J}{\\partial{}Z^{[1]}} \\cdot{} \\frac{\\partial{}Z^{[1]}}{\\partial{}W^{[1]}} $ \n",
    "#### $ \\hspace{0.815cm} = \\begin{bmatrix} w^{[2]}_{1} \\cdot{} (\\hat{y}^{(1)}-y^{(1)}) \\cdot{} g'(z^{[1](1)}_{1}) & \\cdots{} & w^{[2]}_{1} \\cdot{} (\\hat{y}^{(m)}-y^{(m)}) \\cdot{} g'(z^{[1](m)}_{1}) \\\\ w^{[2]}_{2} \\cdot{} (\\hat{y}^{(1)}-y^{(1)}) \\cdot{} g'(z^{[1](1)}_{2}) & \\cdots{} & w^{[2]}_{2} \\cdot{} (\\hat{y}^{(m)}-y^{(m)}) \\cdot{} g'(z^{[1](m)}_{2}) \\\\ \\vdots{} & \\ddots{} & \\vdots{} \\\\ w^{[2]}_{k} \\cdot{} (\\hat{y}^{(1)}-y^{(1)}) \\cdot{} g'(z^{[1](1)}_{k}) & \\cdots{} & w^{[2]}_{k} \\cdot{} (\\hat{y}^{(m)}-y^{(m)}) \\cdot{} g'(z^{[1](m)}_{k}) \\end{bmatrix} \\cdot{} \\frac{\\partial{}Z^{[1]}}{\\partial{}W^{[1]}} $\n",
    "#### $ \\hspace{0.815cm} = \\begin{bmatrix} w^{[2]}_{1} \\cdot{} (\\hat{y}^{(1)}-y^{(1)}) \\cdot{} g'(z^{[1](1)}_{1}) & \\cdots{} & w^{[2]}_{1} \\cdot{} (\\hat{y}^{(m)}-y^{(m)}) \\cdot{} g'(z^{[1](m)}_{1}) \\\\ w^{[2]}_{2} \\cdot{} (\\hat{y}^{(1)}-y^{(1)}) \\cdot{} g'(z^{[1](1)}_{2}) & \\cdots{} & w^{[2]}_{2} \\cdot{} (\\hat{y}^{(m)}-y^{(m)}) \\cdot{} g'(z^{[1](m)}_{2}) \\\\ \\vdots{} & \\ddots{} & \\vdots{} \\\\ w^{[2]}_{k} \\cdot{} (\\hat{y}^{(1)}-y^{(1)}) \\cdot{} g'(z^{[1](1)}_{k}) & \\cdots{} & w^{[2]}_{k} \\cdot{} (\\hat{y}^{(m)}-y^{(m)}) \\cdot{} g'(z^{[1](m)}_{k}) \\end{bmatrix} \\cdot{} \\begin{bmatrix} \\frac{\\partial{}\\textbf{z}^{[1](1)}}{\\partial{}W^{[1]}} \\\\ \\frac{\\partial{}\\textbf{z}^{[1](2)}}{\\partial{}W^{[1]}} \\\\ \\vdots{} \\\\ \\frac{\\partial{}\\textbf{z}^{[1](m)}}{\\partial{}W^{[1]}} \\end{bmatrix} $\n",
    "#### $ \\hspace{0.815cm} = \\begin{bmatrix} w^{[2]}_{1} \\cdot{} (\\hat{y}^{(1)}-y^{(1)}) \\cdot{} g'(z^{[1](1)}_{1}) & \\cdots{} & w^{[2]}_{1} \\cdot{} (\\hat{y}^{(m)}-y^{(m)}) \\cdot{} g'(z^{[1](m)}_{1}) \\\\ w^{[2]}_{2} \\cdot{} (\\hat{y}^{(1)}-y^{(1)}) \\cdot{} g'(z^{[1](1)}_{2}) & \\cdots{} & w^{[2]}_{2} \\cdot{} (\\hat{y}^{(m)}-y^{(m)}) \\cdot{} g'(z^{[1](m)}_{2}) \\\\ \\vdots{} & \\ddots{} & \\vdots{} \\\\ w^{[2]}_{k} \\cdot{} (\\hat{y}^{(1)}-y^{(1)}) \\cdot{} g'(z^{[1](1)}_{k}) & \\cdots{} & w^{[2]}_{k} \\cdot{} (\\hat{y}^{(m)}-y^{(m)}) \\cdot{} g'(z^{[1](m)}_{k}) \\end{bmatrix} \\cdot{} \\underset{k\\times{}m\\times{}k\\times{}n}{\\begin{bmatrix} \\frac{\\partial{}\\textbf{z}^{[1](1)}}{\\partial{}(\\textbf{w}^{[1]}_{1})^{T}} & \\frac{\\partial{}\\textbf{z}^{[1](1)}}{\\partial{}(\\textbf{w}^{[1]}_{2})^{T}} & \\cdots{} & \\frac{\\partial{}\\textbf{z}^{[1](1)}}{\\partial{}(\\textbf{w}^{[1]}_{k})^{T}} \\\\ \\frac{\\partial{}\\textbf{z}^{[1](2)}}{\\partial{}(\\textbf{w}^{[1]}_{1})^{T}} & \\frac{\\partial{}\\textbf{z}^{[1](2)}}{\\partial{}(\\textbf{w}^{[1]}_{2})^{T}} & \\cdots{} & \\frac{\\partial{}\\textbf{z}^{[1](2)}}{\\partial{}(\\textbf{w}^{[1]}_{k})^{T}} \\\\ \\vdots{} & \\vdots{} & \\ddots{} & \\vdots{} \\\\ \\frac{\\partial{}\\textbf{z}^{[1](m)}}{\\partial{}(\\textbf{w}^{[1]}_{1})^{T}} & \\frac{\\partial{}\\textbf{z}^{[1](m)}}{\\partial{}(\\textbf{w}^{[1]}_{2})^{T}} & \\cdots{} & \\frac{\\partial{}\\textbf{z}^{[1](m)}}{\\partial{}(\\textbf{w}^{[1]}_{k})^{T}} \\end{bmatrix}} $\n",
    "##### **(⚠️)** 크로네커 델타(블록 대각) 자코비안 $ \\, 4 $ 차원 텐서를 텐서 수축하여 처리 **(⚠️)**\n",
    "#### **[LATEX]**\n",
    "#### $ \\hspace{0.815cm} = (W^{[2]})^{T} \\cdot{} (\\hat{\\textbf{y}} - \\textbf{y}) \\odot{} g'(Z^{[1]}) \\cdot{} X^{T} $"
   ]
  },
  {
   "cell_type": "markdown",
   "metadata": {},
   "source": [
    "#### **(8) $ \\frac{\\partial{}J}{\\partial{}\\textbf{b}^{[1]}} $** :\n",
    "#### $ \\underset{k\\times{}m}{\\frac{\\partial{}J}{\\partial{}\\textbf{b}^{[1]}}} = \\frac{\\partial{}J}{\\partial{}\\hat{\\textbf{y}}} \\cdot{} \\frac{\\partial{}\\hat{\\textbf{y}}}{\\partial{}\\textbf{z}^{[2]}} \\cdot{} \\frac{\\partial{}\\textbf{z}^{[2]}}{\\partial{}A^{[1]}} \\cdot{} \\frac{\\partial{}A^{[1]}}{\\partial{}Z^{[1]}} \\cdot{} \\frac{\\partial{}Z^{[1]}}{\\partial{}\\textbf{b}^{[1]}} $ \n",
    "#### $ \\hspace{0.71cm} = \\frac{\\partial{}J}{\\partial{}Z^{[1]}} \\cdot{} \\frac{\\partial{}Z^{[1]}}{\\partial{}\\textbf{b}^{[1]}} $ \n",
    "#### $ \\hspace{0.71cm} = \\begin{bmatrix} w^{[2]}_{1} \\cdot{} (\\hat{y}^{(1)}-y^{(1)}) \\cdot{} g'(z^{[1](1)}_{1}) & \\cdots{} & w^{[2]}_{1} \\cdot{} (\\hat{y}^{(m)}-y^{(m)}) \\cdot{} g'(z^{[1](m)}_{1}) \\\\ w^{[2]}_{2} \\cdot{} (\\hat{y}^{(1)}-y^{(1)}) \\cdot{} g'(z^{[1](1)}_{2}) & \\cdots{} & w^{[2]}_{2} \\cdot{} (\\hat{y}^{(m)}-y^{(m)}) \\cdot{} g'(z^{[1](m)}_{2}) \\\\ \\vdots{} & \\ddots{} & \\vdots{} \\\\ w^{[2]}_{k} \\cdot{} (\\hat{y}^{(1)}-y^{(1)}) \\cdot{} g'(z^{[1](1)}_{k}) & \\cdots{} & w^{[2]}_{k} \\cdot{} (\\hat{y}^{(m)}-y^{(m)}) \\cdot{} g'(z^{[1](m)}_{k}) \\end{bmatrix} \\cdot{} \\frac{\\partial{}Z^{[1]}}{\\partial{}\\textbf{b}^{[1]}} $\n",
    "#### $ \\hspace{0.71cm} = \\begin{bmatrix} w^{[2]}_{1} \\cdot{} (\\hat{y}^{(1)}-y^{(1)}) \\cdot{} g'(z^{[1](1)}_{1}) & \\cdots{} & w^{[2]}_{1} \\cdot{} (\\hat{y}^{(m)}-y^{(m)}) \\cdot{} g'(z^{[1](m)}_{1}) \\\\ w^{[2]}_{2} \\cdot{} (\\hat{y}^{(1)}-y^{(1)}) \\cdot{} g'(z^{[1](1)}_{2}) & \\cdots{} & w^{[2]}_{2} \\cdot{} (\\hat{y}^{(m)}-y^{(m)}) \\cdot{} g'(z^{[1](m)}_{2}) \\\\ \\vdots{} & \\ddots{} & \\vdots{} \\\\ w^{[2]}_{k} \\cdot{} (\\hat{y}^{(1)}-y^{(1)}) \\cdot{} g'(z^{[1](1)}_{k}) & \\cdots{} & w^{[2]}_{k} \\cdot{} (\\hat{y}^{(m)}-y^{(m)}) \\cdot{} g'(z^{[1](m)}_{k}) \\end{bmatrix} \\cdot{} \\underset{k\\times{}m\\times{}k}{\\begin{bmatrix} \\frac{\\partial{}\\textbf{z}^{[1](1)}}{\\partial{}\\textbf{b}^{[1]}} \\\\ \\frac{\\partial{}\\textbf{z}^{[1](2)}}{\\partial{}\\textbf{b}^{[1]}} \\\\ \\vdots{} \\\\ \\frac{\\partial{}\\textbf{z}^{[1](m)}}{\\partial{}\\textbf{b}^{[1]}} \\end{bmatrix}} $\n",
    "##### **(⚠️)** 크로네커 델타(블록 대각) 자코비안 $ \\, 3 $ 차원 텐서를 텐서 수축하여 처리 **(⚠️)**\n",
    "#### **[LATEX]**\n",
    "#### $ \\hspace{0.71cm} = \\underset{k\\times{}1}{\\begin{bmatrix} \\sum{}^{m}_{i=1}w^{[2]}_{1} \\cdot{} (\\hat{y}^{(i)}-y^{(i)}) \\cdot{} g'(z^{[1](i)}_{1}) \\\\ \\sum{}^{m}_{i=1}w^{[2]}_{2} \\cdot{} (\\hat{y}^{(i)}-y^{(i)}) \\cdot{} g'(z^{[1](i)}_{2}) \\\\ \\vdots{} \\\\ \\sum{}^{m}_{i=1}w^{[2]}_{k} \\cdot{} (\\hat{y}^{(i)}-y^{(i)}) \\cdot{} g'(z^{[1](i)}_{k}) \\end{bmatrix}} $\n",
    "#### $ \\hspace{0.71cm} = (W^{[2]})^{T} \\cdot{} (\\hat{\\textbf{y}} - \\textbf{y}) \\odot{} g'(Z^{[1]}) \\cdot{} \\underset{m\\times{}1}{\\textbf{1}} $"
   ]
  },
  {
   "cell_type": "markdown",
   "metadata": {},
   "source": [
    "<b></b>"
   ]
  },
  {
   "cell_type": "markdown",
   "metadata": {},
   "source": [
    "> ## **Optimization**"
   ]
  },
  {
   "cell_type": "markdown",
   "metadata": {},
   "source": [
    "#### **(1) Update $ \\, W^{[1]} $** :\n",
    "#### $ W^{[1]} \\coloneqq{} W^{[1]} - \\alpha{} \\cdot{} \\frac{1}{m} \\cdot{} \\frac{\\partial{}J}{\\partial{}W^{[1]}} $"
   ]
  },
  {
   "cell_type": "markdown",
   "metadata": {},
   "source": [
    "#### **(2) Update $ \\, B^{[1]} $** :\n",
    "#### $ \\textbf{b}^{[1]} \\coloneqq{} \\textbf{b}^{[1]} - \\alpha{} \\cdot{} \\frac{1}{m} \\cdot{} \\frac{\\partial{}J}{\\partial{}\\textbf{b}^{[1]}} $"
   ]
  },
  {
   "cell_type": "markdown",
   "metadata": {},
   "source": [
    "#### **(3) Update $ \\, W^{[2]} $** :\n",
    "#### $ W^{[2]} \\coloneqq{} W^{[2]} - \\alpha{} \\cdot{} \\frac{1}{m} \\cdot{} \\frac{\\partial{}J}{\\partial{}W^{[2]}} $"
   ]
  },
  {
   "cell_type": "markdown",
   "metadata": {},
   "source": [
    "#### **(4) Update $ \\, B^{[2]} $** :\n",
    "#### $ b^{[2]} \\coloneqq{} b^{[2]} - \\alpha{} \\cdot{} \\frac{1}{m} \\cdot{} \\frac{\\partial{}J}{\\partial{}B^{[2]}} $"
   ]
  }
 ],
 "metadata": {
  "kernelspec": {
   "display_name": "Python 3",
   "language": "python",
   "name": "python3"
  },
  "language_info": {
   "codemirror_mode": {
    "name": "ipython",
    "version": 3
   },
   "file_extension": ".py",
   "mimetype": "text/x-python",
   "name": "python",
   "nbconvert_exporter": "python",
   "pygments_lexer": "ipython3",
   "version": "3.8.18"
  },
  "orig_nbformat": 4
 },
 "nbformat": 4,
 "nbformat_minor": 2
}
