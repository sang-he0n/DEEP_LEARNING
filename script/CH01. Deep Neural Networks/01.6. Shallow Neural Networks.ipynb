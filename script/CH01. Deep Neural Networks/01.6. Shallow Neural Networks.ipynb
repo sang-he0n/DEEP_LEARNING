{
 "cells": [
  {
   "attachments": {},
   "cell_type": "markdown",
   "metadata": {},
   "source": [
    "# CH01.6. **Shallow Neural Networks**"
   ]
  },
  {
   "cell_type": "markdown",
   "metadata": {},
   "source": [
    "> ## **Shallow Neural Networks**"
   ]
  },
  {
   "cell_type": "markdown",
   "metadata": {},
   "source": [
    "#### **(1) 정의** : 하나 또는 아주 적은 수의 은닉층(hidden layer)을 가진 신경망(모델)\n",
    "#### $ \\hspace{0.3cm} $ <img src=\"../../img/01.6. Shallow Neural Networks (1).png\" width=\"50%\" height=\"50%\"></img>"
   ]
  },
  {
   "cell_type": "markdown",
   "metadata": {},
   "source": [
    "<b></b>"
   ]
  },
  {
   "cell_type": "markdown",
   "metadata": {},
   "source": [
    "> ## **Foward Propagatation**"
   ]
  },
  {
   "cell_type": "markdown",
   "metadata": {},
   "source": [
    "#### **(1) Feature**(`input`) : \n",
    "#### $ \\underset{n^{[0]}\\times{}m}{X} = A^{[0]} = \\begin{bmatrix} x^{(1)}_{1} & x^{(2)}_{1} & \\cdots{} & x^{(m)}_{1} \\\\ x^{(1)}_{2} & x^{(2)}_{2} & \\cdots{} & x^{(m)}_{2} \\\\ \\vdots{} & \\vdots{} & \\ddots{} & \\vdots{} \\\\ x^{(1)}_{n^{[0]}} & x^{(2)}_{n^{[0]}} & \\cdots{} & x^{(m)}_{n^{[0]}} \\end{bmatrix} = \\begin{bmatrix} \\textbf{x}^{(1)}&\\textbf{x}^{(2)}&\\cdots{}&\\textbf{x}^{(m)}\\end{bmatrix} $"
   ]
  },
  {
   "cell_type": "markdown",
   "metadata": {},
   "source": [
    "#### **(2) Target**(`input`) : binary classification\n",
    "#### $ \\underset{1\\times{}m}{Y} = \\begin{bmatrix} y^{(1)}&y^{(2)}&\\cdots{}&y^{(m)} \\end{bmatrix} \\;\\; \\text{ where } \\, y^{(i)} \\in{} \\{ 0, 1 \\} $"
   ]
  },
  {
   "cell_type": "markdown",
   "metadata": {},
   "source": [
    "#### **(3) Weight of $ \\, 1 $-st Hidden Layer**(`parameter`) :\n",
    "#### $ \\underset{n^{[1]}\\times{}n^{[0]}}{W^{[1]}} = \\begin{bmatrix} w_{1,1}^{[1]} & w_{1,2}^{[1]} & \\cdots{} & w_{1,n^{[0]}}^{[1]} \\\\ w_{2,1}^{[1]} & w_{2,2}^{[1]} & \\cdots{} & w_{2,n^{[0]}}^{[1]} \\\\ \\vdots{} & \\vdots{} & \\ddots{} & \\vdots{} \\\\ w^{[1]}_{n^{[1]},1} & w_{n^{[1]},2}^{[1]} & \\cdots{} & w_{n^{[1]},n^{[0]}}^{[1]} \\end{bmatrix} = \\begin{bmatrix} \\textbf{w}^{[1]}_{1} \\\\ \\textbf{w}^{[1]}_{2} \\\\ \\vdots{} \\\\ \\textbf{w}^{[1]}_{n^{[1]}} \\end{bmatrix} $"
   ]
  },
  {
   "cell_type": "markdown",
   "metadata": {},
   "source": [
    "#### **(4) Bias of $ \\, 1 $-st Hidden Layer**(`parameter`) : \n",
    "#### $ \\underset{n^{[1]}\\times{}m}{B^{[1]}} = \\begin{bmatrix} b^{[1]}_{1} & b^{[1]}_{1} & \\cdots{} & b^{[1]}_{1} \\\\ b^{[1]}_{2} & b^{[1]}_{2} & \\cdots{} & b^{[1]}_{2} \\\\ \\vdots{} & \\vdots{} & \\ddots{} & \\vdots{} \\\\ b^{[1]}_{n^{[1]}} & b^{[1]}_{n^{[1]}} & \\cdots{} & b^{[1]}_{n^{[1]}} \\end{bmatrix} $"
   ]
  },
  {
   "cell_type": "markdown",
   "metadata": {},
   "source": [
    "#### **(5) Linear transformation of $ \\, 1 $-st Hidden Layer** :\n",
    "#### $ \\underset{n^{[1]}\\times{}m}{Z^{[1]}} = W^{[1]} \\cdot{} X + B^{[1]} $\n",
    "#### $ \\hspace{0.875cm} = \\begin{bmatrix} (\\textbf{w}^{[1]}_{1})^{T} \\cdot{} \\textbf{x}^{(1)} & (\\textbf{w}^{[1]}_{1})^{T} \\cdot{} \\textbf{x}^{(2)} & \\cdots{} & (\\textbf{w}^{[1]}_{1})^{T} \\cdot{} \\textbf{x}^{(m)} \\\\ (\\textbf{w}^{[1]}_{2})^{T} \\cdot{} \\textbf{x}^{(1)} & (\\textbf{w}^{[1]}_{2})^{T} \\cdot{} \\textbf{x}^{(2)} & \\cdots{} & (\\textbf{w}^{[1]}_{2})^{T} \\cdot{} \\textbf{x}^{(m)} \\\\ \\vdots{} & \\vdots{} & \\ddots{} & \\vdots{} \\\\ (\\textbf{w}^{[1]}_{n^{[1]}})^{T} \\cdot{} \\textbf{x}^{(1)} & (\\textbf{w}^{[1]}_{n^{[1]}})^{T} \\cdot{} \\textbf{x}^{(2)} & \\cdots{} & (\\textbf{w}^{[1]}_{n^{[1]}})^{T} \\cdot{} \\textbf{x}^{(m)} \\end{bmatrix} + \\begin{bmatrix} b^{[1]}_{1} & b^{[1]}_{1} & \\cdots{} & b^{[1]}_{1} \\\\ b^{[1]}_{2} & b^{[1]}_{2} & \\cdots{} & b^{[1]}_{2} \\\\ \\vdots{} & \\vdots{} & \\ddots{} & \\vdots{} \\\\ b^{[1]}_{n^{[1]}} & b^{[1]}_{n^{[1]}} & \\cdots{} & b^{[1]}_{n^{[1]}} \\end{bmatrix} $\n",
    "#### $ \\hspace{0.875cm} = \\begin{bmatrix} w_{1,1}^{[1]} & w_{1,2}^{[1]} & \\cdots{} & w_{1,n^{[0]}}^{[1]} \\\\ w_{2,1}^{[1]} & w_{2,2}^{[1]} & \\cdots{} & w_{2,n^{[0]}}^{[1]} \\\\ \\vdots{} & \\vdots{} & \\ddots{} & \\vdots{} \\\\ w^{[1]}_{n^{[1]},1} & w_{n^{[1]},2}^{[1]} & \\cdots{} & w_{n^{[1]},n^{[0]}}^{[1]} \\end{bmatrix} \\cdot{} \\begin{bmatrix} x^{(1)}_{1} & x^{(2)}_{1} & \\cdots{} & x^{(m)}_{1} \\\\ x^{(1)}_{2} & x^{(2)}_{2} & \\cdots{} & x^{(m)}_{2} \\\\ \\vdots{} & \\vdots{} & \\ddots{} & \\vdots{} \\\\ x^{(1)}_{n^{[0]}} & x^{(2)}_{n^{[0]}} & \\cdots{} & x^{(m)}_{n^{[0]}} \\end{bmatrix} + \\begin{bmatrix} b^{[1]}_{1} & b^{[1]}_{1} & \\cdots{} & b^{[1]}_{1} \\\\ b^{[1]}_{2} & b^{[1]}_{2} & \\cdots{} & b^{[1]}_{2} \\\\ \\vdots{} & \\vdots{} & \\ddots{} & \\vdots{} \\\\ b^{[1]}_{n^{[1]}} & b^{[1]}_{n^{[1]}} & \\cdots{} & b^{[1]}_{n^{[1]}} \\end{bmatrix} $\n",
    "#### $ \\hspace{0.875cm} = \\begin{bmatrix} \\sum{}^{n^{[0]}}_{i=1}w^{[1]}_{1,i} \\cdot{} x^{(1)}_{i} + b^{[1]}_{1} & \\sum{}^{n^{[0]}}_{i=1}w^{[1]}_{1,i} \\cdot{} x^{(2)}_{i} + b^{[1]}_{1} & \\cdots{} & \\sum{}^{n^{[0]}}_{i=1}w^{[1]}_{1,i} \\cdot{} x^{(m)}_{i} + b^{[1]}_{1} \\\\ \\sum{}^{n^{[0]}}_{i=1}w^{[1]}_{2,i} \\cdot{} x^{(1)}_{i} + b^{[1]}_{2} & \\sum{}^{n^{[0]}}_{i=1}w^{[1]}_{2,i} \\cdot{} x^{(2)}_{i} + b^{[1]}_{2} & \\cdots{} & \\sum{}^{n^{[0]}}_{i=1}w^{[1]}_{2,i} \\cdot{} x^{(m)}_{i} + b^{[1]}_{2} \\\\ \\vdots{} & \\vdots{} & \\ddots{} & \\vdots{} \\\\ \\sum{}^{n^{[0]}}_{i=1}w^{[1]}_{n^{[1]},i} \\cdot{} x^{(1)}_{i} + b^{[1]}_{n^{[1]}} & \\sum{}^{n^{[0]}}_{i=1}w^{[1]}_{n^{[1]},i} \\cdot{} x^{(2)}_{i} + b^{[1]}_{n^{[1]}} & \\cdots{} & \\sum{}^{n^{[0]}}_{i=1}w^{[1]}_{n^{[1]},i} \\cdot{} x^{(m)}_{i} + b^{[1]}_{n^{[1]}} \\end{bmatrix} $ \n",
    "#### $ \\hspace{0.875cm} = \\begin{bmatrix} z^{[1](1)}_{1} & z^{[1](2)}_{1} & \\cdots{} & z^{[1](m)}_{1} \\\\ z^{[1](1)}_{2} & z^{[1](2)}_{2} & \\cdots{} & z^{[1](m)}_{2}  \\\\ \\vdots{} & \\vdots{} & \\ddots{} & \\vdots{} \\\\ z^{[1](1)}_{n^{[1]}} & z^{[1](2)}_{n^{[1]}} & \\cdots{} & z^{[1](m)}_{n^{[1]}} \\end{bmatrix} = \\begin{bmatrix} \\textbf{z}^{[1](1)} & \\textbf{z}^{[1](2)} & \\cdots{} & \\textbf{z}^{[1](m)} \\end{bmatrix} $"
   ]
  },
  {
   "cell_type": "markdown",
   "metadata": {},
   "source": [
    "#### **(6) Activate Function of $ \\, 1 $-st Hidden Layer** :\n",
    "#### $ \\underset{n^{[1]}\\times{}m}{A^{[1]}} = h^{[1]}(Z^{[1]}) $\n",
    "#### $ \\hspace{0.875cm} = \\begin{bmatrix} h^{[1]}(\\textbf{z}^{[1](1)}) & h^{[1]}(\\textbf{z}^{[1](2)}) & \\cdots{} & h^{[1]}(\\textbf{z}^{[1](m)}) \\end{bmatrix} $ \n",
    "#### $ \\hspace{0.875cm} = \\begin{bmatrix} h^{[1]}(z^{[1](1)}_{1}) & h^{[1]}(z^{[1](2)}_{1}) & \\cdots{} & h^{[1]}(z^{[1](m)}_{1}) \\\\ h^{[1]}(z^{[1](1)}_{2}) & h^{[1]}(z^{[1](2)}_{2}) & \\cdots{} & h^{[1]}(z^{[1](m)}_{2}) \\\\ \\vdots{} & \\vdots{} & \\ddots{} & \\vdots{} \\\\ h^{[1]}(z^{[1](1)}_{n^{[1]}}) & h^{[1]}(z^{[1](2)}_{n^{[1]}}) & \\cdots{} & h^{[1]}(z^{[1](m)}_{n^{[1]}}) \\end{bmatrix} $\n",
    "#### $ \\hspace{0.875cm} = \\begin{bmatrix} a^{[1](1)}_{1} & a^{[1](2)}_{1} & \\cdots{} & a^{[1](m)}_{1} \\\\ a^{[1](1)}_{2} & a^{[1](2)}_{2} & \\cdots{} & a^{[1](m)}_{2} \\\\ \\vdots{} & \\vdots{} & \\ddots{} & \\vdots{} \\\\ a^{[1](1)}_{n^{[1]}} & a^{[1](2)}_{n^{[1]}} & \\cdots{} & a^{[1](m)}_{n^{[1]}} \\end{bmatrix} = \\begin{bmatrix} \\textbf{a}^{[1](1)} & \\textbf{a}^{[1](2)} & \\cdots{} & \\textbf{a}^{[1](m)} \\end{bmatrix} $"
   ]
  },
  {
   "cell_type": "markdown",
   "metadata": {},
   "source": [
    "#### **(7) Weight of Output Layer**(`parameter`) : $ n^{[2]} = 1$\n",
    "#### $ \\underset{1\\times{}n^{[1]}}{W^{[2]}} = \\begin{bmatrix} w_{1}^{[2]} & w_{2}^{[2]} & \\cdots{} & w_{n^{[1]}}^{[2]} \\end{bmatrix} $"
   ]
  },
  {
   "cell_type": "markdown",
   "metadata": {},
   "source": [
    "#### **(8) Bias of Output Layer**(`parameter`) : \n",
    "#### $ \\underset{1\\times{}m}{B^{[2]}} = \\begin{bmatrix} b^{[2]} & b^{[2]} & \\cdots{} & b^{[2]} \\end{bmatrix} $"
   ]
  },
  {
   "cell_type": "markdown",
   "metadata": {},
   "source": [
    "#### **(9) Linear Transformation of Output Layer** :\n",
    "#### $ \\underset{1\\times{}m}{Z^{[2]}} = W^{[2]} \\cdot{} A^{[1]} + B^{[2]} $\n",
    "#### $ \\hspace{0.645cm} = \\begin{bmatrix} w_{1}^{[2]} & w_{2}^{[2]} & \\cdots{} & w_{n^{[1]}}^{[2]} \\end{bmatrix} \\cdot{} \\begin{bmatrix} a^{[1](1)}_{1} & a^{[1](2)}_{1} & \\cdots{} & a^{[1](m)}_{1} \\\\ a^{[1](1)}_{2} & a^{[1](2)}_{2} & \\cdots{} & a^{[1](m)}_{2} \\\\ \\vdots{} & \\vdots{} & \\ddots{} & \\vdots{} \\\\ a^{[1](1)}_{n^{[1]}} & a^{[1](2)}_{n^{[1]}} & \\cdots{} & a^{[1](m)}_{n^{[1]}} \\end{bmatrix} + \\begin{bmatrix} b^{[2]} & b^{[2]} & \\cdots{} & b^{[2]} \\end{bmatrix} $\n",
    "#### $ \\hspace{0.645cm} = \\begin{bmatrix} \\sum^{n^{[1]}}_{i=1}w^{[2]}_{i} \\cdot{} a^{[1](1)}_{i} + b^{[2]} & \\sum^{n^{[1]}}_{i=1}w^{[2]}_{i} \\cdot{} a^{[1](2)}_{i} + b^{[2]} & \\cdots{} & \\sum^{n^{[1]}}_{i=1}w^{[2]}_{i} \\cdot{} a^{[1](m)}_{i} + b^{[2]} \\end{bmatrix} $\n",
    "#### $ \\hspace{0.645cm} = \\begin{bmatrix} z^{[2](1)} & z^{[2](2)} & \\cdots{} & z^{[2](m)} \\end{bmatrix} $"
   ]
  },
  {
   "cell_type": "markdown",
   "metadata": {},
   "source": [
    "#### **(10) Estimate Target**(`output`) : sigmoid\n",
    "#### $ \\underset{1\\times{}m}{\\hat{Y}} = A^{[2]} = \\sigma{}(Z^{[2]}) $\n",
    "#### $ \\hspace{0.635cm} = \\begin{bmatrix} \\sigma{}(z^{[2](1)}) & \\sigma{}(z^{[2](2)}) & \\cdots{} & \\sigma{}(z^{[2](m)}) \\end{bmatrix} $\n",
    "#### $ \\hspace{0.635cm} = \\begin{bmatrix} \\frac{1}{1+e^{-z^{[2](1)}}} & \\frac{1}{1+e^{-z^{[2](2)}}} & \\cdots{} & \\frac{1}{1+e^{-z^{[2](m)}}} \\end{bmatrix} $\n",
    "#### $ \\hspace{0.635cm} = \\begin{bmatrix} \\hat{y}^{(1)} & \\hat{y}^{(2)} & \\cdots{} & \\hat{y}^{(m)} \\end{bmatrix} $"
   ]
  },
  {
   "cell_type": "markdown",
   "metadata": {},
   "source": [
    "#### **(11) Loss Function** : log-loss\n",
    "#### $ \\underset{1\\times{m}}{L} = \\ell{}(\\hat{Y},\\, Y) \\;\\; $ \n",
    "#### $ \\hspace{0.645cm} = \\begin{bmatrix} \\ell{}(\\hat{y}^{(1)},\\, y^{(1)}) & \\ell{}(\\hat{y}^{(2)},\\, y^{(2)}) & \\cdots{} & \\ell{}(\\hat{y}^{(m)},\\, y^{(m)}) \\end{bmatrix} $\n",
    "#### $ \\hspace{0.645cm} = \\begin{bmatrix} -(y^{(1)}\\log{}(\\hat{y}^{(1)})+(1-y^{(1)})\\log{}(1-\\hat{y}^{(1)})) & \\cdots{} & -(y^{(m)}\\log{}(\\hat{y}^{(m)})+(1-y^{(m)})\\log{}(1-\\hat{y}^{(m)}))\\end{bmatrix} $\n",
    "#### $ \\hspace{0.645cm} = \\begin{bmatrix} \\ell{}^{(1)} & \\ell{}^{(2)} & \\cdots{} & \\ell{}^{(m)} \\end{bmatrix} $"
   ]
  },
  {
   "cell_type": "markdown",
   "metadata": {},
   "source": [
    "#### **(12) Cost Function** : \n",
    "#### $ \\underset{1\\times{}1}{J} = J(W^{[1]},\\, B^{[1]},\\, W^{[2]},\\, B^{[2]}) = \\frac{1}{m} \\cdot{} \\displaystyle\\sum^{m}_{i=1} \\ell(\\hat{y}^{(i)},\\, y^{(i)}) = \\frac{1}{m} \\cdot{} L \\cdot{} \\underset{m\\times{}1}{\\textbf{1}} $"
   ]
  },
  {
   "cell_type": "markdown",
   "metadata": {},
   "source": [
    "<b></b>"
   ]
  },
  {
   "cell_type": "markdown",
   "metadata": {},
   "source": [
    "> ## **Back Propagation**"
   ]
  },
  {
   "cell_type": "markdown",
   "metadata": {},
   "source": [
    "#### **(1) $ \\frac{\\partial{}J}{\\partial{}\\hat{Y}} $** : \n",
    "#### $ \\underset{1\\times{}m}{\\frac{\\partial{}J}{\\partial{}\\hat{Y}}} = \\begin{bmatrix} \\frac{\\partial{}J}{\\partial{}\\hat{y}^{(1)}} & \\frac{\\partial{}J}{\\partial{}\\hat{y}^{(2)}} & \\cdots{} & \\frac{\\partial{}J}{{\\partial{}\\hat{y}^{(m)}}} \\end{bmatrix} $\n",
    "#### $ \\hspace{0.625cm} = \\begin{bmatrix} (-\\frac{y^{(1)}}{\\hat{y}^{(1)}}+\\frac{1-y^{(1)}}{1-\\hat{y}^{(1)}}) & (-\\frac{y^{(2)}}{\\hat{y}^{(2)}}+\\frac{1-y^{(2)}}{1-\\hat{y}^{(2)}}) & \\cdots{} & (-\\frac{y^{(m)}}{\\hat{y}^{(m)}}+\\frac{1-y^{(m)}}{1-\\hat{y}^{(m)}}) \\end{bmatrix} $ "
   ]
  },
  {
   "cell_type": "markdown",
   "metadata": {},
   "source": [
    "#### **(2) $ \\frac{\\partial{}J}{\\partial{}Z^{[2]}} $** :\n",
    "#### $ \\underset{1\\times{}m}{\\frac{\\partial{}J}{\\partial{}Z^{[2]}}} = \\frac{\\partial{}J}{\\partial{}\\hat{Y}} \\cdot{} \\frac{\\partial{}\\hat{Y}}{\\partial{}Z^{[2]}} $ \n",
    "#### $ \\hspace{0.75cm} = \\begin{bmatrix} (-\\frac{y^{(1)}}{\\hat{y}^{(1)}}+\\frac{1-y^{(1)}}{1-\\hat{y}^{(1)}}) & \\cdots{} & (-\\frac{y^{(m)}}{\\hat{y}^{(m)}}+\\frac{1-y^{(m)}}{1-\\hat{y}^{(m)}}) \\end{bmatrix} \\cdot{} \\begin{bmatrix} \\frac{\\partial{}\\hat{y}^{(1)}}{\\partial{}Z^{[2]}} \\\\ \\frac{\\partial{}\\hat{y}^{(2)}}{\\partial{}Z^{[2]}} \\\\ \\vdots{} \\\\ \\frac{\\partial{}\\hat{y}^{(m)}}{\\partial{}Z^{[2]}} \\end{bmatrix} $\n",
    "#### $ \\hspace{0.75cm} = \\begin{bmatrix} (-\\frac{y^{(1)}}{\\hat{y}^{(1)}}+\\frac{1-y^{(1)}}{1-\\hat{y}^{(1)}}) & \\cdots{} & (-\\frac{y^{(m)}}{\\hat{y}^{(m)}}+\\frac{1-y^{(m)}}{1-\\hat{y}^{(m)}}) \\end{bmatrix} \\cdot{} \\begin{bmatrix} \\frac{\\partial{}\\hat{y}^{(1)}}{\\partial{}z^{[2](1)}} & \\frac{\\partial{}\\hat{y}^{(1)}}{\\partial{}z^{[2](2)}} & \\cdots{} & \\frac{\\partial{}\\hat{y}^{(1)}}{\\partial{}z^{[2](m)}} \\\\ \\frac{\\partial{}\\hat{y}^{(2)}}{\\partial{}z^{[2](1)}} & \\frac{\\partial{}\\hat{y}^{(2)}}{\\partial{}z^{[2](2)}} & \\cdots{} & \\frac{\\partial{}\\hat{y}^{(2)}}{\\partial{}z^{[2](m)}} \\\\ \\vdots{} & \\vdots{} & \\ddots{} & \\vdots{} \\\\ \\frac{\\partial{}\\hat{y}^{(m)}}{\\partial{}z^{[2](1)}} & \\frac{\\partial{}\\hat{y}^{(m)}}{\\partial{}z^{[2](2)}} & \\cdots{} & \\frac{\\partial{}\\hat{y}^{(m)}}{\\partial{}z^{[2](m)}} \\end{bmatrix} $\n",
    "#### $ \\hspace{0.75cm} = \\begin{bmatrix} (-\\frac{y^{(1)}}{\\hat{y}^{(1)}}+\\frac{1-y^{(1)}}{1-\\hat{y}^{(1)}}) & \\cdots{} & (-\\frac{y^{(m)}}{\\hat{y}^{(m)}}+\\frac{1-y^{(m)}}{1-\\hat{y}^{(m)}}) \\end{bmatrix} \\cdot{} \\begin{bmatrix} \\hat{y}^{(1)} \\cdot{} (1-\\hat{y}^{(1)}) & 0 & \\cdots{} & 0 \\\\ 0 & \\hat{y}^{(2)} \\cdot{} (1-\\hat{y}^{(2)}) & \\cdots{} & 0 \\\\ \\vdots{} & \\vdots{} & \\ddots{} & \\vdots{} \\\\ 0 & 0 & \\cdots{} & \\hat{y}^{(m)} \\cdot{} (1-\\hat{y}^{(m)}) \\end{bmatrix} $\n",
    "#### $ \\hspace{0.75cm} = \\begin{bmatrix} (-\\frac{y^{(1)}}{\\hat{y}^{(1)}}+\\frac{1-y^{(1)}}{1-\\hat{y}^{(1)}}) \\cdot{} \\hat{y}^{(1)} \\cdot{} (1-\\hat{y}^{(1)}) & \\cdots{} & (-\\frac{y^{(m)}}{\\hat{y}^{(m)}}+\\frac{1-y^{(m)}}{1-\\hat{y}^{(m)}}) \\cdot{} \\hat{y}^{(m)} \\cdot{} (1-\\hat{y}^{(m)}) \\end{bmatrix} $\n",
    "#### $ \\hspace{0.75cm} = \\begin{bmatrix} \\hat{y}^{(1)}-y^{(1)} & \\cdots{} & \\hat{y}^{(m)}-y^{(m)} \\end{bmatrix} $\n",
    "#### $ \\hspace{0.75cm} = \\hat{Y} - Y $"
   ]
  },
  {
   "cell_type": "markdown",
   "metadata": {},
   "source": [
    "#### **(3) $ \\frac{\\partial{}J}{\\partial{}W^{[2]}} $** :\n",
    "#### $ \\underset{1\\times{}n^{[1]}}{\\frac{\\partial{}J}{\\partial{}W^{[2]}}} = \\frac{\\partial{}J}{\\partial{}\\hat{Y}} \\cdot{} \\frac{\\partial{}\\hat{Y}}{\\partial{}Z^{[2]}} \\cdot{} \\frac{\\partial{}Z^{[2]}}{\\partial{}W^{[2]}} $\n",
    "#### $ \\hspace{0.815cm} = \\frac{\\partial{}J}{\\partial{}Z^{[2]}} \\cdot{} \\frac{\\partial{}Z^{[2]}}{\\partial{}W^{[2]}} $\n",
    "#### $ \\hspace{0.815cm} = \\begin{bmatrix} \\hat{y}^{(1)}-y^{(1)} & \\cdots{} & \\hat{y}^{(m)}-y^{(m)} \\end{bmatrix} \\cdot{} \\begin{bmatrix} \\frac{\\partial{}z^{[2](1)}}{\\partial{}W^{[2]}} \\\\ \\frac{\\partial{}z^{[2](2)}}{\\partial{}W^{[2]}} \\\\ \\vdots{} \\\\ \\frac{\\partial{}z^{[2](m)}}{\\partial{}W^{[2]}} \\end{bmatrix} $\n",
    "#### $ \\hspace{0.815cm} = \\begin{bmatrix} \\hat{y}^{(1)}-y^{(1)} & \\cdots{} & \\hat{y}^{(m)}-y^{(m)} \\end{bmatrix} \\cdot{} \\begin{bmatrix} \\frac{\\partial{}z^{[2](1)}}{\\partial{}w^{[2]}_{1}} & \\frac{\\partial{}z^{[2](1)}}{\\partial{}w^{[2]}_{2}} & \\cdots{} & \\frac{\\partial{}z^{[2](1)}}{\\partial{}w^{[2]}_{n^{[1]}}} \\\\ \\frac{\\partial{}z^{[2](2)}}{\\partial{}w^{[2]}_{1}} & \\frac{\\partial{}z^{[2](2)}}{\\partial{}w^{[2]}_{2}} & \\cdots{} & \\frac{\\partial{}z^{[2](2)}}{\\partial{}w^{[2]}_{n^{[1]}}} \\\\ \\vdots{} & \\vdots{} & \\ddots{} & \\vdots{} \\\\ \\frac{\\partial{}z^{[2](m)}}{\\partial{}w^{[2]}_{1}} & \\frac{\\partial{}z^{[2](m)}}{\\partial{}w^{[2]}_{2}} & \\cdots{} & \\frac{\\partial{}z^{[2](m)}}{\\partial{}w^{[2]}_{n^{[1]}}} \\end{bmatrix} $ \n",
    "#### $ \\hspace{0.815cm} = \\begin{bmatrix} \\hat{y}^{(1)}-y^{(1)} & \\cdots{} & \\hat{y}^{(m)}-y^{(m)} \\end{bmatrix} \\cdot{} \\begin{bmatrix} a^{[1](1)}_{1} & a^{[1](1)}_{2} & \\cdots{} & a^{[1](1)}_{n^{[1]}} \\\\ a^{[1](2)}_{1} & a^{[1](2)}_{2} & \\cdots{} & a^{[1](2)}_{n^{[1]}} \\\\ \\vdots{} & \\vdots{} & \\ddots{} & \\vdots{} \\\\ a^{[1](m)}_{1} & a^{[1](m)}_{2} & \\cdots{} & a^{[1](m)}_{n^{[1]}} \\end{bmatrix} $ \n",
    "#### $ \\hspace{0.815cm} = \\begin{bmatrix} \\sum^{m}_{i=1}(\\hat{y}^{(i)}-y^{(i)}) \\cdot{} a^{[1](i)}_{1} & \\cdots{} & \\sum^{m}_{i=1}(\\hat{y}^{(i)}-y^{(i)}) \\cdot{} a^{[1](i)}_{n^{[1]}} \\end{bmatrix} $\n",
    "#### $ \\hspace{0.815cm} = (\\hat{Y} - Y) \\cdot{} (A^{[1]})^{T} $"
   ]
  },
  {
   "cell_type": "markdown",
   "metadata": {},
   "source": [
    "#### **(4) $ \\frac{\\partial{}J}{\\partial{}B^{[2]}} $** :\n",
    "#### $ \\underset{1\\times{}m}{\\frac{\\partial{}J}{\\partial{}B^{[2]}}} = \\frac{\\partial{}J}{\\partial{}\\hat{Y}} \\cdot{} \\frac{\\partial{}\\hat{Y}}{\\partial{}Z^{[2]}} \\cdot{} \\frac{\\partial{}Z^{[2]}}{\\partial{}B^{[2]}} $\n",
    "#### $ \\hspace{0.735cm} = \\frac{\\partial{}J}{\\partial{}Z^{[2]}} \\cdot{} \\frac{\\partial{}Z^{[2]}}{\\partial{}B^{[2]}} $\n",
    "#### $ \\hspace{0.735cm} = \\begin{bmatrix} \\hat{y}^{(1)}-y^{(1)} & \\cdots{} & \\hat{y}^{(m)}-y^{(m)} \\end{bmatrix} \\cdot{} \\begin{bmatrix} \\frac{\\partial{}z^{[2](1)}}{\\partial{}B^{[2]}} \\\\ \\frac{\\partial{}z^{[2](2)}}{\\partial{}B^{[2]}} \\\\ \\vdots{} \\\\ \\frac{\\partial{}z^{[2](m)}}{\\partial{}B^{[2]}} \\end{bmatrix} $\n",
    "#### $ \\hspace{0.735cm} = \\begin{bmatrix} \\hat{y}^{(1)}-y^{(1)} & \\cdots{} & \\hat{y}^{(m)}-y^{(m)} \\end{bmatrix} \\cdot{} \\begin{bmatrix} \\frac{\\partial{}z^{[2](1)}}{\\partial{}b^{[2]}} & \\frac{\\partial{}z^{[2](1)}}{\\partial{}b^{[2]}} & \\cdots{} & \\frac{\\partial{}z^{[2](1)}}{\\partial{}b^{[2]}} \\\\ \\frac{\\partial{}z^{[2](2)}}{\\partial{}b^{[2]}} & \\frac{\\partial{}z^{[2](2)}}{\\partial{}b^{[2]}} & \\cdots{} & \\frac{\\partial{}z^{[2](2)}}{\\partial{}b^{[2]}} \\\\ \\vdots{} & \\vdots{} & \\ddots{} & \\vdots{} \\\\ \\frac{\\partial{}z^{[2](m)}}{\\partial{}b^{[2]}} & \\frac{\\partial{}z^{[2](m)}}{\\partial{}b^{[2]}} & \\cdots{} & \\frac{\\partial{}z^{[2](m)}}{\\partial{}b^{[2]}} \\end{bmatrix} $\n",
    "#### $ \\hspace{0.735cm} = \\begin{bmatrix} \\hat{y}^{(1)}-y^{(1)} & \\cdots{} & \\hat{y}^{(m)}-y^{(m)} \\end{bmatrix} \\cdot{} \\begin{bmatrix} 1 & 1 & \\cdots{} & 1 \\\\ 1 & 1 & \\cdots{} & 1 \\\\ \\vdots{} & \\vdots{} & \\ddots{} & \\vdots{} \\\\ 1 & 1 & \\cdots{} & 1 \\end{bmatrix} $\n",
    "#### $ \\hspace{0.735cm} = \\begin{bmatrix} \\sum^{m}_{i=1}(\\hat{y}^{(i)}-y^{(i)}) & \\cdots{} & \\sum^{m}_{i=1}(\\hat{y}^{(i)}-y^{(i)}) \\end{bmatrix} $\n",
    "#### $ \\hspace{0.735cm} = (\\hat{Y} - Y) \\cdot{} \\underset{m\\times{}m}{\\textbf{1}} $"
   ]
  },
  {
   "cell_type": "markdown",
   "metadata": {},
   "source": [
    "#### **(5) $ \\frac{\\partial{}J}{\\partial{}A^{[1]}} $** :\n",
    "#### $ \\underset{n^{[1]}\\times{}m}{\\frac{\\partial{}J}{\\partial{}A^{[1]}}} = \\frac{\\partial{}J}{\\partial{}\\hat{Y}} \\cdot{} \\frac{\\partial{}\\hat{Y}}{\\partial{}Z^{[2]}} \\cdot{} \\frac{\\partial{}Z^{[2]}}{\\partial{}A^{[1]}} $\n",
    "#### $ \\hspace{0.875cm} = \\frac{\\partial{}J}{\\partial{}Z^{[2]}} \\cdot{} \\frac{\\partial{}Z^{[2]}}{\\partial{}A^{[1]}} $\n",
    "#### $ \\hspace{0.875cm} = \\begin{bmatrix} \\hat{y}^{(1)}-y^{(1)} & \\cdots{} & \\hat{y}^{(m)}-y^{(m)} \\end{bmatrix} \\cdot{} \\begin{bmatrix} \\frac{\\partial{}z^{[2](1)}}{\\partial{}A^{[1]}} \\\\ \\frac{\\partial{}z^{[2](2)}}{\\partial{}A^{[1]}} \\\\ \\vdots{} \\\\ \\frac{\\partial{}z^{[2](m)}}{\\partial{}A^{[1]}} \\end{bmatrix} $\n",
    "#### $ \\hspace{0.875cm} = \\begin{bmatrix} \\hat{y}^{(1)}-y^{(1)} & \\cdots{} & \\hat{y}^{(m)}-y^{(m)} \\end{bmatrix} \\cdot{} \\begin{bmatrix} \\frac{\\partial{}z^{[2](1)}}{\\partial{}\\textbf{a}^{[1](1)}} & \\frac{\\partial{}z^{[2](1)}}{\\partial{}\\textbf{a}^{[1](2)}} & \\cdots{} & \\frac{\\partial{}z^{[2](1)}}{\\partial{}\\textbf{a}^{[1](m)}} \\\\ \\frac{\\partial{}z^{[2](2)}}{\\partial{}\\textbf{a}^{[1](1)}} & \\frac{\\partial{}z^{[2](2)}}{\\partial{}\\textbf{a}^{[1](2)}} & \\cdots{} & \\frac{\\partial{}z^{[2](2)}}{\\partial{}\\textbf{a}^{[1](m)}} \\\\ \\vdots{} & \\vdots{} & \\ddots{} & \\vdots{} \\\\ \\frac{\\partial{}z^{[2](m)}}{\\partial{}\\textbf{a}^{[1](1)}} & \\frac{\\partial{}z^{[2](m)}}{\\partial{}\\textbf{a}^{[1](2)}} & \\cdots{} & \\frac{\\partial{}z^{[2](m)}}{\\partial{}\\textbf{a}^{[1](m)}} \\end{bmatrix} $\n",
    "#### $ \\hspace{0.875cm} = \\begin{bmatrix} \\hat{y}^{(1)}-y^{(1)} & \\cdots{} & \\hat{y}^{(m)}-y^{(m)} \\end{bmatrix} \\cdot{} \\begin{bmatrix} \\begin{bmatrix} \\frac{\\partial{}z^{[2](1)}}{\\partial{}a^{[1](1)}_{1}} & \\frac{\\partial{}z^{[2](1)}}{\\partial{}a^{[1](1)}_{2}} & \\cdots{} & \\frac{\\partial{}z^{[2](1)}}{\\partial{}a^{[1](1)}_{n^{[1]}}} \\end{bmatrix} & \\cdots{} & \\begin{bmatrix} \\frac{\\partial{}z^{[2](1)}}{\\partial{}a^{[1](m)}_{1}} & \\frac{\\partial{}z^{[2](1)}}{\\partial{}a^{[1](m)}_{2}} & \\cdots{} & \\frac{\\partial{}z^{[2](1)}}{\\partial{}a^{[1](m)}_{n^{[1]}}} \\end{bmatrix} \\\\ \\\\ \\begin{bmatrix} \\frac{\\partial{}z^{[2](2)}}{\\partial{}a^{[1](1)}_{1}} & \\frac{\\partial{}z^{[2](2)}}{\\partial{}a^{[1](1)}_{2}} & \\cdots{} & \\frac{\\partial{}z^{[2](2)}}{\\partial{}a^{[1](1)}_{n^{[1]}}} \\end{bmatrix} & \\cdots{} & \\begin{bmatrix} \\frac{\\partial{}z^{[2](2)}}{\\partial{}a^{[1](m)}_{1}} & \\frac{\\partial{}z^{[2](2)}}{\\partial{}a^{[1](m)}_{2}} & \\cdots{} & \\frac{\\partial{}z^{[2](2)}}{\\partial{}a^{[1](m)}_{n^{[1]}}} \\end{bmatrix} \\\\ \\\\ \\vdots{} & \\ddots{} & \\vdots{} \\\\ \\\\ \\begin{bmatrix} \\frac{\\partial{}z^{[2](m)}}{\\partial{}a^{[1](1)}_{1}} & \\frac{\\partial{}z^{[2](m)}}{\\partial{}a^{[1](1)}_{2}} & \\cdots{} & \\frac{\\partial{}z^{[2](m)}}{\\partial{}a^{[1](1)}_{n^{[1]}}} \\end{bmatrix} & \\cdots{} & \\begin{bmatrix} \\frac{\\partial{}z^{[2](m)}}{\\partial{}a^{[1](m)}_{1}} & \\frac{\\partial{}z^{[2](m)}}{\\partial{}a^{[1](m)}_{2}} & \\cdots{} & \\frac{\\partial{}z^{[2](m)}}{\\partial{}a^{[1](m)}_{n^{[1]}}} \\end{bmatrix} \\end{bmatrix} $\n",
    "#### $ \\hspace{0.875cm} = \\begin{bmatrix} \\hat{y}^{(1)}-y^{(1)} & \\cdots{} & \\hat{y}^{(m)}-y^{(m)} \\end{bmatrix} \\cdot{} \\begin{bmatrix} \\begin{bmatrix} w^{[2]}_{1} & w^{[2]}_{2} & \\cdots{} & w^{[2]}_{n^{[1]}} \\end{bmatrix} & \\begin{bmatrix} 0 & 0 & \\cdots{} & 0 \\end{bmatrix} & \\cdots{} & \\begin{bmatrix} 0 & 0 & \\cdots{} & 0 \\end{bmatrix} \\\\ \\\\ \\begin{bmatrix} 0 &  & 0 & \\cdots{} & 0 \\end{bmatrix} & \\begin{bmatrix} w^{[2]}_{1} & w^{[2]}_{2} & \\cdots{} & w^{[2]}_{n^{[1]}} \\end{bmatrix} &  \\cdots{} & \\begin{bmatrix} 0 & 0 & \\cdots{} & 0 \\end{bmatrix} \\\\ \\\\ \\vdots{} & \\vdots{} & \\ddots{} & \\vdots{} \\\\ \\\\ \\begin{bmatrix} 0 & 0 & \\cdots{} & 0 \\end{bmatrix} & \\begin{bmatrix} 0 & 0 & \\cdots{} & 0 \\end{bmatrix} & \\cdots{} & \\begin{bmatrix} w^{[2]}_{1} & w^{[2]}_{2} & \\cdots{} & w^{[2]}_{n^{[1]}} \\end{bmatrix} \\end{bmatrix} $\n",
    "#### $ \\hspace{0.875cm} = \\begin{bmatrix} \\hat{y}^{(1)}-y^{(1)} & \\cdots{} & \\hat{y}^{(m)}-y^{(m)} \\end{bmatrix} \\cdot{} \\underset{1\\times{}m\\times{}m\\times{}n^{[1]}}{T(1,i,j,p)} $\n",
    "#### $ \\hspace{0.15cm} \\text{where } \\, T(1,i,j,p) = T(i,j,p) = \\frac{\\partial{}z^{[2](i)}}{\\partial{}a^{[1](j)}_{p}} = w^{[2]}_{p} \\delta{}_{i,j} = \\begin{cases} w^{[2]}_{p} \\;\\; \\text{ if } i = j \\\\ 0 \\;\\;\\;\\;\\;\\; \\text{ if } i \\neq{} j \\end{cases} $\n",
    "#### $ \\hspace{0.15cm} \\text{and } \\, 1 \\leq{} i \\leq{} m, \\;\\; 1 \\leq{} j \\leq{} m, \\;\\; 1 \\leq{} p \\leq{} n^{[1]}  $\n",
    "##### **(⚠️)** 블록 대각 자코비안 $ \\, 4 $ 차원 텐서 $ \\, T $ 를 텐서 수축(tensor contraction)하여 샘플 별로 처리(행렬곱 연산 불가) **(⚠️)**\n",
    "#### $ \\frac{\\partial{}J}{\\partial{}\\textbf{a}^{[1](i)}_{p}} = \\frac{\\partial{}}{\\partial{}z^{[2](i)}} \\frac{\\partial{}z^{[2](i)}}{\\partial{}a^{[1](i)}_{p}} = (\\hat{y}^{(i)}-y^{(i)}) w^{[2]}_{p} $\n",
    "#### $ \\frac{\\partial{}J}{\\partial{}\\textbf{a}^{[1](i)}} = (\\hat{y}^{(i)}-y^{(i)}) \\begin{bmatrix} w_{1}^{[2]} \\\\ \\vdots{} \\\\ w_{n^{[1]}}^{[2]} \\end{bmatrix}  $\n",
    "#### $ \\frac{\\partial{}J}{\\partial{}A^{[1]}} = \\begin{bmatrix} (\\hat{y}^{(1)}-y^{(1)})w^{[2]}_{1} & (\\hat{y}^{(2)}-y^{(2)})w^{[2]}_{1} & \\cdots{} & (\\hat{y}^{(m)}-y^{(m)})w^{[2]}_{1} \\\\ (\\hat{y}^{(1)}-y^{(1)})w^{[2]}_{2} & (\\hat{y}^{(2)}-y^{(2)})w^{[2]}_{2} & \\cdots{} & (\\hat{y}^{(m)}-y^{(m)})w^{[2]}_{2} \\\\ \\vdots{} & \\vdots{} & \\ddots{} & \\vdots{} \\\\ (\\hat{y}^{(1)}-y^{(1)})w^{[2]}_{n^{[1]}} & (\\hat{y}^{(2)}-y^{(2)})w^{[2]}_{n^{[1]}} & \\cdots{} & (\\hat{y}^{(m)}-y^{(m)})w^{[2]}_{n^{[1]}} \\end{bmatrix} $\n",
    "#### $ \\hspace{0.725cm} = (W^{[2]})^{T} \\cdot{} (\\hat{Y} - Y) \\;\\; (\\textbf{vectorization}) $"
   ]
  },
  {
   "cell_type": "markdown",
   "metadata": {},
   "source": [
    "#### **(6) $ \\frac{\\partial{}J}{\\partial{}Z^{[1]}} $** :\n",
    "#### $ \\underset{n^{[1]}\\times{}m}{\\frac{\\partial{}J}{\\partial{}Z^{[1]}}} = \\frac{\\partial{}J}{\\partial{}\\hat{Y}} \\cdot{} \\frac{\\partial{}\\hat{Y}}{\\partial{}Z^{[2]}} \\cdot{} \\frac{\\partial{}Z^{[2]}}{\\partial{}A^{[1]}} \\cdot{} \\frac{\\partial{}A^{[1]}}{\\partial{}Z^{[1]}} $\n",
    "#### $ \\hspace{0.715cm} = \\frac{\\partial{}J}{\\partial{}A^{[1]}} \\cdot{} \\frac{\\partial{}A^{[1]}}{\\partial{}Z^{[1]}} $ \n",
    "#### $ \\hspace{0.715cm} = \\begin{bmatrix} (\\hat{y}^{(1)}-y^{(1)})w^{[2]}_{1} & \\cdots{} & (\\hat{y}^{(m)}-y^{(m)})w^{[2]}_{1} \\\\ (\\hat{y}^{(1)}-y^{(1)})w^{[2]}_{2} & \\cdots{} & (\\hat{y}^{(m)}-y^{(m)})w^{[2]}_{2} \\\\ \\vdots{} & \\ddots{} & \\vdots{} \\\\ (\\hat{y}^{(1)}-y^{(1)})w^{[2]}_{n^{[1]}} & \\cdots{} & (\\hat{y}^{(m)}-y^{(m)})w^{[2]}_{n^{[1]}} \\end{bmatrix} \\cdot{} \\begin{bmatrix} \\frac{\\partial{}\\textbf{a}^{[1](1)}}{\\partial{}Z^{[1]}} \\\\ \\frac{\\partial{}\\textbf{a}^{[1](2)}}{\\partial{}Z^{[1]}} \\\\ \\vdots{} \\\\ \\frac{\\partial{}\\textbf{a}^{[1](m)}}{\\partial{}Z^{[1]}} \\end{bmatrix} $ \n",
    "#### $ \\hspace{0.715cm} = \\begin{bmatrix} (\\hat{y}^{(1)}-y^{(1)})w^{[2]}_{1} & \\cdots{} & (\\hat{y}^{(m)}-y^{(m)})w^{[2]}_{1} \\\\ (\\hat{y}^{(1)}-y^{(1)})w^{[2]}_{2} & \\cdots{} & (\\hat{y}^{(m)}-y^{(m)})w^{[2]}_{2} \\\\ \\vdots{} & \\ddots{} & \\vdots{} \\\\ (\\hat{y}^{(1)}-y^{(1)})w^{[2]}_{n^{[1]}} & \\cdots{} & (\\hat{y}^{(m)}-y^{(m)})w^{[2]}_{n^{[1]}} \\end{bmatrix} \\cdot{} \\begin{bmatrix} \\frac{\\partial{}\\textbf{a}^{[1](1)}}{\\partial{}\\textbf{z}^{[1](1)}} & \\frac{\\partial{}\\textbf{a}^{[1](1)}}{\\partial{}\\textbf{z}^{[1](2)}} & \\cdots{} & \\frac{\\partial{}\\textbf{a}^{[1](1)}}{\\partial{}\\textbf{z}^{[1](m)}} \\\\ \\frac{\\partial{}\\textbf{a}^{[1](2)}}{\\partial{}\\textbf{z}^{[1](1)}} & \\frac{\\partial{}\\textbf{a}^{[1](2)}}{\\partial{}\\textbf{z}^{[1](2)}} & \\cdots{} & \\frac{\\partial{}\\textbf{a}^{[1](2)}}{\\partial{}\\textbf{z}^{[1](m)}} \\\\ \\vdots{} & \\vdots{} & \\ddots{} & \\vdots{} \\\\ \\frac{\\partial{}\\textbf{a}^{[1](m)}}{\\partial{}\\textbf{z}^{[1](1)}} & \\frac{\\partial{}\\textbf{a}^{[1](m)}}{\\partial{}\\textbf{z}^{[1](2)}} & \\cdots{} & \\frac{\\partial{}\\textbf{a}^{[1](m)}}{\\partial{}\\textbf{z}^{[1](m)}} \\end{bmatrix} $\n",
    "#### $ \\hspace{0.715cm} = \\begin{bmatrix} (\\hat{y}^{(1)}-y^{(1)})w^{[2]}_{1} & \\cdots{} & (\\hat{y}^{(m)}-y^{(m)})w^{[2]}_{1} \\\\ (\\hat{y}^{(1)}-y^{(1)})w^{[2]}_{2} & \\cdots{} & (\\hat{y}^{(m)}-y^{(m)})w^{[2]}_{2} \\\\ \\vdots{} & \\ddots{} & \\vdots{} \\\\ (\\hat{y}^{(1)}-y^{(1)})w^{[2]}_{n^{[1]}} & \\cdots{} & (\\hat{y}^{(m)}-y^{(m)})w^{[2]}_{n^{[1]}} \\end{bmatrix} \\cdot{} \\underset{m\\times{}m\\times{}n^{[1]}\\times{}n^{[1]}}{T(i,j,p,q)} $\n",
    "#### $ \\hspace{0.15cm} \\text{where } \\, T(i,j,p,q) = \\frac{\\partial{}a^{[1](i)}_{p}}{\\partial{}z^{[1](j)}_{q}} = h^{[1]'}(z^{[1](i)}_{q}) \\delta{}_{i,j} \\delta{}_{p,q} = \\begin{cases} h^{[1]'}(z^{[1](i)}_{q}) \\;\\; \\text{ if } \\, i = j \\, \\text{ and } \\, p = q \\\\ 0 \\;\\;\\;\\;\\;\\;\\;\\;\\;\\;\\;\\;\\;\\;\\;\\,\\, \\text{ otherwise.} \\end{cases} $\n",
    "##### $ \\hspace{0.15cm} \\text{and } \\, 1 \\leq{} i \\leq{} m, \\;\\; 1 \\leq{} j \\leq{} m, \\;\\; 1 \\leq{} p \\leq{} n^{[1]}, \\;\\; 1 \\leq{} q \\leq{} n^{[1]} $\n",
    "##### **(⚠️)** 블록 대각 자코비안 $ \\, 4 $ 차원 텐서 $ \\, T $ 를 텐서 수축하여 샘플 별로 처리 **(⚠️)**\n",
    "#### $ \\frac{\\partial{}J}{\\partial{}z^{[1](i)}_{p}} = \\frac{\\partial{}J}{\\partial{}a^{[1](i)}_{p}} \\frac{\\partial{}a^{[1](i)}_{p}}{\\partial{}z^{[1](i)}_{p}} = (\\hat{y}^{(i)}-y^{(i)})w^{[2]}_{p} h^{[1]'}(z^{[1](i)}_{p}) $\n",
    "#### $ \\frac{\\partial{}J}{\\partial{}\\textbf{z}^{[1](i)}} = \\begin{bmatrix} (\\hat{y}^{(i)}-y^{(i)})w^{[2]}_{1} h^{[1]'}(z^{[1](i)}_{1}) \\\\ (\\hat{y}^{(i)}-y^{(i)})w^{[2]}_{2} h^{[1]'}(z^{[1](i)}_{2}) \\\\ \\vdots{} \\\\ (\\hat{y}^{(i)}-y^{(i)})w^{[2]}_{n^{[1]}} h^{[1]'}(z^{[1](i)}_{n^{[1]}}) \\end{bmatrix} $\n",
    "#### $ \\frac{\\partial{}J}{\\partial{}Z^{[1]}} = \\begin{bmatrix} (\\hat{y}^{(1)}-y^{(1)})w^{[2]}_{1} h^{[1]'}(z^{[1](1)}_{1}) & (\\hat{y}^{(2)}-y^{(2)})w^{[2]}_{1} h^{[1]'}(z^{[1](2)}_{1}) & \\cdots{} & (\\hat{y}^{(m)}-y^{(m)})w^{[2]}_{1} h^{[1]'}(z^{[1](m)}_{1}) \\\\ (\\hat{y}^{(1)}-y^{(1)})w^{[2]}_{2} h^{[1]'}(z^{[1](1)}_{2}) & (\\hat{y}^{(2)}-y^{(2)})w^{[2]}_{2} h^{[1]'}(z^{[1](2)}_{2}) & \\cdots{} & (\\hat{y}^{(m)}-y^{(m)})w^{[2]}_{2} h^{[1]'}(z^{[1](m)}_{2}) \\\\ \\vdots{} & \\vdots{} & \\ddots{} & \\vdots{} \\\\ (\\hat{y}^{(1)}-y^{(1)})w^{[2]}_{n^{[1]}} h^{[1]'}(z^{[1](1)}_{n^{[1]}}) & (\\hat{y}^{(2)}-y^{(2)})w^{[2]}_{n^{[1]}} h^{[1]'}(z^{[1](2)}_{n^{[1]}}) & \\cdots{} & (\\hat{y}^{(m)}-y^{(m)})w^{[2]}_{n^{[1]}} h^{[1]'}(z^{[1](m)}_{n^{[1]}}) \\end{bmatrix} $\n",
    "#### $ \\hspace{0.715cm} = (W^{[2]})^{T} \\cdot{} (\\hat{Y} - Y) \\odot{} h^{[1]'}(Z^{[1]}) \\;\\; (\\textbf{vectorization}) $"
   ]
  },
  {
   "cell_type": "markdown",
   "metadata": {},
   "source": [
    "#### **(7) $ \\frac{\\partial{}J}{\\partial{}W^{[1]}} $** :\n",
    "#### $ \\underset{n^{[1]}\\times{}n^{[0]}}{\\frac{\\partial{}J}{\\partial{}W^{[1]}}} = \\frac{\\partial{}J}{\\partial{}\\hat{Y}} \\cdot{} \\frac{\\partial{}\\hat{Y}}{\\partial{}Z^{[2]}} \\cdot{} \\frac{\\partial{}Z^{[2]}}{\\partial{}A^{[1]}} \\cdot{} \\frac{\\partial{}A^{[1]}}{\\partial{}Z^{[1]}} \\cdot{} \\frac{\\partial{}Z^{[1]}}{\\partial{}W^{[1]}} $\n",
    "#### $ \\hspace{0.815cm} = \\frac{\\partial{}J}{\\partial{}Z^{[1]}} \\cdot{} \\frac{\\partial{}Z^{[1]}}{\\partial{}W^{[1]}} $ \n",
    "#### $ \\hspace{0.815cm} = \\begin{bmatrix} (\\hat{y}^{(1)}-y^{(1)})w^{[2]}_{1} h^{[1]'}(z^{[1](1)}_{1}) & \\cdots{} & (\\hat{y}^{(m)}-y^{(m)})w^{[2]}_{1} h^{[1]'}(z^{[1](m)}_{1}) \\\\ (\\hat{y}^{(1)}-y^{(1)})w^{[2]}_{2} h^{[1]'}(z^{[1](1)}_{2}) & \\cdots{} & (\\hat{y}^{(m)}-y^{(m)})w^{[2]}_{2} h^{[1]'}(z^{[1](m)}_{2}) \\\\ \\vdots{} & \\ddots{} & \\vdots{} \\\\ (\\hat{y}^{(1)}-y^{(1)})w^{[2]}_{n^{[1]}} h^{[1]'}(z^{[1](1)}_{n^{[1]}}) & \\cdots{} & (\\hat{y}^{(m)}-y^{(m)})w^{[2]}_{n^{[1]}} h^{[1]'}(z^{[1](m)}_{n^{[1]}}) \\end{bmatrix} \\cdot{} \\begin{bmatrix} \\frac{\\partial{}\\textbf{z}^{[1](1)}}{\\partial{}W^{[1]}} \\\\ \\frac{\\partial{}\\textbf{z}^{[1](2)}}{\\partial{}W^{[1]}} \\\\ \\vdots{} \\\\ \\frac{\\partial{}\\textbf{z}^{[1](m)}}{\\partial{}W^{[1]}} \\end{bmatrix} $\n",
    "#### $ \\hspace{0.815cm} = \\begin{bmatrix} (\\hat{y}^{(1)}-y^{(1)})w^{[2]}_{1} h^{[1]'}(z^{[1](1)}_{1}) & \\cdots{} & (\\hat{y}^{(m)}-y^{(m)})w^{[2]}_{1} h^{[1]'}(z^{[1](m)}_{1}) \\\\ (\\hat{y}^{(1)}-y^{(1)})w^{[2]}_{2} h^{[1]'}(z^{[1](1)}_{2}) & \\cdots{} & (\\hat{y}^{(m)}-y^{(m)})w^{[2]}_{2} h^{[1]'}(z^{[1](m)}_{2}) \\\\ \\vdots{} & \\ddots{} & \\vdots{} \\\\ (\\hat{y}^{(1)}-y^{(1)})w^{[2]}_{n^{[1]}} h^{[1]'}(z^{[1](1)}_{n^{[1]}}) & \\cdots{} & (\\hat{y}^{(m)}-y^{(m)})w^{[2]}_{n^{[1]}} h^{[1]'}(z^{[1](m)}_{n^{[1]}}) \\end{bmatrix} \\cdot{} \\begin{bmatrix} \\frac{\\partial{}\\textbf{z}^{[1](1)}}{\\partial{}(\\textbf{w}^{[1]}_{1})^{T}} & \\frac{\\partial{}\\textbf{z}^{[1](1)}}{\\partial{}(\\textbf{w}^{[1]}_{2})^{T}} & \\cdots{} & \\frac{\\partial{}\\textbf{z}^{[1](1)}}{\\partial{}(\\textbf{w}^{[1]}_{n^{[1]}})^{T}} \\\\ \\frac{\\partial{}\\textbf{z}^{[1](2)}}{\\partial{}(\\textbf{w}^{[1]}_{1})^{T}} & \\frac{\\partial{}\\textbf{z}^{[1](2)}}{\\partial{}(\\textbf{w}^{[1]}_{2})^{T}} & \\cdots{} & \\frac{\\partial{}\\textbf{z}^{[1](2)}}{\\partial{}(\\textbf{w}^{[1]}_{n^{[1]}})^{T}} \\\\ \\vdots{} & \\vdots{} & \\ddots{} & \\vdots{} \\\\ \\frac{\\partial{}\\textbf{z}^{[1](m)}}{\\partial{}(\\textbf{w}^{[1]}_{1})^{T}} & \\frac{\\partial{}\\textbf{z}^{[1](m)}}{\\partial{}(\\textbf{w}^{[1]}_{2})^{T}} & \\cdots{} & \\frac{\\partial{}\\textbf{z}^{[1](m)}}{\\partial{}(\\textbf{w}^{[1]}_{n^{[1]}})^{T}} \\end{bmatrix} $\n",
    "#### $ \\hspace{0.815cm} = \\begin{bmatrix} (\\hat{y}^{(1)}-y^{(1)})w^{[2]}_{1} h^{[1]'}(z^{[1](1)}_{1}) & \\cdots{} & (\\hat{y}^{(m)}-y^{(m)})w^{[2]}_{1} h^{[1]'}(z^{[1](m)}_{1}) \\\\ (\\hat{y}^{(1)}-y^{(1)})w^{[2]}_{2} h^{[1]'}(z^{[1](1)}_{2}) & \\cdots{} & (\\hat{y}^{(m)}-y^{(m)})w^{[2]}_{2} h^{[1]'}(z^{[1](m)}_{2}) \\\\ \\vdots{} & \\ddots{} & \\vdots{} \\\\ (\\hat{y}^{(1)}-y^{(1)})w^{[2]}_{n^{[1]}} h^{[1]'}(z^{[1](1)}_{n^{[1]}}) & \\cdots{} & (\\hat{y}^{(m)}-y^{(m)})w^{[2]}_{n^{[1]}} h^{[1]'}(z^{[1](m)}_{n^{[1]}}) \\end{bmatrix} \\cdot{} \\underset{m\\times{}n^{[1]}\\times{}n^{[1]}\\times{}n^{[0]}}{T(i,j,p,q)} $\n",
    "#### $ \\hspace{0.15cm} \\text{where } \\, T(i,j,p,q) = \\frac{\\partial{}z^{[1](i)}_{p}}{\\partial{}w^{[1]}_{j,q}} = x^{(i)}_{q} \\delta{}_{p,j} = \\begin{cases} x^{(i)}_{q} \\;\\; \\text{ if } \\, p = j \\\\ 0 \\;\\;\\;\\;\\; \\text{ if } \\, p \\neq{} j \\end{cases} $\n",
    "##### $ \\hspace{0.15cm} \\text{and } \\, 1 \\leq{} i \\leq{} m, \\;\\; 1 \\leq{} j \\leq{} n^{[1]}, \\;\\; 1 \\leq{} p \\leq{} n^{[1]}, \\;\\; 1 \\leq{} q \\leq{} n^{[0]} $\n",
    "##### **(⚠️)** 블록 대각 자코비안 $ \\, 4 $ 차원 텐서 $ \\, T $ 를 텐서 수축하여 **입력 데이터 특징(feature) 별**로 처리 **(⚠️)**\n",
    "#### $ \\frac{\\partial{}J}{\\partial{}w^{[1]}_{j,q}} = \\frac{\\partial{}J}{\\partial{}z^{[1](i)}_{k}} \\frac{\\partial{}z^{[1](i)}_{j}}{\\partial{}w^{[1]}_{j,q}} = \\displaystyle\\sum^{m}_{i=1}(\\hat{y}^{(i)}-y^{(i)})w^{[2]}_{j} h^{[1]'}(z^{[1](i)}_{p})x^{(i)}_{q} $\n",
    "#### $ \\frac{\\partial{}J}{\\partial{}\\textbf{w}^{[1]}_{j}} = \\begin{bmatrix} \\sum^{m}_{i=1}(\\hat{y}^{(i)}-y^{(i)})w^{[2]}_{j} h^{[1]'}(z^{[1](i)}_{j})x^{(i)}_{1} & \\cdots{} & \\sum^{m}_{i=1}(\\hat{y}^{(i)}-y^{(i)})w^{[2]}_{j} h^{[1]'}(z^{[1](i)}_{j})x^{(i)}_{n^{[0]}} \\end{bmatrix} $ \n",
    "#### $ \\frac{\\partial{}J}{\\partial{}W^{[1]}} = \\begin{bmatrix} \\sum^{m}_{i=1}(\\hat{y}^{(i)}-y^{(i)})w^{[2]}_{1} h^{[1]'}(z^{[1](i)}_{1})x^{(i)}_{1} & \\cdots{} & \\sum^{m}_{i=1}(\\hat{y}^{(i)}-y^{(i)})w^{[2]}_{1} h^{[1]'}(z^{[1](i)}_{1})x^{(i)}_{n^{[0]}} \\\\ \\sum^{m}_{i=1}(\\hat{y}^{(i)}-y^{(i)})w^{[2]}_{2} h^{[1]'}(z^{[1](i)}_{2})x^{(i)}_{1} & \\cdots{} & \\sum^{m}_{i=1}(\\hat{y}^{(i)}-y^{(i)})w^{[2]}_{2} h^{[1]'}(z^{[1](i)}_{2})x^{(i)}_{n^{[0]}} \\\\ \\vdots{} & \\ddots{} & \\vdots{} \\\\ \\sum^{m}_{i=1}(\\hat{y}^{(i)}-y^{(i)})w^{[2]}_{n^{[1]}} h^{[1]'}(z^{[1](i)}_{n^{[1]}})x^{(i)}_{1} & \\cdots{} & \\sum^{m}_{i=1}(\\hat{y}^{(i)}-y^{(i)})w^{[2]}_{n^{[1]}} h^{[1]'}(z^{[1](i)}_{n^{[1]}})x^{(i)}_{n^{[0]}} \\end{bmatrix} $\n",
    "#### $ \\hspace{0.815cm} = [(W^{[2]})^{T} \\cdot{} (\\hat{Y} - Y) \\odot{} h^{[1]'}(Z^{[1]})] \\cdot{} X^{T} $"
   ]
  },
  {
   "cell_type": "markdown",
   "metadata": {},
   "source": [
    "#### **(8) $ \\frac{\\partial{}J}{\\partial{}B^{[1]}} $** :\n",
    "#### $ \\underset{n^{[1]}\\times{}m}{\\frac{\\partial{}J}{\\partial{}B^{[1]}}} = \\frac{\\partial{}J}{\\partial{}\\hat{Y}} \\cdot{} \\frac{\\partial{}\\hat{Y}}{\\partial{}Z^{[2]}} \\cdot{} \\frac{\\partial{}Z^{[2]}}{\\partial{}A^{[1]}} \\cdot{} \\frac{\\partial{}A^{[1]}}{\\partial{}Z^{[1]}} \\cdot{} \\frac{\\partial{}Z^{[1]}}{\\partial{}B^{[1]}} $ \n",
    "#### $ \\hspace{0.85cm} = \\frac{\\partial{}J}{\\partial{}Z^{[1]}} \\cdot{} \\frac{\\partial{}Z^{[1]}}{\\partial{}B^{[1]}} $ \n",
    "#### $ \\hspace{0.85cm} = \\begin{bmatrix} (\\hat{y}^{(1)}-y^{(1)})w^{[2]}_{1} h^{[1]'}(z^{[1](1)}_{1}) & \\cdots{} & (\\hat{y}^{(m)}-y^{(m)})w^{[2]}_{1} h^{[1]'}(z^{[1](m)}_{1}) \\\\ (\\hat{y}^{(1)}-y^{(1)})w^{[2]}_{2} h^{[1]'}(z^{[1](1)}_{2}) & \\cdots{} & (\\hat{y}^{(m)}-y^{(m)})w^{[2]}_{2} h^{[1]'}(z^{[1](m)}_{2}) \\\\ \\vdots{} & \\ddots{} & \\vdots{} \\\\ (\\hat{y}^{(1)}-y^{(1)})w^{[2]}_{n^{[1]}} h^{[1]'}(z^{[1](1)}_{n^{[1]}}) & \\cdots{} & (\\hat{y}^{(m)}-y^{(m)})w^{[2]}_{n^{[1]}} h^{[1]'}(z^{[1](m)}_{n^{[1]}}) \\end{bmatrix} \\cdot{} \\begin{bmatrix} \\frac{\\partial{}\\textbf{z}^{[1](1)}}{\\partial{}B^{[1]}} \\\\ \\frac{\\partial{}\\textbf{z}^{[1](2)}}{\\partial{}B^{[1]}} \\\\ \\vdots{} \\\\ \\frac{\\partial{}\\textbf{z}^{[1](m)}}{\\partial{}B^{[1]}} \\end{bmatrix} $\n",
    "#### $ \\hspace{0.85cm} = \\begin{bmatrix} (\\hat{y}^{(1)}-y^{(1)})w^{[2]}_{1} h^{[1]'}(z^{[1](1)}_{1}) & \\cdots{} & (\\hat{y}^{(m)}-y^{(m)})w^{[2]}_{1} h^{[1]'}(z^{[1](m)}_{1}) \\\\ (\\hat{y}^{(1)}-y^{(1)})w^{[2]}_{2} h^{[1]'}(z^{[1](1)}_{2}) & \\cdots{} & (\\hat{y}^{(m)}-y^{(m)})w^{[2]}_{2} h^{[1]'}(z^{[1](m)}_{2}) \\\\ \\vdots{} & \\ddots{} & \\vdots{} \\\\ (\\hat{y}^{(1)}-y^{(1)})w^{[2]}_{n^{[1]}} h^{[1]'}(z^{[1](1)}_{n^{[1]}}) & \\cdots{} & (\\hat{y}^{(m)}-y^{(m)})w^{[2]}_{n^{[1]}} h^{[1]'}(z^{[1](m)}_{n^{[1]}}) \\end{bmatrix} \\cdot{} \\underset{m\\times{}n^{[1]}\\times{}n^{[1]}\\times{}m}{T(i,j,p,1)} $\n",
    "#### $ \\hspace{0.15cm} \\text{where } \\, T(i,j,p,1) = T(i,j,p) = \\frac{\\partial{}z^{[1](i)}_{p}}{\\partial{}b^{[1]}_{j}} = \\delta{}_{p,j} = \\begin{cases} 1 \\;\\; \\text{ if } \\, p = j \\\\ 0 \\;\\; \\text{ if } \\, p \\neq{} j \\end{cases} $\n",
    "#### $ \\hspace{0.15cm} \\text{and } \\, 1 \\leq{} i \\leq{} m, \\;\\; 1 \\leq{} j \\leq{} n^{[1]}, \\;\\; 1 \\leq{} p \\leq{} n^{[1]} $\n",
    "##### **(⚠️)** 블록 대각 자코비안 $ \\, 4 $ 차원 텐서 $ \\, T $ 를 텐서 수축하여 샘플 별로 처리 **(⚠️)**\n",
    "#### $ \\frac{\\partial{}J}{\\partial{}b^{[1]}_{j}} = \\frac{\\partial{}J}{\\partial{}z^{[1](i)}_{j}} \\frac{\\partial{}z^{[1](i)}_{j}}{\\partial{}b^{[1](i)}_{j}} = (\\hat{y}^{(i)}-y^{(i)})w^{[2]}_{j} h^{[1]'}(z^{[1](i)}_{k}) $\n",
    "#### $ \\frac{\\partial{}J}{\\partial{}\\textbf{b}^{[1]}} = \\begin{bmatrix} (\\hat{y}^{(i)}-y^{(i)})w^{[2]}_{1}h^{[1]'}(z^{[1](i)}_{1}) \\\\ (\\hat{y}^{(i)}-y^{(i)})w^{[2]}_{2}h^{[1]'}(z^{[1](i)}_{2}) \\\\ \\vdots{} \\\\ (\\hat{y}^{(i)}-y^{(i)})w^{[2]}_{n^{[1]}}h^{[1]'}(z^{[1](i)}_{n^{[1]}}) \\end{bmatrix} $\n",
    "#### $ \\frac{\\partial{}J}{\\partial{}B^{[1]}} = \\begin{bmatrix} (\\hat{y}^{(1)}-y^{(1)})w^{[2]}_{1} h^{[1]'}(z^{[1](1)}_{1}) & (\\hat{y}^{(2)}-y^{(2)})w^{[2]}_{1} h^{[1]'}(z^{[1](2)}_{1}) & \\cdots{} & (\\hat{y}^{(m)}-y^{(m)})w^{[2]}_{1} h^{[1]'}(z^{[1](m)}_{1}) \\\\ (\\hat{y}^{(1)}-y^{(1)})w^{[2]}_{2} h^{[1]'}(z^{[1](1)}_{2}) & (\\hat{y}^{(2)}-y^{(2)})w^{[2]}_{2} h^{[1]'}(z^{[1](2)}_{2}) & \\cdots{} & (\\hat{y}^{(m)}-y^{(m)})w^{[2]}_{2} h^{[1]'}(z^{[1](m)}_{2}) \\\\ \\vdots{} & \\vdots{} & \\ddots{} & \\vdots{} \\\\ (\\hat{y}^{(1)}-y^{(1)})w^{[2]}_{n^{[1]}} h^{[1]'}(z^{[1](1)}_{n^{[1]}}) & (\\hat{y}^{(2)}-y^{(2)})w^{[2]}_{n^{[1]}} h^{[1]'}(z^{[1](2)}_{n^{[1]}}) & \\cdots{} & (\\hat{y}^{(m)}-y^{(m)})w^{[2]}_{n^{[1]}} h^{[1]'}(z^{[1](m)}_{n^{[1]}}) \\end{bmatrix} $\n",
    "#### $ \\hspace{0.85cm} = (W^{[2]})^{T} \\cdot{} (\\hat{Y} - Y) \\odot{} h^{{[1]}'}(Z^{[1]}) $"
   ]
  },
  {
   "cell_type": "markdown",
   "metadata": {},
   "source": [
    "<b></b>"
   ]
  },
  {
   "cell_type": "markdown",
   "metadata": {},
   "source": [
    "> ## **Optimization**"
   ]
  },
  {
   "cell_type": "markdown",
   "metadata": {},
   "source": [
    "#### **(1) Update $ \\, W^{[1]} $** :\n",
    "#### $ W^{[1]} \\coloneqq{} W^{[1]} - \\alpha{} \\cdot{} \\frac{1}{m} \\cdot{} \\frac{\\partial{}J}{\\partial{}W^{[1]}} $"
   ]
  },
  {
   "cell_type": "markdown",
   "metadata": {},
   "source": [
    "#### **(2) Update $ \\, B^{[1]} $** :\n",
    "#### $ B^{[1]} \\coloneqq{} B^{[1]} - \\alpha{} \\cdot{} \\frac{1}{m} \\cdot{} \\frac{\\partial{}J}{\\partial{}B^{[1]}} $"
   ]
  },
  {
   "cell_type": "markdown",
   "metadata": {},
   "source": [
    "#### **(3) Update $ \\, W^{[2]} $** :\n",
    "#### $ W^{[2]} \\coloneqq{} W^{[2]} - \\alpha{} \\cdot{} \\frac{1}{m} \\cdot{} \\frac{\\partial{}J}{\\partial{}W^{[2]}} $"
   ]
  },
  {
   "cell_type": "markdown",
   "metadata": {},
   "source": [
    "#### **(4) Update $ \\, B^{[2]} $** :\n",
    "#### $ B^{[2]} \\coloneqq{} B^{[2]} - \\alpha{} \\cdot{} \\frac{1}{m} \\cdot{} \\frac{\\partial{}J}{\\partial{}B^{[2]}} $"
   ]
  }
 ],
 "metadata": {
  "kernelspec": {
   "display_name": "Python 3",
   "language": "python",
   "name": "python3"
  },
  "language_info": {
   "codemirror_mode": {
    "name": "ipython",
    "version": 3
   },
   "file_extension": ".py",
   "mimetype": "text/x-python",
   "name": "python",
   "nbconvert_exporter": "python",
   "pygments_lexer": "ipython3",
   "version": "3.8.18"
  },
  "orig_nbformat": 4
 },
 "nbformat": 4,
 "nbformat_minor": 2
}
