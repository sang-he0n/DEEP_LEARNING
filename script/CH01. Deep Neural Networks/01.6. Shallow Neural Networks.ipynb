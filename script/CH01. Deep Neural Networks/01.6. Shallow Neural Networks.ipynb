{
 "cells": [
  {
   "attachments": {},
   "cell_type": "markdown",
   "metadata": {},
   "source": [
    "# CH01.6. **Shallow Neural Networks**"
   ]
  },
  {
   "cell_type": "markdown",
   "metadata": {},
   "source": [
    "> ## **Shallow Neural Networks**"
   ]
  },
  {
   "cell_type": "markdown",
   "metadata": {},
   "source": [
    "#### **(1) 정의** : **[CONTENTS]**\n",
    "#### $ \\Rightarrow{} $ **[LATEX]**\n",
    "#### $ \\hspace{0.3cm} $ <img src=\"../../img/01.2. Shallow Neural Networks (1).png\" width=\"50%\" height=\"50%\"></img>"
   ]
  },
  {
   "cell_type": "markdown",
   "metadata": {},
   "source": [
    "<b></b>"
   ]
  },
  {
   "cell_type": "markdown",
   "metadata": {},
   "source": [
    "> ## **Foward Propagatation**"
   ]
  },
  {
   "cell_type": "markdown",
   "metadata": {},
   "source": [
    "#### **[GRAPH]**"
   ]
  },
  {
   "cell_type": "markdown",
   "metadata": {},
   "source": [
    "#### **(1) Feature**(`input`) : \n",
    "#### $ \\underset{n^{[0]}\\times{}m}{X} = A^{[0]} = \\begin{bmatrix} x^{(1)}_{1} & x^{(2)}_{1} & \\cdots{} & x^{(m)}_{1} \\\\ x^{(1)}_{2} & x^{(2)}_{2} & \\cdots{} & x^{(m)}_{2} \\\\ \\vdots{} & \\vdots{} & \\ddots{} & \\vdots{} \\\\ x^{(1)}_{n^{[0]}} & x^{(2)}_{n^{[0]}} & \\cdots{} & x^{(m)}_{n^{[0]}} \\end{bmatrix} = \\begin{bmatrix} \\textbf{x}^{(1)}&\\textbf{x}^{(2)}&\\cdots{}&\\textbf{x}^{(m)}\\end{bmatrix} $"
   ]
  },
  {
   "cell_type": "markdown",
   "metadata": {},
   "source": [
    "#### **(2) Target**(`input`) : binary classification\n",
    "#### $ \\underset{1\\times{}m}{\\textbf{y}} = \\begin{bmatrix} y^{(1)}&y^{(2)}&\\cdots{}&y^{(m)} \\end{bmatrix} \\;\\; \\text{ where } \\, y^{(i)} \\in{} \\{ 0, 1 \\} $"
   ]
  },
  {
   "cell_type": "markdown",
   "metadata": {},
   "source": [
    "#### **(3) Weight of $ \\, 1 $-st Hidden Layer**(`parameter`) :\n",
    "#### $ \\underset{n^{[1]}\\times{}n^{[0]}}{W}^{[1]} = \\begin{bmatrix} w_{1,1}^{[1]} & w_{1,2}^{[1]} & \\cdots{} & w_{1,n^{[0]}}^{[1]} \\\\ w_{2,1}^{[1]} & w_{2,2}^{[1]} & \\cdots{} & w_{2,n^{[0]}}^{[1]} \\\\ \\vdots{} & \\vdots{} & \\ddots{} & \\vdots{} \\\\ w^{[1]}_{n^{[1]},1} & w_{n^{[1]},2}^{[1]} & \\cdots{} & w_{n^{[1]},n^{[0]}}^{[1]} \\end{bmatrix} = \\begin{bmatrix} (\\textbf{w}^{[1]}_{1})^{T} \\\\ (\\textbf{w}^{[1]}_{2})^{T} \\\\ \\vdots{} \\\\ (\\textbf{w}^{[1]}_{k})^{T} \\end{bmatrix} $\n",
    "#### ※ $ \\, n^{[1]} $ : node size of $ \\, 1 $-st hidden layer"
   ]
  },
  {
   "cell_type": "markdown",
   "metadata": {},
   "source": [
    "#### **(4) Bias of $ \\, 1 $-st Hidden Layer**(`parameter`) : \n",
    "#### $ \\underset{n^{[1]}\\times{}m}{B^{[1]}} = \\begin{bmatrix} b^{[1]}_{1} & b^{[1]}_{1} & \\cdots{} & b^{[1]}_{1} \\\\ b^{[1]}_{2} & b^{[1]}_{2} & \\cdots{} & b^{[1]}_{2} \\\\ \\vdots{} & \\vdots{} & \\ddots{} & \\vdots{} \\\\ b^{[1]}_{n^{[1]}} & b^{[1]}_{n^{[1]}} & \\cdots{} & b^{[1]}_{n^{[1]}} \\end{bmatrix} \\;\\; $ (broadcasting)"
   ]
  },
  {
   "cell_type": "markdown",
   "metadata": {},
   "source": [
    "#### **(5) Linear transformation of $ \\, 1 $-st Hidden Layer** :\n",
    "#### $ \\underset{n^{[1]}\\times{}m}{Z^{[1]}} = \\underset{n^{[1]}\\times{}n^{[0]}}{W^{[1]}}\\cdot{}\\underset{n^{[0]}\\times{}m}{A^{[0]}} + \\underset{n^{[1]}\\times{}m}{B^{[1]}} $\n",
    "#### $ \\hspace{0.8cm} = \\begin{bmatrix} (\\textbf{w}^{[1]}_{1})^{T} \\cdot{} \\textbf{x}^{(1)} & (\\textbf{w}^{[1]}_{1})^{T} \\cdot{} \\textbf{x}^{(2)} & \\cdots{} & (\\textbf{w}^{[1]}_{1})^{T} \\cdot{} \\textbf{x}^{(m)} \\\\ (\\textbf{w}^{[1]}_{2})^{T} \\cdot{} \\textbf{x}^{(1)} & (\\textbf{w}^{[1]}_{2})^{T} \\cdot{} \\textbf{x}^{(2)} & \\cdots{} & (\\textbf{w}^{[1]}_{2})^{T} \\cdot{} \\textbf{x}^{(m)} \\\\ \\vdots{} & \\vdots{} & \\ddots{} & \\vdots{} \\\\ (\\textbf{w}^{[1]}_{n^{[1]}})^{T} \\cdot{} \\textbf{x}^{(1)} & (\\textbf{w}^{[1]}_{n^{[1]}})^{T} \\cdot{} \\textbf{x}^{(2)} & \\cdots{} & (\\textbf{w}^{[1]}_{n^{[1]}})^{T} \\cdot{} \\textbf{x}^{(m)} \\end{bmatrix} + \\begin{bmatrix} b^{[1]}_{1} & b^{[1]}_{1} & \\cdots{} & b^{[1]}_{1} \\\\ b^{[1]}_{2} & b^{[1]}_{2} & \\cdots{} & b^{[1]}_{2} \\\\ \\vdots{} & \\vdots{} & \\ddots{} & \\vdots{} \\\\ b^{[1]}_{n^{[1]}} & b^{[1]}_{n^{[1]}} & \\cdots{} & b^{[1]}_{n^{[1]}} \\end{bmatrix} $\n",
    "#### $ \\hspace{0.8cm} = \\begin{bmatrix} w_{1,1}^{[1]} & w_{1,2}^{[1]} & \\cdots{} & w_{1,n^{[0]}}^{[1]} \\\\ w_{2,1}^{[1]} & w_{2,2}^{[1]} & \\cdots{} & w_{2,n^{[0]}}^{[1]} \\\\ \\vdots{} & \\vdots{} & \\ddots{} & \\vdots{} \\\\ w^{[1]}_{n^{[1]},1} & w_{n^{[1]},2}^{[1]} & \\cdots{} & w_{n^{[1]},n^{[0]}}^{[1]} \\end{bmatrix} \\cdot{} \\begin{bmatrix} x^{(1)}_{1} & x^{(2)}_{1} & \\cdots{} & x^{(m)}_{1} \\\\ x^{(1)}_{2} & x^{(2)}_{2} & \\cdots{} & x^{(m)}_{2} \\\\ \\vdots{} & \\vdots{} & \\ddots{} & \\vdots{} \\\\ x^{(1)}_{n^{[0]}} & x^{(2)}_{n^{[0]}} & \\cdots{} & x^{(m)}_{n^{[0]}} \\end{bmatrix} + \\begin{bmatrix} b^{[1]}_{1} & b^{[1]}_{1} & \\cdots{} & b^{[1]}_{1} \\\\ b^{[1]}_{2} & b^{[1]}_{2} & \\cdots{} & b^{[1]}_{2} \\\\ \\vdots{} & \\vdots{} & \\ddots{} & \\vdots{} \\\\ b^{[1]}_{n^{[1]}} & b^{[1]}_{n^{[1]}} & \\cdots{} & b^{[1]}_{n^{[1]}} \\end{bmatrix} $\n",
    "#### $ \\hspace{0.8cm} = \\begin{bmatrix} \\sum{}^{n^{[0]}}_{i=1}(w^{[1]}_{1,i} \\cdot{} x^{(1)}_{i} + b^{[1]}_{1}) & \\sum{}^{n^{[0]}}_{i=1}(w^{[1]}_{1,i} \\cdot{} x^{(2)}_{i} + b^{[1]}_{1}) & \\cdots{} & \\sum{}^{n^{[0]}}_{i=1}(w^{[1]}_{1,i} \\cdot{} x^{(m)}_{i} + b^{[1]}_{1}) \\\\ \\sum{}^{n^{[0]}}_{i=1}(w^{[1]}_{2,i} \\cdot{} x^{(1)}_{i} + b^{[1]}_{2}) & \\sum{}^{n^{[0]}}_{i=1}(w^{[1]}_{2,i} \\cdot{} x^{(2)}_{i} + b^{[1]}_{2}) & \\cdots{} & \\sum{}^{n^{[0]}}_{i=1}(w^{[1]}_{2,i} \\cdot{} x^{(m)}_{i} + b^{[1]}_{2}) \\\\ \\vdots{} & \\vdots{} & \\ddots{} & \\vdots{} \\\\ \\sum{}^{n^{[0]}}_{i=1}(w^{[1]}_{n^{[1]},i} \\cdot{} x^{(1)}_{i} + b^{[1]}_{n^{[1]}}) & \\sum{}^{n^{[0]}}_{i=1}(w^{[1]}_{n^{[1]},i} \\cdot{} x^{(2)}_{i} + b^{[1]}_{n^{[1]}}) & \\cdots{} & \\sum{}^{n^{[0]}}_{i=1}(w^{[1]}_{n^{[1]},i} \\cdot{} x^{(m)}_{i} + b^{[1]}_{n^{[1]}}) \\end{bmatrix} $ \n",
    "#### $ \\hspace{0.8cm} = \\begin{bmatrix} z^{[1](1)}_{1} & z^{[1](2)}_{1} & \\cdots{} & z^{[1](m)}_{1} \\\\ z^{[1](1)}_{2} & z^{[1](2)}_{2} & \\cdots{} & z^{[1](m)}_{2}  \\\\ \\vdots{} & \\vdots{} & \\ddots{} & \\vdots{} \\\\ z^{[1](1)}_{n^{[1]}} & z^{[1](2)}_{n^{[1]}} & \\cdots{} & z^{[1](m)}_{n^{[1]}} \\end{bmatrix} = \\begin{bmatrix} \\textbf{z}^{[1](1)} & \\textbf{z}^{[1](2)} & \\cdots{} & \\textbf{z}^{[1](m)} \\end{bmatrix} $"
   ]
  },
  {
   "cell_type": "markdown",
   "metadata": {},
   "source": [
    "#### **(6) Activate Function of $ \\, 1 $-st Hidden Layer** :\n",
    "#### $ \\underset{n^{[1]}\\times{}m}{A^{[1]}} = g(Z^{[1]}) $\n",
    "#### $ \\hspace{0.65cm} = \\begin{bmatrix} g(\\textbf{z}^{[1](1)}) & g(\\textbf{z}^{[1](2)}) & \\cdots{} & g(\\textbf{z}^{[1](m)}) \\end{bmatrix} $ \n",
    "#### $ \\hspace{0.65cm} = \\begin{bmatrix} g(z^{[1](1)}_{1}) & g(z^{[1](2)}_{1}) & \\cdots{} & g(z^{[1](m)}_{1}) \\\\ g(z^{[1](1)}_{2}) & g(z^{[1](2)}_{2}) & \\cdots{} & g(z^{[1](m)}_{2}) \\\\ \\vdots{} & \\vdots{} & \\ddots{} & \\vdots{} \\\\ g(z^{[1](1)}_{n^{[1]}}) & g(z^{[1](2)}_{n^{[1]}}) & \\cdots{} & g(z^{[1](m)}_{n^{[1]}}) \\end{bmatrix} $\n",
    "#### $ \\hspace{0.65cm} = \\begin{bmatrix} a^{[1](1)}_{1} & a^{[1](2)}_{1} & \\cdots{} & a^{[1](m)}_{1} \\\\ a^{[1](1)}_{2} & a^{[1](2)}_{2} & \\cdots{} & a^{[1](m)}_{2} \\\\ \\vdots{} & \\vdots{} & \\ddots{} & \\vdots{} \\\\ a^{[1](1)}_{n^{[1]}} & a^{[1](2)}_{n^{[1]}} & \\cdots{} & a^{[1](m)}_{n^{[1]}} \\end{bmatrix} = \\begin{bmatrix} \\textbf{a}^{[1](1)} & \\textbf{a}^{[1](2)} & \\cdots{} & \\textbf{a}^{[1](m)} \\end{bmatrix} $"
   ]
  },
  {
   "cell_type": "markdown",
   "metadata": {},
   "source": [
    "#### **(7) Weight of Output Layer**(`parameter`) : \n",
    "#### $ \\underset{n^{[1]}\\times{}1}{W}^{[2]} = \\begin{bmatrix} w_{1,1}^{[2]} \\\\ w_{2,1}^{[2]} \\\\ \\vdots{} \\\\ w_{n^{[2]},1}^{[2]} \\end{bmatrix} $"
   ]
  },
  {
   "cell_type": "markdown",
   "metadata": {},
   "source": [
    "#### **(8) Bias of Output Layer**(`parameter`) : \n",
    "#### $ \\underset{1\\times{}m}B^{[2]} = \\begin{bmatrix} b^{[2]}_{1} & b^{[2]}_{2} & \\cdots{} & b^{[2]}_{m} \\end{bmatrix} \\;\\; \\text{ where } \\, b^{[2]}_{1} = b^{[2]}_{2} = \\cdots{} = b^{[2]}_{m} $"
   ]
  },
  {
   "cell_type": "markdown",
   "metadata": {},
   "source": [
    "#### **(9) Linear Transformation of Output Layer** :\n",
    "#### $ \\underset{1\\times{}m}{Z^{[2]}} = \\underset{1\\times{}k}{W^{[2]}} \\cdot{} \\underset{k\\times{}m}{A^{[1]}} + \\underset{1\\times{}m}{\\textbf{b}^{[2]}} $\n",
    "#### $ \\hspace{0.645cm} = \\begin{bmatrix} w_{1}^{[2]} & w_{2}^{[2]} & \\cdots{} & w_{k}^{[2]} \\end{bmatrix} \\cdot{} \\begin{bmatrix} a^{[1](1)}_{1} & a^{[1](2)}_{1} & \\cdots{} & a^{[1](m)}_{1} \\\\ a^{[1](1)}_{2} & a^{[1](2)}_{2} & \\cdots{} & a^{[1](m)}_{2} \\\\ \\vdots{} & \\vdots{} & \\ddots{} & \\vdots{} \\\\ a^{[1](1)}_{k} & a^{[1](2)}_{k} & \\cdots{} & a^{[1](m)}_{k} \\end{bmatrix} + \\begin{bmatrix} b^{[2]}_{1} & b^{[2]}_{2} & \\cdots{} & b^{[2]}_{m} \\end{bmatrix} $\n",
    "#### $ \\hspace{0.645cm} = \\begin{bmatrix} \\sum^{k}_{i=1}(w^{[2]}_{i} \\cdot{} a^{[1](1)}_{i} + b^{[2]}_{1}) & \\sum^{k}_{i=1}(w^{[2]}_{i} \\cdot{} a^{[1](2)}_{i} + b^{[2]}_{2}) & \\cdots{} & \\sum^{k}_{i=1}(w^{[2]}_{i} \\cdot{} a^{[1](m)}_{i} + b^{[2]}_{m}) \\end{bmatrix} $\n",
    "#### $ \\hspace{0.645cm} = \\begin{bmatrix} z^{[2](1)} & z^{[2](2)} & \\cdots{} & z^{[2](m)} \\end{bmatrix} $"
   ]
  },
  {
   "cell_type": "markdown",
   "metadata": {},
   "source": [
    "#### **(10) Estimate Target**($ \\hat{\\text{y}} $;`output`) : \n",
    "#### $ \\underset{1\\times{}m}{\\hat{Y}} = \\sigma{}(\\textbf{z}^{[2]}) $\n",
    "#### $ \\hspace{0.65cm} = \\begin{bmatrix} \\frac{1}{1+e^{-z^{[2](1)}}} & \\frac{1}{1+e^{-z^{[2](2)}}} & \\cdots{} & \\frac{1}{1+e^{-z^{[2](m)}}} \\end{bmatrix} $\n",
    "#### $ \\hspace{0.65cm} = \\begin{bmatrix} \\hat{y}^{(1)} & \\hat{y}^{(2)} & \\cdots{} & \\hat{y}^{(m)} \\end{bmatrix} $"
   ]
  },
  {
   "cell_type": "markdown",
   "metadata": {},
   "source": [
    "#### **(11) Loss Function** : log-loss\n",
    "#### $ \\underset{1\\times{m}}{L} = \\ell{}(\\underset{1\\times{}m}{\\hat{\\textbf{y}}},\\, \\underset{1\\times{}m}{\\textbf{y}}) \\;\\; $\n",
    "#### $ \\hspace{0.65cm} = \\begin{bmatrix} -(y^{(1)} \\cdot{} \\log{}(\\hat{y}^{(1)})+(1-y^{(1)}) \\cdot{} \\log{}(1-\\hat{y}^{(1)})) & \\cdots{} & -(y^{(m)} \\cdot{} \\log{}(\\hat{y}^{(m)})+(1-y^{(m)}) \\cdot{} \\log{}(1-\\hat{y}^{(m)}))\\end{bmatrix} $\n",
    "#### $ \\hspace{0.65cm} = \\begin{bmatrix} \\ell{}(\\hat{y}^{(1)},\\, y^{(1)}) & \\ell{}(\\hat{y}^{(2)},\\, y^{(2)}) & \\cdots{} & \\ell{}(\\hat{y}^{(m)},\\, y^{(m)}) \\end{bmatrix} $\n",
    "#### $ \\hspace{0.65cm} = \\begin{bmatrix} \\ell{}^{(1)} & \\ell{}^{(2)} & \\cdots{} & \\ell{}^{(m)} \\end{bmatrix} $"
   ]
  },
  {
   "cell_type": "markdown",
   "metadata": {},
   "source": [
    "#### **(12) Cost Function** : \n",
    "#### $ \\underset{1\\times{}1}{J} = J(W^{[1]},\\, \\textbf{b}^{[1]},\\, W^{[2]},\\, \\textbf{b}^{[2]}) = \\frac{1}{m} \\cdot{} \\displaystyle\\sum^{m}_{i=1} \\ell(\\hat{y}^{(i)},\\, y^{(i)}) = \\frac{1}{m} \\cdot{} L \\cdot{} \\underset{m\\times{}1}{\\textbf{1}} $"
   ]
  },
  {
   "cell_type": "markdown",
   "metadata": {},
   "source": [
    "<b></b>"
   ]
  },
  {
   "cell_type": "markdown",
   "metadata": {},
   "source": [
    "> ## **Back Propagation**"
   ]
  },
  {
   "cell_type": "markdown",
   "metadata": {},
   "source": [
    "#### **[GRAPH]**"
   ]
  },
  {
   "cell_type": "markdown",
   "metadata": {},
   "source": [
    "#### **(1) $ \\frac{\\partial{}J}{\\partial{}\\hat{\\textbf{y}}} $** : \n",
    "#### $ \\underset{1\\times{}m}{\\frac{\\partial{}J}{\\partial{}\\hat{\\textbf{y}}}} = \\frac{\\partial{}}{\\partial{}\\hat{\\textbf{y}}} \\cdot{} \\begin{bmatrix} \\frac{\\partial{}J}{\\partial{}\\hat{y}^{(1)}} & \\frac{\\partial{}J}{\\partial{}\\hat{y}^{(2)}} & \\cdots{} & \\frac{\\partial{}J}{{\\partial{}\\hat{y}^{(m)}}} \\end{bmatrix} $\n",
    "#### $ \\hspace{0.625cm} = \\begin{bmatrix} (-\\frac{y^{(1)}}{\\hat{y}^{(1)}}+\\frac{1-y^{(1)}}{1-\\hat{y}^{(1)}}) & (-\\frac{y^{(2)}}{\\hat{y}^{(2)}}+\\frac{1-y^{(2)}}{1-\\hat{y}^{(2)}}) & \\cdots{} & (-\\frac{y^{(m)}}{\\hat{y}^{(m)}}+\\frac{1-y^{(m)}}{1-\\hat{y}^{(m)}}) \\end{bmatrix} $ "
   ]
  },
  {
   "cell_type": "markdown",
   "metadata": {},
   "source": [
    "#### **(2) $ \\frac{\\partial{}J}{\\partial{}\\textbf{z}^{[2]}} $** :\n",
    "#### $ \\underset{1\\times{}m}{\\frac{\\partial{}J}{\\partial{}\\textbf{z}^{[2]}}} = \\frac{\\partial{}J}{\\partial{}\\hat{\\textbf{y}}} \\cdot{} \\frac{\\partial{}\\hat{\\textbf{y}}}{\\partial{}\\textbf{z}^{[2]}} $ \n",
    "#### $ \\hspace{0.67cm} = \\begin{bmatrix} (-\\frac{y^{(1)}}{\\hat{y}^{(1)}}+\\frac{1-y^{(1)}}{1-\\hat{y}^{(1)}}) & \\cdots{} & (-\\frac{y^{(m)}}{\\hat{y}^{(m)}}+\\frac{1-y^{(m)}}{1-\\hat{y}^{(m)}}) \\end{bmatrix} \\cdot{} \\begin{bmatrix} \\frac{\\partial{}\\hat{y}^{(1)}}{\\partial{}\\textbf{z}^{[2]}} \\\\ \\frac{\\partial{}\\hat{y}^{(2)}}{\\partial{}\\textbf{z}^{[2]}} \\\\ \\vdots{} \\\\ \\frac{\\partial{}\\hat{y}^{(m)}}{\\partial{}\\textbf{z}^{[2]}} \\end{bmatrix} $\n",
    "#### $ \\hspace{0.67cm} = \\begin{bmatrix} (-\\frac{y^{(1)}}{\\hat{y}^{(1)}}+\\frac{1-y^{(1)}}{1-\\hat{y}^{(1)}}) & \\cdots{} & (-\\frac{y^{(m)}}{\\hat{y}^{(m)}}+\\frac{1-y^{(m)}}{1-\\hat{y}^{(m)}}) \\end{bmatrix} \\cdot{} \\begin{bmatrix} \\frac{\\partial{}\\hat{y}^{(1)}}{\\partial{}z^{(1)}} & \\frac{\\partial{}\\hat{y}^{(1)}}{\\partial{}z^{(2)}} & \\cdots{} & \\frac{\\partial{}\\hat{y}^{(1)}}{\\partial{}z^{(m)}} \\\\ \\frac{\\partial{}\\hat{y}^{(2)}}{\\partial{}z^{(1)}} & \\frac{\\partial{}\\hat{y}^{(2)}}{\\partial{}z^{(2)}} & \\cdots{} & \\frac{\\partial{}\\hat{y}^{(2)}}{\\partial{}z^{(m)}} \\\\ \\vdots{} & \\vdots{} & \\ddots{} & \\vdots{} \\\\ \\frac{\\partial{}\\hat{y}^{(m)}}{\\partial{}z^{(1)}} & \\frac{\\partial{}\\hat{y}^{(m)}}{\\partial{}z^{(2)}} & \\cdots{} & \\frac{\\partial{}\\hat{y}^{(m)}}{\\partial{}z^{(m)}} \\end{bmatrix} $\n",
    "#### $ \\hspace{0.67cm} = \\underset{1\\times{}m}{\\begin{bmatrix} (-\\frac{y^{(1)}}{\\hat{y}^{(1)}}+\\frac{1-y^{(1)}}{1-\\hat{y}^{(1)}}) & \\cdots{} & (-\\frac{y^{(m)}}{\\hat{y}^{(m)}}+\\frac{1-y^{(m)}}{1-\\hat{y}^{(m)}}) \\end{bmatrix}} \\cdot{} \\underset{m\\times{}m}{\\begin{bmatrix} \\hat{y}^{(1)} \\cdot{} (1-\\hat{y}^{(1)}) & 0 & \\cdots{} & 0 \\\\ 0 & \\hat{y}^{(2)} \\cdot{} (1-\\hat{y}^{(2)}) & \\cdots{} & 0 \\\\ \\vdots{} & \\vdots{} & \\ddots{} & \\vdots{} \\\\ 0 & 0 & \\cdots{} & \\hat{y}^{(m)} \\cdot{} (1-\\hat{y}^{(m)}) \\end{bmatrix}} $\n",
    "#### $ \\hspace{0.67cm} = \\underset{1\\times{}m}{\\begin{bmatrix} (-\\frac{y^{(1)}}{\\hat{y}^{(1)}}+\\frac{1-y^{(1)}}{1-\\hat{y}^{(1)}}) \\cdot{} \\hat{y}^{(1)} \\cdot{} (1-\\hat{y}^{(1)}) & \\cdots{} & (-\\frac{y^{(m)}}{\\hat{y}^{(m)}}+\\frac{1-y^{(m)}}{1-\\hat{y}^{(m)}}) \\cdot{} \\hat{y}^{(m)} \\cdot{} (1-\\hat{y}^{(m)}) \\end{bmatrix}} $\n",
    "#### $ \\hspace{0.67cm} = \\begin{bmatrix} \\hat{y}^{(1)}-y^{(1)} & \\cdots{} & \\hat{y}^{(m)}-y^{(m)} \\end{bmatrix} $\n",
    "#### $ \\hspace{0.67cm} = \\hat{\\textbf{y}} - \\textbf{y} $"
   ]
  },
  {
   "cell_type": "markdown",
   "metadata": {},
   "source": [
    "#### **(3) $ \\frac{\\partial{}J}{\\partial{}W^{[2]}} $** :\n",
    "#### $ \\underset{1\\times{}k}{\\frac{\\partial{}J}{\\partial{}W^{[2]}}} = \\frac{\\partial{}J}{\\partial{}\\hat{\\textbf{y}}} \\cdot{} \\frac{\\partial{}\\hat{\\textbf{y}}}{\\partial{}\\textbf{z}^{[2]}} \\cdot{} \\frac{\\partial{}\\textbf{z}^{[2]}}{\\partial{}W^{[2]}} $\n",
    "#### $ \\hspace{0.795cm} = \\frac{\\partial{}J}{\\partial{}\\textbf{z}^{[2]}} \\cdot{} \\frac{\\partial{}\\textbf{z}^{[2]}}{\\partial{}W^{[2]}} $\n",
    "#### $ \\hspace{0.795cm} = \\begin{bmatrix} \\hat{y}^{(1)}-y^{(1)} & \\cdots{} & \\hat{y}^{(m)}-y^{(m)} \\end{bmatrix} \\cdot{} \\begin{bmatrix} \\frac{\\partial{}z^{[2](1)}}{\\partial{}W^{[2]}} \\\\ \\frac{\\partial{}z^{[2](2)}}{\\partial{}W^{[2]}} \\\\ \\vdots{} \\\\ \\frac{\\partial{}z^{[2](m)}}{\\partial{}W^{[2]}} \\end{bmatrix} $\n",
    "#### $ \\hspace{0.795cm} = \\begin{bmatrix} \\hat{y}^{(1)}-y^{(1)} & \\cdots{} & \\hat{y}^{(m)}-y^{(m)} \\end{bmatrix} \\cdot{} \\begin{bmatrix} \\frac{\\partial{}z^{[2](1)}}{\\partial{}w^{[2]}_{1}} & \\frac{\\partial{}z^{[2](1)}}{\\partial{}w^{[2]}_{2}} & \\cdots{} & \\frac{\\partial{}z^{[2](1)}}{\\partial{}w^{[2]}_{k}} \\\\ \\frac{\\partial{}z^{[2](2)}}{\\partial{}w^{[2]}_{1}} & \\frac{\\partial{}z^{[2](2)}}{\\partial{}w^{[2]}_{2}} & \\cdots{} & \\frac{\\partial{}z^{[2](2)}}{\\partial{}w^{[2]}_{k}} \\\\ \\vdots{} & \\vdots{} & \\ddots{} & \\vdots{} \\\\ \\frac{\\partial{}z^{[2](m)}}{\\partial{}w^{[2]}_{1}} & \\frac{\\partial{}z^{[2](m)}}{\\partial{}w^{[2]}_{2}} & \\cdots{} & \\frac{\\partial{}z^{[2](m)}}{\\partial{}w^{[2]}_{k}} \\end{bmatrix} $ \n",
    "#### $ \\hspace{0.795cm} = \\underset{1\\times{}m}{\\begin{bmatrix} \\hat{y}^{(1)}-y^{(1)} & \\cdots{} & \\hat{y}^{(m)}-y^{(m)} \\end{bmatrix}} \\cdot{} \\underset{m\\times{}k}{\\begin{bmatrix} a^{[1](1)}_{1} & a^{[1](2)}_{2} & \\cdots{} & a^{[1](m)}_{k} \\\\ a^{[1](2)}_{1} & a^{[1](2)}_{2} & \\cdots{} & a^{[1](m)}_{k} \\\\ \\vdots{} & \\vdots{} & \\ddots{} & \\vdots{} \\\\ a^{[1](m)}_{1} & a^{[1](m)}_{2} & \\cdots{} & a^{[1](m)}_{k} \\end{bmatrix}} $\n",
    "#### $ \\hspace{0.795cm} = \\underset{1\\times{}k}{\\begin{bmatrix} \\sum^{m}_{i=1}(\\hat{y}^{(i)}-y^{(i)}) \\cdot{} a^{[1](i)}_{1} & \\cdots{} & \\sum^{m}_{i=1}(\\hat{y}^{(i)}-y^{(i)}) \\cdot{} a^{[1](i)}_{k} \\end{bmatrix}} $\n",
    "#### $ \\hspace{0.795cm} = (\\hat{\\textbf{y}} - \\textbf{y}) \\cdot{} (A^{[1]})^{T} $"
   ]
  },
  {
   "cell_type": "markdown",
   "metadata": {},
   "source": [
    "#### **(4) $ \\frac{\\partial{}J}{\\partial{}b^{[2]}} $** :\n",
    "#### $ \\underset{1\\times{}m}{\\frac{\\partial{}J}{\\partial{}b^{[2]}}} = \\frac{\\partial{}J}{\\partial{}\\hat{\\textbf{y}}} \\cdot{} \\frac{\\partial{}\\hat{\\textbf{y}}}{\\partial{}\\textbf{z}^{[2]}} \\cdot{} \\frac{\\partial{}\\textbf{z}^{[2]}}{\\partial{}b^{[2]}} $\n",
    "#### $ \\hspace{0.63cm} = \\frac{\\partial{}J}{\\partial{}\\textbf{z}^{[2]}} \\cdot{} \\frac{\\partial{}\\textbf{z}^{[2]}}{\\partial{}b^{[2]}} $\n",
    "#### $ \\hspace{0.63cm} = \\begin{bmatrix} \\hat{y}^{(1)}-y^{(1)} & \\cdots{} & \\hat{y}^{(m)}-y^{(m)} \\end{bmatrix} \\cdot{} \\begin{bmatrix} \\frac{\\partial{}z^{[2](1)}}{\\partial{}\\textbf{b}^{[2]}} \\\\ \\frac{\\partial{}z^{[2](2)}}{\\partial{}\\textbf{b}^{[2]}} \\\\ \\vdots{} \\\\ \\frac{\\partial{}z^{[2](m)}}{\\partial{}\\textbf{b}^{[2]}} \\end{bmatrix} $\n",
    "#### $ \\hspace{0.63cm} = \\begin{bmatrix} \\hat{y}^{(1)}-y^{(1)} & \\cdots{} & \\hat{y}^{(m)}-y^{(m)} \\end{bmatrix} \\cdot{} \\begin{bmatrix} \\frac{\\partial{}z^{[2](1)}}{\\partial{}b^{[2]}_{1}} & \\frac{\\partial{}z^{[2](1)}}{\\partial{}b^{[2]}_{2}} & \\cdots{} & \\frac{\\partial{}z^{[2](1)}}{\\partial{}b^{[2]}_{m}} \\\\ \\frac{\\partial{}z^{[2](2)}}{\\partial{}b^{[2]}_{1}} & \\frac{\\partial{}z^{[2](2)}}{\\partial{}b^{[2]}_{2}} & \\cdots{} & \\frac{\\partial{}z^{[2](2)}}{\\partial{}b^{[2]}_{m}} \\\\ \\vdots{} & \\vdots{} & \\ddots{} & \\vdots{} \\\\ \\frac{\\partial{}z^{[2](m)}}{\\partial{}b^{[2]}_{1}} & \\frac{\\partial{}z^{[2](m)}}{\\partial{}b^{[2]}_{2}} & \\cdots{} & \\frac{\\partial{}z^{[2](m)}}{\\partial{}b^{[2]}_{m}} \\end{bmatrix} $\n",
    "#### $ \\hspace{0.63cm} = \\underset{1\\times{}m}{\\begin{bmatrix} \\hat{y}^{(1)}-y^{(1)} & \\cdots{} & \\hat{y}^{(m)}-y^{(m)} \\end{bmatrix}} \\cdot{} \\underset{m\\times{}m}{\\begin{bmatrix} 1 & 1 & \\cdots{} & 1 \\\\ 1 & 1 & \\cdots{} & 1 \\\\ \\vdots{} & \\vdots{} & \\ddots{} & \\vdots{} \\\\ 1 & 1 & \\cdots{} & 1 \\end{bmatrix}} $\n",
    "#### $ \\hspace{0.63cm} = \\underset{1\\times{}m}{\\begin{bmatrix} \\sum^{m}_{i=1}(\\hat{y}^{(i)}-y^{(i)}) & \\cdots{} & \\sum^{m}_{i=1}(\\hat{y}^{(i)}-y^{(i)}) \\end{bmatrix}} $\n",
    "#### $ \\hspace{0.63cm} = (\\hat{\\textbf{y}} - \\textbf{y}) \\cdot{} \\underset{m\\times{}m}{\\textbf{1}} $"
   ]
  },
  {
   "cell_type": "markdown",
   "metadata": {},
   "source": [
    "#### **(5) $ \\frac{\\partial{}J}{\\partial{}A^{[1]}} $** :\n",
    "#### $ \\underset{k\\times{}m}{\\frac{\\partial{}J}{\\partial{}A^{[1]}}} = \\frac{\\partial{}J}{\\partial{}\\hat{\\textbf{y}}} \\cdot{} \\frac{\\partial{}\\hat{\\textbf{y}}}{\\partial{}\\textbf{z}^{[2]}} \\cdot{} \\frac{\\partial{}\\textbf{z}^{[2]}}{\\partial{}A^{[1]}} $\n",
    "#### $ \\hspace{0.715cm} = \\frac{\\partial{}J}{\\partial{}\\textbf{z}^{[2]}} \\cdot{} \\frac{\\partial{}\\textbf{z}^{[2]}}{\\partial{}A^{[1]}} $\n",
    "#### $ \\hspace{0.715cm} = \\begin{bmatrix} \\hat{y}^{(1)}-y^{(1)} & \\cdots{} & \\hat{y}^{(m)}-y^{(m)} \\end{bmatrix} \\cdot{} \\underset{m\\times{}k\\times{}m}{\\begin{bmatrix} \\frac{\\partial{}z^{[2](1)}}{\\partial{}A^{[1]}} \\\\ \\frac{\\partial{}z^{[2](2)}}{\\partial{}A^{[1]}} \\\\ \\vdots{} \\\\ \\frac{\\partial{}z^{[2](m)}}{\\partial{}A^{[1]}} \\end{bmatrix}} $\n",
    "##### **(⚠️)** 메모리 효율성을 위해 대각 자코비안 $ \\, 3 $ 차원 텐서를 행렬로 축소 **(⚠️)**\n",
    "#### $ \\hspace{0.715cm} = \\begin{bmatrix} \\hat{y}^{(1)}-y^{(1)} & \\cdots{} & \\hat{y}^{(m)}-y^{(m)} \\end{bmatrix} \\cdot{} \\begin{bmatrix} \\frac{\\partial{}z^{[2](1)}}{\\partial{}a^{[1](1)}_{1}} & \\frac{\\partial{}z^{[2](1)}}{\\partial{}a^{[1](2)}_{1}} & \\cdots{} & \\frac{\\partial{}z^{[2](1)}}{\\partial{}a^{[1](m)}_{1}} \\\\ \\frac{\\partial{}z^{[2](2)}}{\\partial{}a^{[1](1)}_{2}} & \\frac{\\partial{}z^{[2](2)}}{\\partial{}a^{[1](2)}_{2}} & \\cdots{} & \\frac{\\partial{}z^{[2](2)}}{\\partial{}a^{[1](m)}_{2}} \\\\ \\vdots{} & \\vdots{} & \\ddots{} & \\vdots{} \\\\ \\frac{\\partial{}z^{[2](m)}}{\\partial{}a^{[1](1)}_{k}} & \\frac{\\partial{}z^{[2](m)}}{\\partial{}a^{[1](2)}_{k}} & \\cdots{} & \\frac{\\partial{}z^{[2](m)}}{\\partial{}a^{[1](m)}_{k}} \\end{bmatrix} $\n",
    "#### $ \\hspace{0.715cm} = \\underset{1\\times{}m}{\\begin{bmatrix} \\hat{y}^{(1)}-y^{(1)} & \\cdots{} & \\hat{y}^{(m)}-y^{(m)} \\end{bmatrix}} \\cdot{} \\underset{k\\times{}m}{\\begin{bmatrix} w^{[2]}_{1} & w^{[2]}_{1} & \\cdots{} & w^{[2]}_{1} \\\\ w^{[2]}_{2} & w^{[2]}_{2} & \\cdots{} & w^{[2]}_{2} \\\\ \\vdots{} & \\vdots{} & \\ddots{} & \\vdots{} \\\\ w^{[2]}_{k} & w^{[2]}_{k} & \\cdots{} & w^{[2]}_{k} \\end{bmatrix}} $\n",
    "##### **(⚠️)** 메모리 효율성을 위해 반복 행렬을 축소 **(⚠️)**\n",
    "#### $ \\hspace{0.715cm} \\coloneqq{} \\underset{1\\times{}m}{\\begin{bmatrix} \\hat{y}^{(1)}-y^{(1)} & \\cdots{} & \\hat{y}^{(m)}-y^{(m)} \\end{bmatrix}} \\cdot{} \\underset{k\\times{}1}{\\begin{bmatrix} w^{[2]}_{1} \\\\ w^{[2]}_{2} \\\\ \\cdots{} \\\\ w^{[2]}_{k} \\end{bmatrix}} $\n",
    "##### **(⚠️)** 차원 유지를 위해 연산 순서 치환 **(⚠️)**\n",
    "#### $ \\hspace{0.715cm} \\coloneqq{} \\begin{bmatrix} w^{[2]}_{1} \\\\ w^{[2]}_{2} \\\\ \\vdots{} \\\\ w^{[2]}_{k} \\end{bmatrix} \\cdot{} \\begin{bmatrix} \\hat{y}^{(1)}-y^{(1)} & \\cdots{} & \\hat{y}^{(m)}-y^{(m)} \\end{bmatrix} $\n",
    "#### $ \\hspace{0.715cm} = \\underset{k\\times{}m}{\\begin{bmatrix} w^{[2]}_{1} \\cdot{} (\\hat{y}^{(1)}-y^{(1)}) & w^{[2]}_{1} \\cdot{} (\\hat{y}^{(2)}-y^{(2)}) & \\cdots{} & w^{[2]}_{1} \\cdot{} (\\hat{y}^{(m)}-y^{(m)}) \\\\ w^{[2]}_{2} \\cdot{} (\\hat{y}^{(1)}-y^{(1)}) & w^{[2]}_{2} \\cdot{} (\\hat{y}^{(2)}-y^{(2)}) & \\cdots{} & w^{[2]}_{2} \\cdot{} (\\hat{y}^{(m)}-y^{(m)}) \\\\ \\vdots{} & \\vdots{} & \\ddots{} & \\vdots{} \\\\ w^{[2]}_{k} \\cdot{} (\\hat{y}^{(1)}-y^{(1)}) & w^{[2]}_{k} \\cdot{} (\\hat{y}^{(2)}-y^{(2)}) & \\cdots{} & w^{[2]}_{k} \\cdot{} (\\hat{y}^{(m)}-y^{(m)}) \\end{bmatrix}} $ \n",
    "#### $ \\hspace{0.715cm} = (W^{[2]})^{T} \\cdot{} (\\hat{\\textbf{y}} - \\textbf{y}) $"
   ]
  },
  {
   "cell_type": "markdown",
   "metadata": {},
   "source": [
    "#### **(6) $ \\frac{\\partial{}J}{\\partial{}Z^{[1]}} $** :\n",
    "#### $ \\underset{k\\times{}m}{\\frac{\\partial{}J}{\\partial{}Z^{[1]}}} = \\frac{\\partial{}J}{\\partial{}\\hat{\\textbf{y}}} \\cdot{} \\frac{\\partial{}\\hat{\\textbf{y}}}{\\partial{}\\textbf{z}^{[2]}} \\cdot{} \\frac{\\partial{}\\textbf{z}^{[2]}}{\\partial{}A^{[1]}} \\cdot{} \\frac{\\partial{}A^{[1]}}{\\partial{}Z^{[1]}} $\n",
    "#### $ \\hspace{0.715cm} = \\frac{\\partial{}J}{\\partial{}A^{[1]}} \\cdot{} \\frac{\\partial{}A^{[1]}}{\\partial{}Z^{[1]}} $ \n",
    "#### $ \\hspace{0.715cm} = \\begin{bmatrix} w^{[2]}_{1} \\cdot{} (\\hat{y}^{(1)}-y^{(1)}) & \\cdots{} & w^{[2]}_{1} \\cdot{} (\\hat{y}^{(m)}-y^{(m)}) \\\\ w^{[2]}_{2} \\cdot{} (\\hat{y}^{(1)}-y^{(1)}) & \\cdots{} & w^{[2]}_{2} \\cdot{} (\\hat{y}^{(m)}-y^{(m)}) \\\\ \\vdots{} & \\ddots{} & \\vdots{} \\\\ w^{[2]}_{k} \\cdot{} (\\hat{y}^{(1)}-y^{(1)}) & \\cdots{} & w^{[2]}_{k} \\cdot{} (\\hat{y}^{(m)}-y^{(m)}) \\end{bmatrix} \\cdot{} \\frac{\\partial{}A^{[1]}}{\\partial{}Z^{[1]}} $ \n",
    "#### $ \\hspace{0.715cm} = \\begin{bmatrix} w^{[2]}_{1} \\cdot{} (\\hat{y}^{(1)}-y^{(1)}) & \\cdots{} & w^{[2]}_{1} \\cdot{} (\\hat{y}^{(m)}-y^{(m)}) \\\\ w^{[2]}_{2} \\cdot{} (\\hat{y}^{(1)}-y^{(1)}) & \\cdots{} & w^{[2]}_{2} \\cdot{} (\\hat{y}^{(m)}-y^{(m)}) \\\\ \\vdots{} & \\ddots{} & \\vdots{} \\\\ w^{[2]}_{k} \\cdot{} (\\hat{y}^{(1)}-y^{(1)}) & \\cdots{} & w^{[2]}_{k} \\cdot{} (\\hat{y}^{(m)}-y^{(m)}) \\end{bmatrix} \\cdot{} \\begin{bmatrix} \\frac{\\partial{}\\textbf{a}^{[1](1)}}{\\partial{}Z^{[1]}} \\\\ \\frac{\\partial{}\\textbf{a}^{[1](2)}}{\\partial{}Z^{[1]}} \\\\ \\vdots{} \\\\ \\frac{\\partial{}\\textbf{a}^{[1](m)}}{\\partial{}Z^{[1]}} \\end{bmatrix} $ \n",
    "#### $ \\hspace{0.715cm} = \\begin{bmatrix} w^{[2]}_{1} \\cdot{} (\\hat{y}^{(1)}-y^{(1)}) & \\cdots{} & w^{[2]}_{1} \\cdot{} (\\hat{y}^{(m)}-y^{(m)}) \\\\ w^{[2]}_{2} \\cdot{} (\\hat{y}^{(1)}-y^{(1)}) & \\cdots{} & w^{[2]}_{2} \\cdot{} (\\hat{y}^{(m)}-y^{(m)}) \\\\ \\vdots{} & \\ddots{} & \\vdots{} \\\\ w^{[2]}_{k} \\cdot{} (\\hat{y}^{(1)}-y^{(1)}) & \\cdots{} & w^{[2]}_{k} \\cdot{} (\\hat{y}^{(m)}-y^{(m)}) \\end{bmatrix} \\cdot{} \\underset{k\\times{}m\\times{}k\\times{}m}{\\begin{bmatrix} \\frac{\\partial{}\\textbf{a}^{[1](1)}}{\\partial{}\\textbf{z}^{[1](1)}} & \\frac{\\partial{}\\textbf{a}^{[1](1)}}{\\partial{}\\textbf{z}^{[1](2)}} & \\cdots{} & \\frac{\\partial{}\\textbf{a}^{[1](1)}}{\\partial{}\\textbf{z}^{[1](m)}} \\\\ \\frac{\\partial{}\\textbf{a}^{[1](2)}}{\\partial{}\\textbf{z}^{[1](1)}} & \\frac{\\partial{}\\textbf{a}^{[1](2)}}{\\partial{}\\textbf{z}^{[1](2)}} & \\cdots{} & \\frac{\\partial{}\\textbf{a}^{[1](2)}}{\\partial{}\\textbf{z}^{[1](m)}} \\\\ \\vdots{} & \\vdots{} & \\ddots{} & \\vdots{} \\\\ \\frac{\\partial{}\\textbf{a}^{[1](m)}}{\\partial{}\\textbf{z}^{[1](1)}} & \\frac{\\partial{}\\textbf{a}^{[1](m)}}{\\partial{}\\textbf{z}^{[1](2)}} & \\cdots{} & \\frac{\\partial{}\\textbf{a}^{[1](m)}}{\\partial{}\\textbf{z}^{[1](m)}} \\end{bmatrix}} $\n",
    "##### **(⚠️)** 메모리 효율성을 위해 대각 자코비안 $ \\, 4 $ 차원 텐서를 행렬로 축소 **(⚠️)**\n",
    "#### $ \\hspace{0.715cm} \\coloneqq{} \\begin{bmatrix} w^{[2]}_{1} \\cdot{} (\\hat{y}^{(1)}-y^{(1)}) & \\cdots{} & w^{[2]}_{1} \\cdot{} (\\hat{y}^{(m)}-y^{(m)}) \\\\ w^{[2]}_{2} \\cdot{} (\\hat{y}^{(1)}-y^{(1)}) & \\cdots{} & w^{[2]}_{2} \\cdot{} (\\hat{y}^{(m)}-y^{(m)}) \\\\ \\vdots{} & \\ddots{} & \\vdots{} \\\\ w^{[2]}_{k} \\cdot{} (\\hat{y}^{(1)}-y^{(1)}) & \\cdots{} & w^{[2]}_{k} \\cdot{} (\\hat{y}^{(m)}-y^{(m)}) \\end{bmatrix} \\cdot{} \\begin{bmatrix} \\frac{\\partial{}a^{[1](1)}_{1}}{\\partial{}z^{[1](1)}_{1}} & \\frac{\\partial{}a^{[1](2)}_{1}}{\\partial{}z^{[1](2)}_{1}} & \\cdots & \\frac{\\partial{}a^{[1](m)}_{1}}{\\partial{}z^{[1](m)}_{1}} \\\\ \\frac{\\partial{}a^{[1](1)}_{2}}{\\partial{}z^{[1](1)}_{2}} & \\frac{\\partial{}a^{[1](2)}_{2}}{\\partial{}z^{[1](2)}_{2}} & \\cdots & \\frac{\\partial{}a^{[1](m)}_{2}}{\\partial{}z^{[1](m)}_{2}} \\\\ \\vdots{} & \\vdots{} & \\ddots{} & \\vdots{} \\\\ \\frac{\\partial{}a^{[1](1)}_{k}}{\\partial{}z^{[1](1)}_{k}} & \\frac{\\partial{}a^{[1](2)}_{k}}{\\partial{}z^{[1](2)}_{k}} & \\cdots & \\frac{\\partial{}a^{[1](m)}_{k}}{\\partial{}z^{[1](m)}_{k}} \\end{bmatrix} $ \n",
    "#### $ \\hspace{0.715cm} = \\underset{k\\times{}m}{\\begin{bmatrix} w^{[2]}_{1} \\cdot{} (\\hat{y}^{(1)}-y^{(1)}) & \\cdots{} & w^{[2]}_{1} \\cdot{} (\\hat{y}^{(m)}-y^{(m)}) \\\\ w^{[2]}_{2} \\cdot{} (\\hat{y}^{(1)}-y^{(1)}) & \\cdots{} & w^{[2]}_{2} \\cdot{} (\\hat{y}^{(m)}-y^{(m)}) \\\\ \\vdots{} & \\ddots{} & \\vdots{} \\\\ w^{[2]}_{k} \\cdot{} (\\hat{y}^{(1)}-y^{(1)}) & \\cdots{} & w^{[2]}_{k} \\cdot{} (\\hat{y}^{(m)}-y^{(m)}) \\end{bmatrix}} \\cdot{} \\underset{k\\times{}m}{\\begin{bmatrix} g'(z^{[1](1)}_{1}) & g'(z^{[1](2)}_{1}) & \\cdots{} & g'(z^{[1](m)}_{1}) \\\\ g'(z^{[1](1)}_{2}) & g'(z^{[1](2)}_{2}) & \\cdots{} & g'(z^{[1](m)}_{2})  \\\\ \\vdots{} & \\vdots{} & \\ddots{} & \\vdots{} \\\\ g'(z^{[1](1)}_{k}) & g'(z^{[1](2)}_{k}) & \\cdots{} & g'(z^{[1](m)}_{k}) \\end{bmatrix}} $\n",
    "##### **(⚠️)** 차원 유지를 위해 요소별곱(element-wise product;$ \\, \\odot{} $) 계산 **(⚠️)**\n",
    "#### $ \\hspace{0.715cm} \\coloneqq{} \\underset{k\\times{}m}{\\begin{bmatrix} w^{[2]}_{1} \\cdot{} (\\hat{y}^{(1)}-y^{(1)}) & \\cdots{} & w^{[2]}_{1} \\cdot{} (\\hat{y}^{(m)}-y^{(m)}) \\\\ w^{[2]}_{2} \\cdot{} (\\hat{y}^{(1)}-y^{(1)}) & \\cdots{} & w^{[2]}_{2} \\cdot{} (\\hat{y}^{(m)}-y^{(m)}) \\\\ \\vdots{} & \\ddots{} & \\vdots{} \\\\ w^{[2]}_{k} \\cdot{} (\\hat{y}^{(1)}-y^{(1)}) & \\cdots{} & w^{[2]}_{k} \\cdot{} (\\hat{y}^{(m)}-y^{(m)}) \\end{bmatrix}} \\odot{} \\underset{k\\times{}m}{\\begin{bmatrix} g'(z^{[1](1)}_{1}) & \\cdots{} & g'(z^{[1](m)}_{1}) \\\\ g'(z^{[1](1)}_{2}) & \\cdots{} & g'(z^{[1](m)}_{2}) \\\\ \\vdots{} & \\ddots{} & \\vdots{} \\\\ g'(z^{[1](1)}_{k}) & \\cdots{} & g'(z^{[1](m)}_{k}) \\end{bmatrix}} $\n",
    "#### $ \\hspace{0.715cm} = \\underset{k\\times{}m}{\\begin{bmatrix} w^{[2]}_{1} \\cdot{} (\\hat{y}^{(1)}-y^{(1)}) \\cdot{} g'(z^{[1](1)}_{1}) & w^{[2]}_{1} \\cdot{} (\\hat{y}^{(2)}-y^{(2)}) \\cdot{} g'(z^{[1](2)}_{1}) & \\cdots{} & w^{[2]}_{1} \\cdot{} (\\hat{y}^{(m)}-y^{(m)}) \\cdot{} g'(z^{[1](m)}_{1}) \\\\ w^{[2]}_{2} \\cdot{} (\\hat{y}^{(1)}-y^{(1)}) \\cdot{} g'(z^{[1](1)}_{2}) & w^{[2]}_{2} \\cdot{} (\\hat{y}^{(2)}-y^{(2)}) \\cdot{} g'(z^{[1](2)}_{2}) & \\cdots{} & w^{[2]}_{2} \\cdot{} (\\hat{y}^{(m)}-y^{(m)}) \\cdot{} g'(z^{[1](m)}_{2}) \\\\ \\vdots{} & \\vdots{} & \\ddots{} & \\vdots{} \\\\ w^{[2]}_{k} \\cdot{} (\\hat{y}^{(1)}-y^{(1)}) \\cdot{} g'(z^{[1](1)}_{k}) & w^{[2]}_{k} \\cdot{} (\\hat{y}^{(2)}-y^{(2)}) \\cdot{} g'(z^{[1](2)}_{k}) & \\cdots{} & w^{[2]}_{k} \\cdot{} (\\hat{y}^{(m)}-y^{(m)}) \\cdot{} g'(z^{[1](m)}_{k}) \\end{bmatrix}} $ \n",
    "#### $ \\hspace{0.715cm} = (W^{[2]})^{T} \\cdot{} (\\hat{\\textbf{y}} - \\textbf{y}) \\odot{} g'(Z^{[1]}) $ "
   ]
  },
  {
   "cell_type": "markdown",
   "metadata": {},
   "source": [
    "#### **(7) $ \\frac{\\partial{}J}{\\partial{}W^{[1]}} $** :\n",
    "#### $ \\underset{k\\times{}n}{\\frac{\\partial{}J}{\\partial{}W^{[1]}}} = \\frac{\\partial{}J}{\\partial{}\\hat{\\textbf{y}}} \\cdot{} \\frac{\\partial{}\\hat{\\textbf{y}}}{\\partial{}\\textbf{z}^{[2]}} \\cdot{} \\frac{\\partial{}\\textbf{z}^{[2]}}{\\partial{}A^{[1]}} \\cdot{} \\frac{\\partial{}A^{[1]}}{\\partial{}Z^{[1]}} \\cdot{} \\frac{\\partial{}Z^{[1]}}{\\partial{}W^{[1]}} $\n",
    "#### $ \\hspace{0.815cm} = \\frac{\\partial{}J}{\\partial{}Z^{[1]}} \\cdot{} \\frac{\\partial{}Z^{[1]}}{\\partial{}W^{[1]}} $ \n",
    "#### $ \\hspace{0.815cm} = \\begin{bmatrix} w^{[2]}_{1} \\cdot{} (\\hat{y}^{(1)}-y^{(1)}) \\cdot{} g'(z^{[1](1)}_{1}) & \\cdots{} & w^{[2]}_{1} \\cdot{} (\\hat{y}^{(m)}-y^{(m)}) \\cdot{} g'(z^{[1](m)}_{1}) \\\\ w^{[2]}_{2} \\cdot{} (\\hat{y}^{(1)}-y^{(1)}) \\cdot{} g'(z^{[1](1)}_{2}) & \\cdots{} & w^{[2]}_{2} \\cdot{} (\\hat{y}^{(m)}-y^{(m)}) \\cdot{} g'(z^{[1](m)}_{2}) \\\\ \\vdots{} & \\ddots{} & \\vdots{} \\\\ w^{[2]}_{k} \\cdot{} (\\hat{y}^{(1)}-y^{(1)}) \\cdot{} g'(z^{[1](1)}_{k}) & \\cdots{} & w^{[2]}_{k} \\cdot{} (\\hat{y}^{(m)}-y^{(m)}) \\cdot{} g'(z^{[1](m)}_{k}) \\end{bmatrix} \\cdot{} \\frac{\\partial{}Z^{[1]}}{\\partial{}W^{[1]}} $\n",
    "#### $ \\hspace{0.815cm} = \\begin{bmatrix} w^{[2]}_{1} \\cdot{} (\\hat{y}^{(1)}-y^{(1)}) \\cdot{} g'(z^{[1](1)}_{1}) & \\cdots{} & w^{[2]}_{1} \\cdot{} (\\hat{y}^{(m)}-y^{(m)}) \\cdot{} g'(z^{[1](m)}_{1}) \\\\ w^{[2]}_{2} \\cdot{} (\\hat{y}^{(1)}-y^{(1)}) \\cdot{} g'(z^{[1](1)}_{2}) & \\cdots{} & w^{[2]}_{2} \\cdot{} (\\hat{y}^{(m)}-y^{(m)}) \\cdot{} g'(z^{[1](m)}_{2}) \\\\ \\vdots{} & \\ddots{} & \\vdots{} \\\\ w^{[2]}_{k} \\cdot{} (\\hat{y}^{(1)}-y^{(1)}) \\cdot{} g'(z^{[1](1)}_{k}) & \\cdots{} & w^{[2]}_{k} \\cdot{} (\\hat{y}^{(m)}-y^{(m)}) \\cdot{} g'(z^{[1](m)}_{k}) \\end{bmatrix} \\cdot{} \\begin{bmatrix} \\frac{\\partial{}\\textbf{z}^{[1](1)}}{\\partial{}W^{[1]}} \\\\ \\frac{\\partial{}\\textbf{z}^{[1](2)}}{\\partial{}W^{[1]}} \\\\ \\vdots{} \\\\ \\frac{\\partial{}\\textbf{z}^{[1](m)}}{\\partial{}W^{[1]}} \\end{bmatrix} $\n",
    "#### $ \\hspace{0.815cm} = \\begin{bmatrix} w^{[2]}_{1} \\cdot{} (\\hat{y}^{(1)}-y^{(1)}) \\cdot{} g'(z^{[1](1)}_{1}) & \\cdots{} & w^{[2]}_{1} \\cdot{} (\\hat{y}^{(m)}-y^{(m)}) \\cdot{} g'(z^{[1](m)}_{1}) \\\\ w^{[2]}_{2} \\cdot{} (\\hat{y}^{(1)}-y^{(1)}) \\cdot{} g'(z^{[1](1)}_{2}) & \\cdots{} & w^{[2]}_{2} \\cdot{} (\\hat{y}^{(m)}-y^{(m)}) \\cdot{} g'(z^{[1](m)}_{2}) \\\\ \\vdots{} & \\ddots{} & \\vdots{} \\\\ w^{[2]}_{k} \\cdot{} (\\hat{y}^{(1)}-y^{(1)}) \\cdot{} g'(z^{[1](1)}_{k}) & \\cdots{} & w^{[2]}_{k} \\cdot{} (\\hat{y}^{(m)}-y^{(m)}) \\cdot{} g'(z^{[1](m)}_{k}) \\end{bmatrix} \\cdot{} \\underset{k\\times{}m\\times{}k\\times{}n}{\\begin{bmatrix} \\frac{\\partial{}\\textbf{z}^{[1](1)}}{\\partial{}(\\textbf{w}^{[1]}_{1})^{T}} & \\frac{\\partial{}\\textbf{z}^{[1](1)}}{\\partial{}(\\textbf{w}^{[1]}_{2})^{T}} & \\cdots{} & \\frac{\\partial{}\\textbf{z}^{[1](1)}}{\\partial{}(\\textbf{w}^{[1]}_{k})^{T}} \\\\ \\frac{\\partial{}\\textbf{z}^{[1](2)}}{\\partial{}(\\textbf{w}^{[1]}_{1})^{T}} & \\frac{\\partial{}\\textbf{z}^{[1](2)}}{\\partial{}(\\textbf{w}^{[1]}_{2})^{T}} & \\cdots{} & \\frac{\\partial{}\\textbf{z}^{[1](2)}}{\\partial{}(\\textbf{w}^{[1]}_{k})^{T}} \\\\ \\vdots{} & \\vdots{} & \\ddots{} & \\vdots{} \\\\ \\frac{\\partial{}\\textbf{z}^{[1](m)}}{\\partial{}(\\textbf{w}^{[1]}_{1})^{T}} & \\frac{\\partial{}\\textbf{z}^{[1](m)}}{\\partial{}(\\textbf{w}^{[1]}_{2})^{T}} & \\cdots{} & \\frac{\\partial{}\\textbf{z}^{[1](m)}}{\\partial{}(\\textbf{w}^{[1]}_{k})^{T}} \\end{bmatrix}} $\n",
    "##### **(⚠️)** 메모리 효율성을 위해 대각 자코비안 $ \\, 4 $ 차원 텐서를 행렬로 축소 **(⚠️)**\n",
    "#### $ \\hspace{0.815cm} \\coloneqq{} \\begin{bmatrix} w^{[2]}_{1} \\cdot{} (\\hat{y}^{(1)}-y^{(1)}) \\cdot{} g'(z^{[1](1)}_{1}) & \\cdots{} & w^{[2]}_{1} \\cdot{} (\\hat{y}^{(m)}-y^{(m)}) \\cdot{} g'(z^{[1](m)}_{1}) \\\\ w^{[2]}_{2} \\cdot{} (\\hat{y}^{(1)}-y^{(1)}) \\cdot{} g'(z^{[1](1)}_{2}) & \\cdots{} & w^{[2]}_{2} \\cdot{} (\\hat{y}^{(m)}-y^{(m)}) \\cdot{} g'(z^{[1](m)}_{2}) \\\\ \\vdots{} & \\ddots{} & \\vdots{} \\\\ w^{[2]}_{k} \\cdot{} (\\hat{y}^{(1)}-y^{(1)}) \\cdot{} g'(z^{[1](1)}_{k}) & \\cdots{} & w^{[2]}_{k} \\cdot{} (\\hat{y}^{(m)}-y^{(m)}) \\cdot{} g'(z^{[1](m)}_{k}) \\end{bmatrix} \\cdot{} \\begin{bmatrix} \\frac{\\partial{} z_{1}^{[1](1)}}{\\partial{} w_{1,1}^{[1]}} & \\frac{\\partial{} z_{1}^{[1](1)}}{\\partial{} w_{1,2}^{[1]}} & \\cdots & \\frac{\\partial{} z_{1}^{[1](1)}}{\\partial{} w_{1,n}^{[1]}} \\\\ \\frac{\\partial{} z_{2}^{[1](2)}}{\\partial{} w_{2,1}^{[1]}} & \\frac{\\partial{} z_{2}^{[1](2)}}{\\partial{} w_{2,2}^{[1]}} & \\cdots & \\frac{\\partial{} z_{2}^{[1](2)}}{\\partial{} w_{2,n}^{[1]}} \\\\ \\vdots{} & \\vdots{} & \\ddots{} & \\vdots{} \\\\ \\frac{\\partial{} z_{k}^{[1](m)}}{\\partial{} w_{k,1}^{[1]}} & \\frac{\\partial{} z_{k}^{[1](m)}}{\\partial{} w_{k,2}^{[1]}} & \\cdots & \\frac{\\partial{} z_{k}^{[1](m)}}{\\partial{} w_{k,n}^{[1]}} \\end{bmatrix} $\n",
    "#### $ \\hspace{0.815cm} = \\underset{k\\times{}m}{\\begin{bmatrix} w^{[2]}_{1} \\cdot{} (\\hat{y}^{(1)}-y^{(1)}) \\cdot{} g'(z^{[1](1)}_{1}) & \\cdots{} & w^{[2]}_{1} \\cdot{} (\\hat{y}^{(m)}-y^{(m)}) \\cdot{} g'(z^{[1](m)}_{1}) \\\\ w^{[2]}_{2} \\cdot{} (\\hat{y}^{(1)}-y^{(1)}) \\cdot{} g'(z^{[1](1)}_{2}) & \\cdots{} & w^{[2]}_{2} \\cdot{} (\\hat{y}^{(m)}-y^{(m)}) \\cdot{} g'(z^{[1](m)}_{2}) \\\\ \\vdots{} & \\ddots{} & \\vdots{} \\\\ w^{[2]}_{k} \\cdot{} (\\hat{y}^{(1)}-y^{(1)}) \\cdot{} g'(z^{[1](1)}_{k}) & \\cdots{} & w^{[2]}_{k} \\cdot{} (\\hat{y}^{(m)}-y^{(m)}) \\cdot{} g'(z^{[1](m)}_{k}) \\end{bmatrix}} \\cdot{} \\underset{m\\times{}n}{\\begin{bmatrix} x^{(1)}_{1} & x^{(1)}_{2} & \\cdots{} & x^{(1)}_{n} \\\\ x^{(2)}_{1} & x^{(2)}_{2} & \\cdots{} & x^{(2)}_{n} \\\\ \\vdots{} & \\vdots{} & \\ddots{} & \\vdots{} \\\\ x^{(m)}_{1} & x^{(m)}_{2} & \\cdots{} & x^{(m)}_{n} \\end{bmatrix}} $\n",
    "#### $ \\hspace{0.815cm} = \\underset{k\\times{}n}{\\begin{bmatrix} \\sum{}^{m}_{i=1}w^{[2]}_{1} \\cdot{} (\\hat{y}^{(i)}-y^{(i)}) \\cdot{} g'(z^{[1](i)}_{1}) \\cdot{} x^{(i)}_{1} & \\cdots{} & \\sum{}^{m}_{i=1}w^{[2]}_{1} \\cdot{} (\\hat{y}^{(i)}-y^{(i)}) \\cdot{} g'(z^{[1](i)}_{1}) \\cdot{} x^{(i)}_{n} \\\\ \\sum{}^{m}_{i=1}w^{[2]}_{2} \\cdot{} (\\hat{y}^{(i)}-y^{(i)}) \\cdot{} g'(z^{[1](i)}_{2}) \\cdot{} x^{(i)}_{1} & \\cdots{} & \\sum{}^{m}_{i=1}w^{[2]}_{2} \\cdot{} (\\hat{y}^{(i)}-y^{(i)}) \\cdot{} g'(z^{[1](i)}_{2}) \\cdot{} x^{(i)}_{n} \\\\ \\vdots{} & \\ddots{} & \\vdots{} \\\\ \\sum{}^{m}_{i=1}w^{[2]}_{k} \\cdot{} (\\hat{y}^{(i)}-y^{(i)}) \\cdot{} g'(z^{[1](i)}_{k}) \\cdot{} x^{(i)}_{1} & \\cdots{} & \\sum{}^{m}_{i=1}w^{[2]}_{k} \\cdot{} (\\hat{y}^{(i)}-y^{(i)}) \\cdot{} g'(z^{[1](i)}_{k}) \\cdot{} x^{(i)}_{n} \\end{bmatrix}} $\n",
    "#### $ \\hspace{0.815cm} = (W^{[2]})^{T} \\cdot{} (\\hat{\\textbf{y}} - \\textbf{y}) \\odot{} g'(Z^{[1]}) \\cdot{} X^{T} $"
   ]
  },
  {
   "cell_type": "markdown",
   "metadata": {},
   "source": [
    "#### **(8) $ \\frac{\\partial{}J}{\\partial{}\\textbf{b}^{[1]}} $** :\n",
    "#### $ \\underset{k\\times{}m}{\\frac{\\partial{}J}{\\partial{}\\textbf{b}^{[1]}}} = \\frac{\\partial{}J}{\\partial{}\\hat{\\textbf{y}}} \\cdot{} \\frac{\\partial{}\\hat{\\textbf{y}}}{\\partial{}\\textbf{z}^{[2]}} \\cdot{} \\frac{\\partial{}\\textbf{z}^{[2]}}{\\partial{}A^{[1]}} \\cdot{} \\frac{\\partial{}A^{[1]}}{\\partial{}Z^{[1]}} \\cdot{} \\frac{\\partial{}Z^{[1]}}{\\partial{}\\textbf{b}^{[1]}} $ \n",
    "#### $ \\hspace{0.71cm} = \\frac{\\partial{}J}{\\partial{}Z^{[1]}} \\cdot{} \\frac{\\partial{}Z^{[1]}}{\\partial{}\\textbf{b}^{[1]}} $ \n",
    "#### $ \\hspace{0.71cm} = \\begin{bmatrix} w^{[2]}_{1} \\cdot{} (\\hat{y}^{(1)}-y^{(1)}) \\cdot{} g'(z^{[1](1)}_{1}) & \\cdots{} & w^{[2]}_{1} \\cdot{} (\\hat{y}^{(m)}-y^{(m)}) \\cdot{} g'(z^{[1](m)}_{1}) \\\\ w^{[2]}_{2} \\cdot{} (\\hat{y}^{(1)}-y^{(1)}) \\cdot{} g'(z^{[1](1)}_{2}) & \\cdots{} & w^{[2]}_{2} \\cdot{} (\\hat{y}^{(m)}-y^{(m)}) \\cdot{} g'(z^{[1](m)}_{2}) \\\\ \\vdots{} & \\ddots{} & \\vdots{} \\\\ w^{[2]}_{k} \\cdot{} (\\hat{y}^{(1)}-y^{(1)}) \\cdot{} g'(z^{[1](1)}_{k}) & \\cdots{} & w^{[2]}_{k} \\cdot{} (\\hat{y}^{(m)}-y^{(m)}) \\cdot{} g'(z^{[1](m)}_{k}) \\end{bmatrix} \\cdot{} \\frac{\\partial{}Z^{[1]}}{\\partial{}\\textbf{b}^{[1]}} $\n",
    "#### $ \\hspace{0.71cm} = \\begin{bmatrix} w^{[2]}_{1} \\cdot{} (\\hat{y}^{(1)}-y^{(1)}) \\cdot{} g'(z^{[1](1)}_{1}) & \\cdots{} & w^{[2]}_{1} \\cdot{} (\\hat{y}^{(m)}-y^{(m)}) \\cdot{} g'(z^{[1](m)}_{1}) \\\\ w^{[2]}_{2} \\cdot{} (\\hat{y}^{(1)}-y^{(1)}) \\cdot{} g'(z^{[1](1)}_{2}) & \\cdots{} & w^{[2]}_{2} \\cdot{} (\\hat{y}^{(m)}-y^{(m)}) \\cdot{} g'(z^{[1](m)}_{2}) \\\\ \\vdots{} & \\ddots{} & \\vdots{} \\\\ w^{[2]}_{k} \\cdot{} (\\hat{y}^{(1)}-y^{(1)}) \\cdot{} g'(z^{[1](1)}_{k}) & \\cdots{} & w^{[2]}_{k} \\cdot{} (\\hat{y}^{(m)}-y^{(m)}) \\cdot{} g'(z^{[1](m)}_{k}) \\end{bmatrix} \\cdot{} \\underset{k\\times{}m\\times{}k}{\\begin{bmatrix} \\frac{\\partial{}\\textbf{z}^{[1](1)}}{\\partial{}\\textbf{b}^{[1]}} \\\\ \\frac{\\partial{}\\textbf{z}^{[1](2)}}{\\partial{}\\textbf{b}^{[1]}} \\\\ \\vdots{} \\\\ \\frac{\\partial{}\\textbf{z}^{[1](m)}}{\\partial{}\\textbf{b}^{[1]}} \\end{bmatrix}} $\n",
    "##### **(⚠️)** 메모리 효율성을 위해 대각 자코비안 $ \\, 3 $ 차원 텐서를 행렬로 축소 **(⚠️)**\n",
    "#### $ \\hspace{0.71cm} \\coloneqq{} \\begin{bmatrix} w^{[2]}_{1} \\cdot{} (\\hat{y}^{(1)}-y^{(1)}) \\cdot{} g'(z^{[1](1)}_{1}) & \\cdots{} & w^{[2]}_{1} \\cdot{} (\\hat{y}^{(m)}-y^{(m)}) \\cdot{} g'(z^{[1](m)}_{1}) \\\\ w^{[2]}_{2} \\cdot{} (\\hat{y}^{(1)}-y^{(1)}) \\cdot{} g'(z^{[1](1)}_{2}) & \\cdots{} & w^{[2]}_{2} \\cdot{} (\\hat{y}^{(m)}-y^{(m)}) \\cdot{} g'(z^{[1](m)}_{2}) \\\\ \\vdots{} & \\ddots{} & \\vdots{} \\\\ w^{[2]}_{k} \\cdot{} (\\hat{y}^{(1)}-y^{(1)}) \\cdot{} g'(z^{[1](1)}_{k}) & \\cdots{} & w^{[2]}_{k} \\cdot{} (\\hat{y}^{(m)}-y^{(m)}) \\cdot{} g'(z^{[1](m)}_{k}) \\end{bmatrix} \\cdot{} \\begin{bmatrix} \\frac{\\partial{}z^{[1](1)}_{1}}{\\partial{}b^{[1]}_{1}} & \\frac{\\partial{}z^{[1](2)}_{1}}{\\partial{}b^{[1]}_{1}} & \\cdots & \\frac{\\partial{}z^{[1](m)}_{1}}{\\partial{}b^{[1]}_1} \\\\ \\frac{\\partial{}z^{[1](1)}_{2}}{\\partial{}b^{[1]}_{2}} & \\frac{\\partial{}z^{[1](2)}_{2}}{\\partial{}b^{[1]}_{2}} & \\cdots & \\frac{\\partial{}z^{[1](m)}_{2}}{\\partial{}b^{[1]}_2} \\\\ \\vdots & \\vdots & \\ddots & \\vdots \\\\ \\frac{\\partial{}z^{[1](1)}_{k}}{\\partial{}b^{[1]}_{k}} & \\frac{\\partial{}z^{[1](2)}_{k}}{\\partial{}b^{[1]}_{k}} & \\cdots & \\frac{\\partial{}z^{[1](m)}_{k}}{\\partial{}b^{[1]}_k} \\end{bmatrix} $\n",
    "#### $ \\hspace{0.71cm} = \\underset{k\\times{}m}{\\begin{bmatrix} w^{[2]}_{1} \\cdot{} (\\hat{y}^{(1)}-y^{(1)}) \\cdot{} g'(z^{[1](1)}_{1}) & \\cdots{} & w^{[2]}_{1} \\cdot{} (\\hat{y}^{(m)}-y^{(m)}) \\cdot{} g'(z^{[1](m)}_{1}) \\\\ w^{[2]}_{2} \\cdot{} (\\hat{y}^{(1)}-y^{(1)}) \\cdot{} g'(z^{[1](1)}_{2}) & \\cdots{} & w^{[2]}_{2} \\cdot{} (\\hat{y}^{(m)}-y^{(m)}) \\cdot{} g'(z^{[1](m)}_{2}) \\\\ \\vdots{} & \\ddots{} & \\vdots{} \\\\ w^{[2]}_{k} \\cdot{} (\\hat{y}^{(1)}-y^{(1)}) \\cdot{} g'(z^{[1](1)}_{k}) & \\cdots{} & w^{[2]}_{k} \\cdot{} (\\hat{y}^{(m)}-y^{(m)}) \\cdot{} g'(z^{[1](m)}_{k}) \\end{bmatrix}} \\cdot{} \\underset{k\\times{}m}{\\begin{bmatrix} 1 & 1 & \\cdots & 1 \\\\ 1 & 1 & \\cdots & 1 \\\\ \\vdots{} & \\vdots{} & \\ddots{} & \\vdots{} \\\\ 1 & 1 & \\cdots & 1 \\end{bmatrix}} $\n",
    "##### **(⚠️)** 차원 유지를 위해 요소별곱(element-wise product;$ \\, \\odot{} $) 계산 **(⚠️)**\n",
    "#### $ \\hspace{0.71cm} \\coloneqq{} \\begin{bmatrix} w^{[2]}_{1} \\cdot{} (\\hat{y}^{(1)}-y^{(1)}) \\cdot{} g'(z^{[1](1)}_{1}) & \\cdots{} & w^{[2]}_{1} \\cdot{} (\\hat{y}^{(m)}-y^{(m)}) \\cdot{} g'(z^{[1](m)}_{1}) \\\\ w^{[2]}_{2} \\cdot{} (\\hat{y}^{(1)}-y^{(1)}) \\cdot{} g'(z^{[1](1)}_{2}) & \\cdots{} & w^{[2]}_{2} \\cdot{} (\\hat{y}^{(m)}-y^{(m)}) \\cdot{} g'(z^{[1](m)}_{2}) \\\\ \\vdots{} & \\ddots{} & \\vdots{} \\\\ w^{[2]}_{k} \\cdot{} (\\hat{y}^{(1)}-y^{(1)}) \\cdot{} g'(z^{[1](1)}_{k}) & \\cdots{} & w^{[2]}_{k} \\cdot{} (\\hat{y}^{(m)}-y^{(m)}) \\cdot{} g'(z^{[1](m)}_{k}) \\end{bmatrix} \\odot{} \\begin{bmatrix} 1 & 1 & \\cdots & 1 \\\\ 1 & 1 & \\cdots & 1 \\\\ \\vdots{} & \\vdots{} & \\ddots{} & \\vdots{} \\\\ 1 & 1 & \\cdots & 1 \\end{bmatrix} $\n",
    "#### $ \\hspace{0.71cm} = \\begin{bmatrix} w^{[2]}_{1} \\cdot{} (\\hat{y}^{(1)}-y^{(1)}) \\cdot{} g'(z^{[1](1)}_{1}) & \\cdots{} & w^{[2]}_{1} \\cdot{} (\\hat{y}^{(m)}-y^{(m)}) \\cdot{} g'(z^{[1](m)}_{1}) \\\\ w^{[2]}_{2} \\cdot{} (\\hat{y}^{(1)}-y^{(1)}) \\cdot{} g'(z^{[1](1)}_{2}) & \\cdots{} & w^{[2]}_{2} \\cdot{} (\\hat{y}^{(m)}-y^{(m)}) \\cdot{} g'(z^{[1](m)}_{2}) \\\\ \\vdots{} & \\ddots{} & \\vdots{} \\\\ w^{[2]}_{k} \\cdot{} (\\hat{y}^{(1)}-y^{(1)}) \\cdot{} g'(z^{[1](1)}_{k}) & \\cdots{} & w^{[2]}_{k} \\cdot{} (\\hat{y}^{(m)}-y^{(m)}) \\cdot{} g'(z^{[1](m)}_{k}) \\end{bmatrix} $\n",
    "##### **(⚠️)** 실제 계산은 여기서 종료되나, $ \\, \\textbf{b}^{[1]} $ 의 그라디언트를 구하기 위해 $ \\, \\textbf{1} \\, $ 벡터($m\\times{}1$)를 곱함 **(⚠️)**\n",
    "#### $ \\underset{k\\times{}1}{\\frac{\\partial{}J}{\\partial{}\\textbf{b}^{[1]}}} \\coloneqq{} \\frac{\\partial{}J}{\\partial{}Z^{[1]}} \\cdot{} \\frac{\\partial{}Z^{[1]}}{\\partial{}\\textbf{b}^{[1]}} \\cdot{} \\underset{m\\times{}1}{\\textbf{1}} $ \n",
    "#### $ \\hspace{0.71cm} = \\underset{k\\times{}m}{\\begin{bmatrix} w^{[2]}_{1} \\cdot{} (\\hat{y}^{(1)}-y^{(1)}) \\cdot{} g'(z^{[1](1)}_{1}) & \\cdots{} & w^{[2]}_{1} \\cdot{} (\\hat{y}^{(m)}-y^{(m)}) \\cdot{} g'(z^{[1](m)}_{1}) \\\\ w^{[2]}_{2} \\cdot{} (\\hat{y}^{(1)}-y^{(1)}) \\cdot{} g'(z^{[1](1)}_{2}) & \\cdots{} & w^{[2]}_{2} \\cdot{} (\\hat{y}^{(m)}-y^{(m)}) \\cdot{} g'(z^{[1](m)}_{2}) \\\\ \\vdots{} & \\ddots{} & \\vdots{} \\\\ w^{[2]}_{k} \\cdot{} (\\hat{y}^{(1)}-y^{(1)}) \\cdot{} g'(z^{[1](1)}_{k}) & \\cdots{} & w^{[2]}_{k} \\cdot{} (\\hat{y}^{(m)}-y^{(m)}) \\cdot{} g'(z^{[1](m)}_{k}) \\end{bmatrix}} \\cdot{} \\underset{m\\times{}1}{\\begin{bmatrix} 1 \\\\ 1 \\\\ \\vdots{} \\\\ 1 \\end{bmatrix}} $\n",
    "#### $ \\hspace{0.71cm} = \\underset{k\\times{}1}{\\begin{bmatrix} \\sum{}^{m}_{i=1}w^{[2]}_{1} \\cdot{} (\\hat{y}^{(i)}-y^{(i)}) \\cdot{} g'(z^{[1](i)}_{1}) \\\\ \\sum{}^{m}_{i=1}w^{[2]}_{2} \\cdot{} (\\hat{y}^{(i)}-y^{(i)}) \\cdot{} g'(z^{[1](i)}_{2}) \\\\ \\vdots{} \\\\ \\sum{}^{m}_{i=1}w^{[2]}_{k} \\cdot{} (\\hat{y}^{(i)}-y^{(i)}) \\cdot{} g'(z^{[1](i)}_{k}) \\end{bmatrix}} $\n",
    "#### $ \\hspace{0.71cm} = (W^{[2]})^{T} \\cdot{} (\\hat{\\textbf{y}} - \\textbf{y}) \\odot{} g'(Z^{[1]}) \\cdot{} \\underset{m\\times{}1}{\\textbf{1}} $"
   ]
  },
  {
   "cell_type": "markdown",
   "metadata": {},
   "source": [
    "<b></b>"
   ]
  },
  {
   "cell_type": "markdown",
   "metadata": {},
   "source": [
    "> ## **Optimization**"
   ]
  },
  {
   "cell_type": "markdown",
   "metadata": {},
   "source": [
    "#### **(1) Update $ \\, W^{[1]} $** :\n",
    "#### $ W^{[1]} \\coloneqq{} W^{[1]} - \\alpha{} \\cdot{} \\frac{1}{m} \\cdot{} \\frac{\\text{d}J}{\\text{d}W^{[1]}} $\n",
    "#### ※ $ \\, \\alpha{} $ : learning rate"
   ]
  },
  {
   "cell_type": "markdown",
   "metadata": {},
   "source": [
    "#### **(2) Update $ \\, \\textbf{b}^{[1]} $** :\n",
    "#### $ \\textbf{b}^{[1]} \\coloneqq{} \\textbf{b}^{[1]} - \\alpha{} \\cdot{} \\frac{1}{m} \\cdot{} \\frac{\\text{d}J}{\\text{d}\\textbf{b}^{[1]}} $"
   ]
  },
  {
   "cell_type": "markdown",
   "metadata": {},
   "source": [
    "#### **(3) Update $ \\, W^{[2]} $** :\n",
    "#### $ W^{[2]} \\coloneqq{} W^{[2]} - \\alpha{} \\cdot{} \\frac{1}{m} \\cdot{} \\frac{\\text{d}J}{\\text{d}W^{[2]}} $"
   ]
  },
  {
   "cell_type": "markdown",
   "metadata": {},
   "source": [
    "#### **(4) Update $ \\, b^{[2]} $** :\n",
    "#### $ b^{[2]} \\coloneqq{} b^{[2]} - \\alpha{} \\cdot{} \\frac{1}{m} \\cdot{} \\frac{\\text{d}J}{\\text{d}b^{[2]}} $"
   ]
  }
 ],
 "metadata": {
  "kernelspec": {
   "display_name": "Python 3",
   "language": "python",
   "name": "python3"
  },
  "language_info": {
   "codemirror_mode": {
    "name": "ipython",
    "version": 3
   },
   "file_extension": ".py",
   "mimetype": "text/x-python",
   "name": "python",
   "nbconvert_exporter": "python",
   "pygments_lexer": "ipython3",
   "version": "3.8.18"
  },
  "orig_nbformat": 4
 },
 "nbformat": 4,
 "nbformat_minor": 2
}
