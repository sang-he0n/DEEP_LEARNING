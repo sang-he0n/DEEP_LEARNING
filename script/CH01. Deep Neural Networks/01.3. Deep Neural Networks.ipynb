{
 "cells": [
  {
   "attachments": {},
   "cell_type": "markdown",
   "metadata": {},
   "source": [
    "# CH01.3. **Deep Neural Networks**"
   ]
  },
  {
   "cell_type": "markdown",
   "metadata": {},
   "source": [
    "> ## **Deep Neural Networks**"
   ]
  },
  {
   "cell_type": "markdown",
   "metadata": {},
   "source": [
    "#### **(1) 정의** : **[CONTENTS]**\n",
    "#### $ \\Rightarrow{} $ **[LATEX]**\n",
    "#### $ \\hspace{0.3cm} $ <img src=\"../../img/01.3. Deep Neural Networks (1).png\" width=\"65%\" height=\"65%\"></img>"
   ]
  },
  {
   "cell_type": "markdown",
   "metadata": {},
   "source": [
    "<b></b>"
   ]
  },
  {
   "cell_type": "markdown",
   "metadata": {},
   "source": [
    "> ## **Foward Propagatation**"
   ]
  },
  {
   "cell_type": "markdown",
   "metadata": {},
   "source": [
    "#### **[GRAPH]**"
   ]
  },
  {
   "cell_type": "markdown",
   "metadata": {},
   "source": [
    "#### **(1) Feature** : `input`\n",
    "#### $ \\underset{n\\times{}m}{X} = \\begin{bmatrix} x^{(1)}_{1} & x^{(2)}_{1} & \\cdots{} & x^{(m)}_{1} \\\\ x^{(1)}_{2} & x^{(2)}_{2} & \\cdots{} & x^{(m)}_{2} \\\\ \\vdots{} & \\vdots{} & \\ddots{} & \\vdots{} \\\\ x^{(1)}_{n_{x}} & x^{(2)}_{n_{x}} & \\cdots{} & x^{(m)}_{n_{x}} \\end{bmatrix} = \\begin{bmatrix} \\textbf{x}^{(1)}&\\textbf{x}^{(2)}&\\cdots{}&\\textbf{x}^{(m)}\\end{bmatrix} $"
   ]
  },
  {
   "cell_type": "markdown",
   "metadata": {},
   "source": [
    "#### **(2) Target** : `input` (binary classification)\n",
    "#### $ \\underset{1\\times{}m}{\\textbf{y}} = \\begin{bmatrix} y^{(1)}&y^{(2)}&\\cdots{}&y^{(m)} \\end{bmatrix} \\;\\; \\text{ where } \\, y_{i} \\in{} \\{ 0, 1 \\} $"
   ]
  },
  {
   "cell_type": "markdown",
   "metadata": {},
   "source": [
    "#### **(3) Weight of $ \\, 1 $-st Hidden Layer** : `parameter`\n",
    "#### $ \\underset{n^{[1]}\\times{}n^{[0]}}{W^{[1]}} = \\begin{bmatrix} w_{1,1}^{[1]} & w_{1,2}^{[1]} & \\cdots{} & w_{1,n^{[0]}}^{[1]} \\\\ w_{2,1}^{[1]} & w_{2,2}^{[1]} & \\cdots{} & w_{2,n^{[0]}}^{[1]} \\\\ \\vdots{} & \\vdots{} & \\ddots{} & \\vdots{} \\\\ w^{[1]}_{n^{[1]},1} & w_{n^{[1]},2}^{[1]} & \\cdots{} & w_{n^{[1]},n^{[0]}}^{[1]} \\end{bmatrix} = \\begin{bmatrix} (\\textbf{w}^{[1]}_{1})^{T} \\\\ (\\textbf{w}^{[1]}_{2})^{T} \\\\ \\vdots{} \\\\ (\\textbf{w}^{[1]}_{n^{[1]}})^{T} \\end{bmatrix} $\n",
    "#### ※ $ \\, n^{[1]} $ : node size of $ \\, 1 $-st hidden layer"
   ]
  },
  {
   "cell_type": "markdown",
   "metadata": {},
   "source": [
    "#### **(4) Bias of $ \\, 1 $-st Hidden Layer** : `parameter`\n",
    "#### $ \\underset{n^{[1]}\\times{}1}{B^{[1]}} = \\textbf{b}^{[1]} = \\begin{bmatrix} b^{[1]}_{1} \\\\ b^{[1]}_{2} \\\\ \\vdots{} \\\\ b^{[1]}_{n^{[1]}} \\end{bmatrix} $"
   ]
  },
  {
   "cell_type": "markdown",
   "metadata": {},
   "source": [
    "#### **(5) Linear transformation of $ \\, 1 $-st Hidden Layer** :\n",
    "#### $ \\underset{n^{[1]}\\times{}m}{Z^{[1]}} = \\textbf{z}^{[1]} = \\underset{n^{[1]}\\times{}n^{[0]}}{W^{[1]}}\\cdot{}\\underset{n^{[0]}\\times{}m}{A^{[0]}} + \\underset{n^{[1]}\\times{}1}{B^{[1]}} $\n",
    "#### $ \\hspace{0.875cm} = \\begin{bmatrix} (\\textbf{w}^{[1]}_{1})^{T} \\cdot{} A^{[0](1)} & (\\textbf{w}^{[1]}_{1})^{T} \\cdot{} A^{[0](2)} & \\cdots{} & (\\textbf{w}^{[1]}_{1})^{T} \\cdot{} A^{[0](m)} \\\\ (\\textbf{w}^{[1]}_{2})^{T} \\cdot{} A^{[0](1)} & (\\textbf{w}^{[1]}_{2})^{T} \\cdot{} A^{[0](2)} & \\cdots{} & (\\textbf{w}^{[1]}_{2})^{T} \\cdot{} A^{[0](m)} \\\\ \\vdots{} & \\vdots{} & \\ddots{} & \\vdots{} \\\\ (\\textbf{w}^{[1]}_{n^{[1]}})^{T} \\cdot{} A^{[0](1)} & (\\textbf{w}^{[1]}_{n^{[1]}})^{T} \\cdot{} A^{[0](2)} & \\cdots{} & (\\textbf{w}^{[1]}_{n^{[1]}})^{T} \\cdot{} A^{[0](m)} \\end{bmatrix} + \\begin{bmatrix} b^{[1]}_{1} \\\\ b^{[1]}_{2} \\\\ \\vdots{} \\\\ b^{[1]}_{n^{[1]}} \\end{bmatrix} $\n",
    "#### $ \\hspace{0.875cm} = \\begin{bmatrix} w_{1,1}^{[1]} & w_{1,2}^{[1]} & \\cdots{} & w_{1,n^{[0]}}^{[1]} \\\\ w_{2,1}^{[1]} & w_{2,2}^{[1]} & \\cdots{} & w_{2,n^{[0]}}^{[1]} \\\\ \\vdots{} & \\vdots{} & \\ddots{} & \\vdots{} \\\\ w^{[1]}_{n^{[1]},1} & w_{n^{[1]},2}^{[1]} & \\vdots{} & w_{n^{[1]},n^{[0]}}^{[1]} \\end{bmatrix} \\cdot{} \\begin{bmatrix} x^{(1)}_{1} & x^{(2)}_{1} & \\cdots{} & x^{(m)}_{1} \\\\ x^{(1)}_{2} & x^{(2)}_{2} & \\cdots{} & x^{(m)}_{2} \\\\ \\vdots{} & \\vdots{} & \\ddots{} & \\vdots{} \\\\ x^{(1)}_{n} & x^{(2)}_{n} & \\cdots{} & x^{(m)}_{n} \\end{bmatrix}  + \\begin{bmatrix} b^{[1]}_{1} \\\\ b^{[1]}_{2} \\\\ \\vdots{} \\\\ b^{[1]}_{n^{[1]}} \\end{bmatrix} $\n",
    "#### $ \\hspace{0.875cm} = \\begin{bmatrix} \\sum{}^{n^{[0]}}_{i=1}(w^{[1]}_{1,i} \\cdot{} x^{(1)}_{i} + b^{[1]}_{1}) & \\sum{}^{n^{[0]}}_{i=1}(w^{[1]}_{1,i} \\cdot{} x^{(2)}_{i} + b^{[1]}_{1}) & \\cdots{} & \\sum{}^{n^{[0]}}_{i=1}(w^{[1]}_{1,i} \\cdot{} x^{(m)}_{i} + b^{[1]}_{1})  \\\\ \\sum{}^{n^{[0]}}_{i=1}(w^{[1]}_{2,i} \\cdot{} x^{(1)}_{i} + b^{[1]}_{2}) & \\sum{}^{n^{[0]}}_{i=1}(w^{[1]}_{2,i} \\cdot{} x^{(2)}_{i} + b^{[1]}_{2}) & \\cdots{} & \\sum{}^{n^{[0]}}_{i=1}(w^{[1]}_{2,i} \\cdot{} x^{(m)}_{i} + b^{[1]}_{2}) \\\\ \\vdots{} & \\vdots{} & \\ddots{} & \\vdots{} \\\\ \\sum{}^{n^{[0]}}_{i=1}(w^{[1]}_{n^{[1]},i} \\cdot{} x^{(1)}_{i} + b^{[1]}_{n^{[1]}}) & \\sum{}^{n^{[0]}}_{i=1}(w^{[1]}_{n^{[1]},i} \\cdot{} x^{(2)}_{i} + b^{[1]}_{n^{[1]}}) & \\cdots{} & \\sum{}^{n^{[0]}}_{i=1}(w^{[1]}_{n^{[1]},i} \\cdot{} x^{(m)}_{i} + b^{[1]}_{n^{[1]}}) \\end{bmatrix} $ \n",
    "#### $ \\hspace{0.875cm} = \\begin{bmatrix} z^{[1](1)}_{1} & z^{[1](2)}_{1} & \\cdots{} & z^{[1](m)}_{1} \\\\ z^{[1](1)}_{2} & z^{[1](2)}_{2} & \\cdots{} & z^{[1](m)}_{2} \\\\ \\vdots{} & \\vdots{} & \\ddots{} & \\vdots{} \\\\ z^{[1](1)}_{n^{[1]}} & z^{[1](2)}_{n^{[1]}} & \\cdots{} & z^{[1](m)}_{n^{[1]}} \\end{bmatrix} $"
   ]
  },
  {
   "cell_type": "markdown",
   "metadata": {},
   "source": [
    "#### **(6) Activate Function of $ \\, 1 $-st Hidden Layer** :\n",
    "#### $ \\underset{n^{[1]}\\times{}m}{A^{[1]}} = g^{[1]}(Z^{[1]}) $\n",
    "#### $ \\hspace{0.65cm} = \\begin{bmatrix} g^{[1]}(\\textbf{z}^{[1](1)}) & g^{[1]}(\\textbf{z}^{[1](2)}) & \\cdots{} & g^{[1]}(\\textbf{z}^{[1](m)}) \\end{bmatrix} $ \n",
    "#### $ \\hspace{0.65cm} = \\begin{bmatrix} g^{[1]}(z^{[1](1)}_{1}) & g^{[1]}(z^{[1](2)}_{1}) & \\cdots{} & g^{[1]}(z^{[1](m)}_{1}) \\\\ g^{[1]}(z^{[1](1)}_{2}) & g^{[1]}(z^{[1](2)}_{2}) & \\cdots{} & g^{[1]}(z^{[1](m)}_{2}) \\\\ \\vdots{} & \\vdots{} & \\ddots{} & \\vdots{} \\\\ g^{[1]}(z^{[1](1)}_{n^{[1]}}) & g^{[1]}(z^{[1](2)}_{n^{[1]}}) & \\cdots{} & g^{[1]}(z^{[1](m)}_{n^{[1]}}) \\end{bmatrix} $\n",
    "#### $ \\hspace{0.65cm} = \\begin{bmatrix} a^{[1](1)}_{1} & a^{[1](2)}_{1} & \\cdots{} & a^{[1](m)}_{1} \\\\ a^{[1](1)}_{2} & a^{[1](2)}_{2} & \\cdots{} & a^{[1](m)}_{2} \\\\ \\vdots{} & \\vdots{} & \\ddots{} & \\vdots{} \\\\ a^{[1](1)}_{n^{[1]}} & a^{[1](2)}_{n^{[1]}} & \\cdots{} & a^{[1](m)}_{n^{[1]}} \\end{bmatrix} = \\begin{bmatrix} \\textbf{a}^{[1](1)} & \\textbf{a}^{[1](2)} & \\cdots{} & \\textbf{a}^{[1](m)} \\end{bmatrix} $"
   ]
  },
  {
   "cell_type": "markdown",
   "metadata": {},
   "source": [
    "#### $ \\hspace{3cm} \\vdots{} $"
   ]
  },
  {
   "cell_type": "markdown",
   "metadata": {},
   "source": [
    "#### **(?) Weight of $ \\, k $-st Hidden Layer** : `parameter`\n",
    "#### $ \\underset{n^{[k]}\\times{}n^{[k-1]}}{W^{[k]}} = \\begin{bmatrix} w_{1,1}^{[k]} & w_{1,2}^{[k]} & \\cdots{} & w_{1,n^{[k-1]}}^{[k]} \\\\ w_{2,1}^{[k]} & w_{2,2}^{[k]} & \\cdots{} & w_{2,n^{[k-1]}}^{[k]} \\\\ \\vdots{} & \\vdots{} & \\ddots{} & \\vdots{} \\\\ w^{[k]}_{n^{[k]},1} & w_{n^{[k]},2}^{[k]} & \\cdots{} & w_{n^{[k]},n^{[k-1]}}^{[k]} \\end{bmatrix} = \\begin{bmatrix} (\\textbf{w}^{[k]}_{1})^{T} \\\\ (\\textbf{w}^{[k]}_{2})^{T} \\\\ \\vdots{} \\\\ (\\textbf{w}^{[k]}_{n^{[k]}})^{T} \\end{bmatrix} $"
   ]
  },
  {
   "cell_type": "markdown",
   "metadata": {},
   "source": [
    "#### **(?) Bias of $ \\, k $-st Hidden Layer** : `parameter`\n",
    "#### $ \\underset{n^{[k]}\\times{}1}{B^{[k]}} = \\textbf{b}^{[k]} = \\begin{bmatrix} b^{[k]}_{1} \\\\ b^{[k]}_{2} \\\\ \\vdots{} \\\\ b^{[k]}_{n^{[k]}} \\end{bmatrix} $"
   ]
  },
  {
   "cell_type": "markdown",
   "metadata": {},
   "source": [
    "#### **(?) Linear transformation of $ \\, k $-st Hidden Layer** :\n",
    "#### $ \\underset{n^{[k]}\\times{}m}{Z^{[k]}} = \\textbf{z}^{[k]} = \\underset{n^{[k]}\\times{}n^{[k-1]}}{W^{[k]}}\\cdot{}\\underset{n^{[k-1]}\\times{}m}{A^{[k-1]}} + \\underset{n^{[k]}\\times{}1}{B^{[k]}} $\n",
    "#### $ \\hspace{0.875cm} = \\begin{bmatrix} (\\textbf{w}^{[k]}_{1})^{T} \\cdot{} A^{[k-1](1)} & (\\textbf{w}^{[k]}_{1})^{T} \\cdot{} A^{[k-1](2)} & \\cdots{} & (\\textbf{w}^{[k]}_{1})^{T} \\cdot{} A^{[k-1](m)} \\\\ (\\textbf{w}^{[k]}_{2})^{T} \\cdot{} A^{[k-1](1)} & (\\textbf{w}^{[k]}_{2})^{T} \\cdot{} A^{[k-1](2)} & \\cdots{} & (\\textbf{w}^{[k]}_{2})^{T} \\cdot{} A^{[k-1](m)} \\\\ \\vdots{} & \\vdots{} & \\ddots{} & \\vdots{} \\\\ (\\textbf{w}^{[k]}_{n^{[k]}})^{T} \\cdot{} A^{[k-1](1)} & (\\textbf{w}^{[k]}_{n^{[k]}})^{T} \\cdot{} A^{[k-1](2)} & \\cdots{} & (\\textbf{w}^{[k]}_{n^{[k]}})^{T} \\cdot{} A^{[k-1](m)} \\end{bmatrix} + \\begin{bmatrix} b^{[k]}_{1} \\\\ b^{[k]}_{2} \\\\ \\vdots{} \\\\ b^{[k]}_{n^{[k]}} \\end{bmatrix} $\n",
    "#### $ \\hspace{0.875cm} = \\begin{bmatrix} w_{1,1}^{[k]} & w_{1,2}^{[k]} & \\cdots{} & w_{1,n^{[k-1]}}^{[k]} \\\\ w_{2,1}^{[k]} & w_{2,2}^{[k]} & \\cdots{} & w_{2,n^{[k-1]}}^{[k]} \\\\ \\vdots{} & \\vdots{} & \\ddots{} & \\vdots{} \\\\ w^{[k]}_{n^{[k]},1} & w_{n^{[k]},2}^{[k]} & \\cdots{} & w_{n^{[k]},n^{[k-1]}}^{[k]} \\end{bmatrix} \\cdot{} \\begin{bmatrix} a^{[k-1](1)}_{1} & a^{[k-1](2)}_{1} & \\cdots{} & a^{[k-1](n)}_{1} \\\\ a^{[k-1](1)}_{2} & a^{[k-1](2)}_{2} & \\cdots{} & a^{[k-1](m)}_{2} \\\\ \\vdots{} & \\vdots{} & \\ddots{} & \\vdots{} \\\\ a^{[k-1](1)}_{n^{[k-1]}} & a^{[k-1](2)}_{n^{[k-1]}} & \\cdots{} & a^{[k-1](m)}_{n^{[k-1]}} \\end{bmatrix} + \\begin{bmatrix} b^{[k]}_{1} \\\\ b^{[k]}_{2} \\\\ \\vdots{} \\\\ b^{[k]}_{n^{[k]}} \\end{bmatrix} $\n",
    "##### $ \\hspace{0.875cm} = \\begin{bmatrix} \\sum{}^{n^{[k-1]}}_{i=1}(w^{[k]}_{1,i} \\cdot{} a^{[k-1](1)}_{i} + b^{[k]}_{1}) & \\sum{}^{n^{[k-1]}}_{i=1}(w^{[k]}_{1,i} \\cdot{} a^{[k-1](2)}_{i} + b^{[k]}_{1}) & \\cdots{} & \\sum{}^{n^{[k-1]}}_{i=1}(w^{[k]}_{1,i} \\cdot{} a^{[k-1](m)}_{i} + b^{[k]}_{1}) \\\\ \\sum{}^{n^{[k-1]}}_{i=1}(w^{[k]}_{2,i} \\cdot{} a^{[k-1](1)}_{i} + b^{[k]}_{2}) & \\sum{}^{n^{[k-1]}}_{i=1}(w^{[k]}_{2,i} \\cdot{} a^{[k-1](2)}_{i} + b^{[k]}_{2}) & \\cdots{} & \\sum{}^{n^{[k-1]}}_{i=1}(w^{[k]}_{2,i} \\cdot{} a^{[k-1](m)}_{i} + b^{[k]}_{2}) \\\\ \\vdots{} & \\vdots{} & \\ddots{} & \\vdots{} \\\\ \\sum{}^{n^{[k-1]}}_{i=1}(w^{[k]}_{n^{[k]},i} \\cdot{} a^{[k-1](1)}_{i} + b^{[k]}_{n^{[k]}}) & \\sum{}^{n^{[k-1]}}_{i=1}(w^{[k]}_{n^{[k]},i} \\cdot{} a^{[k-1](2)}_{i} + b^{[k]}_{n^{[k]}}) & \\cdots{} & \\sum{}^{n^{[k-1]}}_{i=1}(w^{[k]}_{n^{[k]},i} \\cdot{} a^{[k-1](m)}_{i} + b^{[k]}_{n^{[k]}}) \\end{bmatrix} $\n",
    "#### $ \\hspace{0.875cm} = \\begin{bmatrix} z^{[k](1)}_{1} & z^{[k](2)}_{1} & \\cdots{} & z^{[k](m)}_{1} \\\\ z^{[k](1)}_{2} & z^{[k](2)}_{2} & \\cdots{} & z^{[k](m)}_{2} \\\\ \\vdots{} & \\vdots{} & \\ddots{} & \\vdots{} \\\\ z^{[k](1)}_{n^{[k]}} & z^{[k](2)}_{n^{[k]}} & \\cdots{} & z^{[k](m)}_{n^{[k]}} \\end{bmatrix} = \\begin{bmatrix} \\textbf{z}^{[k](1)} & \\textbf{z}^{[k](2)} & \\cdots{} & \\textbf{z}^{[k](m)} \\end{bmatrix} $"
   ]
  },
  {
   "cell_type": "markdown",
   "metadata": {},
   "source": [
    "#### **(?) Activate Function of $ \\, k $-st Hidden Layer** :\n",
    "#### $ \\underset{n^{[k]}\\times{}m}{A^{[k]}} = \\textbf{a}^{[k]} = g^{[k]}(Z^{[k]}) $\n",
    "#### $ \\hspace{0.875cm} = \\begin{bmatrix} g^{[k]}(z^{[k](1)}_{1}) & g^{[k]}(z^{[k](2)}_{1}) & \\cdots{} & g^{[k]}(z^{[k](m)}_{1}) \\\\ g^{[k]}(z^{[k](1)}_{2}) & g^{[k]}(z^{[k](2)}_{2}) & \\cdots{} & g^{[k]}(z^{[k](m)}_{2}) \\\\ \\vdots{} & \\vdots{} & \\ddots{} & \\vdots{} \\\\ g^{[k]}(z^{[k](1)}_{n^{[k]}}) & g^{[k]}(z^{[k](2)}_{n^{[k]}}) & \\cdots{} & g^{[k]}(z^{[k](m)}_{n^{[k]}}) \\end{bmatrix} $ \n",
    "#### $ \\hspace{0.875cm} = \\begin{bmatrix} a^{[k](1)}_{1} & a^{[k](2)}_{1} & \\cdots{} & a^{[k](m)}_{1} \\\\ a^{[k](1)}_{2} & a^{[k](2)}_{2} & \\cdots{} & a^{[k](m)}_{2} \\\\ \\vdots{} & \\vdots{} & \\ddots{} & \\vdots{} \\\\ a^{[k](1)}_{n^{[k]}} & a^{[k](2)}_{n^{[k]}} & \\cdots{} & a^{[k](m)}_{n^{[k]}} \\end{bmatrix} = \\begin{bmatrix} \\textbf{a}^{[k](1)} & \\textbf{a}^{[k](2)} & \\cdots{} & \\textbf{a}^{[k](m)} \\end{bmatrix} $ "
   ]
  },
  {
   "cell_type": "markdown",
   "metadata": {},
   "source": [
    "#### $ \\hspace{3cm} \\vdots{} $"
   ]
  },
  {
   "cell_type": "markdown",
   "metadata": {},
   "source": [
    "#### **(?) Weight of Output Layer** : `parameter`\n",
    "#### $ \\underset{1\\times{}n^{[L-1]}}{W^{[L]}} = \\begin{bmatrix} w_{1}^{[L]} & w_{2}^{[L]} & \\cdots{} & w_{n^{[L-1]}}^{[L]} \\end{bmatrix} = \\begin{bmatrix} (\\textbf{w}^{[L]}_{1})^{T} \\end{bmatrix} $\n",
    "#### ※ $ \\, n^{[L]} $ : node size of output layer"
   ]
  },
  {
   "cell_type": "markdown",
   "metadata": {},
   "source": [
    "#### **(?) Bias of Output Layer** : `parameter`\n",
    "#### $ \\underset{1\\times{}m}B^{[L]} = \\begin{bmatrix} b^{[L]}_{1} & b^{[L]}_{2} & \\cdots{} & b^{[L]}_{m} \\end{bmatrix} \\;\\; \\text{ where } \\, b^{[L]}_{1} = b^{[L]}_{2} = \\cdots{} = b^{[L]}_{m} $"
   ]
  },
  {
   "cell_type": "markdown",
   "metadata": {},
   "source": [
    "#### **(?) Linear Transformation of Output Layer** :\n",
    "#### $ \\underset{1\\times{}m}{Z^{[L]}} = \\textbf{z}^{[L]} = \\underset{1\\times{}n^{[L-1]}}{W^{[L]}} \\cdot{} \\underset{n^{[L-1]}\\times{}m}{A^{[L-1]}} + \\underset{1\\times{}m}{B^{[L]}} $\n",
    "#### $ \\hspace{0.645cm} = \\begin{bmatrix} w_{1}^{[L]} & w_{2}^{[L]} & \\cdots{} & w_{n^{[L-1]}}^{[L]} \\end{bmatrix} \\cdot{} \\begin{bmatrix} a^{[L-1](1)}_{1} & a^{[L-1](2)}_{1} & \\cdots{} & a^{[L-1](m)}_{1} \\\\ a^{[L-1](1)}_{2} & a^{[L-1](2)}_{2} & \\cdots{} & a^{[L-1](m)}_{2} \\\\ \\vdots{} & \\vdots{} & \\ddots{} & \\vdots{} \\\\ a^{[L-1](1)}_{n^{[L-1]}} & a^{[L-1](2)}_{n^{[L-1]}} & \\cdots{} & a^{[L-1](m)}_{n^{[L-1]}} \\end{bmatrix} + \\begin{bmatrix} b^{[L]}_{1} & b^{[L]}_{2} & \\cdots{} & b^{[L]}_{m} \\end{bmatrix} $\n",
    "#### $ \\hspace{0.645cm} = \\begin{bmatrix} \\sum^{n^{[L-1]}}_{i=1}(w^{[L]}_{i} \\cdot{} a^{[L-1](1)}_{i} + b^{[L]}_{1}) & \\sum^{n^{[L-1]}}_{i=1}(w^{[L]}_{i} \\cdot{} a^{[L-1](2)}_{i} + b^{[L]}_{2}) & \\cdots{} & \\sum^{n^{[L-1]}}_{i=1}(w^{[L]}_{i} \\cdot{} a^{[L-1](m)}_{i} + b^{[L]}_{m}) \\end{bmatrix} $\n",
    "#### $ \\hspace{0.645cm} = \\begin{bmatrix} z^{[L](1)} & z^{[L](2)} & \\cdots{} & z^{[L](m)} \\end{bmatrix} $"
   ]
  },
  {
   "cell_type": "markdown",
   "metadata": {},
   "source": [
    "#### **(?) Estimate Target($ A^{[L]} $;`output`)** : sigmoid\n",
    "#### $ \\underset{1\\times{}m}{A^{[L]}} = \\hat{\\textbf{y}} = g^{[L]}(Z^{[L]}) = \\sigma{}(Z^{[L]}) \\;\\; $\n",
    "#### $ \\hspace{0.65cm} = \\begin{bmatrix} \\frac{1}{1+e^{-z^{[L](1)}}} & \\frac{1}{1+e^{-z^{[L](2)}}} & \\cdots{} & \\frac{1}{1+e^{-z^{[L](m)}}} \\end{bmatrix} $\n",
    "#### $ \\hspace{0.65cm} = \\begin{bmatrix} a^{[L](1)} & a^{[L](2)} & \\cdots{} & a^{[L](m)} \\end{bmatrix} $"
   ]
  },
  {
   "cell_type": "markdown",
   "metadata": {},
   "source": [
    "#### **(?) Loss Function** : log-loss\n",
    "#### $ \\underset{1\\times{m}}{L} = \\ell{}(\\underset{1\\times{}m}{A^{[L]}},\\, \\underset{1\\times{}m}{Y}) $\n",
    "##### $ \\hspace{0.7cm} = \\begin{bmatrix} -(y^{(1)} \\cdot{} \\log{}(a^{[L](1)})+(1-y^{(1)}) \\cdot{} \\log{}(1-a^{[L](1)})) & \\cdots{} & -(y^{(m)} \\cdot{} \\log{}(a^{[L](m)})+(1-y^{(m)}) \\cdot{} \\log{}(1-a^{[L](m)}))\\end{bmatrix} $\n",
    "#### $ \\hspace{0.65cm} = \\begin{bmatrix} \\ell{}(a^{[L](1)},\\, y^{(1)}) & \\ell{}(a^{[L](2)},\\, y^{(2)}) & \\cdots{} & \\ell{}(a^{[L](m)},\\, y^{(m)}) \\end{bmatrix} $\n",
    "#### $ \\hspace{0.65cm} = \\begin{bmatrix} \\ell{}^{(1)} & \\ell{}^{(2)} & \\cdots{} & \\ell{}^{(m)} \\end{bmatrix} $"
   ]
  },
  {
   "cell_type": "markdown",
   "metadata": {},
   "source": [
    "#### **(?) Cost Function** : \n",
    "#### $ \\underset{1\\times{}1}{J(W^{[1]},\\, \\textbf{b}^{[1]},\\, W^{[2]},\\, \\textbf{b}^{[2]}, \\cdots{},\\, W^{[L]},\\, \\textbf{b}^{[L]})} = \\frac{1}{m} \\cdot{} \\displaystyle\\sum^{m}_{i=1} \\ell(a^{[L](i)},\\, y^{(i)}) = \\frac{1}{m} \\cdot{} L \\cdot{} \\underset{m\\times{}1}{\\textbf{1}} $"
   ]
  },
  {
   "cell_type": "markdown",
   "metadata": {},
   "source": [
    "<b></b>"
   ]
  },
  {
   "cell_type": "markdown",
   "metadata": {},
   "source": [
    "> ## **Back Propagation**"
   ]
  },
  {
   "cell_type": "markdown",
   "metadata": {},
   "source": [
    "#### **[GRAPH]**"
   ]
  },
  {
   "cell_type": "markdown",
   "metadata": {},
   "source": [
    "#### **(1) $ \\frac{\\partial{}J}{\\partial{}A^{[L]}} $** : \n",
    "#### $ \\underset{1\\times{}m}{\\frac{\\partial{}J}{\\partial{}A^{[L]}}} = \\frac{\\partial{}}{\\partial{}A^{[L]}} \\cdot{} \\begin{bmatrix} \\frac{\\partial{}J}{\\partial{}a^{[L](1)}} & \\frac{\\partial{}J}{\\partial{}a^{[L](2)}} & \\cdots{} & \\frac{\\partial{}J}{{\\partial{}a^{[L](m)}}} \\end{bmatrix} $\n",
    "#### $ \\hspace{0.75cm} = \\underset{1\\times{}m}{\\begin{bmatrix} (-\\frac{y^{(1)}}{a^{[L](1)}}+\\frac{1-y^{(1)}}{1-a^{[L](1)}}) & (-\\frac{y^{(2)}}{a^{[L](2)}}+\\frac{1-y^{(2)}}{1-a^{[L](2)}}) & \\cdots{} & (-\\frac{y^{(m)}}{a^{[L](m)}}+\\frac{1-y^{(m)}}{1-a^{[L](m)}}) \\end{bmatrix}} $ "
   ]
  },
  {
   "cell_type": "markdown",
   "metadata": {},
   "source": [
    "#### **(2) $ \\frac{\\partial{}J}{\\partial{}Z^{[L]}} $** :\n",
    "#### $ \\underset{1\\times{}m}{\\frac{\\partial{}J}{\\partial{}Z^{[L]}}} = \\frac{\\partial{}J}{\\partial{}A^{[L]}} \\cdot{} \\frac{\\partial{}A^{[L]}}{\\partial{}Z^{[L]}} $ \n",
    "#### $ \\hspace{0.75cm} = \\begin{bmatrix} (-\\frac{y^{(1)}}{a^{[L](1)}}+\\frac{1-y^{(1)}}{1-a^{[L](1)}}) & \\cdots{} & (-\\frac{y^{(m)}}{a^{[L](m)}}+\\frac{1-y^{(m)}}{1-a^{[L](m)}}) \\end{bmatrix} \\cdot{} \\begin{bmatrix} \\frac{\\partial{}a^{[L](1)}}{\\partial{}Z^{[L]}} \\\\ \\frac{\\partial{}a^{[L](2)}}{\\partial{}Z^{[L]}} \\\\ \\vdots{} \\\\ \\frac{\\partial{}a^{[L](m)}}{\\partial{}Z^{[L]}} \\end{bmatrix} $\n",
    "#### $ \\hspace{0.75cm} = \\begin{bmatrix} (-\\frac{y^{(1)}}{a^{[L](1)}}+\\frac{1-y^{(1)}}{1-a^{[L](1)}}) & \\cdots{} & (-\\frac{y^{(m)}}{a^{[L](m)}}+\\frac{1-y^{(m)}}{1-a^{[L](m)}}) \\end{bmatrix} \\cdot{} \\begin{bmatrix} \\frac{\\partial{}a^{[L](1)}}{\\partial{}Z^{[L](1)}} & \\frac{\\partial{}a^{[L](1)}}{\\partial{}Z^{[L](2)}} & \\cdots{} & \\frac{\\partial{}a^{[L](1)}}{\\partial{}Z^{[L](m)}} \\\\ \\frac{\\partial{}a^{[L](2)}}{\\partial{}Z^{[L](1)}} & \\frac{\\partial{}a^{[L](2)}}{\\partial{}Z^{[L](2)}} & \\cdots{} & \\frac{\\partial{}a^{[L](2)}}{\\partial{}Z^{[L](m)}} \\\\ \\vdots{} & \\vdots{} & \\ddots{} & \\vdots{} \\\\ \\frac{\\partial{}a^{[L](m)}}{\\partial{}Z^{[L](1)}} & \\frac{\\partial{}a^{[L](m)}}{\\partial{}Z^{[L](2)}} & \\cdots{} & \\frac{\\partial{}a^{[L](m)}}{\\partial{}Z^{[L](m)}} \\end{bmatrix} $\n",
    "#### $ \\hspace{0.75cm} = \\underset{1\\times{}m}{\\begin{bmatrix} (-\\frac{y^{(1)}}{a^{[L](1)}}+\\frac{1-y^{(1)}}{1-a^{[L](1)}}) & \\cdots{} & (-\\frac{y^{(m)}}{a^{[L](m)}}+\\frac{1-y^{(m)}}{1-a^{[L](m)}}) \\end{bmatrix}} \\cdot{} \\underset{m\\times{}m}{\\begin{bmatrix} a^{[L](1)} \\cdot{} (1-a^{[L](1)}) & \\cdots{} & 0 \\\\ \\vdots{} & \\ddots{} & \\vdots{} \\\\ 0 & \\cdots{} & a^{[L](m)} \\cdot{} (1-a^{[L](m)}) \\end{bmatrix}} $\n",
    "#### $ \\hspace{0.75cm} = \\underset{1\\times{}m}{\\begin{bmatrix} (-\\frac{y^{(1)}}{a^{[L](1)}}+\\frac{1-y^{(1)}}{1-a^{[L](1)}}) \\cdot{} a^{[L](1)} \\cdot{} (1-a^{[L](1)}) & \\cdots{} & (-\\frac{y^{(m)}}{a^{[L](m)}}+\\frac{1-y^{(m)}}{1-a^{[L](m)}}) \\cdot{} a^{[L](m)} \\cdot{} (1-a^{[L](m)}) \\end{bmatrix}} $\n",
    "#### $ \\hspace{0.75cm} = \\begin{bmatrix} (a^{[L](1)}-y^{(1)}) & \\cdots{} & (a^{[L](m)}-y^{(m)}) \\end{bmatrix} $\n",
    "#### $ \\hspace{0.75cm} = A^{[L]} - \\textbf{y} $"
   ]
  },
  {
   "cell_type": "markdown",
   "metadata": {},
   "source": [
    "#### **(3) $ \\frac{\\partial{}J}{\\partial{}W^{[L]}} $** :\n",
    "#### $ \\underset{1\\times{}n^{[L-1]}}{\\frac{\\partial{}J}{\\partial{}W^{[L]}}} = \\frac{\\partial{}J}{\\partial{}A^{[L]}} \\cdot{} \\frac{\\partial{}A^{[L]}}{\\partial{}Z^{[L]}} \\cdot{} \\frac{\\partial{}Z^{[L]}}{\\partial{}W^{[L]}} $\n",
    "#### $ \\hspace{1.025cm} = \\frac{\\partial{}J}{\\partial{}Z^{[L]}} \\cdot{} \\frac{\\partial{}Z^{[L]}}{\\partial{}W^{[L]}} $\n",
    "#### $ \\hspace{1.025cm} = \\begin{bmatrix} (a^{[L](1)}-y^{(1)}) & \\cdots{} & (a^{[L](m)}-y^{(m)}) \\end{bmatrix} \\cdot{} \\begin{bmatrix} \\frac{\\partial{}z^{[L](1)}}{\\partial{}W^{[L]}} \\\\ \\frac{\\partial{}z^{[L](2)}}{\\partial{}W^{[L]}} \\\\ \\vdots{} \\\\ \\frac{\\partial{}z^{[L](m)}}{\\partial{}W^{[L]}} \\end{bmatrix} $\n",
    "#### $ \\hspace{1.025cm} = \\begin{bmatrix} (a^{[L](1)}-y^{(1)}) & \\cdots{} & (a^{[L](m)}-y^{(m)}) \\end{bmatrix} \\cdot{} \\begin{bmatrix} \\frac{\\partial{}z^{[L](1)}}{\\partial{}w^{[L]}_{1}} & \\frac{\\partial{}z^{[L](1)}}{\\partial{}w^{[L]}_{2}} & \\cdots{} & \\frac{\\partial{}z^{[L](1)}}{\\partial{}w^{[L]}_{n^{[L-1]}}} \\\\ \\frac{\\partial{}z^{[L](2)}}{\\partial{}w^{[L]}_{1}} & \\frac{\\partial{}z^{[L](2)}}{\\partial{}w^{[L]}_{2}} & \\cdots{} & \\frac{\\partial{}z^{[L](2)}}{\\partial{}w^{[L]}_{n^{[L-1]}}} \\\\ \\vdots{} & \\vdots{} & \\ddots{} & \\vdots{} \\\\ \\frac{\\partial{}z^{[L](m)}}{\\partial{}w^{[L]}_{1}} & \\frac{\\partial{}z^{[L](m)}}{\\partial{}w^{[L]}_{2}} & \\cdots{} & \\frac{\\partial{}z^{[L](m)}}{\\partial{}w^{[L]}_{n^{[L-1]}}} \\end{bmatrix} $ \n",
    "#### $ \\hspace{1.025cm} = \\underset{1\\times{}m}{\\begin{bmatrix} (a^{[L](1)}-y^{(1)}) & \\cdots{} & (a^{[L](m)}-y^{(m)}) \\end{bmatrix}} \\cdot{} \\underset{m\\times{}n^{[L-1]}}{\\begin{bmatrix} a^{[L-1](1)}_{1} & a^{[L-1](2)}_{2} & \\cdots{} & a^{[L-1](m)}_{n^{[L-1]}} \\\\ a^{[L-1](2)}_{1} & a^{[L-1](2)}_{2} & \\cdots{} & a^{[L-1](m)}_{n^{[L-1]}} \\\\ \\vdots{} & \\vdots{} & \\ddots{} & \\vdots{} \\\\ a^{[L-1](m)}_{1} & a^{[L-1](m)}_{2} & \\cdots{} & a^{[L-1](m)}_{n^{[L-1]}} \\end{bmatrix}} $\n",
    "#### $ \\hspace{1.025cm} = \\underset{1\\times{}n^{[L-1]}}{\\begin{bmatrix} \\sum^{m}_{i=1}(a^{[L](i)}-y^{(i)}) \\cdot{} a^{[L-1](i)}_{1} & \\cdots{} & \\sum^{m}_{i=1}(a^{[L](i)}-y^{(i)}) \\cdot{} a^{[L-1](i)}_{n^{[L-1]}} \\end{bmatrix}} $\n",
    "#### $ \\hspace{1.025cm} = (A^{[L]} - Y) \\cdot{} (A^{[L-1]})^{T} $\n",
    "#### $ \\hspace{1.025cm} = \\frac{\\partial{}J}{\\partial{}Z^{[L]}} \\cdot{} (A^{[L-1]})^{T} $"
   ]
  },
  {
   "cell_type": "markdown",
   "metadata": {},
   "source": [
    "#### **(4) $ \\frac{\\partial{}J}{\\partial{}B^{[L]}} $** :\n",
    "#### $ \\underset{1\\times{}m}{\\frac{\\partial{}J}{\\partial{}B^{[L]}}} = \\frac{\\partial{}J}{\\partial{}A^{[L]}} \\cdot{} \\frac{\\partial{}A^{[L]}}{\\partial{}Z^{[L]}} \\cdot{} \\frac{\\partial{}Z^{[L]}}{\\partial{}B^{[L]}} $\n",
    "#### $ \\hspace{0.75cm} = \\frac{\\partial{}J}{\\partial{}Z^{[L]}} \\cdot{} \\frac{\\partial{}Z^{[L]}}{\\partial{}B^{[L]}} $\n",
    "#### $ \\hspace{0.75cm} = \\begin{bmatrix} A^{[L](1)}-y^{(1)} & \\cdots{} & A^{[L](m)}-y^{(m)} \\end{bmatrix} \\cdot{} \\begin{bmatrix} \\frac{\\partial{}z^{[L](1)}}{\\partial{}B^{[L]}} \\\\ \\frac{\\partial{}z^{[L](2)}}{\\partial{}B^{[L]}} \\\\ \\vdots{} \\\\ \\frac{\\partial{}z^{[L](m)}}{\\partial{}B^{[L]}} \\end{bmatrix} $\n",
    "#### $ \\hspace{0.75cm} = \\begin{bmatrix} A^{[L](1)}-y^{(1)} & \\cdots{} & A^{[L](m)}-y^{(m)} \\end{bmatrix} \\cdot{} \\begin{bmatrix} \\frac{\\partial{}z^{[L](1)}}{\\partial{}b^{[L]}_{1}} & \\frac{\\partial{}z^{[L](1)}}{\\partial{}b^{[L]}_{2}} & \\cdots{} & \\frac{\\partial{}z^{[L](1)}}{\\partial{}b^{[L]}_{m}} \\\\ \\frac{\\partial{}z^{[L](2)}}{\\partial{}b^{[L]}_{1}} & \\frac{\\partial{}z^{[L](2)}}{\\partial{}b^{[L]}_{2}} & \\cdots{} & \\frac{\\partial{}z^{[L](2)}}{\\partial{}b^{[L]}_{m}} \\\\ \\vdots{} & \\vdots{} & \\ddots{} & \\vdots{} \\\\ \\frac{\\partial{}z^{[L](m)}}{\\partial{}b^{[L]}_{1}} & \\frac{\\partial{}z^{[L](m)}}{\\partial{}b^{[L]}_{2}} & \\cdots{} & \\frac{\\partial{}z^{[L](m)}}{\\partial{}b^{[L]}_{m}} \\end{bmatrix} $\n",
    "#### $ \\hspace{0.75cm} = \\underset{1\\times{}m}{\\begin{bmatrix} A^{[L](1)}-y^{(1)} & \\cdots{} & A^{[L](m)}-y^{(m)} \\end{bmatrix}} \\cdot{} \\underset{m\\times{}m}{\\begin{bmatrix} 1 & 1 & \\cdots{} & 1 \\\\ 1 & 1 & \\cdots{} & 1 \\\\ \\vdots{} & \\vdots{} & \\ddots{} & \\vdots{} \\\\ 1 & 1 & \\cdots{} & 1 \\end{bmatrix}} $\n",
    "#### $ \\hspace{0.75cm} = \\underset{1\\times{}m}{\\begin{bmatrix} \\sum^{m}_{i=1}(A^{[L](i)}-y^{(i)}) & \\cdots{} & \\sum^{m}_{i=1}(A^{[L](i)}-y^{(i)}) \\end{bmatrix}} $\n",
    "#### $ \\hspace{0.75cm} = (A^{[L]} - \\textbf{y}) \\cdot{} \\underset{m\\times{}m}{\\textbf{1}} $\n",
    "#### $ \\hspace{0.75cm} = \\frac{\\partial{}J}{\\partial{}Z^{[L]}} \\cdot{} \\underset{m\\times{}m}{\\textbf{1}} $"
   ]
  },
  {
   "cell_type": "markdown",
   "metadata": {},
   "source": [
    "#### $ \\hspace{3cm} \\vdots{} $"
   ]
  },
  {
   "cell_type": "markdown",
   "metadata": {},
   "source": [
    "#### **(?) $ \\frac{\\partial{}J}{\\partial{}A^{[k]}} $** :\n",
    "#### $ \\underset{n^{[k]}\\times{}m}{\\frac{\\partial{}J}{\\partial{}A^{[k]}}} = \\frac{\\partial{}J}{\\partial{}A^{[L]}} \\cdot{} \\frac{\\partial{}A^{[L]}}{\\partial{}Z^{[L]}} \\cdots{} \\frac{\\partial{}Z^{[k+1]}}{\\partial{}A^{[k]}} $\n",
    "#### $ \\hspace{0.9cm} = \\frac{\\partial{}J}{\\partial{}Z^{[k+1]}} \\cdot{} \\frac{\\partial{}Z^{[k+1]}}{\\partial{}A^{[k]}} $\n",
    "#### $ \\hspace{0.9cm} = \\frac{\\partial{}J}{\\partial{}Z^{[k+1]}} \\cdot{} \\begin{bmatrix} \\frac{\\partial{}\\textbf{z}^{[k+1](1)}}{\\partial{}A^{[k]}} \\\\ \\frac{\\partial{}\\textbf{z}^{[k+1](2)}}{\\partial{}A^{[k]}} \\\\ \\vdots{} \\\\ \\frac{\\partial{}\\textbf{z}^{[k+1](m)}}{\\partial{}A^{[k]}} \\end{bmatrix} $ \n",
    "#### $ \\hspace{0.9cm} = \\frac{\\partial{}J}{\\partial{}Z^{[k+1]}} \\cdot{} \\underset{n^{[k+1]}\\times{}m\\times{}n^{[k]}\\times{}m}{\\begin{bmatrix} \\frac{\\partial{}\\textbf{z}^{[k+1](1)}}{\\partial{}\\textbf{a}^{[k](1)}} & \\frac{\\partial{}\\textbf{z}^{[k+1](1)}}{\\partial{}\\textbf{a}^{[k](2)}} & \\cdots{} & \\frac{\\partial{}\\textbf{z}^{[k+1](1)}}{\\partial{}\\textbf{a}^{[k](m)}} \\\\ \\frac{\\partial{}\\textbf{z}^{[k+1](2)}}{\\partial{}\\textbf{a}^{[k](1)}} & \\frac{\\partial{}\\textbf{z}^{[k+1](2)}}{\\partial{}\\textbf{a}^{[k](2)}} & \\cdots{} & \\frac{\\partial{}\\textbf{z}^{[k+1](2)}}{\\partial{}\\textbf{a}^{[k](m)}} \\\\ \\vdots{} & \\vdots{} & \\ddots{} & \\vdots{} \\\\ \\frac{\\partial{}\\textbf{z}^{[k+1](m)}}{\\partial{}\\textbf{a}^{[k](1)}} & \\frac{\\partial{}\\textbf{z}^{[k+1](m)}}{\\partial{}\\textbf{a}^{[k](2)}} & \\cdots{} & \\frac{\\partial{}\\textbf{z}^{[k+1](m)}}{\\partial{}\\textbf{a}^{[k](m)}} \\end{bmatrix}} $ \n",
    "##### **(⚠️)** 메모리 효율성을 위해 대각 자코비안 $ \\, 4 $ 차원 텐서를 행렬로 축소 **(⚠️)**\n",
    "#### $ \\hspace{0.9cm} = \\frac{\\partial{}J}{\\partial{}Z^{[k+1]}} \\cdot{} $ **[LATEX]**\n",
    "#### $ \\hspace{0.9cm} = \\frac{\\partial{}J}{\\partial{}Z^{[k+1]}} \\cdot{} \\begin{bmatrix} w^{[k+1]}_{1,1} & w^{[k+1]}_{2,1} & \\cdots{} & w^{[k+1]}_{n^{[k+1]},1} \\\\ w^{[k+1]}_{1,2} & w^{[k+1]}_{2,2} & \\cdots{} & w^{[k+1]}_{n^{[k+1]},2} \\\\ \\vdots{} & \\vdots{} & \\ddots{} & \\vdots{} \\\\ w^{[k+1]}_{1,n^{[k]}} & w^{[k+1]}_{2,n^{[k]}} & \\cdots{} & w^{[k+1]}_{n^{[k+1]},n^{[k]}} \\end{bmatrix} $\n",
    "#### $ \\hspace{0.9cm} = \\frac{\\partial{}J}{\\partial{}Z^{[k+1]}} \\cdot{} \\begin{bmatrix} (\\textbf{w}^{[k+1]}_{1})^{T} & (\\textbf{w}^{[k+1]}_{2})^{T} & \\cdots{} & (\\textbf{w}^{[k+1]}_{n^{[k+1]}})^{T} \\end{bmatrix} $\n",
    "#### $ \\hspace{0.9cm} = \\underset{n^{[k+1]}\\times{}m}{\\frac{\\partial{}J}{\\partial{}Z^{[k+1]}}} \\cdot{} \\underset{n^{[k]}\\times{}n^{[k+1]}}{(W^{[k+1]})^{T}} $\n",
    "##### **(⚠️)** 차원 유지를 위해 연산 순서 치환 **(⚠️)**\n",
    "#### $ \\hspace{0.9cm} = \\underset{n^{[k]}\\times{}n^{[k+1]}}{(W^{[k+1]})^{T}} \\cdot{} \\underset{n^{[k+1]}\\times{}m}{\\frac{\\partial{}J}{\\partial{}Z^{[k+1]}}} $ "
   ]
  },
  {
   "cell_type": "markdown",
   "metadata": {},
   "source": [
    "#### **(?) $ \\frac{\\partial{}J}{\\partial{}Z^{[k]}} $** :\n",
    "#### $ \\underset{n^{[k]}\\times{}m}{\\frac{\\partial{}J}{\\partial{}Z^{[k]}}} = \\frac{\\partial{}J}{\\partial{}A^{[L]}} \\cdot{} \\frac{\\partial{}A^{[L]}}{\\partial{}Z^{[L]}} \\cdots{} \\frac{\\partial{}A^{[k]}}{\\partial{}Z^{[k]}} $\n",
    "#### $ \\hspace{0.9cm} = \\frac{\\partial{}J}{\\partial{}A^{[k]}} \\cdot{} \\frac{\\partial{}A^{[k]}}{\\partial{}Z^{[k]}} $ \n",
    "#### $ \\hspace{0.9cm} = (W^{[k+1]})^{T} \\cdot{} \\frac{\\partial{}J}{\\partial{}Z^{[k+1]}} \\cdot{} \\frac{\\partial{}A^{[k]}}{\\partial{}Z^{[k]}} $ \n",
    "#### $ \\hspace{0.9cm} = (W^{[k+1]})^{T} \\cdot{} \\frac{\\partial{}J}{\\partial{}Z^{[k+1]}} \\cdot{} \\begin{bmatrix} \\frac{\\partial{}\\textbf{a}^{[k](1)}}{\\partial{}Z^{[k]}} \\\\ \\frac{\\partial{}\\textbf{a}^{[k](2)}}{\\partial{}Z^{[k]}} \\\\ \\vdots{} \\\\ \\frac{\\partial{}\\textbf{a}^{[k](m)}}{\\partial{}Z^{[k]}} \\end{bmatrix} $ \n",
    "#### $ \\hspace{0.9cm} = (W^{[k+1]})^{T} \\cdot{} \\frac{\\partial{}J}{\\partial{}Z^{[k+1]}} \\cdot{} \\underset{n^{[k]}\\times{}m\\times{}n^{[k]}\\times{}m}{\\begin{bmatrix} \\frac{\\partial{}\\textbf{a}^{[k](1)}}{\\partial{}\\textbf{z}^{[k](1)}} & \\frac{\\partial{}\\textbf{a}^{[k](1)}}{\\partial{}\\textbf{z}^{[k](2)}} & \\cdots{} & \\frac{\\partial{}\\textbf{a}^{[k](1)}}{\\partial{}\\textbf{z}^{[k](m)}} \\\\ \\frac{\\partial{}\\textbf{a}^{[k](2)}}{\\partial{}\\textbf{z}^{[k](1)}} & \\frac{\\partial{}\\textbf{a}^{[k](2)}}{\\partial{}\\textbf{z}^{[k](2)}} & \\cdots{} & \\frac{\\partial{}\\textbf{a}^{[k](2)}}{\\partial{}\\textbf{z}^{[k](m)}} \\\\ \\vdots{} & \\vdots{} & \\ddots{} & \\vdots{} \\\\ \\frac{\\partial{}\\textbf{a}^{[k](m)}}{\\partial{}\\textbf{z}^{[k](1)}} & \\frac{\\partial{}\\textbf{a}^{[k](m)}}{\\partial{}\\textbf{z}^{[k](2)}} & \\cdots{} & \\frac{\\partial{}\\textbf{a}^{[k](m)}}{\\partial{}\\textbf{z}^{[k](m)}} \\end{bmatrix}} $\n",
    "##### **(⚠️)** 메모리 효율성을 위해 대각 자코비안 $ \\, 4 $ 차원 텐서를 행렬로 축소 **(⚠️)**\n",
    "#### $ \\hspace{0.9cm} \\coloneqq{} (W^{[k+1]})^{T} \\cdot{} \\frac{\\partial{}J}{\\partial{}Z^{[k+1]}} \\cdot{} \\begin{bmatrix} \\frac{\\partial{}a^{[k](1)}_{1}}{\\partial{}z^{[k](1)}_{1}} & \\frac{\\partial{}a^{[k](2)}_{1}}{\\partial{}z^{[k](2)}_{1}} & \\cdots & \\frac{\\partial{}a^{[k](m)}_{1}}{\\partial{}z^{[k](m)}_{1}} \\\\ \\frac{\\partial{}a^{[k](1)}_{2}}{\\partial{}z^{[k](1)}_{2}} & \\frac{\\partial{}a^{[k](2)}_{2}}{\\partial{}z^{[k](2)}_{2}} & \\cdots & \\frac{\\partial{}a^{[k](m)}_{2}}{\\partial{}z^{[k](m)}_{2}} \\\\ \\vdots{} & \\vdots{} & \\ddots{} & \\vdots{} \\\\ \\frac{\\partial{}a^{[k](1)}_{n^{[k]}}}{\\partial{}z^{[k](1)}_{n^{[k]}}} & \\frac{\\partial{}a^{[k](2)}_{n^{[k]}}}{\\partial{}z^{[k](2)}_{n^{[k]}}} & \\cdots & \\frac{\\partial{}a^{[k](m)}_{n^{[k]}}}{\\partial{}z^{[k](m)}_{n^{[k]}}} \\end{bmatrix} $ \n",
    "#### $ \\hspace{0.9cm} = \\underset{n^{[k]}\\times{}m}{(W^{[k+1]})^{T} \\cdot{} \\frac{\\partial{}J}{\\partial{}Z^{[k+1]}}} \\cdot{} \\underset{n^{[k]}\\times{}m}{\\begin{bmatrix} g'^{[k]}(z^{[k](1)}_{1}) & g'^{[k]}(z^{[k](2)}_{1}) & \\cdots{} & g'^{[k]}(z^{[k](m)}_{1}) \\\\ g'^{[k]}(z^{[k](1)}_{2}) & g'^{[k]}(z^{[k](2)}_{2}) & \\cdots{} & g'^{[k]}(z^{[k](m)}_{2}) \\\\ \\vdots{} & \\vdots{} & \\ddots{} & \\vdots{} \\\\ g'^{[k]}(z^{[k](1)}_{n^{[k]}}) & g'^{[k]}(z^{[k](2)}_{n^{[k]}}) & \\cdots{} & g'^{[k]}(z^{[k](m)}_{n^{[k]}}) \\end{bmatrix}} $\n",
    "##### **(⚠️)** 차원 유지를 위해 요소별곱(elementary-wise product;$ \\, \\odot{} $) 계산 **(⚠️)**\n",
    "#### $ \\hspace{0.9cm} \\coloneqq{} \\underset{n^{[k]}\\times{}m}{(W^{[k+1]})^{T} \\cdot{} \\frac{\\partial{}J}{\\partial{}Z^{[k+1]}} \\odot{} \\begin{bmatrix} g'^{[k]}(z^{[k](1)}_{1}) & g'^{[k]}(z^{[k](2)}_{1}) & \\cdots{} & g'^{[k]}(z^{[k](m)}_{1}) \\\\ g'^{[k]}(z^{[k](1)}_{2}) & g'^{[k]}(z^{[k](2)}_{2}) & \\cdots{} & g'^{[k]}(z^{[k](m)}_{2}) \\\\ \\vdots{} & \\vdots{} & \\ddots{} & \\vdots{} \\\\ g'^{[k]}(z^{[k](1)}_{n^{[k]}}) & g'^{[k]}(z^{[k](2)}_{n^{[k]}}) & \\cdots{} & g'^{[k]}(z^{[k](m)}_{n^{[k]}}) \\end{bmatrix}} $\n",
    "#### $ \\hspace{0.9cm} = (W^{[k+1]})^{T} \\cdot{} \\frac{\\partial{}J^{(1)}}{\\partial{}Z^{[k+1](1)}} \\odot{} g'^{[k]}(Z^{[k]}) $"
   ]
  },
  {
   "cell_type": "markdown",
   "metadata": {},
   "source": [
    "#### **(?) $ \\frac{\\partial{}J}{\\partial{}W^{[k]}} $** :\n",
    "#### $ \\underset{n^{[k]}\\times{}n^{[k-1]}}{\\frac{\\partial{}J}{\\partial{}W^{[k]}}} = \\frac{\\partial{}J}{\\partial{}A^{[L]}} \\cdot{} \\frac{\\partial{}A^{[L]}}{\\partial{}Z^{[L]}} \\cdots{} \\frac{\\partial{}Z^{[k]}}{\\partial{}W^{[k]}} $\n",
    "#### $ \\hspace{1.225cm} = \\frac{\\partial{}J}{\\partial{}Z^{[k]}} \\cdot{} \\frac{\\partial{}Z^{[k]}}{\\partial{}W^{[k]}} $\n",
    "#### $ \\hspace{1.225cm} = (W^{[k+1]})^{T} \\cdot{} \\frac{\\partial{}J}{\\partial{}Z^{[k+1]}} \\odot{} g'^{[k]}(Z^{[k]}) \\cdot{} \\begin{bmatrix} \\frac{\\partial{}\\textbf{z}^{[k](1)}}{\\partial{}W^{[k]}} \\\\ \\frac{\\partial{}\\textbf{z}^{[k](2)}}{\\partial{}W^{[k]}} \\\\ \\vdots{} \\\\ \\frac{\\partial{}\\textbf{z}^{[k](m)}}{\\partial{}W^{[k]}} \\end{bmatrix} $\n",
    "#### $ \\hspace{1.225cm} = (W^{[k+1]})^{T} \\cdot{} \\frac{\\partial{}J}{\\partial{}Z^{[k+1]}} \\odot{} g'^{[k]}(Z^{[k]}) \\cdot{} \\underset{n^{[k]}\\times{}m\\times{}n^{[k]}\\times{}n^{[k-1]}}{\\begin{bmatrix} \\frac{\\partial{}\\textbf{z}^{[k](1)}}{\\partial{}(\\textbf{w}^{[k]}_{1})^{T}} & \\frac{\\partial{}\\textbf{z}^{[k](1)}}{\\partial{}(\\textbf{w}^{[k]}_{2})^{T}} & \\cdots{} & \\frac{\\partial{}\\textbf{z}^{[k](1)}}{\\partial{}(\\textbf{w}^{[k]}_{n^{[k]}})^{T}} \\\\ \\frac{\\partial{}\\textbf{z}^{[k](2)}}{\\partial{}(\\textbf{w}^{[k]}_{1})^{T}} & \\frac{\\partial{}\\textbf{z}^{[k](2)}}{\\partial{}(\\textbf{w}^{[k]}_{2})^{T}} & \\cdots{} & \\frac{\\partial{}\\textbf{z}^{[k](2)}}{\\partial{}(\\textbf{w}^{[k]}_{n^{[k]}})^{T}} \\\\ \\vdots{} & \\vdots{} & \\ddots{} & \\vdots{} \\\\ \\frac{\\partial{}\\textbf{z}^{[k](m)}}{\\partial{}(\\textbf{w}^{[k]}_{1})^{T}} & \\frac{\\partial{}\\textbf{z}^{[k](m)}}{\\partial{}(\\textbf{w}^{[k]}_{2})^{T}} & \\cdots{} & \\frac{\\partial{}\\textbf{z}^{[k](m)}}{\\partial{}(\\textbf{w}^{[k]}_{n^{[k]}})^{T}} \\end{bmatrix}} $\n",
    "##### **(⚠️)** 메모리 효율성을 위해 대각 자코비안 $ \\, 4 $ 차원 텐서를 행렬로 축소 **(⚠️)**\n",
    "#### $ \\hspace{1.225cm} \\coloneqq{} (W^{[k+1]})^{T} \\cdot{} \\frac{\\partial{}J}{\\partial{}Z^{[k+1]}} \\odot{} g'^{[k]}(Z^{[k]}) \\cdot{} \\begin{bmatrix} \\frac{\\partial{} z_{1}^{[k](1)}}{\\partial{} w_{1,1}^{[k]}} & \\frac{\\partial{} z_{1}^{[k](1)}}{\\partial{} w_{1,2}^{[k]}} & \\cdots & \\frac{\\partial{} z_{1}^{[k](1)}}{\\partial{} w_{1,n^{[k-1]}}^{[k]}} \\\\ \\frac{\\partial{} z_{2}^{[k](2)}}{\\partial{} w_{2,1}^{[k]}} & \\frac{\\partial{} z_{2}^{[k](2)}}{\\partial{} w_{2,2}^{[k]}} & \\cdots & \\frac{\\partial{} z_{2}^{[k](2)}}{\\partial{} w_{2,n^{[k-1]}}^{[k]}} \\\\ \\vdots{} & \\vdots{} & \\ddots{} & \\vdots{} \\\\ \\frac{\\partial{} z_{k}^{[k](m)}}{\\partial{} w_{n^{[k]},1}^{[k]}} & \\frac{\\partial{} z_{k}^{[k](m)}}{\\partial{} w_{n^{[k]},2}^{[k]}} & \\cdots & \\frac{\\partial{} z_{k}^{[k](m)}}{\\partial{} w_{n^{[k]},n^{[k-1]}}^{[k]}} \\end{bmatrix} $\n",
    "#### $ \\hspace{1.225cm} = \\underset{n^{[k]}\\times{}m}{(W^{[k+1]})^{T} \\cdot{} \\frac{\\partial{}J}{\\partial{}Z^{[k+1]}} \\odot{} g'^{[k]}(Z^{[k]})} \\cdot{} \\underset{m\\times{}n^{[k-1]}}{\\begin{bmatrix} a^{[k-1](1)}_{1} & a^{[k-1](1)}_{2} & \\cdots{} & a^{[k-1](1)}_{n^{[k-1]}} \\\\ a^{[k-1](2)}_{1} & a^{[k-1](2)}_{2} & \\cdots{} & a^{[k-1](2)}_{n^{[k-1]}} \\\\ \\vdots{} & \\vdots{} & \\ddots{} & \\vdots{} \\\\ a^{[k-1](m)}_{1} & a^{[k-1](m)}_{2} & \\cdots{} & a^{[k-1](m)}_{n^{[k-1]}} \\end{bmatrix}} $\n",
    "#### $ \\hspace{1.225cm} = \\underset{n^{[k]}\\times{}n^{[k-1]}}{(W^{[k+1]})^{T} \\cdot{} \\frac{\\partial{}J}{\\partial{}Z^{[k+1]}} \\odot{} g'^{[k]}(Z^{[k]}) \\cdot{} \\begin{bmatrix} \\textbf{a}^{[k-1](1)}_{1} \\\\ \\textbf{a}^{[k-1](2)}_{2} \\\\ \\vdots{} \\\\ \\textbf{a}^{[k-1](m)}_{n^{[k-1]}} \\end{bmatrix}} $\n",
    "#### $ \\hspace{1.225cm} = (W^{[k+1]})^{T} \\cdot{} \\frac{\\partial{}J}{\\partial{}Z^{[k+1]}} \\odot{} g'^{[k]}(Z^{[k]}) \\cdot{} (A^{[k-1]})^{T} $\n",
    "#### $ \\hspace{1.225cm} = \\frac{\\partial{}J}{\\partial{}Z^{[k]}} \\cdot{} (A^{[k-1]})^{T} $"
   ]
  },
  {
   "cell_type": "markdown",
   "metadata": {},
   "source": [
    "#### **(?) $ \\frac{\\partial{}J}{\\partial{}B^{[k]}} $** :\n",
    "#### $ \\underset{n^{[k]}\\times{}m}{\\frac{\\partial{}J}{\\partial{}B^{[k]}}} = \\frac{\\partial{}J}{\\partial{}A^{[L]}} \\cdot{} \\frac{\\partial{}A^{[L]}}{\\partial{}Z^{[L]}} \\cdots{} \\frac{\\partial{}Z^{[k]}}{\\partial{}B^{[k]}} $ \n",
    "#### $ \\hspace{0.775cm} = \\frac{\\partial{}J}{\\partial{}Z^{[k]}} \\cdot{} \\frac{\\partial{}Z^{[k]}}{\\partial{}B^{[k]}} $\n",
    "#### $ \\hspace{0.775cm} = (W^{[k+1]})^{T} \\cdot{} \\frac{\\partial{}J}{\\partial{}Z^{[k+1]}} \\odot{} g'^{[k]}(Z^{[k]}) \\cdot{} \\underset{n^{[k]}\\times{}m\\times{}k}{\\begin{bmatrix} \\frac{\\partial{}\\textbf{z}^{[k](1)}}{\\partial{}B^{[k]}} \\\\ \\frac{\\partial{}\\textbf{z}^{[k](2)}}{\\partial{}B^{[k]}} \\\\ \\vdots{} \\\\ \\frac{\\partial{}\\textbf{z}^{[k](m)}}{\\partial{}B^{[k]}} \\end{bmatrix}} $\n",
    "##### **(⚠️)** 메모리 효율성을 위해 대각 자코비안 $ \\, 3 $ 차원 텐서를 행렬로 축소 **(⚠️)**\n",
    "#### $ \\hspace{0.775cm} = (W^{[k+1]})^{T} \\cdot{} \\frac{\\partial{}J}{\\partial{}Z^{[k+1]}} \\odot{} g'^{[k]}(Z^{[k]}) \\cdot{} \\begin{bmatrix} \\frac{\\partial{}z^{[k](1)}_{1}}{\\partial{}b^{[k]}_{1}} & \\frac{\\partial{}z^{[k](2)}_{1}}{\\partial{}b^{[k]}_{1}} & \\cdots & \\frac{\\partial{}z^{[k](m)}_{1}}{\\partial{}b^{[k]}_1} \\\\ \\frac{\\partial{}z^{[k](1)}_{2}}{\\partial{}b^{[k]}_{2}} & \\frac{\\partial{}z^{[k](2)}_{2}}{\\partial{}b^{[k]}_{2}} & \\cdots & \\frac{\\partial{}z^{[k](m)}_{2}}{\\partial{}b^{[k]}_2} \\\\ \\vdots & \\vdots & \\ddots & \\vdots \\\\ \\frac{\\partial{}z^{[k](1)}_{n^{[k]}}}{\\partial{}b^{[k]}_{n^{[k]}}} & \\frac{\\partial{}z^{[k](2)}_{n^{[k]}}}{\\partial{}b^{[k]}_{n^{[k]}}} & \\cdots & \\frac{\\partial{}z^{[k](m)}_{n^{[k]}}}{\\partial{}b^{[k]}_k} \\end{bmatrix} $\n",
    "#### $ \\hspace{0.775cm} = (W^{[k+1]})^{T} \\cdot{} \\frac{\\partial{}J}{\\partial{}Z^{[k+1]}} \\odot{} g'^{[k]}(Z^{[k]}) \\cdot{} \\underset{n^{[k]}\\times{}m}{\\begin{bmatrix} 1 & 1 & \\cdots & 1 \\\\ 1 & 1 & \\cdots & 1 \\\\ \\vdots{} & \\vdots{} & \\ddots{} & \\vdots{} \\\\ 1 & 1 & \\cdots & 1 \\end{bmatrix}} $\n",
    "##### **(⚠️)** 차원 유지를 위해 요소별곱(element-wise product;$ \\, \\odot{} $) 계산 **(⚠️)**\n",
    "#### $ \\hspace{0.775cm} \\coloneqq{} \\underset{n^{[k]}\\times{}m}{(W^{[k+1]})^{T} \\cdot{} \\frac{\\partial{}J}{\\partial{}Z^{[k+1]}} \\odot{} g'^{[k]}(Z^{[k]})} \\odot{} \\underset{n^{[k]}\\times{}m}{\\begin{bmatrix} 1 & 1 & \\cdots & 1 \\\\ 1 & 1 & \\cdots & 1 \\\\ \\vdots{} & \\vdots{} & \\ddots{} & \\vdots{} \\\\ 1 & 1 & \\cdots & 1 \\end{bmatrix}} $ \n",
    "#### $ \\hspace{0.775cm} = (W^{[k+1]})^{T} \\cdot{} \\frac{\\partial{}J}{\\partial{}Z^{[k+1]}} \\odot{} g'^{[k]}(Z^{[k]}) $\n",
    "##### **(⚠️)** 실제 계산은 여기서 종료되나, $ \\, B^{[k]} $ 의 그라디언트를 구하기 위해 $ \\, \\textbf{1} \\, $ 벡터($m\\times{}1$)를 곱함 **(⚠️)**\n",
    "#### $ \\underset{n^{[k]}\\times{}1}{\\frac{\\partial{}\\textbf{L}}{\\partial{}B^{[k]}}} \\coloneqq{} \\frac{\\partial{}J}{\\partial{}Z^{[k]}} \\cdot{} \\frac{\\partial{}Z^{[k]}}{\\partial{}B^{[k]}} \\cdot{} \\underset{m\\times{}1}{\\begin{bmatrix} 1 \\\\ 1 \\\\ \\vdots{} \\\\ 1 \\end{bmatrix}} $ \n",
    "#### $ \\hspace{0.775cm} = \\underset{n^{[k]}\\times{}m}{(W^{[k+1]})^{T} \\cdot{} \\frac{\\partial{}J}{\\partial{}Z^{[k+1]}} \\odot{} g'^{[k]}(Z^{[k]})} \\cdot{} \\underset{m\\times{}1}{\\textbf{1}} $\n",
    "#### $ \\hspace{0.775cm} = \\frac{\\partial{}J}{\\partial{}Z^{[k]}} \\cdot{} \\underset{m\\times{}1}{\\textbf{1}} $"
   ]
  },
  {
   "cell_type": "markdown",
   "metadata": {},
   "source": [
    "#### $ \\hspace{3cm} \\vdots{} $"
   ]
  },
  {
   "cell_type": "markdown",
   "metadata": {},
   "source": [
    "<b></b>"
   ]
  },
  {
   "cell_type": "markdown",
   "metadata": {},
   "source": [
    "> ## **Optimization**"
   ]
  },
  {
   "cell_type": "markdown",
   "metadata": {},
   "source": [
    "#### **(1) Update $ \\, W^{[1]} $** :\n",
    "#### $ W^{[1]} \\coloneqq{} W^{[1]} - \\alpha{} \\cdot{} \\frac{1}{m} \\cdot{} \\frac{\\partial{}J}{\\partial{}W^{[1]}} $\n",
    "#### ※ $ \\, \\alpha{} $ : learning rate"
   ]
  },
  {
   "cell_type": "markdown",
   "metadata": {},
   "source": [
    "#### **(2) Update $ \\, B^{[1]} $** :\n",
    "#### $ B^{[1]} \\coloneqq{} B^{[1]} - \\alpha{} \\cdot{} \\frac{1}{m} \\cdot{} \\frac{\\partial{}J}{\\partial{}B^{[1]}} $"
   ]
  },
  {
   "cell_type": "markdown",
   "metadata": {},
   "source": [
    "#### **(3) Update $ \\, W^{[2]} $** :\n",
    "#### $ W^{[2]} \\coloneqq{} W^{[2]} - \\alpha{} \\cdot{} \\frac{1}{m} \\cdot{} \\frac{\\partial{}J}{\\partial{}W^{[2]}} $"
   ]
  },
  {
   "cell_type": "markdown",
   "metadata": {},
   "source": [
    "#### **(4) Update $ \\, B^{[2]} $** :\n",
    "#### $ B^{[2]} \\coloneqq{} B^{[2]} - \\alpha{} \\cdot{} \\frac{1}{m} \\cdot{} \\frac{\\partial{}J}{\\partial{}B^{[2]}} $"
   ]
  },
  {
   "cell_type": "markdown",
   "metadata": {},
   "source": [
    "#### $ \\hspace{3cm} \\vdots{} $"
   ]
  },
  {
   "cell_type": "markdown",
   "metadata": {},
   "source": [
    "#### **(?) Update $ \\, W^{[k]} $** :\n",
    "#### $ W^{[k]} \\coloneqq{} W^{[k]} - \\alpha{} \\cdot{} \\frac{1}{m} \\cdot{} \\frac{\\partial{}J}{\\partial{}W^{[k]}} $"
   ]
  },
  {
   "cell_type": "markdown",
   "metadata": {},
   "source": [
    "#### **(?) Update $ \\, B^{[k]} $** :\n",
    "#### $ B^{[k]} \\coloneqq{} B^{[k]} - \\alpha{} \\cdot{} \\frac{1}{m} \\cdot{} \\frac{\\partial{}J}{\\partial{}B^{[k]}} $"
   ]
  },
  {
   "cell_type": "markdown",
   "metadata": {},
   "source": [
    "#### $ \\hspace{3cm} \\vdots{} $"
   ]
  },
  {
   "cell_type": "markdown",
   "metadata": {},
   "source": [
    "#### **(?) Update $ \\, W^{[L]} $** :\n",
    "#### $ W^{[L]} \\coloneqq{} W^{[L]} - \\alpha{} \\cdot{} \\frac{1}{m} \\cdot{} \\frac{\\partial{}J}{\\partial{}W^{[L]}} $"
   ]
  },
  {
   "cell_type": "markdown",
   "metadata": {},
   "source": [
    "#### **(?) Update $ \\, B^{[L]} $** :\n",
    "#### $ B^{[L]} \\coloneqq{} B^{[L]} - \\alpha{} \\cdot{} \\frac{1}{m} \\cdot{} \\frac{\\partial{}J}{\\partial{}B^{[L]}} $"
   ]
  }
 ],
 "metadata": {
  "kernelspec": {
   "display_name": "Python 3",
   "language": "python",
   "name": "python3"
  },
  "language_info": {
   "codemirror_mode": {
    "name": "ipython",
    "version": 3
   },
   "file_extension": ".py",
   "mimetype": "text/x-python",
   "name": "python",
   "nbconvert_exporter": "python",
   "pygments_lexer": "ipython3",
   "version": "3.8.18"
  },
  "orig_nbformat": 4
 },
 "nbformat": 4,
 "nbformat_minor": 2
}
