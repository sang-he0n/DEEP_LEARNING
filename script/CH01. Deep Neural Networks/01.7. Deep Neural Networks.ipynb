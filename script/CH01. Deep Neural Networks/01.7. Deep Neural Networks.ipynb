{
 "cells": [
  {
   "attachments": {},
   "cell_type": "markdown",
   "metadata": {},
   "source": [
    "# CH01.7. **Deep Neural Networks**"
   ]
  },
  {
   "cell_type": "markdown",
   "metadata": {},
   "source": [
    "> ## **Deep Neural Networks**"
   ]
  },
  {
   "cell_type": "markdown",
   "metadata": {},
   "source": [
    "#### **(1) 정의** : **[CONTENTS]**\n",
    "#### $ \\hspace{0.3cm} $ <img src=\"../../img/01.7. Deep Neural Networks (1).png\" width=\"65%\" height=\"65%\"></img>"
   ]
  },
  {
   "cell_type": "markdown",
   "metadata": {},
   "source": [
    "<b></b>"
   ]
  },
  {
   "cell_type": "markdown",
   "metadata": {},
   "source": [
    "> ## **Foward Propagatation**"
   ]
  },
  {
   "cell_type": "markdown",
   "metadata": {},
   "source": [
    "#### **(1) Feature**(`input`) : \n",
    "#### $ \\underset{n^{[0]}\\times{}m}{X} = A^{[0]} = \\begin{bmatrix} x^{(1)}_{1} & x^{(2)}_{1} & \\cdots{} & x^{(m)}_{1} \\\\ x^{(1)}_{2} & x^{(2)}_{2} & \\cdots{} & x^{(m)}_{2} \\\\ \\vdots{} & \\vdots{} & \\ddots{} & \\vdots{} \\\\ x^{(1)}_{n^{[0]}} & x^{(2)}_{n^{[0]}} & \\cdots{} & x^{(m)}_{n^{[0]}} \\end{bmatrix} = \\begin{bmatrix} \\textbf{x}^{(1)}&\\textbf{x}^{(2)}&\\cdots{}&\\textbf{x}^{(m)}\\end{bmatrix} $"
   ]
  },
  {
   "cell_type": "markdown",
   "metadata": {},
   "source": [
    "#### **(2) Target**(`input`) : binary classification\n",
    "#### $ \\underset{1\\times{}m}{\\textbf{y}} = \\begin{bmatrix} y^{(1)}&y^{(2)}&\\cdots{}&y^{(m)} \\end{bmatrix} \\;\\; \\text{ where } \\, y^{(i)} \\in{} \\{ 0, 1 \\} $"
   ]
  },
  {
   "cell_type": "markdown",
   "metadata": {},
   "source": [
    "#### **(3) Weight of $ \\, 1 $-st Hidden Layer**(`parameter`) :\n",
    "#### $ \\underset{n^{[1]}\\times{}n^{[0]}}{W^{[1]}} = \\begin{bmatrix} w_{1,1}^{[1]} & w_{1,2}^{[1]} & \\cdots{} & w_{1,n^{[0]}}^{[1]} \\\\ w_{2,1}^{[1]} & w_{2,2}^{[1]} & \\cdots{} & w_{2,n^{[0]}}^{[1]} \\\\ \\vdots{} & \\vdots{} & \\ddots{} & \\vdots{} \\\\ w^{[1]}_{n^{[1]},1} & w_{n^{[1]},2}^{[1]} & \\cdots{} & w_{n^{[1]},n^{[0]}}^{[1]} \\end{bmatrix} = \\begin{bmatrix} \\textbf{w}^{[1]}_{1} \\\\ \\textbf{w}^{[1]}_{2} \\\\ \\vdots{} \\\\ \\textbf{w}^{[1]}_{n^{[1]}} \\end{bmatrix} $"
   ]
  },
  {
   "cell_type": "markdown",
   "metadata": {},
   "source": [
    "#### **(4) Bias of $ \\, 1 $-st Hidden Layer**(`parameter`) : \n",
    "#### $ \\underset{n^{[1]}\\times{}m}{B^{[1]}} = \\begin{bmatrix} b^{[1]}_{1} & b^{[1]}_{1} & \\cdots{} & b^{[1]}_{1} \\\\ b^{[1]}_{2} & b^{[1]}_{2} & \\cdots{} & b^{[1]}_{2} \\\\ \\vdots{} & \\vdots{} & \\ddots{} & \\vdots{} \\\\ b^{[1]}_{n^{[1]}} & b^{[1]}_{n^{[1]}} & \\cdots{} & b^{[1]}_{n^{[1]}} \\end{bmatrix} $"
   ]
  },
  {
   "cell_type": "markdown",
   "metadata": {},
   "source": [
    "#### **(5) Linear transformation of $ \\, 1 $-st Hidden Layer** :\n",
    "#### $ \\underset{n^{[1]}\\times{}m}{Z^{[1]}} = W^{[1]} \\cdot{} X + B^{[1]} $\n",
    "#### $ \\hspace{0.8cm} = \\begin{bmatrix} (\\textbf{w}^{[1]}_{1})^{T} \\cdot{} \\textbf{x}^{(1)} & (\\textbf{w}^{[1]}_{1})^{T} \\cdot{} \\textbf{x}^{(2)} & \\cdots{} & (\\textbf{w}^{[1]}_{1})^{T} \\cdot{} \\textbf{x}^{(m)} \\\\ (\\textbf{w}^{[1]}_{2})^{T} \\cdot{} \\textbf{x}^{(1)} & (\\textbf{w}^{[1]}_{2})^{T} \\cdot{} \\textbf{x}^{(2)} & \\cdots{} & (\\textbf{w}^{[1]}_{2})^{T} \\cdot{} \\textbf{x}^{(m)} \\\\ \\vdots{} & \\vdots{} & \\ddots{} & \\vdots{} \\\\ (\\textbf{w}^{[1]}_{n^{[1]}})^{T} \\cdot{} \\textbf{x}^{(1)} & (\\textbf{w}^{[1]}_{n^{[1]}})^{T} \\cdot{} \\textbf{x}^{(2)} & \\cdots{} & (\\textbf{w}^{[1]}_{n^{[1]}})^{T} \\cdot{} \\textbf{x}^{(m)} \\end{bmatrix} + \\begin{bmatrix} b^{[1]}_{1} & b^{[1]}_{1} & \\cdots{} & b^{[1]}_{1} \\\\ b^{[1]}_{2} & b^{[1]}_{2} & \\cdots{} & b^{[1]}_{2} \\\\ \\vdots{} & \\vdots{} & \\ddots{} & \\vdots{} \\\\ b^{[1]}_{n^{[1]}} & b^{[1]}_{n^{[1]}} & \\cdots{} & b^{[1]}_{n^{[1]}} \\end{bmatrix} $\n",
    "#### $ \\hspace{0.8cm} = \\begin{bmatrix} w_{1,1}^{[1]} & w_{1,2}^{[1]} & \\cdots{} & w_{1,n^{[0]}}^{[1]} \\\\ w_{2,1}^{[1]} & w_{2,2}^{[1]} & \\cdots{} & w_{2,n^{[0]}}^{[1]} \\\\ \\vdots{} & \\vdots{} & \\ddots{} & \\vdots{} \\\\ w^{[1]}_{n^{[1]},1} & w_{n^{[1]},2}^{[1]} & \\cdots{} & w_{n^{[1]},n^{[0]}}^{[1]} \\end{bmatrix} \\cdot{} \\begin{bmatrix} x^{(1)}_{1} & x^{(2)}_{1} & \\cdots{} & x^{(m)}_{1} \\\\ x^{(1)}_{2} & x^{(2)}_{2} & \\cdots{} & x^{(m)}_{2} \\\\ \\vdots{} & \\vdots{} & \\ddots{} & \\vdots{} \\\\ x^{(1)}_{n^{[0]}} & x^{(2)}_{n^{[0]}} & \\cdots{} & x^{(m)}_{n^{[0]}} \\end{bmatrix} + \\begin{bmatrix} b^{[1]}_{1} & b^{[1]}_{1} & \\cdots{} & b^{[1]}_{1} \\\\ b^{[1]}_{2} & b^{[1]}_{2} & \\cdots{} & b^{[1]}_{2} \\\\ \\vdots{} & \\vdots{} & \\ddots{} & \\vdots{} \\\\ b^{[1]}_{n^{[1]}} & b^{[1]}_{n^{[1]}} & \\cdots{} & b^{[1]}_{n^{[1]}} \\end{bmatrix} $\n",
    "#### $ \\hspace{0.8cm} = \\begin{bmatrix} \\sum{}^{n^{[0]}}_{i=1}w^{[1]}_{1,i} \\cdot{} x^{(1)}_{i} + b^{[1]}_{1} & \\sum{}^{n^{[0]}}_{i=1}w^{[1]}_{1,i} \\cdot{} x^{(2)}_{i} + b^{[1]}_{1} & \\cdots{} & \\sum{}^{n^{[0]}}_{i=1}w^{[1]}_{1,i} \\cdot{} x^{(m)}_{i} + b^{[1]}_{1} \\\\ \\sum{}^{n^{[0]}}_{i=1}w^{[1]}_{2,i} \\cdot{} x^{(1)}_{i} + b^{[1]}_{2} & \\sum{}^{n^{[0]}}_{i=1}w^{[1]}_{2,i} \\cdot{} x^{(2)}_{i} + b^{[1]}_{2} & \\cdots{} & \\sum{}^{n^{[0]}}_{i=1}w^{[1]}_{2,i} \\cdot{} x^{(m)}_{i} + b^{[1]}_{2} \\\\ \\vdots{} & \\vdots{} & \\ddots{} & \\vdots{} \\\\ \\sum{}^{n^{[0]}}_{i=1}w^{[1]}_{n^{[1]},i} \\cdot{} x^{(1)}_{i} + b^{[1]}_{n^{[1]}} & \\sum{}^{n^{[0]}}_{i=1}w^{[1]}_{n^{[1]},i} \\cdot{} x^{(2)}_{i} + b^{[1]}_{n^{[1]}} & \\cdots{} & \\sum{}^{n^{[0]}}_{i=1}w^{[1]}_{n^{[1]},i} \\cdot{} x^{(m)}_{i} + b^{[1]}_{n^{[1]}} \\end{bmatrix} $ \n",
    "#### $ \\hspace{0.8cm} = \\begin{bmatrix} z^{[1](1)}_{1} & z^{[1](2)}_{1} & \\cdots{} & z^{[1](m)}_{1} \\\\ z^{[1](1)}_{2} & z^{[1](2)}_{2} & \\cdots{} & z^{[1](m)}_{2}  \\\\ \\vdots{} & \\vdots{} & \\ddots{} & \\vdots{} \\\\ z^{[1](1)}_{n^{[1]}} & z^{[1](2)}_{n^{[1]}} & \\cdots{} & z^{[1](m)}_{n^{[1]}} \\end{bmatrix} = \\begin{bmatrix} \\textbf{z}^{[1](1)} & \\textbf{z}^{[1](2)} & \\cdots{} & \\textbf{z}^{[1](m)} \\end{bmatrix} $"
   ]
  },
  {
   "cell_type": "markdown",
   "metadata": {},
   "source": [
    "#### **(6) Activate Function of $ \\, 1 $-st Hidden Layer** :\n",
    "#### $ \\underset{n^{[1]}\\times{}m}{A^{[1]}} = h^{[1]}(Z^{[1]}) $\n",
    "#### $ \\hspace{0.65cm} = \\begin{bmatrix} h^{[1]}(\\textbf{z}^{[1](1)}) & h^{[1]}(\\textbf{z}^{[1](2)}) & \\cdots{} & h^{[1]}(\\textbf{z}^{[1](m)}) \\end{bmatrix} $ \n",
    "#### $ \\hspace{0.65cm} = \\begin{bmatrix} h^{[1]}(z^{[1](1)}_{1}) & h^{[1]}(z^{[1](2)}_{1}) & \\cdots{} & h^{[1]}(z^{[1](m)}_{1}) \\\\ h^{[1]}(z^{[1](1)}_{2}) & h^{[1]}(z^{[1](2)}_{2}) & \\cdots{} & h^{[1]}(z^{[1](m)}_{2}) \\\\ \\vdots{} & \\vdots{} & \\ddots{} & \\vdots{} \\\\ h^{[1]}(z^{[1](1)}_{n^{[1]}}) & h^{[1]}(z^{[1](2)}_{n^{[1]}}) & \\cdots{} & h^{[1]}(z^{[1](m)}_{n^{[1]}}) \\end{bmatrix} $\n",
    "#### $ \\hspace{0.65cm} = \\begin{bmatrix} a^{[1](1)}_{1} & a^{[1](2)}_{1} & \\cdots{} & a^{[1](m)}_{1} \\\\ a^{[1](1)}_{2} & a^{[1](2)}_{2} & \\cdots{} & a^{[1](m)}_{2} \\\\ \\vdots{} & \\vdots{} & \\ddots{} & \\vdots{} \\\\ a^{[1](1)}_{n^{[1]}} & a^{[1](2)}_{n^{[1]}} & \\cdots{} & a^{[1](m)}_{n^{[1]}} \\end{bmatrix} = \\begin{bmatrix} \\textbf{a}^{[1](1)} & \\textbf{a}^{[1](2)} & \\cdots{} & \\textbf{a}^{[1](m)} \\end{bmatrix} $"
   ]
  },
  {
   "cell_type": "markdown",
   "metadata": {},
   "source": [
    "#### $ \\hspace{3cm} \\vdots{} $"
   ]
  },
  {
   "cell_type": "markdown",
   "metadata": {},
   "source": [
    "#### **(?) Weight of $ \\, \\text{k} $-th Hidden Layer**(`parameter`) :\n",
    "#### $ \\underset{n^{[\\text{k}]}\\times{}n^{[\\text{k-1}]}}{W^{[\\text{k}]}} = \\begin{bmatrix} w_{1,1}^{[\\text{k}]} & w_{1,2}^{[\\text{k}]} & \\cdots{} & w_{1,n^{[\\text{k-1}]}}^{[\\text{k}]} \\\\ w_{2,1}^{[\\text{k}]} & w_{2,2}^{[\\text{k}]} & \\cdots{} & w_{2,n^{[\\text{k-1}]}}^{[\\text{k}]} \\\\ \\vdots{} & \\vdots{} & \\ddots{} & \\vdots{} \\\\ w^{[\\text{k}]}_{n^{[\\text{k}]},1} & w_{n^{[\\text{k}]},2}^{[\\text{k}]} & \\cdots{} & w_{n^{[\\text{k}]},n^{[\\text{k-1}]}}^{[\\text{k}]} \\end{bmatrix} = \\begin{bmatrix} \\textbf{w}^{[\\text{k}]}_{1} \\\\ \\textbf{w}^{[\\text{k}]}_{2} \\\\ \\vdots{} \\\\ \\textbf{w}^{[\\text{k}]}_{n^{[\\text{k}]}} \\end{bmatrix} $"
   ]
  },
  {
   "cell_type": "markdown",
   "metadata": {},
   "source": [
    "#### **(?) Bias of $ \\, \\text{k} $-st Hidden Layer**(`parameter`) : \n",
    "#### $ \\underset{n^{[\\text{k}]}\\times{}m}{B^{[\\text{k}]}} = \\begin{bmatrix} b^{[\\text{k}]}_{1} & b^{[\\text{k}]}_{1} & \\cdots{} & b^{[\\text{k}]}_{1} \\\\ b^{[\\text{k}]}_{2} & b^{[\\text{k}]}_{2} & \\cdots{} & b^{[\\text{k}]}_{2} \\\\ \\vdots{} & \\vdots{} & \\ddots{} & \\vdots{} \\\\ b^{[\\text{k}]}_{n^{[\\text{k}]}} & b^{[\\text{k}]}_{n^{[\\text{k}]}} & \\cdots{} & b^{[\\text{k}]}_{n^{[\\text{k}]}} \\end{bmatrix} $"
   ]
  },
  {
   "cell_type": "markdown",
   "metadata": {},
   "source": [
    "#### **(?) Linear transformation of $ \\, \\text{k} $-th Hidden Layer** :\n",
    "#### $ \\underset{n^{[\\text{k}]}\\times{}m}{Z^{[\\text{k}]}} = W^{[\\text{k}]} \\cdot{} A^{[\\text{k-1}]} + B^{[\\text{k}]} $\n",
    "#### $ \\hspace{0.8cm} = \\begin{bmatrix} (\\textbf{w}^{[\\text{k}]}_{1})^{T} \\cdot{} \\textbf{a}^{[\\text{k-1}](1)} & (\\textbf{w}^{[\\text{k}]}_{1})^{T} \\cdot{} \\textbf{a}^{[\\text{k-1}](2)} & \\cdots{} & (\\textbf{w}^{[\\text{k}]}_{1})^{T} \\cdot{} \\textbf{a}^{[\\text{k-1}](m)} \\\\ (\\textbf{w}^{[\\text{k}]}_{2})^{T} \\cdot{} \\textbf{a}^{[\\text{k-1}](1)} & (\\textbf{w}^{[\\text{k}]}_{2})^{T} \\cdot{} \\textbf{a}^{[\\text{k-1}](2)} & \\cdots{} & (\\textbf{w}^{[\\text{k}]}_{2})^{T} \\cdot{} \\textbf{a}^{[\\text{k-1}](m)} \\\\ \\vdots{} & \\vdots{} & \\ddots{} & \\vdots{} \\\\ (\\textbf{w}^{[\\text{k}]}_{n^{[\\text{k}]}})^{T} \\cdot{} \\textbf{a}^{[\\text{k-1}](1)} & (\\textbf{w}^{[\\text{k}]}_{n^{[\\text{k}]}})^{T} \\cdot{} \\textbf{a}^{[\\text{k-1}](2)} & \\cdots{} & (\\textbf{w}^{[\\text{k}]}_{n^{[\\text{k}]}})^{T} \\cdot{} \\textbf{a}^{[\\text{k-1}](m)} \\end{bmatrix} + \\begin{bmatrix} b^{[\\text{k}]}_{1} & b^{[\\text{k}]}_{1} & \\cdots{} & b^{[\\text{k}]}_{1} \\\\ b^{[\\text{k}]}_{2} & b^{[\\text{k}]}_{2} & \\cdots{} & b^{[\\text{k}]}_{2} \\\\ \\vdots{} & \\vdots{} & \\ddots{} & \\vdots{} \\\\ b^{[\\text{k}]}_{n^{[\\text{k}]}} & b^{[\\text{k}]}_{n^{[\\text{k}]}} & \\cdots{} & b^{[\\text{k}]}_{n^{[\\text{k}]}} \\end{bmatrix} $\n",
    "#### $ \\hspace{0.8cm} = \\begin{bmatrix} w_{1,1}^{[\\text{k}]} & w_{1,2}^{[\\text{k}]} & \\cdots{} & w_{1,n^{[\\text{k-1}]}}^{[\\text{k}]} \\\\ w_{2,1}^{[\\text{k}]} & w_{2,2}^{[\\text{k}]} & \\cdots{} & w_{2,n^{[\\text{k-1}]}}^{[\\text{k}]} \\\\ \\vdots{} & \\vdots{} & \\ddots{} & \\vdots{} \\\\ w^{[\\text{k}]}_{n^{[\\text{k}]},1} & w_{n^{[\\text{k}]},2}^{[\\text{k}]} & \\cdots{} & w_{n^{[\\text{k}]},n^{[\\text{k-1}]}}^{[\\text{k}]} \\end{bmatrix} \\cdot{} \\begin{bmatrix} a^{[\\text{k-1}](1)}_{1} & a^{[\\text{k-1}](2)}_{1} & \\cdots{} & a^{[\\text{k-1}](m)}_{1} \\\\ a^{[\\text{k-1}](1)}_{2} & a^{[\\text{k-1}](2)}_{2} & \\cdots{} & a^{[\\text{k-1}](m)}_{2} \\\\ \\vdots{} & \\vdots{} & \\ddots{} & \\vdots{} \\\\ a^{[\\text{k-1}](1)}_{n^{[\\text{k-1}]}} & a^{[\\text{k-1}](2)}_{n^{[\\text{k-1}]}} & \\cdots{} & a^{[\\text{k-1}](m)}_{n^{[\\text{k-1}]}} \\end{bmatrix} + \\begin{bmatrix} b^{[\\text{k}]}_{1} & b^{[\\text{k}]}_{1} & \\cdots{} & b^{[\\text{k}]}_{1} \\\\ b^{[\\text{k}]}_{2} & b^{[\\text{k}]}_{2} & \\cdots{} & b^{[\\text{k}]}_{2} \\\\ \\vdots{} & \\vdots{} & \\ddots{} & \\vdots{} \\\\ b^{[\\text{k}]}_{n^{[\\text{k}]}} & b^{[\\text{k}]}_{n^{[\\text{k}]}} & \\cdots{} & b^{[\\text{k}]}_{n^{[\\text{k}]}} \\end{bmatrix} $\n",
    "#### $ \\hspace{0.8cm} = \\begin{bmatrix} \\sum{}^{n^{[\\text{k-1}]}}_{i=1}w^{[\\text{k}]}_{1,i} \\cdot{} a^{[\\text{k-1}](1)}_{i} + b^{[\\text{k}]}_{1} & \\sum{}^{n^{[\\text{k-1}]}}_{i=1}w^{[\\text{k}]}_{1,i} \\cdot{} a^{[\\text{k-1}](2)}_{i} + b^{[\\text{k}]}_{1} & \\cdots{} & \\sum{}^{n^{[\\text{k-1}]}}_{i=1}w^{[\\text{k}]}_{1,i} \\cdot{} a^{[\\text{k-1}](m)}_{i} + b^{[\\text{k}]}_{1} \\\\ \\sum{}^{n^{[\\text{k-1}]}}_{i=1}w^{[\\text{k}]}_{2,i} \\cdot{} a^{[\\text{k-1}](1)}_{i} + b^{[\\text{k}]}_{2} & \\sum{}^{n^{[\\text{k-1}]}}_{i=1}w^{[\\text{k}]}_{2,i} \\cdot{} a^{[\\text{k-1}](2)}_{i} + b^{[\\text{k}]} & \\cdots{} & \\sum{}^{n^{[\\text{k-1}]}}_{i=1}w^{[\\text{k}]}_{2,i} \\cdot{} a^{[\\text{k-1}](m)}_{i} + b^{[\\text{k}]}_{2} \\\\ \\vdots{} & \\vdots{} & \\ddots{} & \\vdots{} \\\\ \\sum{}^{n^{[\\text{k-1}]}}_{i=1}w^{[\\text{k}]}_{n^{[\\text{k}]},i} \\cdot{} a^{[\\text{k-1}](1)}_{i} + b^{[\\text{k}]}_{n^{[\\text{k}]}} & \\sum{}^{n^{[\\text{k-1}]}}_{i=1}w^{[\\text{k}]}_{n^{[\\text{k}]},i} \\cdot{} a^{[\\text{k-1}](2)}_{i} + b^{[\\text{k}]}_{n^{[\\text{k}]}} & \\cdots{} & \\sum{}^{n^{[\\text{k-1}]}}_{i=1}w^{[\\text{k}]}_{n^{[\\text{k}]},i} \\cdot{} a^{[\\text{k-1}](m)}_{i} + b^{[\\text{k}]}_{n^{[\\text{k}]}} \\end{bmatrix} $ \n",
    "#### $ \\hspace{0.8cm} = \\begin{bmatrix} z^{[\\text{k}](1)}_{1} & z^{[\\text{k}](2)}_{1} & \\cdots{} & z^{[\\text{k}](m)}_{1} \\\\ z^{[\\text{k}](1)}_{2} & z^{[\\text{k}](2)}_{2} & \\cdots{} & z^{[\\text{k}](m)}_{2} \\\\ \\vdots{} & \\vdots{} & \\ddots{} & \\vdots{} \\\\ z^{[\\text{k}](1)}_{n^{[\\text{k}]}} & z^{[\\text{k}](2)}_{n^{[\\text{k}]}} & \\cdots{} & z^{[\\text{k}](m)}_{n^{[\\text{k}]}} \\end{bmatrix} = \\begin{bmatrix} \\textbf{z}^{[\\text{k}](1)} & \\textbf{z}^{[\\text{k}](2)} & \\cdots{} & \\textbf{z}^{[\\text{k}](m)} \\end{bmatrix} $"
   ]
  },
  {
   "cell_type": "markdown",
   "metadata": {},
   "source": [
    "#### **(?) Activate Function of $ \\, \\text{k} $-th Hidden Layer** :\n",
    "#### $ \\underset{n^{[\\text{k}]}\\times{}m}{A^{[\\text{k}]}} = h^{[\\text{k}]}(Z^{[\\text{k}]}) $\n",
    "#### $ \\hspace{0.65cm} = \\begin{bmatrix} h^{[\\text{k}]}(\\textbf{z}^{[\\text{k}](1)}) & h^{[\\text{k}]}(\\textbf{z}^{[\\text{k}](2)}) & \\cdots{} & h^{[\\text{k}]}(\\textbf{z}^{[\\text{k}](m)}) \\end{bmatrix} $ \n",
    "#### $ \\hspace{0.65cm} = \\begin{bmatrix} h^{[\\text{k}]}(z^{[\\text{k}](1)}_{1}) & h^{[\\text{k}]}(z^{[\\text{k}](2)}_{1}) & \\cdots{} & h^{[\\text{k}]}(z^{[\\text{k}](m)}_{1}) \\\\ h^{[\\text{k}]}(z^{[\\text{k}](1)}_{2}) & h^{[\\text{k}]}(z^{[\\text{k}](2)}_{2}) & \\cdots{} & h^{[\\text{k}]}(z^{[\\text{k}](m)}_{2}) \\\\ \\vdots{} & \\vdots{} & \\ddots{} & \\vdots{} \\\\ h^{[\\text{k}]}(z^{[\\text{k}](1)}_{n^{[\\text{k}]}}) & h^{[\\text{k}]}(z^{[\\text{k}](2)}_{n^{[\\text{k}]}}) & \\cdots{} & h^{[\\text{k}]}(z^{[\\text{k}](m)}_{n^{[\\text{k}]}}) \\end{bmatrix} $\n",
    "#### $ \\hspace{0.65cm} = \\begin{bmatrix} a^{[\\text{k}](1)}_{1} & a^{[\\text{k}](2)}_{1} & \\cdots{} & a^{[\\text{k}](m)}_{1} \\\\ a^{[\\text{k}](1)}_{2} & a^{[\\text{k}](2)}_{2} & \\cdots{} & a^{[\\text{k}](m)}_{2} \\\\ \\vdots{} & \\vdots{} & \\ddots{} & \\vdots{} \\\\ a^{[\\text{k}](1)}_{n^{[\\text{k}]}} & a^{[\\text{k}](2)}_{n^{[\\text{k}]}} & \\cdots{} & a^{[\\text{k}](m)}_{n^{[\\text{k}]}} \\end{bmatrix} = \\begin{bmatrix} \\textbf{a}^{[\\text{k}](1)} & \\textbf{a}^{[\\text{k}](2)} & \\cdots{} & \\textbf{a}^{[\\text{k}](m)} \\end{bmatrix} $"
   ]
  },
  {
   "cell_type": "markdown",
   "metadata": {},
   "source": [
    "#### $ \\hspace{3cm} \\vdots{} $"
   ]
  },
  {
   "cell_type": "markdown",
   "metadata": {},
   "source": [
    "#### **(?) Weight of Output Layer**(`parameter`) : $ n^{[\\text{L}]} = 1$\n",
    "#### $ \\underset{1\\times{}n^{[\\text{L-1}]}}{W^{[\\text{L}]}} = \\begin{bmatrix} w_{1}^{[\\text{L}]} & w_{2}^{[\\text{L}]} & \\cdots{} & w_{n^{[\\text{L-1}]}}^{[\\text{L}]} \\end{bmatrix} $"
   ]
  },
  {
   "cell_type": "markdown",
   "metadata": {},
   "source": [
    "#### **(8) Bias of Output Layer**(`parameter`) : \n",
    "#### $ \\underset{1\\times{}m}{B^{[\\text{L}]}} = \\begin{bmatrix} b^{[\\text{L}]} & b^{[\\text{L}]} & \\cdots{} & b^{[\\text{L}]} \\end{bmatrix} $"
   ]
  },
  {
   "cell_type": "markdown",
   "metadata": {},
   "source": [
    "#### **(?) Linear Transformation of Output Layer** :\n",
    "#### $ \\underset{1\\times{}m}{Z^{[\\text{L}]}} = W^{[\\text{L}]} \\cdot{} A^{[\\text{L-1}]} + B^{[\\text{L}]} $\n",
    "#### $ \\hspace{0.645cm} = \\begin{bmatrix} w_{1}^{[\\text{L}]} & w_{2}^{[\\text{L}]} & \\cdots{} & w_{n^{[\\text{L-1}]}}^{[\\text{L}]} \\end{bmatrix} \\cdot{} \\begin{bmatrix} a^{[\\text{L-1}](1)}_{1} & a^{[\\text{L-1}](2)}_{1} & \\cdots{} & a^{[\\text{L-1}](m)}_{1} \\\\ a^{[\\text{L-1}](1)}_{2} & a^{[\\text{L-1}](2)}_{2} & \\cdots{} & a^{[\\text{L-1}](m)}_{2} \\\\ \\vdots{} & \\vdots{} & \\ddots{} & \\vdots{} \\\\ a^{[\\text{L-1}](1)}_{n^{[\\text{L-1}]}} & a^{[\\text{L-1}](2)}_{n^{[\\text{L-1}]}} & \\cdots{} & a^{[\\text{L-1}](m)}_{n^{[\\text{L-1}]}} \\end{bmatrix} + \\begin{bmatrix} b^{[\\text{L}]} & b^{[\\text{L}]} & \\cdots{} & b^{[\\text{L}]} \\end{bmatrix} $\n",
    "#### $ \\hspace{0.645cm} = \\begin{bmatrix} \\sum^{n^{[\\text{L-1}]}}_{i=1}w^{[\\text{L}]}_{i} \\cdot{} a^{[\\text{L-1}](1)}_{i} + b^{[\\text{L}]} & \\sum^{n^{[\\text{L-1}]}}_{i=1}w^{[\\text{L}]}_{i} \\cdot{} a^{[\\text{L-1}](2)}_{i} + b^{[\\text{L}]} & \\cdots{} & \\sum^{n^{[\\text{L-1}]}}_{i=1}w^{[\\text{L}]}_{i} \\cdot{} a^{[\\text{L-1}](m)}_{i} + b^{[\\text{L}]} \\end{bmatrix} $\n",
    "#### $ \\hspace{0.645cm} = \\begin{bmatrix} z^{[\\text{L}](1)} & z^{[\\text{L}](2)} & \\cdots{} & z^{[\\text{L}](m)} \\end{bmatrix} $"
   ]
  },
  {
   "cell_type": "markdown",
   "metadata": {},
   "source": [
    "#### **(?) Estimate Target**(`output`) : sigmoid\n",
    "#### $ \\underset{1\\times{}m}{\\hat{Y}} = A^{[\\text{L}]} = \\sigma{}(Z^{[\\text{L}]}) $\n",
    "#### $ \\hspace{0.65cm} = \\begin{bmatrix} \\sigma{}(z^{[\\text{L}](1)}) & \\sigma{}(z^{[\\text{L}](2)}) & \\cdots{} & \\sigma{}(z^{[\\text{L}](m)}) \\end{bmatrix} $\n",
    "#### $ \\hspace{0.65cm} = \\begin{bmatrix} \\frac{1}{1+e^{-z^{[\\text{L}](1)}}} & \\frac{1}{1+e^{-z^{[\\text{L}](2)}}} & \\cdots{} & \\frac{1}{1+e^{-z^{[\\text{L}](m)}}} \\end{bmatrix} $\n",
    "#### $ \\hspace{0.65cm} = \\begin{bmatrix} \\hat{y}^{(1)} & \\hat{y}^{(2)} & \\cdots{} & \\hat{y}^{(m)} \\end{bmatrix} $"
   ]
  },
  {
   "cell_type": "markdown",
   "metadata": {},
   "source": [
    "#### **(?) Loss Function** : log-loss\n",
    "#### $ \\underset{1\\times{m}}{L} = \\ell{}(\\hat{Y},\\, Y) \\;\\; $ \n",
    "#### $ \\hspace{0.65cm} = \\begin{bmatrix} \\ell{}(\\hat{y}^{(1)},\\, y^{(1)}) & \\ell{}(\\hat{y}^{(2)},\\, y^{(2)}) & \\cdots{} & \\ell{}(\\hat{y}^{(m)},\\, y^{(m)}) \\end{bmatrix} $\n",
    "#### $ \\hspace{0.65cm} = \\begin{bmatrix} -(y^{(1)}\\log{}(\\hat{y}^{(1)})+(1-y^{(1)})\\log{}(1-\\hat{y}^{(1)})) & \\cdots{} & -(y^{(m)}\\log{}(\\hat{y}^{(m)})+(1-y^{(m)})\\log{}(1-\\hat{y}^{(m)}))\\end{bmatrix} $\n",
    "#### $ \\hspace{0.65cm} = \\begin{bmatrix} \\ell{}^{(1)} & \\ell{}^{(2)} & \\cdots{} & \\ell{}^{(m)} \\end{bmatrix} $"
   ]
  },
  {
   "cell_type": "markdown",
   "metadata": {},
   "source": [
    "#### **(?) Cost Function** : \n",
    "#### $ \\underset{1\\times{}1}{J} = J(W^{[1]},\\, B^{[1]},\\, W^{[2]},\\, B^{[2]}, \\cdots{}, W^{[L]},\\, B^{[L]}) = \\frac{1}{m} \\cdot{} \\displaystyle\\sum^{m}_{i=1} \\ell(\\hat{y}^{(i)},\\, y^{(i)}) = \\frac{1}{m} \\cdot{} L \\cdot{} \\underset{m\\times{}1}{\\textbf{1}} $"
   ]
  },
  {
   "cell_type": "markdown",
   "metadata": {},
   "source": [
    "<b></b>"
   ]
  },
  {
   "cell_type": "markdown",
   "metadata": {},
   "source": [
    "> ## **Back Propagation**"
   ]
  },
  {
   "cell_type": "markdown",
   "metadata": {},
   "source": [
    "#### **(1) $ \\frac{\\partial{}J}{\\partial{}\\hat{Y}} = \\frac{\\partial{}J}{\\partial{}A^{[\\text{L}]}} $** : \n",
    "#### $ \\underset{1\\times{}m}{\\frac{\\partial{}J}{\\partial{}\\hat{Y}}} = \\begin{bmatrix} \\frac{\\partial{}J}{\\partial{}\\hat{y}^{(1)}} & \\frac{\\partial{}J}{\\partial{}\\hat{y}^{(2)}} & \\cdots{} & \\frac{\\partial{}J}{{\\partial{}\\hat{y}^{(m)}}} \\end{bmatrix} $\n",
    "#### $ \\hspace{0.625cm} = \\begin{bmatrix} (-\\frac{y^{(1)}}{\\hat{y}^{(1)}}+\\frac{1-y^{(1)}}{1-\\hat{y}^{(1)}}) & (-\\frac{y^{(2)}}{\\hat{y}^{(2)}}+\\frac{1-y^{(2)}}{1-\\hat{y}^{(2)}}) & \\cdots{} & (-\\frac{y^{(m)}}{\\hat{y}^{(m)}}+\\frac{1-y^{(m)}}{1-\\hat{y}^{(m)}}) \\end{bmatrix} $ "
   ]
  },
  {
   "cell_type": "markdown",
   "metadata": {},
   "source": [
    "#### **(2) $ \\frac{\\partial{}J}{\\partial{}Z^{[\\text{L}]}} $** :\n",
    "#### $ \\underset{1\\times{}m}{\\frac{\\partial{}J}{\\partial{}Z^{[\\text{L}]}}} = \\frac{\\partial{}J}{\\partial{}\\hat{Y}} \\cdot{} \\frac{\\partial{}\\hat{Y}}{\\partial{}Z^{[\\text{L}]}} $ \n",
    "#### $ \\hspace{0.67cm} = \\begin{bmatrix} (-\\frac{y^{(1)}}{\\hat{y}^{(1)}}+\\frac{1-y^{(1)}}{1-\\hat{y}^{(1)}}) & \\cdots{} & (-\\frac{y^{(m)}}{\\hat{y}^{(m)}}+\\frac{1-y^{(m)}}{1-\\hat{y}^{(m)}}) \\end{bmatrix} \\cdot{} \\begin{bmatrix} \\frac{\\partial{}\\hat{y}^{(1)}}{\\partial{}Z^{[\\text{L}]}} \\\\ \\frac{\\partial{}\\hat{y}^{(2)}}{\\partial{}Z^{[\\text{L}]}} \\\\ \\vdots{} \\\\ \\frac{\\partial{}\\hat{y}^{(m)}}{\\partial{}Z^{[\\text{L}]}} \\end{bmatrix} $\n",
    "#### $ \\hspace{0.67cm} = \\begin{bmatrix} (-\\frac{y^{(1)}}{\\hat{y}^{(1)}}+\\frac{1-y^{(1)}}{1-\\hat{y}^{(1)}}) & \\cdots{} & (-\\frac{y^{(m)}}{\\hat{y}^{(m)}}+\\frac{1-y^{(m)}}{1-\\hat{y}^{(m)}}) \\end{bmatrix} \\cdot{} \\begin{bmatrix} \\frac{\\partial{}\\hat{y}^{(1)}}{\\partial{}z^{[\\text{L}](1)}} & \\frac{\\partial{}\\hat{y}^{(1)}}{\\partial{}z^{[\\text{L}](2)}} & \\cdots{} & \\frac{\\partial{}\\hat{y}^{(1)}}{\\partial{}z^{[\\text{L}](m)}} \\\\ \\frac{\\partial{}\\hat{y}^{(2)}}{\\partial{}z^{[\\text{L}](1)}} & \\frac{\\partial{}\\hat{y}^{(2)}}{\\partial{}z^{[\\text{L}](2)}} & \\cdots{} & \\frac{\\partial{}\\hat{y}^{(2)}}{\\partial{}z^{[\\text{L}](m)}} \\\\ \\vdots{} & \\vdots{} & \\ddots{} & \\vdots{} \\\\ \\frac{\\partial{}\\hat{y}^{(m)}}{\\partial{}z^{[\\text{L}](1)}} & \\frac{\\partial{}\\hat{y}^{(m)}}{\\partial{}z^{[\\text{L}](2)}} & \\cdots{} & \\frac{\\partial{}\\hat{y}^{(m)}}{\\partial{}z^{[\\text{L}](m)}} \\end{bmatrix} $\n",
    "#### $ \\hspace{0.67cm} = \\begin{bmatrix} (-\\frac{y^{(1)}}{\\hat{y}^{(1)}}+\\frac{1-y^{(1)}}{1-\\hat{y}^{(1)}}) & \\cdots{} & (-\\frac{y^{(m)}}{\\hat{y}^{(m)}}+\\frac{1-y^{(m)}}{1-\\hat{y}^{(m)}}) \\end{bmatrix} \\cdot{} \\begin{bmatrix} \\hat{y}^{(1)} \\cdot{} (1-\\hat{y}^{(1)}) & 0 & \\cdots{} & 0 \\\\ 0 & \\hat{y}^{(2)} \\cdot{} (1-\\hat{y}^{(2)}) & \\cdots{} & 0 \\\\ \\vdots{} & \\vdots{} & \\ddots{} & \\vdots{} \\\\ 0 & 0 & \\cdots{} & \\hat{y}^{(m)} \\cdot{} (1-\\hat{y}^{(m)}) \\end{bmatrix} $\n",
    "#### $ \\hspace{0.67cm} = \\begin{bmatrix} (-\\frac{y^{(1)}}{\\hat{y}^{(1)}}+\\frac{1-y^{(1)}}{1-\\hat{y}^{(1)}}) \\cdot{} \\hat{y}^{(1)} \\cdot{} (1-\\hat{y}^{(1)}) & \\cdots{} & (-\\frac{y^{(m)}}{\\hat{y}^{(m)}}+\\frac{1-y^{(m)}}{1-\\hat{y}^{(m)}}) \\cdot{} \\hat{y}^{(m)} \\cdot{} (1-\\hat{y}^{(m)}) \\end{bmatrix} $\n",
    "#### $ \\hspace{0.67cm} = \\begin{bmatrix} \\hat{y}^{(1)}-y^{(1)} & \\cdots{} & \\hat{y}^{(m)}-y^{(m)} \\end{bmatrix} $\n",
    "#### $ \\hspace{0.67cm} = \\hat{Y} - Y $"
   ]
  },
  {
   "cell_type": "markdown",
   "metadata": {},
   "source": [
    "#### **(3) $ \\frac{\\partial{}J}{\\partial{}W^{[\\text{L}]}} $** :\n",
    "#### $ \\underset{1\\times{}n^{[\\text{L-1}]}}{\\frac{\\partial{}J}{\\partial{}W^{[\\text{L}]}}} = \\frac{\\partial{}J}{\\partial{}\\hat{Y}} \\cdot{} \\frac{\\partial{}\\hat{Y}}{\\partial{}Z^{[\\text{L}]}} \\cdot{} \\frac{\\partial{}Z^{[\\text{L}]}}{\\partial{}W^{[\\text{L}]}} $\n",
    "#### $ \\hspace{0.795cm} = \\frac{\\partial{}J}{\\partial{}Z^{[\\text{L}]}} \\cdot{} \\frac{\\partial{}Z^{[\\text{L}]}}{\\partial{}W^{[\\text{L}]}} $\n",
    "#### $ \\hspace{0.795cm} = \\begin{bmatrix} \\hat{y}^{(1)}-y^{(1)} & \\cdots{} & \\hat{y}^{(m)}-y^{(m)} \\end{bmatrix} \\cdot{} \\begin{bmatrix} \\frac{\\partial{}z^{[\\text{L}](1)}}{\\partial{}W^{[\\text{L}]}} \\\\ \\frac{\\partial{}z^{[\\text{L}](2)}}{\\partial{}W^{[\\text{L}]}} \\\\ \\vdots{} \\\\ \\frac{\\partial{}z^{[\\text{L}](m)}}{\\partial{}W^{[\\text{L}]}} \\end{bmatrix} $\n",
    "#### $ \\hspace{0.795cm} = \\begin{bmatrix} \\hat{y}^{(1)}-y^{(1)} & \\cdots{} & \\hat{y}^{(m)}-y^{(m)} \\end{bmatrix} \\cdot{} \\begin{bmatrix} \\frac{\\partial{}z^{[\\text{L}](1)}}{\\partial{}w^{[\\text{L}]}_{1}} & \\frac{\\partial{}z^{[\\text{L}](1)}}{\\partial{}w^{[\\text{L}]}_{2}} & \\cdots{} & \\frac{\\partial{}z^{[\\text{L}](1)}}{\\partial{}w^{[\\text{L}]}_{n^{[\\text{L-1}]}}} \\\\ \\frac{\\partial{}z^{[\\text{L}](2)}}{\\partial{}w^{[\\text{L}]}_{1}} & \\frac{\\partial{}z^{[\\text{L}](2)}}{\\partial{}w^{[\\text{L}]}_{2}} & \\cdots{} & \\frac{\\partial{}z^{[\\text{L}](2)}}{\\partial{}w^{[\\text{L}]}_{n^{[\\text{L-1}]}}} \\\\ \\vdots{} & \\vdots{} & \\ddots{} & \\vdots{} \\\\ \\frac{\\partial{}z^{[\\text{L}](m)}}{\\partial{}w^{[\\text{L}]}_{1}} & \\frac{\\partial{}z^{[\\text{L}](m)}}{\\partial{}w^{[\\text{L}]}_{2}} & \\cdots{} & \\frac{\\partial{}z^{[\\text{L}](m)}}{\\partial{}w^{[\\text{L}]}_{n^{[\\text{L-1}]}}} \\end{bmatrix} $ \n",
    "#### $ \\hspace{0.795cm} = \\begin{bmatrix} \\hat{y}^{(1)}-y^{(1)} & \\cdots{} & \\hat{y}^{(m)}-y^{(m)} \\end{bmatrix} \\cdot{} \\begin{bmatrix} a^{[\\text{L-1}](1)}_{1} & a^{[\\text{L-1}](1)}_{2} & \\cdots{} & a^{[\\text{L-1}](1)}_{n^{[\\text{L-1}]}} \\\\ a^{[\\text{L-1}](2)}_{1} & a^{[\\text{L-1}](2)}_{2} & \\cdots{} & a^{[\\text{L-1}](2)}_{n^{[\\text{L-1}]}} \\\\ \\vdots{} & \\vdots{} & \\ddots{} & \\vdots{} \\\\ a^{[\\text{L-1}](m)}_{1} & a^{[\\text{L-1}](m)}_{2} & \\cdots{} & a^{[\\text{L-1}](m)}_{n^{[\\text{L-1}]}} \\end{bmatrix} $ \n",
    "#### $ \\hspace{0.795cm} = \\begin{bmatrix} \\sum^{m}_{i=1}(\\hat{y}^{(i)}-y^{(i)}) \\cdot{} a^{[\\text{L-1}](i)}_{1} & \\cdots{} & \\sum^{m}_{i=1}(\\hat{y}^{(i)}-y^{(i)}) \\cdot{} a^{[\\text{L-1}](i)}_{n^{[\\text{L-1}]}} \\end{bmatrix} $\n",
    "#### $ \\hspace{0.795cm} = (\\hat{Y} - Y) \\cdot{} (A^{[\\text{L-1}]})^{T} $"
   ]
  },
  {
   "cell_type": "markdown",
   "metadata": {},
   "source": [
    "#### **(4) $ \\frac{\\partial{}J}{\\partial{}B^{[\\text{L}]}} $** :\n",
    "#### $ \\underset{1\\times{}m}{\\frac{\\partial{}J}{\\partial{}B^{[\\text{L}]}}} = \\frac{\\partial{}J}{\\partial{}\\hat{Y}} \\cdot{} \\frac{\\partial{}\\hat{Y}}{\\partial{}Z^{[\\text{L}]}} \\cdot{} \\frac{\\partial{}Z^{[\\text{L}]}}{\\partial{}B^{[\\text{L}]}} $\n",
    "#### $ \\hspace{0.63cm} = \\frac{\\partial{}J}{\\partial{}Z^{[\\text{L}]}} \\cdot{} \\frac{\\partial{}Z^{[\\text{L}]}}{\\partial{}B^{[\\text{L}]}} $\n",
    "#### $ \\hspace{0.63cm} = \\begin{bmatrix} \\hat{y}^{(1)}-y^{(1)} & \\cdots{} & \\hat{y}^{(m)}-y^{(m)} \\end{bmatrix} \\cdot{} \\begin{bmatrix} \\frac{\\partial{}z^{[\\text{L}](1)}}{\\partial{}B^{[\\text{L}]}} \\\\ \\frac{\\partial{}z^{[\\text{L}](2)}}{\\partial{}B^{[\\text{L}]}} \\\\ \\vdots{} \\\\ \\frac{\\partial{}z^{[\\text{L}](m)}}{\\partial{}B^{[\\text{L}]}} \\end{bmatrix} $\n",
    "#### $ \\hspace{0.63cm} = \\begin{bmatrix} \\hat{y}^{(1)}-y^{(1)} & \\cdots{} & \\hat{y}^{(m)}-y^{(m)} \\end{bmatrix} \\cdot{} \\begin{bmatrix} \\frac{\\partial{}z^{[\\text{L}](1)}}{\\partial{}b^{[\\text{L}]}} & \\frac{\\partial{}z^{[\\text{L}](1)}}{\\partial{}b^{[\\text{L}]}} & \\cdots{} & \\frac{\\partial{}z^{[\\text{L}](1)}}{\\partial{}b^{[\\text{L}]}} \\\\ \\frac{\\partial{}z^{[\\text{L}](2)}}{\\partial{}b^{[\\text{L}]}} & \\frac{\\partial{}z^{[\\text{L}](2)}}{\\partial{}b^{[\\text{L}]}} & \\cdots{} & \\frac{\\partial{}z^{[\\text{L}](2)}}{\\partial{}b^{[\\text{L}]}} \\\\ \\vdots{} & \\vdots{} & \\ddots{} & \\vdots{} \\\\ \\frac{\\partial{}z^{[\\text{L}](m)}}{\\partial{}b^{[\\text{L}]}} & \\frac{\\partial{}z^{[\\text{L}](m)}}{\\partial{}b^{[\\text{L}]}} & \\cdots{} & \\frac{\\partial{}z^{[\\text{L}](m)}}{\\partial{}b^{[\\text{L}]}} \\end{bmatrix} $\n",
    "#### $ \\hspace{0.63cm} = \\begin{bmatrix} \\hat{y}^{(1)}-y^{(1)} & \\cdots{} & \\hat{y}^{(m)}-y^{(m)} \\end{bmatrix} \\cdot{} \\begin{bmatrix} 1 & 1 & \\cdots{} & 1 \\\\ 1 & 1 & \\cdots{} & 1 \\\\ \\vdots{} & \\vdots{} & \\ddots{} & \\vdots{} \\\\ 1 & 1 & \\cdots{} & 1 \\end{bmatrix} $\n",
    "#### $ \\hspace{0.63cm} = \\begin{bmatrix} \\sum^{m}_{i=1}(\\hat{y}^{(i)}-y^{(i)}) & \\cdots{} & \\sum^{m}_{i=1}(\\hat{y}^{(i)}-y^{(i)}) \\end{bmatrix} $\n",
    "#### $ \\hspace{0.63cm} = (\\hat{Y} - Y) \\cdot{} \\underset{m\\times{}m}{\\textbf{1}} $"
   ]
  },
  {
   "cell_type": "markdown",
   "metadata": {},
   "source": [
    "#### $ \\hspace{3cm} \\vdots{} $"
   ]
  },
  {
   "cell_type": "markdown",
   "metadata": {},
   "source": [
    "#### **(?) $ \\frac{\\partial{}J}{\\partial{}A^{[\\text{k}]}} $** :\n",
    "#### $ \\underset{n^{[\\text{k}]}\\times{}m}{\\frac{\\partial{}J}{\\partial{}A^{[\\text{k}]}}} = \\frac{\\partial{}J}{\\partial{}\\hat{Y}} \\cdots{} \\frac{\\partial{}Z^{[\\text{k+1}]}}{\\partial{}A^{[\\text{k}]}} $\n",
    "#### $ \\hspace{0.715cm} = \\frac{\\partial{}J}{\\partial{}Z^{[\\text{k+1}]}} \\cdot{} \\frac{\\partial{}Z^{[\\text{k+1}]}}{\\partial{}A^{[\\text{k}]}} $\n",
    "#### $ \\hspace{0.9cm} = \\frac{\\partial{}J}{\\partial{}Z^{[\\text{k+1}]}} \\cdot{} \\begin{bmatrix} \\frac{\\partial{}\\textbf{z}^{[\\text{k+1}](1)}}{\\partial{}A^{[\\text{k}]}} \\\\ \\frac{\\partial{}\\textbf{z}^{[\\text{k+1}](2)}}{\\partial{}A^{[\\text{k}]}} \\\\ \\vdots{} \\\\ \\frac{\\partial{}\\textbf{z}^{[\\text{k+1}](m)}}{\\partial{}A^{[\\text{k}]}} \\end{bmatrix} $ \n",
    "#### $ \\hspace{0.9cm} = \\frac{\\partial{}J}{\\partial{}Z^{[\\text{k+1}]}} \\cdot{} \\begin{bmatrix} \\frac{\\partial{}\\textbf{z}^{[\\text{k+1}](1)}}{\\partial{}\\textbf{a}^{[\\text{k}](1)}} & \\frac{\\partial{}\\textbf{z}^{[\\text{k+1}](1)}}{\\partial{}\\textbf{a}^{[\\text{k}](2)}} & \\cdots{} & \\frac{\\partial{}\\textbf{z}^{[\\text{k+1}](1)}}{\\partial{}\\textbf{a}^{[\\text{k}](m)}} \\\\ \\frac{\\partial{}\\textbf{z}^{[\\text{k+1}](2)}}{\\partial{}\\textbf{a}^{[\\text{k}](1)}} & \\frac{\\partial{}\\textbf{z}^{[\\text{k+1}](2)}}{\\partial{}\\textbf{a}^{[\\text{k}](2)}} & \\cdots{} & \\frac{\\partial{}\\textbf{z}^{[\\text{k+1}](2)}}{\\partial{}\\textbf{a}^{[\\text{k}](m)}} \\\\ \\vdots{} & \\vdots{} & \\ddots{} & \\vdots{} \\\\ \\frac{\\partial{}\\textbf{z}^{[\\text{k+1}](m)}}{\\partial{}\\textbf{a}^{[\\text{k}](1)}} & \\frac{\\partial{}\\textbf{z}^{[\\text{k+1}](m)}}{\\partial{}\\textbf{a}^{[\\text{k}](2)}} & \\cdots{} & \\frac{\\partial{}\\textbf{z}^{[\\text{k+1}](m)}}{\\partial{}\\textbf{a}^{[\\text{k}](m)}} \\end{bmatrix} $ \n",
    "#### $ \\hspace{0.715cm} = \\frac{\\partial{}J}{\\partial{}Z^{[\\text{k+1}]}} \\cdot{} \\underset{m\\times{}m\\times{}n^{[\\text{k+1}]}\\times{}n^{[\\text{k}]}}{T(i,j,p,q)} $\n",
    "#### $ \\hspace{0.15cm} \\text{where } \\, T(i,j,p,q) = \\frac{\\partial{}z^{[\\text{k+1}](i)}_{p}}{\\partial{}a^{[\\text{k}](j)}_{q}} = w^{[\\text{k+1}]}_{p,q} \\delta{}_{i,j} = \\begin{cases} w^{[\\text{k+1}]}_{p,q} \\;\\; \\text{ if } i = j \\\\ 0 \\;\\;\\;\\;\\;\\;\\;\\;\\,\\, \\text{ otherwise.} \\end{cases} $\n",
    "#### $ \\hspace{0.15cm} \\text{and } \\, 1 \\leq{} i \\leq{} m, \\;\\; 1 \\leq{} j \\leq{} m, \\;\\; 1 \\leq{} p \\leq{} n^{[\\text{k+1}]} , \\;\\; 1 \\leq{} q \\leq{} n^{[\\text{k}]}  $\n",
    "##### **(⚠️)** 블록 대각 자코비안 $ \\, 4 $ 차원 텐서 $ \\, T $ 를 텐서 수축하여 샘플 별로 처리 **(⚠️)**\n",
    "#### $ \\frac{\\partial{}J}{\\partial{}a^{[\\text{k}](i)}_{q}} = \\displaystyle\\sum^{n^{[\\text{k+1}]}}_{p=1} \\frac{\\partial{}J}{\\partial{}z^{[\\text{k+1}](i)}_{p}} \\frac{\\partial{}z^{[\\text{k+1}](i)}_{p}}{\\partial{}a^{[\\text{k}](j)}_{q}} = \\displaystyle\\sum^{n^{[\\text{k+1}]}}_{p=1} \\frac{\\partial{}J}{\\partial{}z^{[\\text{k+1}](i)}_{p}} w^{[\\text{k+1}]}_{p,q} $\n",
    "#### $ \\frac{\\partial{}J}{\\partial{}\\textbf{a}^{[\\text{k}](i)}} =  \\begin{bmatrix} \\sum^{n^{[\\text{k+1}]}}_{p=1} \\frac{\\partial{}J}{\\partial{}z^{[\\text{k+1}](i)}_{p}} w_{p,1}^{[\\text{k+1}]} \\\\ \\sum^{n^{[\\text{k+1}]}}_{p=1} \\frac{\\partial{}J}{\\partial{}z^{[\\text{k+1}](i)}_{p}} w_{p,2}^{[\\text{k+1}]} \\\\ \\vdots{} \\\\ \\sum^{n^{[\\text{k+1}]}}_{p=1} \\frac{\\partial{}J}{\\partial{}z^{[\\text{k+1}](i)}_{p}} w_{p,n^{[\\text{k}]}}^{[\\text{k+1}]} \\end{bmatrix} $\n",
    "#### $ \\frac{\\partial{}J}{\\partial{}A^{[\\text{k}]}} = \\begin{bmatrix} \\sum^{n^{[\\text{k+1}]}}_{p=1} \\frac{\\partial{}J}{\\partial{}z^{[\\text{k+1}](1)}_{p}} w_{p,1}^{[\\text{k+1}]} & \\sum^{n^{[\\text{k+1}]}}_{p=1} \\frac{\\partial{}J}{\\partial{}z^{[\\text{k+1}](2)}_{p}} w_{p,1}^{[\\text{k+1}]} & \\cdots{} & \\sum^{n^{[\\text{k+1}]}}_{p=1} \\frac{\\partial{}J}{\\partial{}z^{[\\text{k+1}](m)}_{p}} w_{p,1}^{[\\text{k+1}]} \\\\ \\sum^{n^{[\\text{k+1}]}}_{p=1} \\frac{\\partial{}J}{\\partial{}z^{[\\text{k+1}](1)}_{p}} w_{p,2}^{[\\text{k+1}]} & \\sum^{n^{[\\text{k+1}]}}_{p=1} \\frac{\\partial{}J}{\\partial{}z^{[\\text{k+1}](2)}_{p}} w_{p,2}^{[\\text{k+1}]} & \\cdots{} & \\sum^{n^{[\\text{k+1}]}}_{p=1} \\frac{\\partial{}J}{\\partial{}z^{[\\text{k+1}](m)}_{p}} w_{p,2}^{[\\text{k+1}]} \\\\ \\vdots{} & \\vdots{} & \\ddots{} & \\vdots{} \\\\ \\sum^{n^{[\\text{k+1}]}}_{p=1} \\frac{\\partial{}J}{\\partial{}z^{[\\text{k+1}](1)}_{p}} w_{p,n^{[\\text{k}]}}^{[\\text{k+1}]} & \\sum^{n^{[\\text{k+1}]}}_{p=1} \\frac{\\partial{}J}{\\partial{}z^{[\\text{k+1}](2)}_{p}} w_{p,n^{[\\text{k}]}}^{[\\text{k+1}]} & \\cdots{} & \\sum^{n^{[\\text{k+1}]}}_{p=1} \\frac{\\partial{}J}{\\partial{}z^{[\\text{k+1}](m)}_{p}} w_{p,n^{[\\text{k}]}}^{[\\text{k+1}]} \\end{bmatrix} $\n",
    "#### $ \\hspace{0.715cm} = (W^{[\\text{k+1}]})^{T} \\cdot{} \\frac{\\partial{}J}{\\partial{}Z^{[\\text{k+1}]}} \\;\\; (\\textbf{vectorization}) $"
   ]
  },
  {
   "cell_type": "markdown",
   "metadata": {},
   "source": [
    "#### **(?) $ \\frac{\\partial{}J}{\\partial{}Z^{[\\text{k}]}} $** :\n",
    "#### $ \\underset{n^{[\\text{k}]}\\times{}m}{\\frac{\\partial{}J}{\\partial{}Z^{[\\text{k}]}}} = \\frac{\\partial{}J}{\\partial{}\\hat{Y}} \\cdots{} \\frac{\\partial{}A^{[\\text{k}]}}{\\partial{}Z^{[\\text{k}]}} $\n",
    "#### $ \\hspace{0.715cm} = \\frac{\\partial{}J}{\\partial{}A^{[\\text{k}]}} \\cdot{} \\frac{\\partial{}A^{[\\text{k}]}}{\\partial{}Z^{[\\text{k}]}} $ \n",
    "#### $ \\hspace{0.715cm} = \\frac{\\partial{}J}{\\partial{}A^{[\\text{k}]}} \\cdot{} \\begin{bmatrix} \\frac{\\partial{}\\textbf{a}^{[\\text{k}](1)}}{\\partial{}Z^{[\\text{k}]}} \\\\ \\frac{\\partial{}\\textbf{a}^{[\\text{k}](2)}}{\\partial{}Z^{[\\text{k}]}} \\\\ \\vdots{} \\\\ \\frac{\\partial{}\\textbf{a}^{[\\text{k}](m)}}{\\partial{}Z^{[\\text{k}]}} \\end{bmatrix} $ \n",
    "#### $ \\hspace{0.715cm} = \\frac{\\partial{}J}{\\partial{}A^{[\\text{k}]}} \\cdot{} \\begin{bmatrix} \\frac{\\partial{}\\textbf{a}^{[\\text{k}](1)}}{\\partial{}\\textbf{z}^{[\\text{k}](1)}} & \\frac{\\partial{}\\textbf{a}^{[\\text{k}](1)}}{\\partial{}\\textbf{z}^{[\\text{k}](2)}} & \\cdots{} & \\frac{\\partial{}\\textbf{a}^{[\\text{k}](1)}}{\\partial{}\\textbf{z}^{[\\text{k}](m)}} \\\\ \\frac{\\partial{}\\textbf{a}^{[\\text{k}](2)}}{\\partial{}\\textbf{z}^{[\\text{k}](1)}} & \\frac{\\partial{}\\textbf{a}^{[\\text{k}](2)}}{\\partial{}\\textbf{z}^{[\\text{k}](2)}} & \\cdots{} & \\frac{\\partial{}\\textbf{a}^{[\\text{k}](2)}}{\\partial{}\\textbf{z}^{[\\text{k}](m)}} \\\\ \\vdots{} & \\vdots{} & \\ddots{} & \\vdots{} \\\\ \\frac{\\partial{}\\textbf{a}^{[\\text{k}](m)}}{\\partial{}\\textbf{z}^{[\\text{k}](1)}} & \\frac{\\partial{}\\textbf{a}^{[\\text{k}](m)}}{\\partial{}\\textbf{z}^{[\\text{k}](2)}} & \\cdots{} & \\frac{\\partial{}\\textbf{a}^{[\\text{k}](m)}}{\\partial{}\\textbf{z}^{[\\text{k}](m)}} \\end{bmatrix} $\n",
    "#### $ \\hspace{0.715cm} = \\frac{\\partial{}J}{\\partial{}A^{[\\text{k}]}} \\cdot{} \\underset{m\\times{}m\\times{}n^{[\\text{k}]}\\times{}n^{[\\text{k}]}}{T(i,j,p,q)} $\n",
    "#### $ \\hspace{0.15cm} \\text{where } \\, T(i,j,p,q) = \\frac{\\partial{}a^{[\\text{k}](i)}_{p}}{\\partial{}z^{[\\text{k}](j)}_{q}} = h^{[\\text{k}]'}(z^{[\\text{k}](i)}_{q}) \\delta{}_{i,j} \\delta{}_{p,q} = \\begin{cases} h^{[\\text{k}]'}(z^{[\\text{k}](i)}_{q}) \\;\\; \\text{ if } \\, i = j \\, \\text{ and } \\, p = q \\\\ 0 \\;\\;\\;\\;\\;\\;\\;\\;\\;\\;\\;\\;\\;\\;\\;\\,\\, \\text{ otherwise.} \\end{cases}$\n",
    "##### $ \\hspace{0.15cm} \\text{and } \\, 1 \\leq{} i \\leq{} m, \\;\\; 1 \\leq{} j \\leq{} m, \\;\\; 1 \\leq{} p \\leq{} n^{[\\text{k}]}, \\;\\; 1 \\leq{} q \\leq{} n^{[\\text{k}]} $\n",
    "##### **(⚠️)** 블록 대각 자코비안 $ \\, 4 $ 차원 텐서 $ \\, T $ 를 텐서 수축하여 샘플 별로 처리 **(⚠️)**\n",
    "#### $ \\frac{\\partial{}J}{\\partial{}z^{[\\text{k}](i)}_{p}} = \\frac{\\partial{}J}{\\partial{}a^{[\\text{k}](i)}} h^{[\\text{k}]'}(z^{[\\text{k}](i)}_{p}) $\n",
    "#### $ \\frac{\\partial{}J}{\\partial{}\\textbf{z}^{[\\text{k}](i)}} = \\begin{bmatrix} \\frac{\\partial{}J}{\\partial{}a^{[\\text{k}](i)}} h^{[\\text{k}]'}(z^{[\\text{k}](i)}_{1}) \\\\ \\frac{\\partial{}J}{\\partial{}a^{[\\text{k}](i)}} h^{[\\text{k}]'}(z^{[\\text{k}](i)}_{2}) \\\\ \\vdots{} \\\\ \\frac{\\partial{}J}{\\partial{}a^{[\\text{k}](i)}} h^{[\\text{k}]'}(z^{[\\text{k}](i)}_{n^{[\\text{k}]}}) \\end{bmatrix} $\n",
    "#### $ \\frac{\\partial{}J}{\\partial{}Z^{[\\text{k}]}} = \\begin{bmatrix} \\frac{\\partial{}J}{\\partial{}a^{[\\text{k}](1)}} h^{[\\text{k}]'}(z^{[\\text{k}](1)}_{1}) & \\frac{\\partial{}J}{\\partial{}a^{[\\text{k}](2)}} h^{[\\text{k}]'}(z^{[\\text{k}](2)}_{1}) & \\cdots{} & \\frac{\\partial{}J}{\\partial{}a^{[\\text{k}](m)}} h^{[\\text{k}]'}(z^{[\\text{k}](m)}_{1}) \\\\ \\frac{\\partial{}J}{\\partial{}a^{[\\text{k}](1)}} h^{[\\text{k}]'}(z^{[\\text{k}](1)}_{2}) & \\frac{\\partial{}J}{\\partial{}a^{[\\text{k}](2)}} h^{[\\text{k}]'}(z^{[\\text{k}](2)}_{2}) & \\cdots{} & \\frac{\\partial{}J}{\\partial{}a^{[\\text{k}](m)}} h^{[\\text{k}]'}(z^{[\\text{k}](m)}_{2}) \\\\ \\vdots{} & \\vdots{} & \\ddots{} & \\vdots{} \\\\ \\frac{\\partial{}J}{\\partial{}a^{[\\text{k}](1)}} h^{[\\text{k}]'}(z^{[\\text{k}](1)}_{n^{[\\text{k}]}}) & \\frac{\\partial{}J}{\\partial{}a^{[\\text{k}](2)}} h^{[\\text{k}]'}(z^{[\\text{k}](2)}_{n^{[\\text{k}]}}) & \\cdots{} & \\frac{\\partial{}J}{\\partial{}a^{[\\text{k}](m)}} h^{[\\text{k}]'}(z^{[\\text{k}](m)}_{n^{[\\text{k}]}}) \\end{bmatrix} $\n",
    "#### $ \\hspace{0.715cm} = \\frac{\\partial{}J}{\\partial{}A^{[\\text{k}]}} \\odot{} h^{[\\text{k}]'}(Z^{[\\text{k}]}) \\;\\; (\\textbf{vectorization}) $"
   ]
  },
  {
   "cell_type": "markdown",
   "metadata": {},
   "source": [
    "#### **(?) $ \\frac{\\partial{}J}{\\partial{}W^{[\\text{k}]}} $** :\n",
    "#### $ \\underset{n^{[\\text{k}]}\\times{}n^{[\\text{k-1}]}}{\\frac{\\partial{}J}{\\partial{}W^{[\\text{k}]}}} = \\frac{\\partial{}J}{\\partial{}\\hat{Y}} \\cdots{} \\frac{\\partial{}Z^{[\\text{k}]}}{\\partial{}W^{[\\text{k}]}} $\n",
    "#### $ \\hspace{0.815cm} = \\frac{\\partial{}J}{\\partial{}Z^{[\\text{k}]}} \\cdot{} \\frac{\\partial{}Z^{[\\text{k}]}}{\\partial{}W^{[\\text{k}]}} $ \n",
    "#### $ \\hspace{0.815cm} = \\frac{\\partial{}J}{\\partial{}Z^{[\\text{k}]}} \\cdot{} \\begin{bmatrix} \\frac{\\partial{}\\textbf{z}^{[\\text{k}](1)}}{\\partial{}W^{[\\text{k}]}} \\\\ \\frac{\\partial{}\\textbf{z}^{[\\text{k}](2)}}{\\partial{}W^{[\\text{k}]}} \\\\ \\vdots{} \\\\ \\frac{\\partial{}\\textbf{z}^{[\\text{k}](m)}}{\\partial{}W^{[\\text{k}]}} \\end{bmatrix} $\n",
    "#### $ \\hspace{0.815cm} = \\frac{\\partial{}J}{\\partial{}Z^{[\\text{k}]}} \\cdot{} \\begin{bmatrix} \\frac{\\partial{}\\textbf{z}^{[\\text{k}](1)}}{\\partial{}(\\textbf{w}^{[\\text{k}]}_{1})^{T}} & \\frac{\\partial{}\\textbf{z}^{[\\text{k}](1)}}{\\partial{}(\\textbf{w}^{[\\text{k}]}_{2})^{T}} & \\cdots{} & \\frac{\\partial{}\\textbf{z}^{[\\text{k}](1)}}{\\partial{}(\\textbf{w}^{[\\text{k}]}_{n^{[\\text{k}]}})^{T}} \\\\ \\frac{\\partial{}\\textbf{z}^{[\\text{k}](2)}}{\\partial{}(\\textbf{w}^{[\\text{k}]}_{1})^{T}} & \\frac{\\partial{}\\textbf{z}^{[\\text{k}](2)}}{\\partial{}(\\textbf{w}^{[\\text{k}]}_{2})^{T}} & \\cdots{} & \\frac{\\partial{}\\textbf{z}^{[\\text{k}](2)}}{\\partial{}(\\textbf{w}^{[\\text{k}]}_{n^{[\\text{k}]}})^{T}} \\\\ \\vdots{} & \\vdots{} & \\ddots{} & \\vdots{} \\\\ \\frac{\\partial{}\\textbf{z}^{[\\text{k}](m)}}{\\partial{}(\\textbf{w}^{[\\text{k}]}_{1})^{T}} & \\frac{\\partial{}\\textbf{z}^{[\\text{k}](m)}}{\\partial{}(\\textbf{w}^{[\\text{k}]}_{2})^{T}} & \\cdots{} & \\frac{\\partial{}\\textbf{z}^{[\\text{k}](m)}}{\\partial{}(\\textbf{w}^{[\\text{k}]}_{n^{[\\text{k}]}})^{T}} \\end{bmatrix} $\n",
    "#### $ \\hspace{0.815cm} = \\frac{\\partial{}J}{\\partial{}Z^{[\\text{k}]}} \\cdot{} \\underset{m\\times{}n^{[\\text{k}]}\\times{}n^{[\\text{k}]}\\times{}n^{[\\text{k-1}]}}{T(i,j,p,q)} $\n",
    "#### $ \\hspace{0.15cm} \\text{where } \\, T(i,j,p,q) = \\frac{\\partial{}z^{[\\text{k}](i)}_{p}}{\\partial{}w^{[\\text{k}]}_{j,q}} = a^{[\\text{k-1}](i)}_{q} \\delta{}_{p,j} = \\begin{cases} a^{[\\text{k-1}](i)}_{q} \\;\\; \\text{ if } \\, p = j \\\\ 0 \\;\\;\\;\\;\\;\\;\\;\\;\\;\\; \\text{ if } \\, p \\neq{} j \\end{cases} $\n",
    "##### $ \\hspace{0.15cm} \\text{and } \\, 1 \\leq{} i \\leq{} m, \\;\\; 1 \\leq{} j \\leq{} n^{[\\text{k}]}, \\;\\; 1 \\leq{} p \\leq{} n^{[\\text{k}]}, \\;\\; 1 \\leq{} q \\leq{} n^{[\\text{k-1}]} $\n",
    "##### **(⚠️)** 블록 대각 자코비안 $ \\, 4 $ 차원 텐서 $ \\, T $ 를 텐서 수축하여 샘플 별로 처리 **(⚠️)**\n",
    "#### $ \\frac{\\partial{}J}{\\partial{}w^{[\\text{k}]}_{j,q}} = \\displaystyle\\sum^{m}_{i=1} \\frac{\\partial{}J}{\\partial{}z^{[\\text{k}](i)}_{j}} a^{[\\text{k-1}](i)}_{q} $\n",
    "#### $ \\frac{\\partial{}J}{\\partial{}\\textbf{w}^{[\\text{k}]}_{j}} = \\begin{bmatrix} \\sum^{m}_{i=1} \\frac{\\partial{}J}{\\partial{}z^{[\\text{k}](i)}_{j}}a^{[\\text{k-1}](i)}_{1} & \\sum^{m}_{i=1} \\frac{\\partial{}J}{\\partial{}z^{[\\text{k}](i)}_{j}}a^{[\\text{k-1}](i)}_{2} & \\cdots{} & \\sum^{m}_{i=1} \\frac{\\partial{}J}{\\partial{}z^{[\\text{k}](i)}_{j}}a^{[\\text{k-1}](i)}_{n^{[\\text{k-1}]}} \\end{bmatrix} $ \n",
    "#### $ \\frac{\\partial{}J}{\\partial{}W^{[\\text{k}]}} = \\begin{bmatrix} \\sum^{m}_{i=1} \\frac{\\partial{}J}{\\partial{}z^{[\\text{k}](i)}_{1}}a^{[\\text{k-1}](i)}_{1} & \\sum^{m}_{i=1} \\frac{\\partial{}J}{\\partial{}z^{[\\text{k}](i)}_{1}}a^{[\\text{k-1}](i)}_{2} & \\cdots{} & \\sum^{m}_{i=1} \\frac{\\partial{}J}{\\partial{}z^{[\\text{k}](i)}_{1}}a^{[\\text{k-1}](i)}_{n^{[\\text{k-1}]}} \\\\ \\sum^{m}_{i=1} \\frac{\\partial{}J}{\\partial{}z^{[\\text{k}](i)}_{2}}a^{[\\text{k-1}](i)}_{1} & \\sum^{m}_{i=1} \\frac{\\partial{}J}{\\partial{}z^{[\\text{k}](i)}_{2}}a^{[\\text{k-1}](i)}_{2} & \\cdots{} & \\sum^{m}_{i=1} \\frac{\\partial{}J}{\\partial{}z^{[\\text{k}](i)}_{2}}a^{[\\text{k-1}](i)}_{n^{[\\text{k-1}]}} \\\\ \\vdots{} & \\vdots{} & \\ddots{} & \\vdots{} \\\\ \\sum^{m}_{i=1} \\frac{\\partial{}J}{\\partial{}z^{[\\text{k}](i)}_{n^[\\text{k}]}}a^{[\\text{k-1}](i)}_{1} & \\sum^{m}_{i=1} \\frac{\\partial{}J}{\\partial{}z^{[\\text{k}](i)}_{n^[\\text{k}]}}a^{[\\text{k-1}](i)}_{2} & \\cdots{} & \\sum^{m}_{i=1} \\frac{\\partial{}J}{\\partial{}z^{[\\text{k}](i)}_{n^[\\text{k}]}}a^{[\\text{k-1}](i)}_{n^{[\\text{k-1}]}} \\end{bmatrix} $\n",
    "#### $ \\hspace{0.815cm} = \\frac{\\partial{}J}{\\partial{}Z^{[\\text{k}]}} \\cdot{} (A^{[\\text{k-1}]})^{T} $"
   ]
  },
  {
   "cell_type": "markdown",
   "metadata": {},
   "source": [
    "#### **(?) $ \\frac{\\partial{}J}{\\partial{}B^{[k]}} $** :\n",
    "#### $ \\underset{n^{[k]}\\times{}m}{\\frac{\\partial{}J}{\\partial{}B^{[k]}}} = \\frac{\\partial{}J}{\\partial{}\\hat{Y}} \\cdots{} \\frac{\\partial{}Z^{[k]}}{\\partial{}B^{[k]}} $ \n",
    "#### $ \\hspace{0.85cm} = \\frac{\\partial{}J}{\\partial{}Z^{[k]}} \\cdot{} \\frac{\\partial{}Z^{[k]}}{\\partial{}B^{[k]}} $ \n",
    "#### $ \\hspace{0.85cm} = \\frac{\\partial{}J}{\\partial{}Z^{[k]}} \\cdot{} \\begin{bmatrix} \\frac{\\partial{}\\textbf{z}^{[k](1)}}{\\partial{}B^{[k]}} \\\\ \\frac{\\partial{}\\textbf{z}^{[k](2)}}{\\partial{}B^{[k]}} \\\\ \\vdots{} \\\\ \\frac{\\partial{}\\textbf{z}^{[k](m)}}{\\partial{}B^{[k]}} \\end{bmatrix} $\n",
    "#### $ \\hspace{0.85cm} = \\frac{\\partial{}J}{\\partial{}Z^{[k]}} \\cdot{} \\underset{m\\times{}n^{[k]}\\times{}n^{[k]}\\times{}1}{T(i,j,p,1)} $\n",
    "#### $ \\hspace{0.15cm} \\text{where } \\, T(i,j,p,1) = T(i,j,p) = \\frac{\\partial{}z^{[k](i)}_{p}}{\\partial{}b^{[k]}_{j}} = \\delta{}_{p,j} = \\begin{cases} 1 \\;\\; \\text{ if } \\, p = j \\\\ 0 \\;\\; \\text{ if } \\, p \\neq{} j \\end{cases} $\n",
    "#### $ \\hspace{0.15cm} \\text{and } \\, 1 \\leq{} i \\leq{} m, \\;\\; 1 \\leq{} j \\leq{} n^{[k]}, \\;\\; 1 \\leq{} p \\leq{} n^{[k]} $\n",
    "##### **(⚠️)** 블록 대각 자코비안 $ \\, 4 $ 차원 텐서 $ \\, T $ 를 텐서 수축하여 샘플 별로 처리 **(⚠️)**\n",
    "#### $ \\frac{\\partial{}J}{\\partial{}b^{[k]}_{j}} = \\displaystyle\\sum^{m}_{i=1} \\frac{\\partial{}J}{\\partial{}z^{[k](i)}_{j}} $\n",
    "#### $ \\frac{\\partial{}J}{\\partial{}\\textbf{b}^{[k]}} = \\begin{bmatrix} \\sum^{m}_{i=1} \\frac{\\partial{}J}{\\partial{}z^{[k](i)}_{1}} \\\\ \\sum^{m}_{i=1} \\frac{\\partial{}J}{\\partial{}z^{[k](i)}_{2}} \\\\ \\vdots{} \\\\ \\sum^{m}_{i=1} \\frac{\\partial{}J}{\\partial{}z^{[k](i)}_{n^{[k]}}} \\end{bmatrix} $\n",
    "#### $ \\frac{\\partial{}J}{\\partial{}B^{[k]}} = \\begin{bmatrix} \\sum^{m}_{i=1} \\frac{\\partial{}J}{\\partial{}z^{[k](i)}_{1}} & \\sum^{m}_{i=1} \\frac{\\partial{}J}{\\partial{}z^{[k](i)}_{1}} & \\cdots{} & \\sum^{m}_{i=1} \\frac{\\partial{}J}{\\partial{}z^{[k](i)}_{1}} \\\\ \\sum^{m}_{i=1} \\frac{\\partial{}J}{\\partial{}z^{[k](i)}_{2}} & \\sum^{m}_{i=1} \\frac{\\partial{}J}{\\partial{}z^{[k](i)}_{2}} & \\cdots{} & \\sum^{m}_{i=1} \\frac{\\partial{}J}{\\partial{}z^{[k](i)}_{2}} \\\\ \\vdots{} & \\vdots{} & \\ddots{} & \\vdots{} \\\\ \\sum^{m}_{i=1} \\frac{\\partial{}J}{\\partial{}z^{[k](i)}_{n^{[k]}}} & \\sum^{m}_{i=1} \\frac{\\partial{}J}{\\partial{}z^{[k](i)}_{n^{[k]}}} & \\cdots{} & \\sum^{m}_{i=1} \\frac{\\partial{}J}{\\partial{}z^{[k](i)}_{n^{[k]}}}\\end{bmatrix} $\n",
    "#### $ \\hspace{0.85cm} = \\frac{\\partial{}J}{\\partial{}Z^{[k]}} $"
   ]
  },
  {
   "cell_type": "markdown",
   "metadata": {},
   "source": [
    "#### $ \\hspace{3cm} \\vdots{} $"
   ]
  },
  {
   "cell_type": "markdown",
   "metadata": {},
   "source": [
    "#### **(?) $ \\frac{\\partial{}J}{\\partial{}A^{[1]}} $** :\n",
    "#### $ \\underset{n^{[1]}\\times{}m}{\\frac{\\partial{}J}{\\partial{}A^{[1]}}} = \\frac{\\partial{}J}{\\partial{}\\hat{Y}} \\cdots{} \\frac{\\partial{}Z^{[2]}}{\\partial{}A^{[1]}} $\n",
    "#### $ \\hspace{0.715cm} = \\frac{\\partial{}J}{\\partial{}Z^{[2]}} \\cdot{} \\frac{\\partial{}Z^{[2]}}{\\partial{}A^{[1]}} $\n",
    "#### $ \\hspace{0.9cm} = \\frac{\\partial{}J}{\\partial{}Z^{[2]}} \\cdot{} \\begin{bmatrix} \\frac{\\partial{}\\textbf{z}^{[2](1)}}{\\partial{}A^{[1]}} \\\\ \\frac{\\partial{}\\textbf{z}^{[2](2)}}{\\partial{}A^{[1]}} \\\\ \\vdots{} \\\\ \\frac{\\partial{}\\textbf{z}^{[2](m)}}{\\partial{}A^{[1]}} \\end{bmatrix} $ \n",
    "#### $ \\hspace{0.9cm} = \\frac{\\partial{}J}{\\partial{}Z^{[2]}} \\cdot{} \\begin{bmatrix} \\frac{\\partial{}\\textbf{z}^{[2](1)}}{\\partial{}\\textbf{a}^{[1](1)}} & \\frac{\\partial{}\\textbf{z}^{[2](1)}}{\\partial{}\\textbf{a}^{[1](2)}} & \\cdots{} & \\frac{\\partial{}\\textbf{z}^{[2](1)}}{\\partial{}\\textbf{a}^{[1](m)}} \\\\ \\frac{\\partial{}\\textbf{z}^{[2](2)}}{\\partial{}\\textbf{a}^{[1](1)}} & \\frac{\\partial{}\\textbf{z}^{[2](2)}}{\\partial{}\\textbf{a}^{[1](2)}} & \\cdots{} & \\frac{\\partial{}\\textbf{z}^{[2](2)}}{\\partial{}\\textbf{a}^{[1](m)}} \\\\ \\vdots{} & \\vdots{} & \\ddots{} & \\vdots{} \\\\ \\frac{\\partial{}\\textbf{z}^{[2](m)}}{\\partial{}\\textbf{a}^{[1](1)}} & \\frac{\\partial{}\\textbf{z}^{[2](m)}}{\\partial{}\\textbf{a}^{[1](2)}} & \\cdots{} & \\frac{\\partial{}\\textbf{z}^{[2](m)}}{\\partial{}\\textbf{a}^{[1](m)}} \\end{bmatrix} $ \n",
    "#### $ \\hspace{0.715cm} = \\frac{\\partial{}J}{\\partial{}Z^{[2]}} \\cdot{} \\underset{m\\times{}m\\times{}n^{[1]}\\times{}n^{[1]}}{T(i,j,p,q)} $\n",
    "#### $ \\hspace{0.15cm} \\text{where } \\, T(i,j,p,q) = \\frac{\\partial{}z^{[2](i)}_{p}}{\\partial{}a^{[1](j)}_{q}} = w^{[2]}_{p,q} \\delta{}_{i,j} = \\begin{cases} w^{[2]}_{p,q} \\;\\; \\text{ if } i = j \\\\ 0 \\;\\;\\;\\;\\;\\,\\, \\text{ otherwise.} \\end{cases} $\n",
    "#### $ \\hspace{0.15cm} \\text{and } \\, 1 \\leq{} i \\leq{} m, \\;\\; 1 \\leq{} j \\leq{} m, \\;\\; 1 \\leq{} p \\leq{} n^{[1]} , \\;\\; 1 \\leq{} q \\leq{} n^{[1]}  $\n",
    "##### **(⚠️)** 블록 대각 자코비안 $ \\, 4 $ 차원 텐서 $ \\, T $ 를 텐서 수축하여 샘플 별로 처리 **(⚠️)**\n",
    "#### $ \\frac{\\partial{}J}{\\partial{}a^{[1](i)}_{q}} = \\displaystyle\\sum^{n^{[2]}}_{p=1} \\frac{\\partial{}J}{\\partial{}z^{[2](i)}_{p}} \\frac{\\partial{}z^{[2](i)}_{p}}{\\partial{}a^{[1](j)}_{q}} = \\displaystyle\\sum^{n^{[2]}}_{p=1} \\frac{\\partial{}J}{\\partial{}z^{[2](i)}_{p}} w^{[2]}_{p,q} $\n",
    "#### $ \\frac{\\partial{}J}{\\partial{}\\textbf{a}^{[1](i)}} =  \\begin{bmatrix} \\sum^{n^{[2]}}_{p=1} \\frac{\\partial{}J}{\\partial{}z^{[2](i)}_{p}} w_{p,1}^{[2]} \\\\ \\sum^{n^{[2]}}_{p=1} \\frac{\\partial{}J}{\\partial{}z^{[2](i)}_{p}} w_{p,2}^{[2]} \\\\ \\vdots{} \\\\ \\sum^{n^{[2]}}_{p=1} \\frac{\\partial{}J}{\\partial{}z^{[2](i)}_{p}} w_{p,n^{[1]}}^{[2]} \\end{bmatrix} $\n",
    "#### $ \\frac{\\partial{}J}{\\partial{}A^{[1]}} = \\begin{bmatrix} \\sum^{n^{[2]}}_{p=1} \\frac{\\partial{}J}{\\partial{}z^{[2](1)}_{p}} w_{p,1}^{[2]} & \\sum^{n^{[2]}}_{p=1} \\frac{\\partial{}J}{\\partial{}z^{[2](2)}_{p}} w_{p,1}^{[2]} & \\cdots{} & \\sum^{n^{[2]}}_{p=1} \\frac{\\partial{}J}{\\partial{}z^{[2](m)}_{p}} w_{p,1}^{[2]} \\\\ \\sum^{n^{[2]}}_{p=1} \\frac{\\partial{}J}{\\partial{}z^{[2](1)}_{p}} w_{p,2}^{[2]} & \\sum^{n^{[2]}}_{p=1} \\frac{\\partial{}J}{\\partial{}z^{[2](2)}_{p}} w_{p,2}^{[2]} & \\cdots{} & \\sum^{n^{[2]}}_{p=1} \\frac{\\partial{}J}{\\partial{}z^{[2](m)}_{p}} w_{p,2}^{[2]} \\\\ \\vdots{} & \\vdots{} & \\ddots{} & \\vdots{} \\\\ \\sum^{n^{[2]}}_{p=1} \\frac{\\partial{}J}{\\partial{}z^{[2](1)}_{p}} w_{p,n^{[1]}}^{[2]} & \\sum^{n^{[2]}}_{p=1} \\frac{\\partial{}J}{\\partial{}z^{[2](2)}_{p}} w_{p,n^{[1]}}^{[2]} & \\cdots{} & \\sum^{n^{[2]}}_{p=1} \\frac{\\partial{}J}{\\partial{}z^{[2](m)}_{p}} w_{p,n^{[1]}}^{[2]} \\end{bmatrix} $\n",
    "#### $ \\hspace{0.715cm} = (W^{[2]})^{T} \\cdot{} \\frac{\\partial{}J}{\\partial{}Z^{[2]}} \\;\\; (\\textbf{vectorization}) $"
   ]
  },
  {
   "cell_type": "markdown",
   "metadata": {},
   "source": [
    "#### **(?) $ \\frac{\\partial{}J}{\\partial{}Z^{[1]}} $** :\n",
    "#### $ \\underset{n^{[1]}\\times{}m}{\\frac{\\partial{}J}{\\partial{}Z^{[1]}}} = \\frac{\\partial{}J}{\\partial{}\\hat{Y}} \\cdots{} \\frac{\\partial{}A^{[1]}}{\\partial{}Z^{[1]}} $\n",
    "#### $ \\hspace{0.715cm} = \\frac{\\partial{}J}{\\partial{}A^{[1]}} \\cdot{} \\frac{\\partial{}A^{[1]}}{\\partial{}Z^{[1]}} $ \n",
    "#### $ \\hspace{0.715cm} = \\frac{\\partial{}J}{\\partial{}A^{[1]}} \\cdot{} \\begin{bmatrix} \\frac{\\partial{}\\textbf{a}^{[1](1)}}{\\partial{}Z^{[1]}} \\\\ \\frac{\\partial{}\\textbf{a}^{[1](2)}}{\\partial{}Z^{[1]}} \\\\ \\vdots{} \\\\ \\frac{\\partial{}\\textbf{a}^{[1](m)}}{\\partial{}Z^{[1]}} \\end{bmatrix} $ \n",
    "#### $ \\hspace{0.715cm} = \\frac{\\partial{}J}{\\partial{}A^{[1]}} \\cdot{} \\begin{bmatrix} \\frac{\\partial{}\\textbf{a}^{[1](1)}}{\\partial{}\\textbf{z}^{[1](1)}} & \\frac{\\partial{}\\textbf{a}^{[1](1)}}{\\partial{}\\textbf{z}^{[1](2)}} & \\cdots{} & \\frac{\\partial{}\\textbf{a}^{[1](1)}}{\\partial{}\\textbf{z}^{[1](m)}} \\\\ \\frac{\\partial{}\\textbf{a}^{[1](2)}}{\\partial{}\\textbf{z}^{[1](1)}} & \\frac{\\partial{}\\textbf{a}^{[1](2)}}{\\partial{}\\textbf{z}^{[1](2)}} & \\cdots{} & \\frac{\\partial{}\\textbf{a}^{[1](2)}}{\\partial{}\\textbf{z}^{[1](m)}} \\\\ \\vdots{} & \\vdots{} & \\ddots{} & \\vdots{} \\\\ \\frac{\\partial{}\\textbf{a}^{[1](m)}}{\\partial{}\\textbf{z}^{[1](1)}} & \\frac{\\partial{}\\textbf{a}^{[1](m)}}{\\partial{}\\textbf{z}^{[1](2)}} & \\cdots{} & \\frac{\\partial{}\\textbf{a}^{[1](m)}}{\\partial{}\\textbf{z}^{[1](m)}} \\end{bmatrix} $\n",
    "#### $ \\hspace{0.715cm} = \\frac{\\partial{}J}{\\partial{}A^{[1]}} \\cdot{} \\underset{m\\times{}m\\times{}n^{[1]}\\times{}n^{[1]}}{T(i,j,p,q)} $\n",
    "#### $ \\hspace{0.15cm} \\text{where } \\, T(i,j,p,q) = \\frac{\\partial{}a^{[1](i)}_{p}}{\\partial{}z^{[1](j)}_{q}} = h^{[1]'}(z^{[1](i)}_{q}) \\delta{}_{i,j} \\delta{}_{p,q} = \\begin{cases} h^{[1]'}(z^{[1](i)}_{q}) \\;\\; \\text{ if } \\, i = j \\, \\text{ and } \\, p = q \\\\ 0 \\;\\;\\;\\;\\;\\;\\;\\;\\;\\;\\;\\;\\;\\;\\;\\,\\, \\text{ otherwise.} \\end{cases}$\n",
    "##### $ \\hspace{0.15cm} \\text{and } \\, 1 \\leq{} i \\leq{} m, \\;\\; 1 \\leq{} j \\leq{} m, \\;\\; 1 \\leq{} p \\leq{} n^{[1]}, \\;\\; 1 \\leq{} q \\leq{} n^{[1]} $\n",
    "##### **(⚠️)** 블록 대각 자코비안 $ \\, 4 $ 차원 텐서 $ \\, T $ 를 텐서 수축하여 샘플 별로 처리 **(⚠️)**\n",
    "#### $ \\frac{\\partial{}J}{\\partial{}z^{[1](i)}_{p}} = \\frac{\\partial{}J}{\\partial{}a^{[1](i)}} h^{[1]'}(z^{[1](i)}_{p}) $\n",
    "#### $ \\frac{\\partial{}J}{\\partial{}\\textbf{z}^{[1](i)}} = \\begin{bmatrix} \\frac{\\partial{}J}{\\partial{}a^{[1](i)}} h^{[1]'}(z^{[1](i)}_{1}) \\\\ \\frac{\\partial{}J}{\\partial{}a^{[1](i)}} h^{[1]'}(z^{[1](i)}_{2}) \\\\ \\vdots{} \\\\ \\frac{\\partial{}J}{\\partial{}a^{[1](i)}} h^{[1]'}(z^{[1](i)}_{n^{[1]}}) \\end{bmatrix} $\n",
    "#### $ \\frac{\\partial{}J}{\\partial{}Z^{[1]}} = \\begin{bmatrix} \\frac{\\partial{}J}{\\partial{}a^{[1](1)}} h^{[1]'}(z^{[1](1)}_{1}) & \\frac{\\partial{}J}{\\partial{}a^{[1](2)}} h^{[1]'}(z^{[1](2)}_{1}) & \\cdots{} & \\frac{\\partial{}J}{\\partial{}a^{[1](m)}} h^{[1]'}(z^{[1](m)}_{1}) \\\\ \\frac{\\partial{}J}{\\partial{}a^{[1](1)}} h^{[1]'}(z^{[1](1)}_{2}) & \\frac{\\partial{}J}{\\partial{}a^{[1](2)}} h^{[1]'}(z^{[1](2)}_{2}) & \\cdots{} & \\frac{\\partial{}J}{\\partial{}a^{[1](m)}} h^{[1]'}(z^{[1](m)}_{2}) \\\\ \\vdots{} & \\vdots{} & \\ddots{} & \\vdots{} \\\\ \\frac{\\partial{}J}{\\partial{}a^{[1](1)}} h^{[1]'}(z^{[1](1)}_{n^{[1]}}) & \\frac{\\partial{}J}{\\partial{}a^{[1](2)}} h^{[1]'}(z^{[1](2)}_{n^{[1]}}) & \\cdots{} & \\frac{\\partial{}J}{\\partial{}a^{[1](m)}} h^{[1]'}(z^{[1](m)}_{n^{[1]}}) \\end{bmatrix} $\n",
    "#### $ \\hspace{0.715cm} = \\frac{\\partial{}J}{\\partial{}A^{[1]}} \\odot{} h^{[1]'}(Z^{[1]}) \\;\\; (\\textbf{vectorization}) $"
   ]
  },
  {
   "cell_type": "markdown",
   "metadata": {},
   "source": [
    "#### **(?) $ \\frac{\\partial{}J}{\\partial{}W^{[1]}} $** :\n",
    "#### $ \\underset{n^{[1]}\\times{}n^{[0]}}{\\frac{\\partial{}J}{\\partial{}W^{[1]}}} = \\frac{\\partial{}J}{\\partial{}\\hat{Y}} \\cdots{} \\frac{\\partial{}Z^{[1]}}{\\partial{}W^{[1]}} $\n",
    "#### $ \\hspace{0.815cm} = \\frac{\\partial{}J}{\\partial{}Z^{[1]}} \\cdot{} \\frac{\\partial{}Z^{[1]}}{\\partial{}W^{[1]}} $ \n",
    "#### $ \\hspace{0.815cm} = \\frac{\\partial{}J}{\\partial{}Z^{[1]}} \\cdot{} \\begin{bmatrix} \\frac{\\partial{}\\textbf{z}^{[1](1)}}{\\partial{}W^{[1]}} \\\\ \\frac{\\partial{}\\textbf{z}^{[1](2)}}{\\partial{}W^{[1]}} \\\\ \\vdots{} \\\\ \\frac{\\partial{}\\textbf{z}^{[1](m)}}{\\partial{}W^{[1]}} \\end{bmatrix} $\n",
    "#### $ \\hspace{0.815cm} = \\frac{\\partial{}J}{\\partial{}Z^{[1]}} \\cdot{} \\begin{bmatrix} \\frac{\\partial{}\\textbf{z}^{[1](1)}}{\\partial{}(\\textbf{w}^{[1]}_{1})^{T}} & \\frac{\\partial{}\\textbf{z}^{[1](1)}}{\\partial{}(\\textbf{w}^{[1]}_{2})^{T}} & \\cdots{} & \\frac{\\partial{}\\textbf{z}^{[1](1)}}{\\partial{}(\\textbf{w}^{[1]}_{n^{[1]}})^{T}} \\\\ \\frac{\\partial{}\\textbf{z}^{[1](2)}}{\\partial{}(\\textbf{w}^{[1]}_{1})^{T}} & \\frac{\\partial{}\\textbf{z}^{[1](2)}}{\\partial{}(\\textbf{w}^{[1]}_{2})^{T}} & \\cdots{} & \\frac{\\partial{}\\textbf{z}^{[1](2)}}{\\partial{}(\\textbf{w}^{[1]}_{n^{[1]}})^{T}} \\\\ \\vdots{} & \\vdots{} & \\ddots{} & \\vdots{} \\\\ \\frac{\\partial{}\\textbf{z}^{[1](m)}}{\\partial{}(\\textbf{w}^{[1]}_{1})^{T}} & \\frac{\\partial{}\\textbf{z}^{[1](m)}}{\\partial{}(\\textbf{w}^{[1]}_{2})^{T}} & \\cdots{} & \\frac{\\partial{}\\textbf{z}^{[1](m)}}{\\partial{}(\\textbf{w}^{[1]}_{n^{[1]}})^{T}} \\end{bmatrix} $\n",
    "#### $ \\hspace{0.815cm} = \\frac{\\partial{}J}{\\partial{}Z^{[1]}} \\cdot{} \\underset{m\\times{}n^{[1]}\\times{}n^{[1]}\\times{}n^{[0]}}{T(i,j,p,q)} $\n",
    "#### $ \\hspace{0.15cm} \\text{where } \\, T(i,j,p,q) = \\frac{\\partial{}z^{[1](i)}_{p}}{\\partial{}w^{[1]}_{j,q}} = x^{(i)}_{q} \\delta{}_{p,j} = \\begin{cases} x^{(i)}_{q} \\;\\; \\text{ if } \\, p = j \\\\ 0 \\;\\;\\;\\;\\;\\;\\;\\; \\text{ if } \\, p \\neq{} j \\end{cases} $\n",
    "##### $ \\hspace{0.15cm} \\text{and } \\, 1 \\leq{} i \\leq{} m, \\;\\; 1 \\leq{} j \\leq{} n^{[1]}, \\;\\; 1 \\leq{} p \\leq{} n^{[1]}, \\;\\; 1 \\leq{} q \\leq{} n^{[0]} $\n",
    "##### **(⚠️)** 블록 대각 자코비안 $ \\, 4 $ 차원 텐서 $ \\, T $ 를 텐서 수축하여 샘플 별로 처리 **(⚠️)**\n",
    "#### $ \\frac{\\partial{}J}{\\partial{}w^{[1]}_{j,q}} = \\displaystyle\\sum^{m}_{i=1} \\frac{\\partial{}J}{\\partial{}z^{[1](i)}_{j}} x^{(i)}_{q} $\n",
    "#### $ \\frac{\\partial{}J}{\\partial{}\\textbf{w}^{[1]}_{j}} = \\begin{bmatrix} \\sum^{m}_{i=1} \\frac{\\partial{}J}{\\partial{}z^{[1](i)}_{j}}x^{(i)}_{1} & \\sum^{m}_{i=1} \\frac{\\partial{}J}{\\partial{}z^{[1](i)}_{j}}x^{(i)}_{2} & \\cdots{} & \\sum^{m}_{i=1} \\frac{\\partial{}J}{\\partial{}z^{[1](i)}_{j}}x^{(i)}_{n^{[0]}} \\end{bmatrix} $ \n",
    "#### $ \\frac{\\partial{}J}{\\partial{}W^{[1]}} = \\begin{bmatrix} \\sum^{m}_{i=1} \\frac{\\partial{}J}{\\partial{}z^{[1](i)}_{1}}x^{(i)}_{1} & \\sum^{m}_{i=1} \\frac{\\partial{}J}{\\partial{}z^{[1](i)}_{1}}x^{(i)}_{2} & \\cdots{} & \\sum^{m}_{i=1} \\frac{\\partial{}J}{\\partial{}z^{[1](i)}_{1}}x^{(i)}_{n^{[0]}} \\\\ \\sum^{m}_{i=1} \\frac{\\partial{}J}{\\partial{}z^{[1](i)}_{2}}x^{(i)}_{1} & \\sum^{m}_{i=1} \\frac{\\partial{}J}{\\partial{}z^{[1](i)}_{2}}x^{(i)}_{2} & \\cdots{} & \\sum^{m}_{i=1} \\frac{\\partial{}J}{\\partial{}z^{[1](i)}_{2}}x^{(i)}_{n^{[0]}} \\\\ \\vdots{} & \\vdots{} & \\ddots{} & \\vdots{} \\\\ \\sum^{m}_{i=1} \\frac{\\partial{}J}{\\partial{}z^{[1](i)}_{n^[1]}}x^{(i)}_{1} & \\sum^{m}_{i=1} \\frac{\\partial{}J}{\\partial{}z^{[1](i)}_{n^[1]}}x^{(i)}_{2} & \\cdots{} & \\sum^{m}_{i=1} \\frac{\\partial{}J}{\\partial{}z^{[1](i)}_{n^[1]}}x^{(i)}_{n^{[0]}} \\end{bmatrix} $\n",
    "#### $ \\hspace{0.815cm} = \\frac{\\partial{}J}{\\partial{}Z^{[1]}} \\cdot{} (X)^{T} $"
   ]
  },
  {
   "cell_type": "markdown",
   "metadata": {},
   "source": [
    "#### **(?) $ \\frac{\\partial{}J}{\\partial{}B^{[1]}} $** :\n",
    "#### $ \\underset{n^{[1]}\\times{}m}{\\frac{\\partial{}J}{\\partial{}B^{[1]}}} = \\frac{\\partial{}J}{\\partial{}\\hat{Y}} \\cdots{} \\frac{\\partial{}Z^{[1]}}{\\partial{}B^{[1]}} $ \n",
    "#### $ \\hspace{0.85cm} = \\frac{\\partial{}J}{\\partial{}Z^{[1]}} \\cdot{} \\frac{\\partial{}Z^{[1]}}{\\partial{}B^{[1]}} $ \n",
    "#### $ \\hspace{0.85cm} = \\frac{\\partial{}J}{\\partial{}Z^{[1]}} \\cdot{} \\begin{bmatrix} \\frac{\\partial{}\\textbf{z}^{[1](1)}}{\\partial{}B^{[1]}} \\\\ \\frac{\\partial{}\\textbf{z}^{[1](2)}}{\\partial{}B^{[1]}} \\\\ \\vdots{} \\\\ \\frac{\\partial{}\\textbf{z}^{[1](m)}}{\\partial{}B^{[1]}} \\end{bmatrix} $\n",
    "#### $ \\hspace{0.85cm} = \\frac{\\partial{}J}{\\partial{}Z^{[1]}} \\cdot{} \\underset{m\\times{}n^{[1]}\\times{}n^{[1]}\\times{}m}{T(i,j,p,1)} $\n",
    "#### $ \\hspace{0.15cm} \\text{where } \\, T(i,j,p,1) = T(i,j,p) = \\frac{\\partial{}z^{[1](i)}_{p}}{\\partial{}b^{[1]}_{j}} = \\delta{}_{p,j} = \\begin{cases} 1 \\;\\; \\text{ if } \\, p = j \\\\ 0 \\;\\; \\text{ if } \\, p \\neq{} j \\end{cases} $\n",
    "#### $ \\hspace{0.15cm} \\text{and } \\, 1 \\leq{} i \\leq{} m, \\;\\; 1 \\leq{} j \\leq{} n^{[1]}, \\;\\; 1 \\leq{} p \\leq{} n^{[1]} $\n",
    "##### **(⚠️)** 블록 대각 자코비안 $ \\, 4 $ 차원 텐서 $ \\, T $ 를 텐서 수축하여 샘플 별로 처리 **(⚠️)**\n",
    "#### $ \\frac{\\partial{}J}{\\partial{}b^{[1]}_{j}} = \\displaystyle\\sum^{m}_{i=1} \\frac{\\partial{}J}{\\partial{}z^{[1](i)}_{j}} $\n",
    "#### $ \\frac{\\partial{}J}{\\partial{}\\textbf{b}^{[1]}} = \\begin{bmatrix} \\sum^{m}_{i=1} \\frac{\\partial{}J}{\\partial{}z^{[1](i)}_{1}} \\\\ \\sum^{m}_{i=1} \\frac{\\partial{}J}{\\partial{}z^{[1](i)}_{2}} \\\\ \\vdots{} \\\\ \\sum^{m}_{i=1} \\frac{\\partial{}J}{\\partial{}z^{[1](i)}_{n^{[1]}}} \\end{bmatrix} $\n",
    "#### $ \\frac{\\partial{}J}{\\partial{}B^{[1]}} = \\begin{bmatrix} \\sum^{m}_{i=1} \\frac{\\partial{}J}{\\partial{}z^{[1](i)}_{1}} & \\sum^{m}_{i=1} \\frac{\\partial{}J}{\\partial{}z^{[1](i)}_{1}} & \\cdots{} & \\sum^{m}_{i=1} \\frac{\\partial{}J}{\\partial{}z^{[1](i)}_{1}} \\\\ \\sum^{m}_{i=1} \\frac{\\partial{}J}{\\partial{}z^{[1](i)}_{2}} & \\sum^{m}_{i=1} \\frac{\\partial{}J}{\\partial{}z^{[1](i)}_{2}} & \\cdots{} & \\sum^{m}_{i=1} \\frac{\\partial{}J}{\\partial{}z^{[1](i)}_{2}} \\\\ \\vdots{} & \\vdots{} & \\ddots{} & \\vdots{} \\\\ \\sum^{m}_{i=1} \\frac{\\partial{}J}{\\partial{}z^{[1](i)}_{n^{[1]}}} & \\sum^{m}_{i=1} \\frac{\\partial{}J}{\\partial{}z^{[1](i)}_{n^{[1]}}} & \\cdots{} & \\sum^{m}_{i=1} \\frac{\\partial{}J}{\\partial{}z^{[1](i)}_{n^{[1]}}}\\end{bmatrix} $\n",
    "#### $ \\hspace{0.85cm} = \\frac{\\partial{}J}{\\partial{}Z^{[1]}} $"
   ]
  },
  {
   "cell_type": "markdown",
   "metadata": {},
   "source": [
    "<b></b>"
   ]
  },
  {
   "cell_type": "markdown",
   "metadata": {},
   "source": [
    "> ## **Optimization**"
   ]
  },
  {
   "cell_type": "markdown",
   "metadata": {},
   "source": [
    "#### **(1) Update $ \\, W^{[1]} $** :\n",
    "#### $ W^{[1]} \\coloneqq{} W^{[1]} - \\alpha{} \\cdot{} \\frac{1}{m} \\cdot{} \\frac{\\partial{}J}{\\partial{}W^{[1]}} $"
   ]
  },
  {
   "cell_type": "markdown",
   "metadata": {},
   "source": [
    "#### **(2) Update $ \\, B^{[1]} $** :\n",
    "#### $ B^{[1]} \\coloneqq{} B^{[1]} - \\alpha{} \\cdot{} \\frac{1}{m} \\cdot{} \\frac{\\partial{}J}{\\partial{}B^{[1]}} $"
   ]
  },
  {
   "cell_type": "markdown",
   "metadata": {},
   "source": [
    "#### **(3) Update $ \\, W^{[2]} $** :\n",
    "#### $ W^{[2]} \\coloneqq{} W^{[2]} - \\alpha{} \\cdot{} \\frac{1}{m} \\cdot{} \\frac{\\partial{}J}{\\partial{}W^{[2]}} $"
   ]
  },
  {
   "cell_type": "markdown",
   "metadata": {},
   "source": [
    "#### **(4) Update $ \\, B^{[2]} $** :\n",
    "#### $ B^{[2]} \\coloneqq{} B^{[2]} - \\alpha{} \\cdot{} \\frac{1}{m} \\cdot{} \\frac{\\partial{}J}{\\partial{}B^{[2]}} $"
   ]
  },
  {
   "cell_type": "markdown",
   "metadata": {},
   "source": [
    "#### $ \\hspace{3cm} \\vdots{} $"
   ]
  },
  {
   "cell_type": "markdown",
   "metadata": {},
   "source": [
    "#### **(?) Update $ \\, W^{[\\text{k}]} $** :\n",
    "#### $ W^{[\\text{k}]} \\coloneqq{} W^{[\\text{k}]} - \\alpha{} \\cdot{} \\frac{1}{m} \\cdot{} \\frac{\\partial{}J}{\\partial{}W^{[\\text{k}]}} $"
   ]
  },
  {
   "cell_type": "markdown",
   "metadata": {},
   "source": [
    "#### **(?) Update $ \\, B^{[\\text{k}]} $** :\n",
    "#### $ B^{[\\text{k}]} \\coloneqq{} B^{[\\text{k}]} - \\alpha{} \\cdot{} \\frac{1}{m} \\cdot{} \\frac{\\partial{}J}{\\partial{}B^{[\\text{k}]}} $"
   ]
  },
  {
   "cell_type": "markdown",
   "metadata": {},
   "source": [
    "#### $ \\hspace{3cm} \\vdots{} $"
   ]
  },
  {
   "cell_type": "markdown",
   "metadata": {},
   "source": [
    "#### **(?) Update $ \\, W^{[L]} $** :\n",
    "#### $ W^{[L]} \\coloneqq{} W^{[L]} - \\alpha{} \\cdot{} \\frac{1}{m} \\cdot{} \\frac{\\partial{}J}{\\partial{}W^{[L]}} $"
   ]
  },
  {
   "cell_type": "markdown",
   "metadata": {},
   "source": [
    "#### **(?) Update $ \\, B^{[L]} $** :\n",
    "#### $ B^{[L]} \\coloneqq{} B^{[L]} - \\alpha{} \\cdot{} \\frac{1}{m} \\cdot{} \\frac{\\partial{}J}{\\partial{}B^{[L]}} $"
   ]
  }
 ],
 "metadata": {
  "kernelspec": {
   "display_name": "Python 3",
   "language": "python",
   "name": "python3"
  },
  "language_info": {
   "codemirror_mode": {
    "name": "ipython",
    "version": 3
   },
   "file_extension": ".py",
   "mimetype": "text/x-python",
   "name": "python",
   "nbconvert_exporter": "python",
   "pygments_lexer": "ipython3",
   "version": "3.8.18"
  },
  "orig_nbformat": 4
 },
 "nbformat": 4,
 "nbformat_minor": 2
}
