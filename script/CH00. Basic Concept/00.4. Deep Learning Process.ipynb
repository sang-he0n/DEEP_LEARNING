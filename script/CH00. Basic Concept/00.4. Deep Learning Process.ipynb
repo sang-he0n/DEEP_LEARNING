{
 "cells": [
  {
   "cell_type": "markdown",
   "metadata": {},
   "source": [
    "# CH00.4. **Deep Learning Process**"
   ]
  },
  {
   "cell_type": "markdown",
   "metadata": {},
   "source": [
    "> ## **Deep Learning Process**"
   ]
  },
  {
   "cell_type": "markdown",
   "metadata": {},
   "source": [
    "#### **[GRAPH]**"
   ]
  },
  {
   "cell_type": "markdown",
   "metadata": {},
   "source": [
    "#### **(1) 학습 순서** : \n",
    "##### $ \\hspace{0.15cm} $ ① 순전파(Forward Propagation) : 각 레이어 별로 가중치와 편향을 이용해 선형 및 활성화 변환을 거쳐 출력을 계산\n",
    "##### $ \\hspace{0.15cm} $ ② 손실함수(Loss function) 계산 : 모델의 예측값과 실제값 사이의 차이를 정의된 손실함수를 통해 계산\n",
    "##### $ \\hspace{0.15cm} $ ③ 역전파(Backward Propagation) : 손실 함수에 대한 각 파라미터의 영향도를 계산하기 위해 체인 룰을 통해 파라미터에 대한 기울기 계산\n",
    "##### $ \\hspace{0.15cm} $ ④ 파라미터 최적화(Optimization) : 경사 하강법(Gradient Descent)을 이용해 레이어 별 파라미터 업데이트"
   ]
  },
  {
   "cell_type": "markdown",
   "metadata": {},
   "source": [
    "#### **(2) [CONTENT]**"
   ]
  }
 ],
 "metadata": {
  "kernelspec": {
   "display_name": "Python 3",
   "language": "python",
   "name": "python3"
  },
  "language_info": {
   "codemirror_mode": {
    "name": "ipython",
    "version": 3
   },
   "file_extension": ".py",
   "mimetype": "text/x-python",
   "name": "python",
   "nbconvert_exporter": "python",
   "pygments_lexer": "ipython3",
   "version": "3.8.12"
  },
  "orig_nbformat": 4
 },
 "nbformat": 4,
 "nbformat_minor": 2
}
