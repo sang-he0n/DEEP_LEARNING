{
 "cells": [
  {
   "cell_type": "markdown",
   "id": "83a1b973",
   "metadata": {},
   "source": [
    "# CH04.3. **Attention Mechanism**"
   ]
  },
  {
   "cell_type": "markdown",
   "id": "764e13e8",
   "metadata": {},
   "source": [
    "> ## **Cross-Attention**"
   ]
  },
  {
   "cell_type": "markdown",
   "id": "26e508a7",
   "metadata": {},
   "source": [
    "<b></b>"
   ]
  },
  {
   "cell_type": "markdown",
   "id": "60739aa7",
   "metadata": {},
   "source": [
    "> ## **Self-Attention**"
   ]
  }
 ],
 "metadata": {
  "language_info": {
   "name": "python"
  }
 },
 "nbformat": 4,
 "nbformat_minor": 5
}
